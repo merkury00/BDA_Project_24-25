{
 "cells": [
  {
   "cell_type": "markdown",
   "metadata": {
    "application/vnd.databricks.v1+cell": {
     "cellMetadata": {},
     "inputWidgets": {},
     "nuid": "9fe5c21b-ff45-46dc-b8b1-0a24fe30a87c",
     "showTitle": false,
     "tableResultSettingsMap": {},
     "title": ""
    }
   },
   "source": [
    "---\n",
    "## Imports\n",
    "---"
   ]
  },
  {
   "cell_type": "code",
   "execution_count": 0,
   "metadata": {
    "application/vnd.databricks.v1+cell": {
     "cellMetadata": {
      "byteLimit": 2048000,
      "rowLimit": 10000
     },
     "inputWidgets": {},
     "nuid": "830fb0b0-fdff-4ce9-a9e7-f19123624f73",
     "showTitle": false,
     "tableResultSettingsMap": {},
     "title": ""
    }
   },
   "outputs": [
    {
     "output_type": "display_data",
     "data": {
      "text/html": [
       "<style scoped>\n",
       "  .table-result-container {\n",
       "    max-height: 300px;\n",
       "    overflow: auto;\n",
       "  }\n",
       "  table, th, td {\n",
       "    border: 1px solid black;\n",
       "    border-collapse: collapse;\n",
       "  }\n",
       "  th, td {\n",
       "    padding: 5px;\n",
       "  }\n",
       "  th {\n",
       "    text-align: left;\n",
       "  }\n",
       "</style><div class='table-result-container'><table class='table-result'><thead style='background-color: white'><tr><th>path</th><th>name</th><th>size</th><th>modificationTime</th></tr></thead><tbody><tr><td>dbfs:/FileStore/tables/2025_03_11___DBFS_Example_Classifier.ipynb</td><td>2025_03_11___DBFS_Example_Classifier.ipynb</td><td>68203</td><td>1742288094000</td></tr><tr><td>dbfs:/FileStore/tables/Clean_IMDBnew.csv</td><td>Clean_IMDBnew.csv</td><td>11897936</td><td>1748379618000</td></tr><tr><td>dbfs:/FileStore/tables/Clean_IMDBnew.parquet/</td><td>Clean_IMDBnew.parquet/</td><td>0</td><td>0</td></tr><tr><td>dbfs:/FileStore/tables/IMDB_CLEAN.csv</td><td>IMDB_CLEAN.csv</td><td>16096967</td><td>1748425316000</td></tr><tr><td>dbfs:/FileStore/tables/IMDB_CLEAN.parquet/</td><td>IMDB_CLEAN.parquet/</td><td>0</td><td>0</td></tr><tr><td>dbfs:/FileStore/tables/IMDB_Cleaned/</td><td>IMDB_Cleaned/</td><td>0</td><td>0</td></tr><tr><td>dbfs:/FileStore/tables/IMDB_cleannew.csv</td><td>IMDB_cleannew.csv</td><td>16096967</td><td>1748387484000</td></tr><tr><td>dbfs:/FileStore/tables/Imdb_Movie_Dataset-1.csv</td><td>Imdb_Movie_Dataset-1.csv</td><td>392283051</td><td>1746882391000</td></tr><tr><td>dbfs:/FileStore/tables/Imdb_Movie_Dataset-4.csv/</td><td>Imdb_Movie_Dataset-4.csv/</td><td>0</td><td>0</td></tr><tr><td>dbfs:/FileStore/tables/Imdb_Movie_Dataset.csv/</td><td>Imdb_Movie_Dataset.csv/</td><td>0</td><td>0</td></tr><tr><td>dbfs:/FileStore/tables/archive-1.zip</td><td>archive-1.zip</td><td>160786298</td><td>1746877527000</td></tr><tr><td>dbfs:/FileStore/tables/archive-2.zip</td><td>archive-2.zip</td><td>160786298</td><td>1746877987000</td></tr><tr><td>dbfs:/FileStore/tables/archive-3.zip</td><td>archive-3.zip</td><td>160786298</td><td>1746878808000</td></tr><tr><td>dbfs:/FileStore/tables/archive-4.zip</td><td>archive-4.zip</td><td>160786298</td><td>1746879282000</td></tr><tr><td>dbfs:/FileStore/tables/archive.zip</td><td>archive.zip</td><td>160786298</td><td>1746877512000</td></tr><tr><td>dbfs:/FileStore/tables/df_checkpoint/</td><td>df_checkpoint/</td><td>0</td><td>0</td></tr><tr><td>dbfs:/FileStore/tables/df_checkpoint.csv</td><td>df_checkpoint.csv</td><td>400384270</td><td>1747316983000</td></tr><tr><td>dbfs:/FileStore/tables/imdb_movie_sample/</td><td>imdb_movie_sample/</td><td>0</td><td>0</td></tr><tr><td>dbfs:/FileStore/tables/iris-1.csv</td><td>iris-1.csv</td><td>3858</td><td>1742288473000</td></tr><tr><td>dbfs:/FileStore/tables/iris.csv</td><td>iris.csv</td><td>3858</td><td>1741869427000</td></tr></tbody></table></div>"
      ]
     },
     "metadata": {
      "application/vnd.databricks.v1+output": {
       "addedWidgets": {},
       "aggData": [],
       "aggError": "",
       "aggOverflow": false,
       "aggSchema": [],
       "aggSeriesLimitReached": false,
       "aggType": "",
       "arguments": {},
       "columnCustomDisplayInfos": {},
       "data": [
        [
         "dbfs:/FileStore/tables/2025_03_11___DBFS_Example_Classifier.ipynb",
         "2025_03_11___DBFS_Example_Classifier.ipynb",
         68203,
         1742288094000
        ],
        [
         "dbfs:/FileStore/tables/Clean_IMDBnew.csv",
         "Clean_IMDBnew.csv",
         11897936,
         1748379618000
        ],
        [
         "dbfs:/FileStore/tables/Clean_IMDBnew.parquet/",
         "Clean_IMDBnew.parquet/",
         0,
         0
        ],
        [
         "dbfs:/FileStore/tables/IMDB_CLEAN.csv",
         "IMDB_CLEAN.csv",
         16096967,
         1748425316000
        ],
        [
         "dbfs:/FileStore/tables/IMDB_CLEAN.parquet/",
         "IMDB_CLEAN.parquet/",
         0,
         0
        ],
        [
         "dbfs:/FileStore/tables/IMDB_Cleaned/",
         "IMDB_Cleaned/",
         0,
         0
        ],
        [
         "dbfs:/FileStore/tables/IMDB_cleannew.csv",
         "IMDB_cleannew.csv",
         16096967,
         1748387484000
        ],
        [
         "dbfs:/FileStore/tables/Imdb_Movie_Dataset-1.csv",
         "Imdb_Movie_Dataset-1.csv",
         392283051,
         1746882391000
        ],
        [
         "dbfs:/FileStore/tables/Imdb_Movie_Dataset-4.csv/",
         "Imdb_Movie_Dataset-4.csv/",
         0,
         0
        ],
        [
         "dbfs:/FileStore/tables/Imdb_Movie_Dataset.csv/",
         "Imdb_Movie_Dataset.csv/",
         0,
         0
        ],
        [
         "dbfs:/FileStore/tables/archive-1.zip",
         "archive-1.zip",
         160786298,
         1746877527000
        ],
        [
         "dbfs:/FileStore/tables/archive-2.zip",
         "archive-2.zip",
         160786298,
         1746877987000
        ],
        [
         "dbfs:/FileStore/tables/archive-3.zip",
         "archive-3.zip",
         160786298,
         1746878808000
        ],
        [
         "dbfs:/FileStore/tables/archive-4.zip",
         "archive-4.zip",
         160786298,
         1746879282000
        ],
        [
         "dbfs:/FileStore/tables/archive.zip",
         "archive.zip",
         160786298,
         1746877512000
        ],
        [
         "dbfs:/FileStore/tables/df_checkpoint/",
         "df_checkpoint/",
         0,
         0
        ],
        [
         "dbfs:/FileStore/tables/df_checkpoint.csv",
         "df_checkpoint.csv",
         400384270,
         1747316983000
        ],
        [
         "dbfs:/FileStore/tables/imdb_movie_sample/",
         "imdb_movie_sample/",
         0,
         0
        ],
        [
         "dbfs:/FileStore/tables/iris-1.csv",
         "iris-1.csv",
         3858,
         1742288473000
        ],
        [
         "dbfs:/FileStore/tables/iris.csv",
         "iris.csv",
         3858,
         1741869427000
        ]
       ],
       "datasetInfos": [],
       "dbfsResultPath": null,
       "isJsonSchema": true,
       "metadata": {},
       "overflow": false,
       "plotOptions": {
        "customPlotOptions": {},
        "displayType": "table",
        "pivotAggregation": null,
        "pivotColumns": null,
        "xColumns": null,
        "yColumns": null
       },
       "removedWidgets": [],
       "schema": [
        {
         "metadata": "{}",
         "name": "path",
         "type": "\"string\""
        },
        {
         "metadata": "{}",
         "name": "name",
         "type": "\"string\""
        },
        {
         "metadata": "{}",
         "name": "size",
         "type": "\"long\""
        },
        {
         "metadata": "{}",
         "name": "modificationTime",
         "type": "\"long\""
        }
       ],
       "type": "table"
      }
     },
     "output_type": "display_data"
    }
   ],
   "source": [
    "# List files in /FileStore/tables to confirm your CSV is there\n",
    "display(dbutils.fs.ls(\"/FileStore/tables\"))"
   ]
  },
  {
   "cell_type": "code",
   "execution_count": 0,
   "metadata": {
    "application/vnd.databricks.v1+cell": {
     "cellMetadata": {
      "byteLimit": 2048000,
      "rowLimit": 10000
     },
     "inputWidgets": {},
     "nuid": "1b743fda-4265-4aa1-b420-da4d0550c28b",
     "showTitle": false,
     "tableResultSettingsMap": {},
     "title": ""
    }
   },
   "outputs": [
    {
     "output_type": "display_data",
     "data": {
      "text/html": [
       "<style scoped>\n",
       "  .table-result-container {\n",
       "    max-height: 300px;\n",
       "    overflow: auto;\n",
       "  }\n",
       "  table, th, td {\n",
       "    border: 1px solid black;\n",
       "    border-collapse: collapse;\n",
       "  }\n",
       "  th, td {\n",
       "    padding: 5px;\n",
       "  }\n",
       "  th {\n",
       "    text-align: left;\n",
       "  }\n",
       "</style><div class='table-result-container'><table class='table-result'><thead style='background-color: white'><tr><th>id</th><th>title</th><th>vote_average</th><th>vote_count</th><th>status</th><th>release_date</th><th>revenue</th><th>runtime</th><th>adult</th><th>budget</th><th>imdb_id</th><th>original_language</th><th>original_title</th><th>overview</th><th>popularity</th><th>tagline</th><th>genres</th><th>production_companies</th><th>production_countries</th><th>spoken_languages</th><th>keywords</th></tr></thead><tbody><tr><td>27205</td><td>Inception</td><td>8.364</td><td>34495</td><td>Released</td><td>7/15/2010</td><td>825532764</td><td>148</td><td>false</td><td>160000000</td><td>tt1375666</td><td>en</td><td>Inception</td><td>Cobb, a skilled thief who commits corporate espionage by infiltrating the subconscious of his targets is offered a chance to regain his old life as payment for a task considered to be impossible: \"inception\", the implantation of another person's idea into a target's subconscious.</td><td>83.952</td><td>Your mind is the scene of the crime.</td><td>Action, Science Fiction, Adventure</td><td>Legendary Pictures, Syncopy, Warner Bros. Pictures</td><td>United Kingdom, United States of America</td><td>English, French, Japanese, Swahili</td><td>rescue, mission, dream, airplane, paris, france, virtual reality, kidnapping, philosophy, spy, allegory, manipulation, car crash, heist, memory, architecture, los angeles, california, dream world, subconscious</td></tr><tr><td>157336</td><td>Interstellar</td><td>8.417</td><td>32571</td><td>Released</td><td>11/5/2014</td><td>701729206</td><td>169</td><td>false</td><td>165000000</td><td>tt0816692</td><td>en</td><td>Interstellar</td><td>The adventures of a group of explorers who make use of a newly discovered wormhole to surpass the limitations on human space travel and conquer the vast distances involved in an interstellar voyage.</td><td>140.241</td><td>Mankind was born on Earth. It was never meant to die here.</td><td>Adventure, Drama, Science Fiction</td><td>Legendary Pictures, Syncopy, Lynda Obst Productions</td><td>United Kingdom, United States of America</td><td>English</td><td>rescue, future, spacecraft, race against time, artificial intelligence (a.i.), nasa, time warp, dystopia, expedition, space travel, wormhole, famine, black hole, quantum mechanics, family relationships, space, robot, astronaut, scientist, single father, farmer, space station, curious, space adventure, time paradox, thoughtful, time-manipulation, father daughter relationship, 2060s, cornfield, time manipulation, complicated</td></tr><tr><td>155</td><td>The Dark Knight</td><td>8.512</td><td>30619</td><td>Released</td><td>7/16/2008</td><td>1004558444</td><td>152</td><td>false</td><td>185000000</td><td>tt0468569</td><td>en</td><td>The Dark Knight</td><td>Batman raises the stakes in his war on crime. With the help of Lt. Jim Gordon and District Attorney Harvey Dent, Batman sets out to dismantle the remaining criminal organizations that plague the streets. The partnership proves to be effective, but they soon find themselves prey to a reign of chaos unleashed by a rising criminal mastermind known to the terrified citizens of Gotham as the Joker.</td><td>130.643</td><td>Welcome to a world without rules.</td><td>Drama, Action, Crime, Thriller</td><td>DC Comics, Legendary Pictures, Syncopy, Isobel Griffiths, Warner Bros. Pictures</td><td>United Kingdom, United States of America</td><td>English, Mandarin</td><td>joker, sadism, chaos, secret identity, crime fighter, superhero, anti hero, scarecrow, based on comic, vigilante, organized crime, tragic hero, anti villain, criminal mastermind, district attorney, super power, super villain, neo-noir</td></tr><tr><td>19995</td><td>Avatar</td><td>7.573</td><td>29815</td><td>Released</td><td>12/15/2009</td><td>2923706026</td><td>162</td><td>false</td><td>237000000</td><td>tt0499549</td><td>en</td><td>Avatar</td><td>In the 22nd century, a paraplegic Marine is dispatched to the moon Pandora on a unique mission, but becomes torn between following orders and protecting an alien civilization.</td><td>79.932</td><td>Enter the world of Pandora.</td><td>Action, Adventure, Fantasy, Science Fiction</td><td>Dune Entertainment, Lightstorm Entertainment, 20th Century Fox, Ingenious Media</td><td>United States of America, United Kingdom</td><td>English, Spanish</td><td>future, society, culture clash, space travel, space war, space colony, tribe, romance, alien, futuristic, space, alien planet, marine, soldier, battle, love affair, nature, anti war, power relations, joyful</td></tr><tr><td>24428</td><td>The Avengers</td><td>7.71</td><td>29166</td><td>Released</td><td>4/25/2012</td><td>1518815515</td><td>143</td><td>false</td><td>220000000</td><td>tt0848228</td><td>en</td><td>The Avengers</td><td>When an unexpected enemy emerges and threatens global safety and security, Nick Fury, director of the international peacekeeping agency known as S.H.I.E.L.D., finds himself in need of a team to pull the world back from the brink of disaster. Spanning the globe, a daring recruitment effort begins!</td><td>98.082</td><td>Some assembly required.</td><td>Science Fiction, Action, Adventure</td><td>Marvel Studios</td><td>United States of America</td><td>English, Hindi, Russian</td><td>new york city, superhero, shield, based on comic, alien invasion, superhero team, aftercreditsstinger, duringcreditsstinger, marvel cinematic universe (mcu)</td></tr></tbody></table></div>"
      ]
     },
     "metadata": {
      "application/vnd.databricks.v1+output": {
       "addedWidgets": {},
       "aggData": [],
       "aggError": "",
       "aggOverflow": false,
       "aggSchema": [],
       "aggSeriesLimitReached": false,
       "aggType": "",
       "arguments": {},
       "columnCustomDisplayInfos": {},
       "data": [
        [
         27205,
         "Inception",
         8.364,
         34495,
         "Released",
         "7/15/2010",
         825532764,
         148,
         false,
         160000000,
         "tt1375666",
         "en",
         "Inception",
         "Cobb, a skilled thief who commits corporate espionage by infiltrating the subconscious of his targets is offered a chance to regain his old life as payment for a task considered to be impossible: \"inception\", the implantation of another person's idea into a target's subconscious.",
         83.952,
         "Your mind is the scene of the crime.",
         "Action, Science Fiction, Adventure",
         "Legendary Pictures, Syncopy, Warner Bros. Pictures",
         "United Kingdom, United States of America",
         "English, French, Japanese, Swahili",
         "rescue, mission, dream, airplane, paris, france, virtual reality, kidnapping, philosophy, spy, allegory, manipulation, car crash, heist, memory, architecture, los angeles, california, dream world, subconscious"
        ],
        [
         157336,
         "Interstellar",
         8.417,
         32571,
         "Released",
         "11/5/2014",
         701729206,
         169,
         false,
         165000000,
         "tt0816692",
         "en",
         "Interstellar",
         "The adventures of a group of explorers who make use of a newly discovered wormhole to surpass the limitations on human space travel and conquer the vast distances involved in an interstellar voyage.",
         140.241,
         "Mankind was born on Earth. It was never meant to die here.",
         "Adventure, Drama, Science Fiction",
         "Legendary Pictures, Syncopy, Lynda Obst Productions",
         "United Kingdom, United States of America",
         "English",
         "rescue, future, spacecraft, race against time, artificial intelligence (a.i.), nasa, time warp, dystopia, expedition, space travel, wormhole, famine, black hole, quantum mechanics, family relationships, space, robot, astronaut, scientist, single father, farmer, space station, curious, space adventure, time paradox, thoughtful, time-manipulation, father daughter relationship, 2060s, cornfield, time manipulation, complicated"
        ],
        [
         155,
         "The Dark Knight",
         8.512,
         30619,
         "Released",
         "7/16/2008",
         1004558444,
         152,
         false,
         185000000,
         "tt0468569",
         "en",
         "The Dark Knight",
         "Batman raises the stakes in his war on crime. With the help of Lt. Jim Gordon and District Attorney Harvey Dent, Batman sets out to dismantle the remaining criminal organizations that plague the streets. The partnership proves to be effective, but they soon find themselves prey to a reign of chaos unleashed by a rising criminal mastermind known to the terrified citizens of Gotham as the Joker.",
         130.643,
         "Welcome to a world without rules.",
         "Drama, Action, Crime, Thriller",
         "DC Comics, Legendary Pictures, Syncopy, Isobel Griffiths, Warner Bros. Pictures",
         "United Kingdom, United States of America",
         "English, Mandarin",
         "joker, sadism, chaos, secret identity, crime fighter, superhero, anti hero, scarecrow, based on comic, vigilante, organized crime, tragic hero, anti villain, criminal mastermind, district attorney, super power, super villain, neo-noir"
        ],
        [
         19995,
         "Avatar",
         7.573,
         29815,
         "Released",
         "12/15/2009",
         2923706026,
         162,
         false,
         237000000,
         "tt0499549",
         "en",
         "Avatar",
         "In the 22nd century, a paraplegic Marine is dispatched to the moon Pandora on a unique mission, but becomes torn between following orders and protecting an alien civilization.",
         79.932,
         "Enter the world of Pandora.",
         "Action, Adventure, Fantasy, Science Fiction",
         "Dune Entertainment, Lightstorm Entertainment, 20th Century Fox, Ingenious Media",
         "United States of America, United Kingdom",
         "English, Spanish",
         "future, society, culture clash, space travel, space war, space colony, tribe, romance, alien, futuristic, space, alien planet, marine, soldier, battle, love affair, nature, anti war, power relations, joyful"
        ],
        [
         24428,
         "The Avengers",
         7.71,
         29166,
         "Released",
         "4/25/2012",
         1518815515,
         143,
         false,
         220000000,
         "tt0848228",
         "en",
         "The Avengers",
         "When an unexpected enemy emerges and threatens global safety and security, Nick Fury, director of the international peacekeeping agency known as S.H.I.E.L.D., finds himself in need of a team to pull the world back from the brink of disaster. Spanning the globe, a daring recruitment effort begins!",
         98.082,
         "Some assembly required.",
         "Science Fiction, Action, Adventure",
         "Marvel Studios",
         "United States of America",
         "English, Hindi, Russian",
         "new york city, superhero, shield, based on comic, alien invasion, superhero team, aftercreditsstinger, duringcreditsstinger, marvel cinematic universe (mcu)"
        ]
       ],
       "datasetInfos": [],
       "dbfsResultPath": null,
       "isJsonSchema": true,
       "metadata": {},
       "overflow": false,
       "plotOptions": {
        "customPlotOptions": {},
        "displayType": "table",
        "pivotAggregation": null,
        "pivotColumns": null,
        "xColumns": null,
        "yColumns": null
       },
       "removedWidgets": [],
       "schema": [
        {
         "metadata": "{}",
         "name": "id",
         "type": "\"integer\""
        },
        {
         "metadata": "{}",
         "name": "title",
         "type": "\"string\""
        },
        {
         "metadata": "{}",
         "name": "vote_average",
         "type": "\"double\""
        },
        {
         "metadata": "{}",
         "name": "vote_count",
         "type": "\"integer\""
        },
        {
         "metadata": "{}",
         "name": "status",
         "type": "\"string\""
        },
        {
         "metadata": "{}",
         "name": "release_date",
         "type": "\"string\""
        },
        {
         "metadata": "{}",
         "name": "revenue",
         "type": "\"long\""
        },
        {
         "metadata": "{}",
         "name": "runtime",
         "type": "\"integer\""
        },
        {
         "metadata": "{}",
         "name": "adult",
         "type": "\"boolean\""
        },
        {
         "metadata": "{}",
         "name": "budget",
         "type": "\"integer\""
        },
        {
         "metadata": "{}",
         "name": "imdb_id",
         "type": "\"string\""
        },
        {
         "metadata": "{}",
         "name": "original_language",
         "type": "\"string\""
        },
        {
         "metadata": "{}",
         "name": "original_title",
         "type": "\"string\""
        },
        {
         "metadata": "{}",
         "name": "overview",
         "type": "\"string\""
        },
        {
         "metadata": "{}",
         "name": "popularity",
         "type": "\"double\""
        },
        {
         "metadata": "{}",
         "name": "tagline",
         "type": "\"string\""
        },
        {
         "metadata": "{}",
         "name": "genres",
         "type": "\"string\""
        },
        {
         "metadata": "{}",
         "name": "production_companies",
         "type": "\"string\""
        },
        {
         "metadata": "{}",
         "name": "production_countries",
         "type": "\"string\""
        },
        {
         "metadata": "{}",
         "name": "spoken_languages",
         "type": "\"string\""
        },
        {
         "metadata": "{}",
         "name": "keywords",
         "type": "\"string\""
        }
       ],
       "type": "table"
      }
     },
     "output_type": "display_data"
    }
   ],
   "source": [
    "# File location and type\n",
    "file_location = \"/FileStore/tables/Imdb_Movie_Dataset-1.csv\"\n",
    "file_type = \"csv\"\n",
    "\n",
    "# CSV options\n",
    "infer_schema = \"true\"\n",
    "first_row_is_header = \"true\"\n",
    "delimiter = \",\"\n",
    "\n",
    "# The applied options are for CSV files. For other file types, these will be ignored.\n",
    "# quote <-- Important to handle commas correctly\n",
    "df = (\n",
    "    spark.read.format(file_type)\n",
    "    .option(\"inferSchema\", infer_schema)\n",
    "    .option(\"header\", first_row_is_header)\n",
    "    .option(\"sep\", delimiter)\n",
    "    .option(\"quote\", '\"')\n",
    "    .option(\"escape\", '\"')\n",
    "    .load(file_location)\n",
    ")\n",
    "\n",
    "display(df.limit(5))"
   ]
  },
  {
   "cell_type": "code",
   "execution_count": 0,
   "metadata": {
    "application/vnd.databricks.v1+cell": {
     "cellMetadata": {
      "byteLimit": 2048000,
      "rowLimit": 10000
     },
     "inputWidgets": {},
     "nuid": "0d2ea799-bf60-456d-9f82-f13deb145e96",
     "showTitle": false,
     "tableResultSettingsMap": {},
     "title": ""
    }
   },
   "outputs": [
    {
     "output_type": "display_data",
     "data": {
      "application/vnd.databricks.v1+bamboolib_hint": "{\"pd.DataFrames\": [\"df_corr\"], \"version\": \"0.0.1\"}",
      "text/plain": []
     },
     "metadata": {},
     "output_type": "display_data"
    }
   ],
   "source": [
    "from pyspark.sql import functions as F\n",
    "from pyspark.sql.functions import (col, count, when, isnan, row_number, to_date, split, regexp_replace, expr, corr)\n",
    "\n",
    "from pyspark.sql.window import Window\n",
    "import pandas as pd\n",
    "import matplotlib.pyplot as plt\n",
    "import seaborn as sns\n",
    "\n",
    "from pyspark.ml.tuning import CrossValidator, ParamGridBuilder\n",
    "from pyspark.ml.feature import ChiSqSelector, VectorAssembler, QuantileDiscretizer\n",
    "from pyspark.ml.evaluation import RegressionEvaluator\n",
    "from pyspark.ml.regression import LinearRegression, DecisionTreeRegressor, RandomForestRegressor, GBTRegressor\n",
    "\n",
    "spark.conf.set(\"spark.sql.legacy.timeParserPolicy\", \"LEGACY\")  # to parse the release date without problems"
   ]
  },
  {
   "cell_type": "markdown",
   "metadata": {
    "application/vnd.databricks.v1+cell": {
     "cellMetadata": {},
     "inputWidgets": {},
     "nuid": "234112b8-967f-443c-b6a2-c64b9bbcafdb",
     "showTitle": false,
     "tableResultSettingsMap": {},
     "title": ""
    }
   },
   "source": [
    "---\n",
    "## Define the Data Cleaning Function\n",
    "---"
   ]
  },
  {
   "cell_type": "code",
   "execution_count": 0,
   "metadata": {
    "application/vnd.databricks.v1+cell": {
     "cellMetadata": {
      "byteLimit": 2048000,
      "rowLimit": 10000
     },
     "inputWidgets": {},
     "nuid": "20d939da-ce76-423e-bc08-69185e8e9116",
     "showTitle": false,
     "tableResultSettingsMap": {},
     "title": ""
    }
   },
   "outputs": [],
   "source": [
    "def drop_duplicates_keep_least_null(df, id_col):\n",
    "    \"\"\"\n",
    "    Deduplicate on `id_col`, keeping the row with the fewest null values.\n",
    "    Rows with null `id_col` are left unchanged.\n",
    "    \"\"\"\n",
    "    print(f\"Starting deduplication on column: {id_col}\")\n",
    "\n",
    "    non_null_df = df.filter(col(id_col).isNotNull())\n",
    "    null_df     = df.filter(col(id_col).isNull())\n",
    "    print(f\"Rows with non-null '{id_col}': {non_null_df.count()}\")\n",
    "    print(f\"Rows with null '{id_col}': {null_df.count()}\")\n",
    "\n",
    "    null_count_expr = sum(\n",
    "        when(col(c).isNull(), 1).otherwise(0) for c in non_null_df.columns\n",
    "    ).alias(\"_null_cnt\")\n",
    "\n",
    "    nn_with_counts = non_null_df.withColumn(\"_null_cnt\", null_count_expr)\n",
    "    print(\"Added null count column for ranking\")\n",
    "\n",
    "    w = Window.partitionBy(id_col).orderBy(col(\"_null_cnt\").asc())\n",
    "    ranked = nn_with_counts.withColumn(\"_rn\", row_number().over(w))\n",
    "    print(\"Ranked rows within each group\")\n",
    "\n",
    "    deduped = (\n",
    "        ranked\n",
    "        .filter(col(\"_rn\") == 1)\n",
    "        .drop(\"_null_cnt\", \"_rn\")\n",
    "    )\n",
    "    print(\"Filtered to keep only top-ranked rows with fewest nulls\")\n",
    "\n",
    "    result_df = deduped.unionByName(null_df)\n",
    "    print(f\"Final row count after deduplication on '{id_col}': {result_df.count()}\")\n",
    "    return result_df\n",
    "\n",
    "def _build_top_indicator(df, col_name, top_n, suffix):\n",
    "    \"\"\"\n",
    "    For a comma-separated string column (e.g., 'Adventure, Comedy, Science Fiction'),\n",
    "    create binary columns for the top-N most profitable individual items.\n",
    "    \"\"\"\n",
    "    print(f\"Creating top-{top_n} binary indicator columns for: {col_name}\")\n",
    "    arr_col = F.split(F.col(col_name), \",\\\\s*\")\n",
    "\n",
    "    exploded = (\n",
    "        df.select(arr_col.alias(\"arr\"), \"revenue\")\n",
    "          .withColumn(\"item\", F.explode(\"arr\"))\n",
    "          .withColumn(\"item\", F.trim(F.col(\"item\")))\n",
    "          .groupBy(\"item\")\n",
    "          .agg(F.sum(\"revenue\").alias(\"tot_rev\"))\n",
    "          .orderBy(F.col(\"tot_rev\").desc())\n",
    "          .limit(top_n)\n",
    "    )\n",
    "\n",
    "    top_items = [row[\"item\"] for row in exploded.collect()]\n",
    "    print(f\"Top {top_n} items for '{col_name}': {top_items}\")\n",
    "\n",
    "    for item in top_items:\n",
    "        clean_name = item.strip().lower().replace(\" \", \"_\").replace(\"-\", \"_\").replace(\"(\", \"\").replace(\".\", \"\")\n",
    "        df = df.withColumn(\n",
    "            f\"{suffix}_{clean_name}\",\n",
    "            F.when(F.array_contains(arr_col, item), 1).otherwise(0)\n",
    "        )\n",
    "        print(f\"Created binary column: {suffix}_{clean_name}\")\n",
    "\n",
    "    return df\n",
    "\n",
    "# main data cleaner\n",
    "def initial_preprocess(df):\n",
    "    \"\"\"\n",
    "    1. Drop rows with revenue == 0 (it's our first step to make the dataset lighter and thus the following operations faster)\n",
    "    2. Replace literal 'None' / 'none' in imdb_id with null\n",
    "    3. Deduplicate on id, then on imdb_id using fewest-null rule\n",
    "    4. Drop heavy text cols\n",
    "    5. Change the data types to correct ones\n",
    "    6. Fix incorrect values for vote_average (should only be in the range 1-10)\n",
    "    7. Set the vote vote_average to zero, when vote_count == 0\n",
    "    8. Cast the release_date to data type \n",
    "    9. Create release -day, -month, -year features\n",
    "    10. Create a binary feature 'released_bool', that takes on 1 when the movie has been released and 0 for any other status\n",
    "    11. Create a binary feature 'en_bool', that takes on 1 when the movie has been released and 0 for any other status\n",
    "    12. Create a binary column 'tagline_bool' that takes on 1 when the movie had a tagline and 0 when it didnt\n",
    "    13. Create a retun on investment column (ROI)\n",
    "    14. Create boolean features for the columns with multiple string values: \"genres\", \"production_companies\", \"production_countries\", \"keywords\"\n",
    "    15. Drop the unneccessary fetures (after feature engineering)\n",
    "    \"\"\"\n",
    "    print(\"Step 1: Dropping rows with revenue = 0\")\n",
    "    df = df.filter(F.col(\"revenue\") != 0)\n",
    "\n",
    "    print(\"Step 2: Replacing 'None' strings in imdb_id with null\")\n",
    "    none_count = df.filter(F.lower(col(\"imdb_id\")) == \"none\").count()\n",
    "    df = df.withColumn(\n",
    "        \"imdb_id\",\n",
    "        when(F.lower(col(\"imdb_id\")) == \"none\", None).otherwise(col(\"imdb_id\"))\n",
    "    )\n",
    "    print(f\"Number of 'None' values replaced with null in 'imdb_id': {none_count}\")\n",
    "\n",
    "    print(\"Step 3a: Deduplicating by id\")\n",
    "    df = drop_duplicates_keep_least_null(df, id_col=\"id\")\n",
    "\n",
    "    print(\"Step 3b: Deduplicating by imdb_id\")\n",
    "    df = drop_duplicates_keep_least_null(df, id_col=\"imdb_id\")\n",
    "\n",
    "    print(\"Step 4: Dropping unused text columns\")\n",
    "    df = df.drop(\"id\", \"imdb_id\", \"title\", \"original_title\", \"overview\", \"spoken_languages\")\n",
    "    \n",
    "    print(\"Step 5: Casting to correct data types\")\n",
    "    df = (\n",
    "        df\n",
    "        .withColumn(\"vote_average\",  F.col(\"vote_average\").cast(DoubleType()))\n",
    "        .withColumn(\"popularity\",    F.col(\"popularity\").cast(DoubleType()))\n",
    "        .withColumn(\"vote_count\",    F.col(\"vote_count\").cast(IntegerType()))\n",
    "        .withColumn(\"runtime\",       F.col(\"runtime\").cast(IntegerType()))\n",
    "        .withColumn(\"adult\",         F.col(\"adult\").cast(IntegerType()))\n",
    "        .withColumn(\"revenue\",       F.col(\"revenue\").cast(LongType()))\n",
    "        .withColumn(\"budget\",        F.col(\"budget\").cast(LongType()))\n",
    "    )\n",
    "\n",
    "    print(\"Step 6: Fixing out-of-range vote_average values\")\n",
    "    df = df.withColumn(\n",
    "        \"vote_average\",\n",
    "        F.when((F.col(\"vote_average\") < 1) | (F.col(\"vote_average\") > 10), 0.0)\n",
    "         .otherwise(F.col(\"vote_average\"))\n",
    "    )\n",
    "\n",
    "    print(\"Step 7: Setting vote_average to 0 where vote_count == 0\")\n",
    "    df = df.withColumn(\n",
    "        \"vote_average\",\n",
    "        F.when((F.col(\"vote_count\") == 0) & (F.col(\"vote_average\") != 0), 0.0)\n",
    "         .otherwise(F.col(\"vote_average\"))\n",
    "    )\n",
    "\n",
    "    print(\"Step 8: Parsing release_date using multiple formats\")\n",
    "    date_eu  = F.to_date(F.col(\"release_date\"), \"dd/MM/yyyy\")\n",
    "    date_us  = F.to_date(F.col(\"release_date\"), \"MM/dd/yyyy\")\n",
    "    date_iso = F.to_date(F.col(\"release_date\"), \"yyyy-MM-dd\")\n",
    "    df = df.withColumn(\"parsed_date\", F.coalesce(date_eu, date_us, date_iso))\n",
    "\n",
    "    print(\"Step 9: Creating release_day, release_month, release_year\")\n",
    "    df = (\n",
    "        df\n",
    "        .withColumn(\"release_day\",   F.dayofmonth(\"parsed_date\").cast(IntegerType()))\n",
    "        .withColumn(\"release_month\", F.month(\"parsed_date\").cast(IntegerType()))\n",
    "        .withColumn(\"release_year\",  F.year(\"parsed_date\").cast(IntegerType()))\n",
    "    )\n",
    "    print(\"Filling missing values in release_day, release_month, release_year with 0\")\n",
    "    df = (\n",
    "        df\n",
    "        .withColumn(\"release_day\",   F.when(F.col(\"release_day\").isNull(),   0).otherwise(F.col(\"release_day\")))\n",
    "        .withColumn(\"release_month\", F.when(F.col(\"release_month\").isNull(), 0).otherwise(F.col(\"release_month\")))\n",
    "        .withColumn(\"release_year\",  F.when(F.col(\"release_year\").isNull(),  0).otherwise(F.col(\"release_year\")))\n",
    "    )\n",
    "\n",
    "    print(\"Step 10: Creating 'released_bool' binary column from status\")\n",
    "    df = df.withColumn(\n",
    "        \"released_bool\",\n",
    "        F.when(F.col(\"status\") == \"Released\", 1).otherwise(0)\n",
    "    )\n",
    "\n",
    "    print(\"Step 11: Creating 'en_bool' binary column from original_language\")\n",
    "    df = df.withColumn(\n",
    "        \"en_bool\",\n",
    "        F.when(F.col(\"original_language\") == \"en\", 1).otherwise(0)\n",
    "    )\n",
    "\n",
    "    print(\"Step 12: Creating 'tagline_bool' from presence of tagline\")\n",
    "    df = (\n",
    "        df\n",
    "        .withColumn(\n",
    "            \"tagline\",\n",
    "            F.when(F.lower(F.col(\"tagline\")).isin(\"none\", \"null\"), F.lit(None))\n",
    "             .otherwise(F.col(\"tagline\"))\n",
    "        )\n",
    "        .withColumn(\"tagline_bool\", F.when(F.col(\"tagline\").isNotNull(), 1).otherwise(0))\n",
    "    )\n",
    "\n",
    "    print(\"Step 13: Creating ROI feature (budget-aware)\")\n",
    "    df = df.withColumn(\n",
    "        \"ROI\",\n",
    "        F.when(F.col(\"budget\") == 0, F.lit(0.0))\n",
    "         .otherwise((F.col(\"revenue\") - F.col(\"budget\")) / F.col(\"budget\"))\n",
    "    )\n",
    "\n",
    "    print(\"Step 14: Creating top-N indicator columns\")\n",
    "    df = _build_top_indicator(df, \"genres\",               5, \"genre\")\n",
    "    df = _build_top_indicator(df, \"production_companies\", 3, \"prodco\")\n",
    "    df = _build_top_indicator(df, \"production_countries\", 5, \"country\")\n",
    "    df = _build_top_indicator(df, \"keywords\",             3, \"keyword\")\n",
    "\n",
    "    print(\"Step 15: Dropping raw and intermediate columns\")\n",
    "    df = df.drop(\n",
    "        \"release_date\", \"status\", \"original_language\", \"tagline\",\n",
    "        \"genres\", \"production_companies\", \"production_countries\", \"keywords\",\n",
    "        \"parsed_date\"\n",
    "    )\n",
    "\n",
    "    print(\"Initial preprocessing complete.\")\n",
    "    return df"
   ]
  },
  {
   "cell_type": "markdown",
   "metadata": {
    "application/vnd.databricks.v1+cell": {
     "cellMetadata": {},
     "inputWidgets": {},
     "nuid": "57a7c7fd-4165-4fdb-b403-fc0567621af5",
     "showTitle": false,
     "tableResultSettingsMap": {},
     "title": ""
    }
   },
   "source": [
    "---\n",
    "## Clean and Engineer the Data\n",
    "---"
   ]
  },
  {
   "cell_type": "code",
   "execution_count": 0,
   "metadata": {
    "application/vnd.databricks.v1+cell": {
     "cellMetadata": {
      "byteLimit": 2048000,
      "rowLimit": 10000
     },
     "inputWidgets": {},
     "nuid": "ed56e77f-048e-4b97-b3cc-47afa29db735",
     "showTitle": false,
     "tableResultSettingsMap": {},
     "title": ""
    }
   },
   "outputs": [
    {
     "output_type": "stream",
     "name": "stdout",
     "output_type": "stream",
     "text": [
      "Step 1: Dropping rows with revenue = 0\nStep 2: Replacing 'None' strings in imdb_id with null\nNumber of 'None' values replaced with null in 'imdb_id': 4\nStep 3a: Deduplicating by id\nStarting deduplication on column: id\nRows with non-null 'id': 20676\nRows with null 'id': 0\nAdded null count column for ranking\nRanked rows within each group\nFiltered to keep only top-ranked rows with fewest nulls\nFinal row count after deduplication on 'id': 20674\nStep 3b: Deduplicating by imdb_id\nStarting deduplication on column: imdb_id\nRows with non-null 'imdb_id': 16927\nRows with null 'imdb_id': 3747\nAdded null count column for ranking\nRanked rows within each group\nFiltered to keep only top-ranked rows with fewest nulls\nFinal row count after deduplication on 'imdb_id': 20664\nStep 4: Dropping unused text columns\nStep 5: Casting to correct data types\nStep 6: Fixing out-of-range vote_average values\nStep 7: Setting vote_average to 0 where vote_count == 0\nStep 8: Parsing release_date using multiple formats\nStep 9: Creating release_day, release_month, release_year\nFilling missing values in release_day, release_month, release_year with 0\nStep 10: Creating 'released_bool' binary column from status\nStep 11: Creating 'en_bool' binary column from original_language\nStep 12: Creating 'tagline_bool' from presence of tagline\nStep 13: Creating ROI feature (budget-aware)\nStep 14: Creating top-N indicator columns\nCreating top-5 binary indicator columns for: genres\nTop 5 items for 'genres': ['Action', 'Adventure', 'Comedy', 'Drama', 'Thriller']\nCreated binary column: genre_action\nCreated binary column: genre_adventure\nCreated binary column: genre_comedy\nCreated binary column: genre_drama\nCreated binary column: genre_thriller\nCreating top-3 binary indicator columns for: production_companies\nTop 3 items for 'production_companies': ['Warner Bros. Pictures', 'Universal Pictures', '20th Century Fox']\nCreated binary column: prodco_warner_bros_pictures\nCreated binary column: prodco_universal_pictures\nCreated binary column: prodco_20th_century_fox\nCreating top-5 binary indicator columns for: production_countries\nTop 5 items for 'production_countries': ['United States of America', 'United Kingdom', 'China', 'Germany', 'France']\nCreated binary column: country_united_states_of_america\nCreated binary column: country_united_kingdom\nCreated binary column: country_china\nCreated binary column: country_germany\nCreated binary column: country_france\nCreating top-3 binary indicator columns for: keywords\nTop 3 items for 'keywords': ['sequel', 'duringcreditsstinger', 'based on novel or book']\nCreated binary column: keyword_sequel\nCreated binary column: keyword_duringcreditsstinger\nCreated binary column: keyword_based_on_novel_or_book\nStep 15: Dropping raw and intermediate columns\nInitial preprocessing complete.\n"
     ]
    }
   ],
   "source": [
    "# Apply initial preprocessing\n",
    "df_final = initial_preprocess(df)"
   ]
  },
  {
   "cell_type": "markdown",
   "metadata": {
    "application/vnd.databricks.v1+cell": {
     "cellMetadata": {},
     "inputWidgets": {},
     "nuid": "4774c8e4-dd3f-4919-a0ee-61970d24b159",
     "showTitle": false,
     "tableResultSettingsMap": {},
     "title": ""
    }
   },
   "source": [
    "### Original 21 Columns – Feature Engineering Summary\n",
    "\n",
    "| Column Name             | Action Taken / Reason                                                         |\n",
    "|------------------------|--------------------------------------------------------------------------------|\n",
    "| id                     | Dropped (identifier, no target relationship)                                   |\n",
    "| title                  | Dropped (text, should not affect revenue)                                      |\n",
    "| vote_average           | Kept (numeric feature)                                                         |\n",
    "| vote_count             | Kept (numeric feature)                                                         |\n",
    "| status                 | Kept (categorical)                                                             |\n",
    "| release_date           | Dropped (transformed into `release_day`, `release_month`, `release_year`)      |\n",
    "| revenue                | Kept (target variable)                                                         |\n",
    "| runtime                | Kept (numeric feature)                                                         |\n",
    "| adult                  | Kept (boolean)                                                                 |\n",
    "| budget                 | Kept (numeric feature)                                                         |\n",
    "| imdb_id                | Dropped (identifier)                                                           |\n",
    "| original_language      | Dropped (transformed into `en_bool`)                                           |\n",
    "| original_title         | Dropped (text)                                                                 |\n",
    "| overview               | Dropped (long text, transformations needed)                                    |\n",
    "| popularity             | Kept (numeric feature)                                                         |\n",
    "| tagline                | Dropped (created `tagline_bool` for boolean present/abs)                       |\n",
    "| genres                 | Dropped (created boolean columns for top 5 genres)                             |\n",
    "| production_companies   | Dropped (created boolean columns for top 3 companies)                          |\n",
    "| production_countries   | Dropped (created boolean columns for top 5 production countries)               |\n",
    "| spoken_languages       | Dropped (high cardinality – potential future work)                             |\n",
    "| keywords               | Dropped (created boolean columns for top 3 keywords)                           |\n"
   ]
  },
  {
   "cell_type": "markdown",
   "metadata": {
    "application/vnd.databricks.v1+cell": {
     "cellMetadata": {},
     "inputWidgets": {},
     "nuid": "bd561ea7-694d-4f3d-bd0c-d54b9cb296f2",
     "showTitle": false,
     "tableResultSettingsMap": {},
     "title": ""
    }
   },
   "source": [
    "---\n",
    "## Check the Changes \n",
    "---"
   ]
  },
  {
   "cell_type": "code",
   "execution_count": 0,
   "metadata": {
    "application/vnd.databricks.v1+cell": {
     "cellMetadata": {
      "byteLimit": 2048000,
      "rowLimit": 10000
     },
     "inputWidgets": {},
     "nuid": "a3312643-2048-4dbd-962a-a8d897aef318",
     "showTitle": false,
     "tableResultSettingsMap": {},
     "title": ""
    }
   },
   "outputs": [
    {
     "output_type": "stream",
     "name": "stdout",
     "output_type": "stream",
     "text": [
      "root\n |-- vote_average: double (nullable = true)\n |-- vote_count: integer (nullable = true)\n |-- revenue: long (nullable = true)\n |-- runtime: integer (nullable = true)\n |-- adult: integer (nullable = true)\n |-- budget: long (nullable = true)\n |-- popularity: double (nullable = true)\n |-- release_day: integer (nullable = true)\n |-- release_month: integer (nullable = true)\n |-- release_year: integer (nullable = true)\n |-- released_bool: integer (nullable = false)\n |-- en_bool: integer (nullable = false)\n |-- tagline_bool: integer (nullable = false)\n |-- ROI: double (nullable = true)\n |-- genre_action: integer (nullable = false)\n |-- genre_adventure: integer (nullable = false)\n |-- genre_comedy: integer (nullable = false)\n |-- genre_drama: integer (nullable = false)\n |-- genre_thriller: integer (nullable = false)\n |-- prodco_warner_bros_pictures: integer (nullable = false)\n |-- prodco_universal_pictures: integer (nullable = false)\n |-- prodco_20th_century_fox: integer (nullable = false)\n |-- country_united_states_of_america: integer (nullable = false)\n |-- country_united_kingdom: integer (nullable = false)\n |-- country_china: integer (nullable = false)\n |-- country_germany: integer (nullable = false)\n |-- country_france: integer (nullable = false)\n |-- keyword_sequel: integer (nullable = false)\n |-- keyword_duringcreditsstinger: integer (nullable = false)\n |-- keyword_based_on_novel_or_book: integer (nullable = false)\n\nFinal row count: 20664\n+-------+------------+\n|summary|vote_average|\n+-------+------------+\n|    min|         0.0|\n|    max|        10.0|\n+-------+------------+\n\nFalse\nFalse\nFalse\n+-----------+-------------+------------+-------------+-------+------------+\n|release_day|release_month|release_year|released_bool|en_bool|tagline_bool|\n+-----------+-------------+------------+-------------+-------+------------+\n|         24|           11|        1913|            1|      1|           0|\n|         25|            4|        1914|            1|      1|           0|\n|         15|           11|        1914|            1|      1|           1|\n|          4|           10|        1914|            1|      1|           0|\n|          2|            8|        1915|            1|      1|           1|\n+-----------+-------------+------------+-------------+-------+------------+\nonly showing top 5 rows\n\n+-------+-----------------+\n|summary|              ROI|\n+-------+-----------------+\n|  count|            20664|\n|    min|             -2.0|\n|    max|     9.99999999E8|\n|   mean|247531.7826877218|\n+-------+-----------------+\n\n+------------+---------------+------------+-----------+--------------+\n|genre_action|genre_adventure|genre_comedy|genre_drama|genre_thriller|\n+------------+---------------+------------+-----------+--------------+\n|           0|              0|           0|          1|             0|\n|           0|              0|           0|          0|             0|\n|           0|              1|           0|          0|             0|\n|           0|              0|           0|          0|             0|\n|           0|              0|           0|          1|             0|\n+------------+---------------+------------+-----------+--------------+\nonly showing top 5 rows\n\n"
     ]
    }
   ],
   "source": [
    "# 1. Check schema changes\n",
    "df_final.printSchema()\n",
    "\n",
    "# 2. Check basic row count\n",
    "print(f\"Final row count: {df_final.count()}\")\n",
    "\n",
    "# 3. Check value range of 'vote_average' (should be between 0 and 10)\n",
    "df_final.select(\"vote_average\").summary(\"min\", \"max\").show()\n",
    "\n",
    "# 4. Check if 'runtime' has any 0 values left\n",
    "df_final.filter(col(\"runtime\") == 0).count()\n",
    "\n",
    "# 5. Check if 'release_date' and other dropped columns are really gone\n",
    "print(\"release_date\" in df_final.columns)     # should be False\n",
    "print(\"status\" in df_final.columns)           # should be False\n",
    "print(\"original_language\" in df_final.columns) # should be False\n",
    "\n",
    "# 6. Show sample of new columns\n",
    "df_final.select(\"release_day\", \"release_month\", \"release_year\", \"released_bool\", \"en_bool\", \"tagline_bool\").show(5)\n",
    "\n",
    "# 7. Show ROI distribution\n",
    "df_final.select(\"ROI\").summary(\"count\", \"min\", \"max\", \"mean\").show()\n",
    "\n",
    "# 8. Check new genre/country/keyword boolean features\n",
    "genre_cols = [c for c in df_final.columns if c.startswith(\"genre_\")]\n",
    "df_final.select(genre_cols).show(5)"
   ]
  },
  {
   "cell_type": "markdown",
   "metadata": {
    "application/vnd.databricks.v1+cell": {
     "cellMetadata": {},
     "inputWidgets": {},
     "nuid": "4a8bc295-c066-4512-8930-ead4350e9923",
     "showTitle": false,
     "tableResultSettingsMap": {},
     "title": ""
    }
   },
   "source": [
    "---\n",
    "## Check for Missing Values\n",
    "---"
   ]
  },
  {
   "cell_type": "code",
   "execution_count": 0,
   "metadata": {
    "application/vnd.databricks.v1+cell": {
     "cellMetadata": {
      "byteLimit": 2048000,
      "rowLimit": 10000
     },
     "inputWidgets": {},
     "nuid": "cd9d353b-8700-41b0-a91a-770809079fac",
     "showTitle": false,
     "tableResultSettingsMap": {},
     "title": ""
    }
   },
   "outputs": [
    {
     "output_type": "display_data",
     "data": {
      "text/html": [
       "<style scoped>\n",
       "  .table-result-container {\n",
       "    max-height: 300px;\n",
       "    overflow: auto;\n",
       "  }\n",
       "  table, th, td {\n",
       "    border: 1px solid black;\n",
       "    border-collapse: collapse;\n",
       "  }\n",
       "  th, td {\n",
       "    padding: 5px;\n",
       "  }\n",
       "  th {\n",
       "    text-align: left;\n",
       "  }\n",
       "</style><div class='table-result-container'><table class='table-result'><thead style='background-color: white'><tr><th>vote_average</th><th>vote_count</th><th>revenue</th><th>runtime</th><th>adult</th><th>budget</th><th>popularity</th><th>release_day</th><th>release_month</th><th>release_year</th><th>released_bool</th><th>en_bool</th><th>tagline_bool</th><th>ROI</th><th>genre_action</th><th>genre_adventure</th><th>genre_comedy</th><th>genre_drama</th><th>genre_thriller</th><th>prodco_warner_bros_pictures</th><th>prodco_universal_pictures</th><th>prodco_20th_century_fox</th><th>country_united_states_of_america</th><th>country_united_kingdom</th><th>country_china</th><th>country_germany</th><th>country_france</th><th>keyword_sequel</th><th>keyword_duringcreditsstinger</th><th>keyword_based_on_novel_or_book</th></tr></thead><tbody><tr><td>0</td><td>0</td><td>0</td><td>0</td><td>0</td><td>0</td><td>0</td><td>0</td><td>0</td><td>0</td><td>0</td><td>0</td><td>0</td><td>0</td><td>0</td><td>0</td><td>0</td><td>0</td><td>0</td><td>0</td><td>0</td><td>0</td><td>0</td><td>0</td><td>0</td><td>0</td><td>0</td><td>0</td><td>0</td><td>0</td></tr></tbody></table></div>"
      ]
     },
     "metadata": {
      "application/vnd.databricks.v1+output": {
       "addedWidgets": {},
       "aggData": [],
       "aggError": "",
       "aggOverflow": false,
       "aggSchema": [],
       "aggSeriesLimitReached": false,
       "aggType": "",
       "arguments": {},
       "columnCustomDisplayInfos": {},
       "data": [
        [
         0,
         0,
         0,
         0,
         0,
         0,
         0,
         0,
         0,
         0,
         0,
         0,
         0,
         0,
         0,
         0,
         0,
         0,
         0,
         0,
         0,
         0,
         0,
         0,
         0,
         0,
         0,
         0,
         0,
         0
        ]
       ],
       "datasetInfos": [],
       "dbfsResultPath": null,
       "isJsonSchema": true,
       "metadata": {},
       "overflow": false,
       "plotOptions": {
        "customPlotOptions": {},
        "displayType": "table",
        "pivotAggregation": null,
        "pivotColumns": null,
        "xColumns": null,
        "yColumns": null
       },
       "removedWidgets": [],
       "schema": [
        {
         "metadata": "{}",
         "name": "vote_average",
         "type": "\"long\""
        },
        {
         "metadata": "{}",
         "name": "vote_count",
         "type": "\"long\""
        },
        {
         "metadata": "{}",
         "name": "revenue",
         "type": "\"long\""
        },
        {
         "metadata": "{}",
         "name": "runtime",
         "type": "\"long\""
        },
        {
         "metadata": "{}",
         "name": "adult",
         "type": "\"long\""
        },
        {
         "metadata": "{}",
         "name": "budget",
         "type": "\"long\""
        },
        {
         "metadata": "{}",
         "name": "popularity",
         "type": "\"long\""
        },
        {
         "metadata": "{}",
         "name": "release_day",
         "type": "\"long\""
        },
        {
         "metadata": "{}",
         "name": "release_month",
         "type": "\"long\""
        },
        {
         "metadata": "{}",
         "name": "release_year",
         "type": "\"long\""
        },
        {
         "metadata": "{}",
         "name": "released_bool",
         "type": "\"long\""
        },
        {
         "metadata": "{}",
         "name": "en_bool",
         "type": "\"long\""
        },
        {
         "metadata": "{}",
         "name": "tagline_bool",
         "type": "\"long\""
        },
        {
         "metadata": "{}",
         "name": "ROI",
         "type": "\"long\""
        },
        {
         "metadata": "{}",
         "name": "genre_action",
         "type": "\"long\""
        },
        {
         "metadata": "{}",
         "name": "genre_adventure",
         "type": "\"long\""
        },
        {
         "metadata": "{}",
         "name": "genre_comedy",
         "type": "\"long\""
        },
        {
         "metadata": "{}",
         "name": "genre_drama",
         "type": "\"long\""
        },
        {
         "metadata": "{}",
         "name": "genre_thriller",
         "type": "\"long\""
        },
        {
         "metadata": "{}",
         "name": "prodco_warner_bros_pictures",
         "type": "\"long\""
        },
        {
         "metadata": "{}",
         "name": "prodco_universal_pictures",
         "type": "\"long\""
        },
        {
         "metadata": "{}",
         "name": "prodco_20th_century_fox",
         "type": "\"long\""
        },
        {
         "metadata": "{}",
         "name": "country_united_states_of_america",
         "type": "\"long\""
        },
        {
         "metadata": "{}",
         "name": "country_united_kingdom",
         "type": "\"long\""
        },
        {
         "metadata": "{}",
         "name": "country_china",
         "type": "\"long\""
        },
        {
         "metadata": "{}",
         "name": "country_germany",
         "type": "\"long\""
        },
        {
         "metadata": "{}",
         "name": "country_france",
         "type": "\"long\""
        },
        {
         "metadata": "{}",
         "name": "keyword_sequel",
         "type": "\"long\""
        },
        {
         "metadata": "{}",
         "name": "keyword_duringcreditsstinger",
         "type": "\"long\""
        },
        {
         "metadata": "{}",
         "name": "keyword_based_on_novel_or_book",
         "type": "\"long\""
        }
       ],
       "type": "table"
      }
     },
     "output_type": "display_data"
    }
   ],
   "source": [
    "display(df_final.select([\n",
    "    count(when(col(c).isNull() | isnan(c), c)).alias(c) for c in df_final.columns\n",
    "]))"
   ]
  },
  {
   "cell_type": "markdown",
   "metadata": {
    "application/vnd.databricks.v1+cell": {
     "cellMetadata": {},
     "inputWidgets": {},
     "nuid": "f8f570df-d7dd-4758-b998-2d38d1b0ef00",
     "showTitle": false,
     "tableResultSettingsMap": {},
     "title": ""
    }
   },
   "source": [
    "---\n",
    "## Define numerical, categorical, and boolean features\n",
    "---"
   ]
  },
  {
   "cell_type": "code",
   "execution_count": 0,
   "metadata": {
    "application/vnd.databricks.v1+cell": {
     "cellMetadata": {
      "byteLimit": 2048000,
      "rowLimit": 10000
     },
     "inputWidgets": {},
     "nuid": "48546e63-a471-468b-ad35-77074d4f2d9a",
     "showTitle": false,
     "tableResultSettingsMap": {},
     "title": ""
    }
   },
   "outputs": [],
   "source": [
    "# Numerical features (including target)\n",
    "numerical_features = [\n",
    "    \"vote_average\",\n",
    "    \"vote_count\",\n",
    "    \"runtime\",\n",
    "    \"budget\",\n",
    "    \"popularity\",\n",
    "    \"ROI\"\n",
    "    #\"release_day\",\n",
    "    #\"release_month\",\n",
    "    #\"release_year\"\n",
    "]\n",
    "# for correlation\n",
    "numerical_features_target = [\n",
    "    \"revenue\", #TARGET\n",
    "    \"vote_average\",\n",
    "    \"vote_count\",\n",
    "    \"runtime\",\n",
    "    \"budget\",\n",
    "    \"popularity\",\n",
    "    \"release_day\",\n",
    "    \"release_month\",\n",
    "    \"release_year\"\n",
    "]\n",
    "\n",
    "# Categorical features (string categories)\n",
    "categorical_features = [\n",
    "    \"released_bool\"\n",
    "]\n",
    "\n",
    "# Boolean/binary features (encoded as integer or boolean)\n",
    "boolean_features = [\n",
    "    \"adult\",\n",
    "    \"en_bool\",\n",
    "    \"tagline_bool\",\n",
    "    \"genre_action\", \"genre_adventure\", \"genre_comedy\", \"genre_drama\", \"genre_thriller\", # top 5 genres\n",
    "    \"prodco_warner_bros_pictures\", \"prodco_universal_pictures\", \n",
    "    \"prodco_20th_century_fox\", # top 3 production companies\n",
    "    \"keyword_sequel\", \"keyword_duringcreditsstinger\", \"keyword_based_on_novel_or_book\"  # top 3 keywords\n",
    "    \"country_united_states_of_america\", \"country_united_kingdom\", \"country_china\", \n",
    "    \"country_germany\", \"country_france\" # top 5 production countries\n",
    "]"
   ]
  },
  {
   "cell_type": "markdown",
   "metadata": {
    "application/vnd.databricks.v1+cell": {
     "cellMetadata": {},
     "inputWidgets": {},
     "nuid": "4e78a33c-8161-4a8b-b1a5-014f93c4d704",
     "showTitle": false,
     "tableResultSettingsMap": {},
     "title": ""
    }
   },
   "source": [
    "---\n",
    "## Correlation-Based Filtering (for numeric features)\n",
    "---"
   ]
  },
  {
   "cell_type": "code",
   "execution_count": 0,
   "metadata": {
    "application/vnd.databricks.v1+cell": {
     "cellMetadata": {
      "byteLimit": 2048000,
      "rowLimit": 10000
     },
     "inputWidgets": {},
     "nuid": "8b519759-d8a7-4a8d-be65-803c77825b98",
     "showTitle": false,
     "tableResultSettingsMap": {},
     "title": ""
    }
   },
   "outputs": [
    {
     "output_type": "display_data",
     "data": {
      "image/png": "[encoded data removed]"
     },
     "metadata": {
      "application/vnd.databricks.v1+output": {
       "addedWidgets": {},
       "arguments": {},
       "data": "data:image/png;base64,iVBORw0KGgoAAAANSUhEUgAAAeIAAAGoCAYAAACaKuapAAAAOXRFWHRTb2Z0d2FyZQBNYXRwbG90bGliIHZlcnNpb24zLjUuMSwgaHR0cHM6Ly9tYXRwbG90bGliLm9yZy/YYfK9AAAACXBIWXMAAAsTAAALEwEAmpwYAADScElEQVR4nOydd3hURduH72c3CS2EkkoP0ntHijTpvCoWbEhVqoAKCoiKAipgAQWl2gBFpFgQkaZIJ/Tea0J6b9QkO98fZ9lkkwAJG1jgm/u6zrV7Zp6Z+e2c8pwpZ0eUUmg0Go1Go3EOJmcL0Gg0Go3m/zPaEWs0Go1G40S0I9ZoNBqNxoloR6zRaDQajRPRjlij0Wg0GieiHbFGo9FoNE5EO2JNniIiG0Tk6zzIZ56I/JUXmu5l8qq+clDOOBGJEBElIn3udHl3G+vvO5yH+bW21pVXXuWp0dwI7YjvY0TEV0SmicgZEbkqIiEiskpEujhbW065yQ3vdaDHXSh/g7X8sdnELbbG5dhRioi/NU3DHCZ5GhiT0/xvBxGpCXwADAJKAItvYKdE5JqIPJQp/H54KPocaHU3C8xw7mTeiuZR/n1EJDkv8tLc22hHfJ8iIv7AXqAjxo28NtAOWAnMdiBfFxGRbMLdbjfP20EplaCUir9LxV0A+mT83SLiCXS1xuU51+tTKRWrlEq6E2VkoKL18w+lVLhS6vJNbNOAj++wnjxDREwiYlZKJSulYpwg4QeMh5uMW4ITdNyUu339anKHdsT3LzOtnw2VUkuUUieUUseUUl9jOGUARKSsiPwuIknW7TcRKZ0hfpyIHLY+fZ8BrgKFrE/2Q6z2F4GJVvvHRWSPiFwRkXMi8vHNLnIR6SEiu6xlR4rIUhEpZY3zB/6zmkZZy5xnjbNrhYlIPhH50tq9ekVEAkTkkQzx11vWbUVkh4hcEpHdIlI/B3W5CnAHWmcI6wHsAM5m+j2dRGSziMSJSKyIrBGRahlMzlk/d1n1bMj4e0RktIgEA8HWcFvXtIhUEZGLItI7U3nXRKTpjcSLSC0R+UdELls1zRORIta4ccDvVlOLiNzqr/S+Ap4TkQY3KS9LCzlz13Cm3xsuIgkiMtnqOMdZz4VwERmdKZ8iIjLXGp8kIhsz9i5cbyWKSBdredeAapnLt9r2FpFDYvQWRYjI/AxxI0TkoLW+Q0Tk29tsyV6yPtxk3JS1jL4ictR6vp4UkeEiYrvn3kyDiLTGcPLXr0VlPZaIyHkReSvTb7Ub4rDajBOR70UkHlhoDW9mrdNL1jJniYhHhnQtrddWsvWY7RSjR0VzB9GO+D5ERIoDnYAZSqksXVfXW5LWi3454Au0sW4lgT9E7Fq95YHuwLNAHeCKNfwD4G+gFjBDRDpiXNBfAzWAl4FuWJ30DXCz5lMHeAzwAhZZ4y4Az1i/18BoTbx+g3w+BZ63llkPOASsFpESmewmAW8D9YEYYGGm35odKcACa97XeRn4LhvbQsCXQGMMx50ArJD0h5HG1s9O1t/zdIa0rTAekjoBbTNnrJQ6AQwHvhKRh0TEG5gHfKyU2p6dcBEpBKwBkq1lPwU0A763mnwO9Ld+v95iuxk7gV8x6ttRWmKcW60xusVHYZxP+YBHgHHA5OtO33qcVgKlMM6VesAmYH2m45wfGAsMBKoDgZkLFpGBwBwMZ1Yb6AJkdNQW4A2M8647Rt195egPzlB+f4zr4n2gGvAmMBp4NYcatlnjLpF+3D7PpYwRwHGgIfCOiNQC1gJ/YlyPTwN1sZ4rIuKCcb/YYo1/GONcT8tluZrcopTS2322YVywCnjqFnbtMS4i/wxhD2HcANpZ98dhOCLfTGkV8FWmsE3A2ExhT2I4AbHubwC+vommqta8S1v3W1v3vTLZzQP+sn4vhNHy6ZUh3gycAT7KlE/HDDbNM5Z1Az0bMB4sqgEXAQ+MG1cCUDAHv6eQtY4fse77W8tsmM3viQLyZVd+prDfgQAMp7QVMN+k/P5WrYUzhF2vi4rW/W7GpX7L80pZbSta67tT5mOR3X6G8+hwJpsLGbUDu4EDmdKdB96yfn/Uei4VyGSzHxhl/d7HqrPBLcoPBibn4prqhNEbZLrZeZnNsbtm1Xx9m22NCwJ6ZrJ/AziaCw19gORs7Gx1dqPzyGqzIpPNAuC7TGF1rb/TByhu/d4qp/Wmt7zZXNDcj9yqhXedakCoUur89QCl1FkRCcVoSfxjDQ5WSkVkk353pv0GQONM3YkmoADgB4RlEWp0DX+AccEXz6C9LNbu2RxQAXDFcErXf0eaiGy3/o6MHMzwPdT66XOrspRSx0TkAPCiVesvSqlLmRvTIlIB+BCjteCN8ftN1t9zKw4rpa7mwK4fcAKjpVRbKXWzFkk14KCyH2fehvGwVR04nYPy7FBKnRaRbzBaq2tzmz4DRzNpjwDiM9lEYBwfMM6vghjDFBlt8mOcA9dJxXDO2SIiPhit6n9vYvMoxtyKakARjAc7N4zzOPRG6bJhMTA+w36itSejDDBHRGZliHMhw7WbhxpuRHbXb0UReT5D2HU9FZRS28UYGlojIv9i1N8ypVRQHmjR3ATtiO9PTmE8uVYjffwvt2QcK7x4A5vM4SaMm87SbGyjMgdk6Db9B+gJRGJ0TW/GuOHkBZnHPFOyicvpEMz3GF2HD2FMgsuOvzCc+kAgBMMpHCVnv+dG9ZyZmhg3ZjAcyrmb2N4MR5ZWm4DhxF/KJs5C1odB12zsUjLtqxuEXT8+JgzH3CKbvBIzfL96i4eTmyIi5TB6G77B6DqOwRjKWETuz8sEpZTdw46I+Fq/DsJ4KMprDTmt/+yu32+BL7KxDQFQSvUVkS8xWudPAB+LyJNKqTW30KRxAO2I70OUUrEisgYYKiLTVaZxYhEpqoxx4mNASRHxv94qFuPVlJIYziO37AWqZr7x3ISqGI73HaXUOWv5T2eyuWb9NN8knzNWu+bW74iIGWgK/JxDLTlhMcaY2Hml1I7MkWLMpK4KvKqU+s8aVh/76ygnv+eGWCfr/IgxHlgA+FFE6iilEm+Q5BjwsogUztAqboZx0z12OxoAlFIRIvI5Rus/8/h0FEavQUYy798OezHmM1iUUmdvZXwjlFKRIhKCMQ6/LhuThhjObvh1hy4ij91uedmUH2HtdaqglFpwA7OcaLhG9udRFBnG+kUkP8Z5ue8W0vYCNW51/SqlDgAHgE9EZBXQG+OBWnOH0JO17l+GYDwV7xaRZ8WYcVtVRAaT3j37j/X7QhFpaJ19uhDjglx/G2VOALqLyAQRqWktr5uI3GhiTxDGmNdQ6+Sj/2Hc2DMSiNEq+p+IeIuIe+ZMlFIXgVkYN4YuYsxSnoVx056Z2f52sTqyUkCTG5jEAdFAfxGpKCKtMF4VS81gEwlcBjqK8Z53kWzyuRmzMW6072NM7kkCZtzEfiHGhJ4FYsyebokxSem3XDww3YgpGN3CT2YKXw/UE5GXrfUwCuMhyVH+wRh+WC4inUWkvIg0FZHxIpJdK/lmfAy8IcZM5coiUldE3rTGncK4971hLeNFjPHbvOQDYJS1/CrW66WXiFx/ZzwnGs4D+UWkvYh4iUhBa/h64CUx3hSogdGTk5NG1ScYQ0uzRaSe9dg9JiJzAKw6Josxs7qciLTBmOh2Ow/tmlygHfF9irXFUB/jif8TDIe7HqM7aYDVRmG8CxuF8ZrQf0A48KQ1LrdlrgH+hzH7eqd1exvD4WZnH4XxNP0kxsX8AcZMzow2IdbwjzG6JW/05xmjMVqsP2CMD9bGmEyUZVzaEZTx/nK2f6KglLJgzNyujTEDdwbG7N2rGWxSgdcwxnlDMWah5ggR6Ylx/F5SSqVYx5O7A91E5IUbaLqE0Y3ugXE8lmO0YF/Ozj43WOthPIYzzhi+xhr+MbAHY4Kaww9E1nOyC8Z5/A3GOPkSoAq5HDNVSs3CeFjtj3GsVmOMuaOUOogxO38ExnnZD3gr+5xuD6XUtxjHoCdG63IzxnV5LqcalFLbMB7MFmFcw6OsUZMw6mg5xizoLdy6NXy9zJYYx2ujVdckjOsOjAe6yhhDTyeB+RgPep/k6sdrco3cxv1Yo9FoNBpNHqFbxBqNRqPROBHtiDUajUajcSLaEWs0Go1G40S0I9ZoNBqNxono94jvPHo2nEaj0diT038H/H+BdsR3AUt4ZWdLsGHyO0nn0q85W4Ydq4KnU/2Pcc6WYePok+PoVPd9Z8uwsXr/BOr8lWW5ZKdx4LEPadtmkrNl2PHvf2Nob3rW2TJsrLMspYNrtm+cOYW1Kb/Q3vz8rQ3vEuvSsl0S+/8tumtao9FoNBonoh2xRqPRaDRORDtijUaj0WiciHbEGo1Go9E4Ee2INRqNRqNxItoRazQajUbjRLQj1mg0Go3GiWhHrNFoNBqNE9GOWKPRaDQaJ6IdsUaj0Wg0TkQ7Yo1Go9FonIh2xBqNRqPROBG96IOTeXcybNgOxYvBinlZ45WCidNh0w7Inw8mjoEa1jUk/lgNsxYY3wf3gic75Y2mBq2rMWj805jMJlYv2s7SGf/Yxdd8uAIDxz1N+WolmTxkPltW7rfFtevWmBde7wDAL9PW8s+ynQ7recSnImNqdcIsJpYF7uXbU1uy2HQqWYMhVVujUBxPiGDUnl9tcYVc8rGi7RD+DTvOxwf/dlhPg2YVGTyqCyaTsPr3vSz5YbNdfM365Rg0sjPlK/ky6e2lbPnnqC3O268Ib3zQFW/fIiileH/YT0SExjusqZl3RUbX+B8mEX4P2sP3ZzZnselQoiaDKrcB4ERiOGP2LQXAL38RxtV5Et/8RVAohu78kdDLjmlq1Oghhgxth8ls4u+V+/llUYBdfLdnG9GlS13S0izEJ1zis09XEhmRSIUKPrwxvBMFC7lhSVMsXLiNDf8dc0gLQMOOdXn1y76YzCZWffcviz/5wy7e1c2FUfOHUanBQyTGJPHxC18QERhFlUYVGT5noGEk8OP4pWz9w/FzGqBhhzoMntrbuM6+X8/iz/7MomnkD0OoVL88SbHJfNx9GhGBUbZ47zKefHtwCj9OWMayL/5yXE/HOrz6RR9rHa1n8afLs+gZNX8Ilepb6+jFrHq+OzyVBeOXsmyq43r+P3HfOWIREUCUUhZna8kLnuwM3Z+GtydmH79pBwQGw+qFcOAoTJgKi2dDfCLMmAdL54IIdOsPbZpDkcKO6TGZhCEfPcs73WcQHRbPtJVvsWPtYYJOhdtsIkPimDJiIc8MfNQurXvRgnQf3onX/vc5KMX0v0cSsO4QyQmXb18Pwnt1utBv649EXE5kcev+/Bd+gjNJ6TeAcoWK07/yI7y0+TsSU65Q3K2QXR6vVWvD7ujA29Zgp8ckDBnzGO8Mmk90RCLTFw4kYONxgs6m64kKT2DK+7/zTK/mWdKP/OhpFn27iX0BZ8hfwA2lHF8l04TwTs3HGbhjHhGXE/m5xSA2RBznbHK6prKFivNKxZb03vYNSZnq6KN6z/DtqY0ERJ+hgNlxTSaT8NrrHRg18heiohKZObsP27edIjAwxmZz+lQEgwf9wNWrqTz+RD0GDGzDRxOWc/VqKpMnrSAkJA5PT3dmzenLrp1nuXjxqgN6TAz7+hVGd/iQ6OBYvt45ie1/7iboWLDNptMrj5Icn0yfysNo/Xwz+k3uwccvfsH5w0G82mg0ljQLxf2KMnv/52xfsRtLmmO3H5NJGDr9Zd7u/DHRwTF8FTCR7X/tIehYSLqml9uQHJ9M32pv0Pq5prwysTsTX5pmix/0WS92rd7vkI6MeoZ99TKjOxp6vt4xie0rdmfS8yjJcRfpU+V1ax115+MXM+iZknd6/r9xX3RNi4i/iJwQkQXAYWCsiOwSkYMiMt5qM1lEhmRIM05E3rJ+H5mNvb+IHBORb0TkiIisFZEC1rgNItLQ+t1LRM5bv5tF5LMMeQ109Lc1qgNFb+I812+Brh0NZ1u3BiQmQ2QMbN0JzRpCUQ/D+TZrCFt2OKoGKtctR+j5KMKDYkhNSWPj8r006VDLziYyOJbzx0JRFvsbdoNWVdm3+QTJ8ZdITrjMvs0naNC6mkN6ahUrRVByLMGX4khRaawKPsyjflXsbLr5N+Dnc7tITLkCQOy1i7a46kVK4JnPnW1RZxzScZ0qNUsTdiGW8JA4UlPT2LjmEE1bV7WziQiN59ypiCwOrexD3pjNJvYFGFquXL7G1SspDmuqWbQ0Fy7GEHIpjlSVxuqQQ7T2ta/3p8s25JfzO0jKVEcPuXvjIiYCog1Nl9OuccXimKaqVUsSEhpHWFg8qakW/lt/jGbN7ZcC3b8/iKtXUwE4djQUb28PAIKDYwkJiQMgJiaZ+PiLFC1a0CE9VRpXJPR0OOHnIklNSWXD4q0069rQzqbZE41YO38jAJuWBVCvbU0Arl6+ZnO6bvndjC6qPKBK44qEnrmuKY2Ni7fR7HF7TU0fb8i6HzcZmn7dQb1Ha2TQ25Dw85EEHg0mLzD0RNj0bFi8jWZPNLKzada1IWsXZKijR2vaxYWfi+T8kQt5ouf/G/eFI7ZSCZgJDAdKAY2BukADEWkJLAaey2D/HLBYRDpY02a2v57nDKVUDSAeeOYWGl4BEpRSjYBGQH8RKe/wL7sJEdHg55O+7+cNkVFZw329jTBH8SpRlKiweNt+dHg8niWK5CytX1GiQuPS04bF4+VX1CE9vgU8CL+caNsPv5KITwEPOxt/d0/83T35qcXLLGrZj0d8KgIgCKNqdeSzw2sd0pART5/CRIUn2PajIxLx9PG4SYp0SpXzJDnpCmOnvMDXvwym3/AOmEyOr4/uU8CD8CvpmiKvJOBbwP7prlwhL8q5ezKvWT9+bD6AZt4VbeFJKVeY2uBFFrd4leHVOmJycM12Ly93oiLTj1lUVBJeXjd+2uzcpQ47d2R9UKpStQQuLmZCM5xTt6WnVHGigtNb49HBsXiV8rSz8SxVnKgLxgVkSbNwMeESHp6G5qqNK/LNoanMPTiFaYO/cbg1DOBV0l5TVEgsnqWKZ7W5EJNB02U8PAuTv1A+nhv5BD9+uMxhHbaySqWXBRAdEoNXqWJ2Np5Z9Fyy6Xl+ZFd+nJB3ev6/cT854kClVADQwbrtA/YCVYFKSql9gI+IlBSROkCcUurCjeyteZ5TSu23ft8D+N9CQwegl4jsB3YAnhny0jgJs5goV6g4fbbM463dyxhf93EKu+bnxfKN2BR+iogribfO5C5gNpuoWa8c30xdw2svzcGvVDHaP1HvrpTtIibKFfKk3/bveXvvEj6o/SSFXfJjNpmoV7wcU46tpvuW2ZQuWIyuZe6OJoB27WpQuYofSxbbd+cUL16IMWMe57NPVuZVI/S2Ob7zNP1rjWBo47d54e2ncM3n6lQ9Pd9/lt+m/c0VB7rr85JeHzzLr9NW3jN67kfupzHi6/2NAkxSSs3JxmYp0A3ww2gh39BeRPyBjGdOGlDA+j2V9IeU/BmTAcOUUmtuJlREBgADAObMmUO/J25mfXN8vSA8Mn0/PAp8vI3wnfvTwyOioHHd2y/nOtFh8XiXKGrb9/IrSkxYwo0TZEwbHk/tpunPJV4linJw+ymH9ERcTsQvQwvYL78HkZcTs9gcjAsmVVkIuRRP4MUYyhUqTt3ipWngWY4XH2pEQbMbriYzl1Kv8cXRfzIXk2NiIpPw9kvvIfDy9SAmMmeOPjoikTMnwgm3dr1u/+84VWuXZs0fty0HgMjLifjlT9fkk78IEZeT7GwiriRw6HodXY4n8GI0ZQt5EnE5gROJYYRcMjT9F36MWsXKwIW9t60nOjoZ7wy9BN7ehYmOTspiV7++P917NGPEGwtJSUmzhRcs6MbESc/x/XcbOXYs9LZ12PSExOJdOr0F7FW6ONEhMXY2MSGxeJfxIjokFpPZRKEiBUmMsdccdDyEy8lXKF+zDCf3nHVMU6i9Ju9SxYkJic1qU8Yzg6YCJMYkUbVxRVo8/TD9Jr2Ee9GCWCyKa1dT+HPmTW9LN9cTYpR1Ha9SnkSH2PdExGTRUzBdzzMP03/yS7gXLYTFoki5ksJyB/T8f+N+ahFfZw3wsoi4A4hIKRG53km7GHgBwxkvzYH9jTgPNLB+75ap7MEi4mrNq7KIFMqUFqXUXKVUQ6VUwwEDBuT6B2akTXNYvsYYmtp/BAoXAh9PaN4Ytu6ChCRj27rLCHOUkweCKFneG98yxXFxNdOqa30C1h3KUdo9G49Tv2VV3IsUwL1IAeq3rMqejccd0nM4PpRy7p6UKlgUVzHTuXRN/gs/YWfzb9hxGnn5A1DUrSDlCnly4WIco/b8Rtu1X9B+7Zd8dmQtyy8ccMgJA5w4EkLJssXxLVkUFxczrTrWIiCHv/HkkRDcC+enSDFjzLNO4/J2k7xulyMJIZQt5EmpAkVxETOdStViY4S9pvXhx2joaYyiFHUtSLlCXgRfiuVIfAiFXQtQzM3Q1NjrIc4mRWYpIzccPx5KqVLF8PMrgouLiTaPVmPbNvsHsooVfRk+ohNj311GfPwlW7iLi4nxHz7D2rWH2bTpROasb4sTu05TqlIJ/Px9cHF1ofXzzdn+5247m+0rdtOhdysAWnZrwv71hwHw8/fBZDZukz5lvShbtSTh5x0/Zid2naFURT/8/L2N6+z5Zmz/a4+9pr/20L6nMYrW8pmH2f/fEQDebDOOXpWG0avSMH6fvopfJv/hkBPOTk/r55uxfUWmOvpzNx16Zagjq54RrcfRs8IwelYYxm/T/mbRpN+1E84l91OLGACl1FoRqQZsNyZQkwz0ACKVUkdEpDAQopQKu4V9WrYFGHwOLLG2bFdmCP8Wo/t6r3X2dhTwpCO/583xRss2PgFad4OhfSHVmMPCC12hVRPYFAAdu1tfX3rbiCvqYbyy9Jx1utirvY0wR7GkWZg1dhkfLXwVs8nE2sUBBJ0Mp+dbXTh5IIgd6w5TuU5Zxn7bD/ciBXi4fU16jOjMoLaTSI6/xKJpa5i28i0Afv5yNckZbrK3Q5qy8PHBv/mmWU/j1ZzAfZxOimJo1TYciQ/lv/ATbIk8TTOfCqx4dAhpysLnR9aRkHL7M7VvhiXNwszJK/l4Vi9MJhNrl+8l8EwUPQc/yqmjIQRsPEHlGiUZO/VFCnsU4OGWVeg5+FEGPvM1Fovimy/WMHlOHxDh9LFQVv2655Zl3oo0ZWHSkb+Y9XBvTGLijwt7OZMcyauVH+VIQigbI46zLeo0zbwr8lurYViU4otja2x1NPXoauY26YsgHE0I4dcgxzRZLIqvpq/jk09fwGQSVq06SOD5aPr0bcGJE2Fs33aaAYPaUKCAG++PewqAyIhExr63jNatq1G7dhk8PArQsZMxSfDTyX9x5sztPxxY0ix8Pew7Jq1+F5PZxJof/iPwaDC9xz/Pyd1n2L5iN6u+W8/bC4Yx7+RXxqtCL34BQM1HqvL86CdJS0nDYrEwfci3WVrKt63p9R+YuPIdQ9M8Q1OvD57l5J6zBPy1h9Xf/8foeUP44diXJMUlM/Gl6Q6Xe1M9r33PpFVWPT9sMOponKFn+4o9rPr+P95eMJR5J6bZXqfS5A2SF69PaG6KsoRXvrXVXcLkd5LOpV9ztgw7VgVPp/of45wtw8bRJ8fRqe77zpZhY/X+CdT5a6yzZdg48NiHtG0zydky7Pj3vzG0Nz3rbBk21lmW0sH1BWfLsLE25Rfam593tgwb69IWOz5L8QHifuya1mg0Go3mgUE7Yo1Go9FonIh2xBqNRqPROBHtiDUajUajcSLaEWs0Go1G40S0I9ZoNBqNxoloR6zRaDQajRPRjlij0Wg0mhwiIt+LSKSIHL5BvIjIdBE5bV2lr/6t8tSOWKPRaDSanDMP6HST+M4YiwFVwlhzYNatMtSOWKPRaDSaHKKU2gTE3sSkK7BAGQQARUWkxM3yvO/+a1qj0Wg0mpxgCa+c6/9wNpc4NRDr6nlW5iql5uYii1LAhQz7wdawsBsl0I5Yo9FoNA8kFiy5TmN1urlxvA6jHbFGo9FoHkjSVO4dcR44xRCgTIb90tawG6LHiDUajUbzQGJB5XrLA/4EellnTzcBEq4vy3sj9DKIdx5dwRqNRmPPXVkG8WJYuVzffwuVCLypNhFZBLQGvIAI4APAFUApNdu6Vv3XGDOrLwF9lVK7b5qndsR3HHUvrf+7Kng699L6yGCskdz20Xtnfdt/14+h3qtfOFuGjX0zh9O54khny7Cx6vRndK40ytky7Fh16lNadv3M2TJsbFo+kubdPne2DBtbl71FpUn3zjl9aszwu+KIE0PL5trBeZQMuutrJesxYo1Go9E8kORRV/MdRztijUaj0TyQpGlHrNFoNBqN89AtYo1Go9FonEjafTIHSjtijUaj0TyQ5P4tYuegHbFGo9FoHkj0GLFGo9FoNE4k7f7ww9oRazQajebBRHdNazQajUbjRNLuzh94OYx2xBqNRqN5ILHormmNRqPRaJzH/dIivuOrL4mIv4h0v9PlaDQajUaTkTQk15szuBstYn+gO/DzXSjrllhXxhClbmOhyjtEg9bVGDT+aUxmE6sXbWfpjH/s4ms+XIGB456mfLWSTB4yny0r99vi2nVrzAuvdwDgl2lr+WfZToe0vDsZNmyH4sVgxbys8UrBxOmwaQfkzwcTx0AN6xoSf6yGWQuM74N7wZOdHJJio1GjhxgytB0mk4m//97PL4sC7OK7dWtEly51SUuzEJ9wic8+W0lkRCIVKvjwxhudKFjIDUuaYuHCbWzYcMxhPc2ql2Pks60xiYk/th3mh7W77PW0qM1zLetgsVi4dDWFj37+h7PhsQBUKuXFey+2pVD+fFiUoscnP3MtNc1hTQ1aVmHQe08Y59CSnSyd859dfM1G5Rn43hOUr1KCyW8sZMvqQwD4lCzK2Fm9ETHh4mrizwVb+TtT/d6WnhaVGfReV0xmMfTM3ZBVz7tPUL6KH5OH/2yvZ2ZvxCS4uJj488dteaKncT1/XuvfFpNJWLnuIAt/tb9OnnuiIY91qEVamiI+4RKTv1pNRFSiocmrMKOHdsLHqzAKxagJvxIemeiwpofr+vNG30cxmYQV/x7ipz/sNT3/WAMeb1ubNIuF+MRLTJyxhohoo9xXe7SkWYOHEBF2HQzky+/XO6ynxUPleK9da8wmE0v2H2ZuwK5s7TpWqcjXTz/OUz/8zOHwCFxMJj7u0p4avj64mITfDx9jzvbs095tLOr+aBHfliMWkcnABaXUDOv+OOAi4AN0xlj67yOl1GJgMlBNRPYD84Hp1rDWQD5ghlJqzg3KcQeWA8Uwlpl6Tym1/AblJyulPheRkcBz1rx/V0p9ICL+wBpgB9AA6CIibwONgALAMqXUB9a8ugBTrb9nK/CQUuoxESkEfAXUtGoZp5Rafjv1lxGTSRjy0bO8030G0WHxTFv5FjvWHiboVLjNJjIkjikjFvLMwEft0roXLUj34Z147X+fg1JM/3skAesOkZxw+bb1PNkZuj8Nb0/MPn7TDggMhtUL4cBRmDAVFs+G+ESYMQ+WzgUR6NYf2jSHIoVvWwpg1M9rr3dg1MhfiIpKZOasPmzfdorAwBibzenTEQwe/ANXr6by+BP1GDCgDR99uJyrV1OZPHkFISFxeHq6M2t2X3btOsvFi1dvX48Ibz//KIOn/0ZEfBILR3dn48EzNkcLsGrXcZZtPghAq1oPMeKZVgyd8Ttmk/BRn06MnbeakyHRFCmUn9Q0x58HTSZhyLineKf3XKLDE5j222vs+PcIQacjbTaRofFMGbWEZ/q1sksbG5XEiGe/JuVaGvkLujH77zcJ+PcosQ44GpuePt8Yen4dxo71R7PqGb2YZ17JRs9zGfSsHJEneoYPbM+ID5YQFZPE3M97smXnGQIvpJ9Dp85F0H/Efq5eS6Vrp7oM7tOKcZ+tAODdN7rw49IAdh8IpEB+Vyx5MPBoMglv9mvHGxOWEhmbxLeTe7Bl9xnOB2fUFMkro3/k6rVUnuxQhyE9W/L+F39Rs0pJalUtRa835wMw68MXqVejDPuOXLh9PSKM6/AofX75jfDEJH7t0531p85wOibWzq6Qmyu9G9Zjf0j68rqdq1bCzWzmse9+JL+LC6v69+KvoycISXD8YcVRHvSu6cUYzu46zwGRQF2gDtAO+ExESgBvA5uVUnWVUl8Ar2AslNwIwxH2F5HyNyjnCvCUUqo+0AaYYm3RZlf+YhHpAFQCGlu1NBCRllabSsBMpVQNpVQg8K5SqiFQG2glIrVFJD8wB+islGoAeGco411gvVKqsVXLZ1bn7BCV65Yj9HwU4UExpKaksXH5Xpp0qGVnExkcy/ljoahMN4AGraqyb/MJkuMvkZxwmX2bT9CgdTWH9DSqA0Vv4jzXb4GuHQ1nW7cGJCZDZAxs3QnNGkJRD8P5NmsIW3Y4JAWAqlVLEhISR1hYPKmpFv5bf4xmzeyXcdy/P4irV1MBOHY0FG9vDwCCg2MJCYkDICYmmfj4ixQtWtAhPTX9/bgQFU9ITAKpaRbW7DlB6zoV7GwuXrlm+14gnyvXl6RuWq0cp0KiORkSDUDCxStY8uAv+CrXKUtoYDThF2KNc2jlfpq0q2FnExkSx/kTYVnOodSUNFKuGS1yVzcXxOT4jaty7TKZ9BygSdvs9ISTeRnWO6GnWqUShITHERaRQGqqhX83H+eRxhXtbPYdusDVa8Y5dPREKN6exkVQrownZrOJ3QcCAbh8JcVm55Cmin4Eh8cRGmnVtPU4LRrZn0d7j6RrOnIqzKZJKYWbqxkXFzOuLmZcXEzExl90SE/tkn4ExsVzIT6BFIuFlcdO0LZyhSx2b7RsxtyA3VxNTa8DBRR0dcUsQn5XF1IsFpKv3v7Dbl6ShinXmzO4rRaxUmqfiPiISEkMZxWH4fgWKaXSgAgR2YjhaDM/FnUAaotIN+t+EQwneS6bogSYaHWmFqAU4Jtd+UqpCyLyujX/fdb07ta8g4BApVTGPq7nRGSAtQ5KANUxHkzOKqWua1kEDMig+wkRecu6nx8oCzjU1+lVoihRYfG2/ejweKrUK5eztH5FiQqNS08bFo+XX1FH5NySiGjw80nf9/OGyKis4b7eRpijeHm5E5WhNRQVnUS1aiVvaN+5Sx127jyTJbxK1RK4uJgJzVBft4NPUXci4pJs+xFxydT098ti91zLOvRoWx9XFzMDv1wGQFmfYigFM4Y+RTH3AqzZc5L56266XniO8PL1yHQOJVClTtmcpy9RhAnfvEKJcp5898lKh1qfAF5+RYgKS8ikp0yu0k/45uW80+PpTmR0+jGLikmieuUSN7T/X/ta7NhzFoAyJYuRfPEqH73dFT/fIuw5EMicBZscbhV7Fy9spykyJpkalW6s6fFHaxGwz7gtHTkZxt4jF/jzm0EIwq+r9xEYEnvDtDnBz92dsMR0PeFJydQpaX9eV/f1oUThwmw4c45+Dzewha8+foq2lSqw7bUB5HdxZeK/G0m4cm844vula9oR978U6AY8j9FCzSkCDLO2kOsqpcorpdbewPYlDEfbQClVF4jAcIA3Kl+ASRnyrqiU+s4aZ3tktLbA3wLaKqVqAysz5Hsz3c9kyLusUipbJywiA0Rkt4jsnjt37i2y1eQV7drVoHJlP5Ystm+KFy9eiDFjHuezT1dyt/4DfsmmAzzxwQ9M+30z/To/DIDZbKJehZK8+8MqXp6yhEfrVKBxlZw7qDtFdFgCrz42lVfafkK7pxpQ1NPduXrCE3j18S94pd2nd11P+1bVqVLRj0W/G2OcZrOJ2tVLM+OHDQx880dK+hal86M175oegA4tqlG1gi8/Lzc0lfIrin8pT54aOIcnB86mQc2y1KlW6o5qEOCdti2ZtH5TlrjaJfywKAvNv/qGNrO+4+XG9SlTtMgd1fOg4YgjXgy8gOEMlwKbgedFxCwi3kBLYCeQBGTs7FwDDBYRVwARqXyTLt4iQKRSKkVE2gAZm4qZy7+e98vWsWVEpJSI+JAVDwzHnCAivhjj2gAngIesY8pgOPmMuodZu8YRkXo30IxSaq5SqqFSquGAAQNuZAYYrVjvEkVt+15+RYnJ0Jq4adrweLxLFktPW6Io0eHxOUp7u/h6QXj6UB/hUeDjnTU8IsoIc5To6GS8fTxs+95ehYmOSspiV7++P91fasbY95aRkpI++algQTcmTnqO77/byLFjoQ7riYxPxrdY+unsW8ydqITkG9pn7LqOjEti7+kQ4i9e4UpKKluOnKdqmexOz9wRHZGY6RwqQkxEzs6hjMRGJhJ4MpyajW40UpRDPeEJeJdIvxEbenLfqo2NTCTwVITjemKS8fFKP2benoWJisl6zBrUKUevZ5sw5uPfSbFOoIuKTuL0uUjCIhJIsyg27zhF5Qq+DukBiIpNstPk4+lOVGzW87phrbL0fqYJoyb/YdPUqnEljpwK5fKVFC5fSSFg3zlqVL5xL1FOCE9OpoRHuh6/wu5EJKXXUaF8blTy9uKn7t34b/DL1C1VgtndnqCmny+P16jCprOBpFosxF66zN7gUGr6OV5HecH9Mmv6th2xUuoIhoMNUUqFAb8DB4EDwHpglFIq3BqWJiIHRGQ48C1wFNgrIocxxmRv1EW+EGgoIoeAXsDxm5SPtWX9M7DdmmYZ9g8B19MewOi+Pm6132oNvwy8CqwWkT0YDxHX72gfYkzSOigiR6z7DnPyQBAly3vjW6Y4Lq5mWnWtT8C6QzlKu2fjceq3rIp7kQK4FylA/ZZV2bPx+K0TOkCb5rB8jTF7ev8RKFwIfDyheWPYugsSkoxt6y4jzFGOHw+lVKli+PkVwcXFRJtHq7Ft+yk7m4oVfRk+ohNj31tGfPwlW7iLi4nxE55h7drDbNp0wnExwJHAcMr6FKOkpwcuZhMdG1Rhw8GzdjZlvYvavreo+RAXIuMB2HY0kIolPcnv6oLZJDSoVNpuktftcvLgBUqW88K3dDHjHPpfXQL+PZqjtF5+RXDLZ1x+7h4FqN6wPMFnoxzTcyiYkv4Z9dS5fT0N/B3Wc/xUGKVLFKOEj3EOtW1Rla07T9vZVCrvw1uDOzDm49+IT0g/h46fDse9UD6KeBQAoH7tspzPMMnrtjWdDrfX1LwqW3bZD6lUKu/DqIEdGD35d+IT0zVFRCdSt3oZzCbBbDZRt0ZpAoMd03QoNBz/YsUoXcQDV5OJ/1Wrwr+n0s/r5KvXeHjabNrM+p42s75nf0gYg5b9yeHwCMISk2hazujZKeDqQt1SJTgb4/h5nRekKVOuN2fg0OtLSqlaGb4rYKR1y2iTAjyaKek71u1W+UcDTXNSfoawacC0bMxrZrLrc4Ns/1NKVbW2fGcAu632l4GBt9KcWyxpFmaNXcZHC1/FbDKxdnEAQSfD6flWF04eCGLHusNUrlOWsd/2w71IAR5uX5MeIzozqO0kkuMvsWjaGqatNIatf/5yNckZHNHt8OZ42Lkf4hOgdTcY2heuz8t4oSu0agKbAqBjd+vrS28bcUU9jFeWnrPW0Ku9jTBHsVgUX321jk8+eQGTWVi16iCB56Pp06cFJ06GsX3baQYMbEOB/G68/8FTAERGJjL2vWW0bl2N2rXL4OFRgI4djVPl00/+4syZyJsVeVPSLIpPFq9n5tCnMZmE5duPcDYshsGPNeVoYAQbD53l+dZ1ebhKWVLT0ki8fJWxC9YAkHT5Kj+t38tPo7ujUGw5cp4th7ObGpHLOkqzMGv8H3z0Q3/MZhNrl+4k6FQEPV/vwMnDwez49yiVa5Vm7KzeuHsU5OFHq9Hj9Q4M6jyFMhV86D/mcZRSiAi/fbuR8yfDb13oLfUs56Pv+xl6lu0i6LRVz6Fgdqy36pnZy9DTpho9XmvPoC5TDT1vP5au57tNDutJsyi+nPsPn4/rZrwC9+8hzl+I4eXuzTlxOpytO88wuG9rChRwZfyorgBERicy5uPfsVgUM3/YwJcfPo8AJ85EsGLtAYf0XNf0xbf/MvW9ZzCbTPy1/hDngmPo93xzjp8JZ8vuMwzp2YoC+V356M0nAMMBj/7kD/4LOEn9mmVZMLUPSsGO/efYuufsLUq8hR6lGL9uPd+/8DRmEZYdPMLp6Bheb9GUQ2ERrD994/x/2nOAyf/rwN/9eiECvx48womoPJggkgdYnDT5KrdI5lmL/9+xttp7A24Yreb+SilHvJvqXPq1PNGWF6wKno4lvPKtDe8iJr+TtH10krNl2Ph3/RjqvfqFs2XY2DdzOJ0rjry14V1i1enP6FxplLNl2LHq1Ke07PqZs2XY2LR8JM27fe5sGTa2LnuLSpPunXP61Jjhd6UPeP35Krl2cI/6n7jr/dP3xF9cikgt4MdMwVeVUg/fbS3WV6zunTNWo9FoNLeFs7qac8s94YiVUocwXn/SaDQajSZPsNwnf+hxTzhijUaj0WjyGmf9QUdu0Y5Yo9FoNA8kumtao9FoNBoncr/MmtaOWKPRaDQPJGn3yV9cakes0Wg0mgcSPUas0Wg0Go0TsegxYo1Go9FonIduEWs0Go1G40T0GLFGo9FoNE5Ez5rWaDQajcaJ6PeINRqNRqNxIvfLX1zq1ZfuPLqCNRqNxp674iHnnGiV6/vvwCob/3+uvvSgU/2Pcc6WYOPok+PuqSUHwVh28F5amtHkd5IOjSc4W4aNtTvfx/+HT50tw8b5vqNo0+ETZ8uw47+1o+lUvL+zZdhYHfsNnf1edbYMG6vCZ9K5/Ahny7Cx6tzUu1KOnjWt0Wg0Go0TsehZ0xqNRqPROA/dItZoNBqNxonof9bSaDQajcaJpN0ns6a1I9ZoNBrNA4luEWs0Go1G40R0i1ij0Wg0GieiW8QajUaj0TgR/ReXGo1Go9E4kfvlLy7vj8cFjUaj0WhySZoy5Xq7FSLSSUROiMhpEXk7m/iyIvKfiOwTkYMi0uVWeeoWsUaj0WgeSPL6n7VExAzMANoDwcAuEflTKXU0g9l7wBKl1CwRqQ78DfjfLN97skUsIv4i0t3ZOm6EiLzjbA0ajUajuTlpmHK93YLGwGml1Fml1DXgF6BrJhsFeFi/FwFCb5Xpvdoi9ge6Az87WceNeAeYmFeZPeJTkTG1OmEWE8sC9/LtqS1ZbDqVrMGQqq1RKI4nRDBqz6+2uEIu+VjRdgj/hh3n44N/O6ynUaOHGDK0HSaTib//3s8viwLs4rt1a0SXLnVJS7MQn3CJzz5bSWREIhUq+PDGG50oWMgNS5pi4cJtbNhwzGE9706GDduheDFYMS9rvFIwcTps2gH588HEMVDDuobEH6th1gLj++Be8GQnh+XQsEkFBr/ZEZPJxOrl+1i8YKtdfK16ZRk0vCMPVfRl4nu/snl9eh30G9aOxs0rYhJh786zzJyyxnFBQKtS5Xn/4baYRVh88iCzDu2wi+9WsSZjGrUm4mISAPOP7WPxqYM09SvL2MZtbHYVingybOOfrA067ZCeRg3LM3RwW8wmEytXH2DRYns9zz7TiC6dapOWZiEh4RKfTllFRGQivj4eTPjgKUwmwcVs5rfle1ixcr9DWgAatK3B4IkvYDKbWP3jZpZMW20X7+rmwluzXqZSnXIkxiUz6eW5RFyIwexi5o1pvahYpyxmFzP//rKdxV+uclgPQIM21Rn04bOYzMLqhdtY+vXaLJre/Ko3lWqXITHuIpMGfkfkhVhcXM0M+6w7leqURVkUs8cu5dC2U47raVmVQR88aZzXiwNYOnu9XXzNxg8xcOyTlK9agsmv/ciWVQcBeKhaSYZ+1I2C7vmxWCz88vU/bMqDY5YX3E6LWEQGAAMyBM1VSs21fi8FXMgQFww8nCmLccBaERkGFALa3arMu+aIRWQycEEpNcO6Pw64CPgAnTGeIj5SSi0GJgPVRGQ/MB+Ybg1rDeQDZiil5tykrNFAD8ACrFJKvS0idYHZQEHgDPCyUipORDYAbymldouIF7BbKeUvIn2AJ6z2FYDflVKjrL+jgFXbEaXUS47UiwnhvTpd6Lf1RyIuJ7K4dX/+Cz/BmaQom025QsXpX/kRXtr8HYkpVyjuVsguj9eqtWF3dKAjMtL1mITXXu/AqJG/EBWVyMxZfdi+7RSBgTE2m9OnIxg8+AeuXk3l8SfqMWBAGz76cDlXr6YyefIKQkLi8PR0Z9bsvuzadZaLF686pOnJztD9aXj7Bo8+m3ZAYDCsXggHjsKEqbB4NsQnwox5sHQuiEC3/tCmORQpfPtaTCZh6KjOvD30J6IjE/lqfj+2bz5B0Llom01keAKfT1hOtx5N7dJWr1WaGrXLMKi7cepO/aYvteuX4+Bex46dSYQJTdrRY80Swi8l8efjvVgXdJrTCTF2dn+dO84HAf/YhW0PD6LLn/MBKOKWn43d+rMp5LxjekzC60PbM/LtxURFJzH7q95s236awKB0PadORzBo6HyuXk3licfqMrBfayZM/JOY2GSGvvETKSlp5M/vyg9zX2Hb9tPExCY7pGfIp9155+kviA6NY/q/7xKw+gBBJ8JsNh17PEJy/CVebvgurZ5uxMvjnmHSK3Np0bUBrvlcGPzIePIVcGPu9vFs+HUnERdiblJiDjVNep53nptOdFg801aPZsfagwSdDLfZdOjejOT4S7zSdBytujbg5feeYvLA7+jUozkAr7b5mCJe7ny4cCivd/oER5a0NZmEIROe5p2es4kOT2Da8uHs+OcIQacjbDaRIXFMGbmIZ/q3tkt79UoKn7/5M6Hnoynu48FXK0awZ9NxLiZduW09eYXlNjp9rU537i0Nb8yLwDyl1BQRaQr8KCI1lVKWGyW4m13Ti4HnMuw/B0QCdYE6GE8Nn4lICeBtYLNSqq5S6gvgFSBBKdUIaAT0F5Hy2RUiIp0xugoeVkrVAa6vH7cAGK2Uqg0cAj7Igea6wPNALeB5ESmjlHobuGzV5pATBqhVrBRBybEEX4ojRaWxKvgwj/pVsbPp5t+An8/tIjHFOLFjr120xVUvUgLPfO5sizrjqBQAqlYtSUhIHGFh8aSmWvhv/TGaNbNfonD//iCuXk0F4NjRULy9jV6Y4OBYQkLiAIiJSSY+/iJFixZ0WFOjOlD0Js5z/Rbo2tFwtnVrQGIyRMbA1p3QrCEU9TCcb7OGsGXHjfPJCVVqlCI0OI7wUKN+Nq49QrOW9scrIiyBc6cjURb7G6MC3NzMuLiacXU14+JiIi72Io5S16sEgUnxXEhOIMViYcXZY3QoWzHX+XTxr8KG4HNcSUt1SE/VKiUIDY0nLDyB1FQL6zceo3mzSnY2+w+kn0NHj4Xi7W0c4NRUCykpaQC4uZoRk+NjfFUalCfsXBThgdGkpqSx8bddNO1c186maZe6/PPLNgA2L99D3ZZVjQgF+Qvmw2Q24ZbflZRraVxMuuywpsr1/Ak9F0V4UIyh6Y89NOlYx15Tx9r8s8Tojdr81z7qPmKcZ2Url+DAlhMAJEQnczHxEpXqlnVMT52yhAZGE34h1tCzYh9N2te0s4kMieP88bAs53XIuShCzxsPorGRicTHJFPE090hPXlFmpJcb7cgBCiTYb+0NSwjrwBLAJRS24H8gNfNMr1rjlgptQ/wEZGSIlIHiMNwdIuUUmlKqQhgI4ajzUwHoJe1FboD8AQqZWMHhkP/QSl1yVpurIgUAYoqpTZabeYDLXMg+1+lVIJS6gpwFCiXgzS5wreAB+GXE2374VcS8SngYWfj7+6Jv7snP7V4mUUt+/GIj3GTFYRRtTry2WH7Li1H8PJyJyoyXU9UdBJe3jf2gp271GHnzqwPAVWqlsDFxUxoaFyeabsREdHg55O+7+cNkVFZw329jTBH8PIuTFREgm0/KjIRz5vUT0aOHQpm/55Afvl7BL+sGsHugDNcOO+gIMC3oDuh1i5ngLBLSfgWyqqpc7nKrOrah5ltulIim/jHH6rKn2cdH0rw8ipMZFSGcygqCa+b3Ji7dKrNjl1nbfve3oX5dnZfFi98lV8WBzjUGgbwLFGUqJBY2350aByeJYpmY2Ocq5Y0CxcTL+NR3J3Nf+7hyqWr/Hzsc348+Am/zlhDcvwlh/QAeJUoSlSGayM6LA7PEkWyaIoOTdd0KekyHsULce5IME061sZkNuFb1pOKtcviXbKYY3r8ihAVFp+uJzweT78iN05wAyrXKYuLq5mwQMd6DPIKi5Jcb7dgF1BJRMqLiBvwAvBnJpsgoC2AiFTDcMRR3IS7PUa8FOgG+GG0kLNt1WaDAMOUUnkzoGZPKukPJPkzxWXsU00jh/WVcYxhzpw5Rue7A5jFRLlCxemzZR6+BTxY8EhfnvxvFo+Xrs2m8FNEXEm8dSZ3gHbtalC5sh8jhi+0Cy9evBBjxjzOJ5P/woHesgeOkqWLUdbfi+6PfQHA5K97UrPuGQ7vD7rjZf9z4TR/nj3GNUsa3avUYUqLLnRfvdgW712gEFWKebMp5Nwd15KRdm2rU6VyCd54K306SFRUEv0G/YBncXc+HPcUGzefIC4PnN/tUKWBP5Y0xUvVR+JetCBTVo5i34ZjhAc6/gB1u6xZtJ0ylfyYvmY0kcGxHNt9Fkua8y+0Yt6FGTm1O1PeXORQN3lektf/rKWUShWRocAawAx8r5Q6IiITMIY1/wTeBL4RkeEYHWF91C0q5G474sXANxjN9FZAU2CgiMwHimO0UkdiDIhnfGRfAwwWkfVKqRQRqQyEKKWy69dbB7wvIguVUpdEpLi1VRwnIi2UUpuBnhitb4DzQANgJ8ZDQk5IERFXpVRKdpGZxhjUl3+Mu2FGEZcT8cvQAvbL70Hk5cQsNgfjgklVFkIuxRN4MYZyhYpTt3hpGniW48WHGlHQ7Iarycyl1Gt8cfSfzMXkmOjoZLx90vV4exUmOiopi139+v50f6kZI4YvtHUlAhQs6MbESc/x/XcbOXbslpMF8wRfLwiPTN8PjwIfbyN85/708IgoaFzXsbKio5Lw9k1vKXj7eBCTTf1kR/PWVTl+OJgrl43TZte201SrVdphRxxxKZmSGVq4JQoWtk3Kuk781fTxul9OHuTthq3t4h8rX5U1gadIvfEwVo6Jjk7CxzvDOeRdmOiYrK3a+vXK0ePFZrzx1s9259B1YmKTOX8+mlq1yrBp84nb1hMTFo93qeK2fa+SxYjJ0PpLtylGdGgcJrOJQh4FSIxNps0zT7Dn38OkpaaREJ3EkZ2nqVTP32FHHB0Wb9eK9SpRjJiwBDubmLB4vEoWIzosHpPZRMHCBUi0DmXM/SB9suaUFW8RcjYCR4gOT8A7Qy+Bl19RYsITbpwgEwXd8zHh+/7M//xvju/Pm/kqecGd+K9ppdTfGK8kZQx7P8P3o0Dz3OR5V19fUkodwXCwIUqpMOB34CBwAFgPjFJKhVvD0kTkgPWp4luMruG9InIYmMMNHiKUUqsxugp2W7uy37JG9cYYgz6I0SU+wRr+OYaT38ct+vEzMBc4KCILb2l5Cw7Hh1LO3ZNSBYviKmY6l67Jf+H2N51/w47TyMsfgKJuBSlXyJMLF+MYtec32q79gvZrv+SzI2tZfuGAQ04Y4PjxUEqVKoafXxFcXEy0ebQa27bbz8isWNGX4SM6Mfa9ZcRnaKm4uJgYP+EZ1q49zKZNt3/jzC1tmsPyNcbs6f1HoHAh8PGE5o1h6y5ISDK2rbuMMEc4cTSEUmWK41eyKC4uJlp1qMH2zSdzlDYyPIFa9cthMgtms4na9ctx4ZzjLasD0WH4exSjtHsRXE0mHn+oGusu2M969i6QPsGvfZmKnIm37zp8onw1VuRBtzTA8RNhdufQo62qsW27vZ6KFXwY8XpH3n3/V7tzyMurMG5uxqXt7p6PmjVLc8HBiVEn9p6n5EM++Jb1wsXVTKunGxGw+oCdTcCq/bR7oRkALbo24IDV8UcGx1LHOl6cr6AbVRs+RPDJMBzl5P5AqyZPQ9OTDQhYe9Be09qDtHuuiaHpsXoc2GpoylfAlXwF3QCo17IqaalpdpO8bkvPwQuU9PfGt3RxQ8/j9Qj453CO0rq4mhk7uy///rbbNpP6XuEOdE3fEe7660tKqVoZviuMFvDITDYpwKOZkr5j3XJSxmSMWdYZw/YDTbKxPQ7UzhD0njV8HjAvg91jGb6PBkbnRMutSFMWPj74N98064lJhN8D93E6KYqhVdtwJD6U/8JPsCXyNM18KrDi0SGkKQufH1lHQorjE0ayw2JRfPXVOj755AVMZmHVqoMEno+mT58WnDgZxvZtpxkwsA0F8rvx/gdPARAZmcjY95bRunU1atcug4dHATp2NA7zp5/8xZkzkTcr8pa8Od5o2cYnQOtuMLQvpFrnE73QFVo1gU0B0LG79fUl63/dFPUwXll6bqCx/2pvI8wRLGmKrz9bxcTpL2EyCWtW7CfwbBS9BrTm5LFQAjafpHK1knzw6XMU9shPkxaV6TmgFQNemM3m9ceo27A8c38ehFKwO+AMAVty5sRvRppSvB/wDws6PItZhCWnDnEqPobh9R7hUHQ4/1w4Td/qDWhXpiJpykL81Su8tSX9gb60uwclChUmIDxvusgtFsX0r9fx6cTnMJmEVWsOcT4wmr69HuHEyXC2BZxmUP82FCjgxrixxiuYEZGJvPfBb5Qr68ngAW2MDj2BJct2cs7BcXRLmoWZo37m42VvYDILaxduJfB4KD3HPMGpfYEErD7A6p+2MGr2K3y/+2OS4i4yqZ/RobXiu/948+s+zNk2HgTW/byVc0czz825PU2z3lnMR4uGYjabWLtoO0Enwug56jFO7g9kx9pDrPl5GyO/7sN328eRFH+JyQO/A6CIV2E+XjQMi0UREx7P58Pm542eD37jowUDMJtMrF26k6BTEfQc3omThy6w458jVK5dhrGz++JepAAPt61Bjzc6Majjp7T4X11qNq5A4WKFaNfNmOIz9a1FnL1LPWI3435Z9EHulb78BxhV/SZd03ebo0+Oo+2jk5wtw45/14/BEl751oZ3CZPfSTo0nnBrw7vE2p3v4//Dp7c2vEuc7zuKNh0+cbYMO/5bO5pOxfs7W4aN1bHf0NnvVWfLsLEqfCady49wtgwbq85NvStNz367++TawX3bcN5dbxbfq3/ocUtEpBbwY6bgq0qpzC9XazQajeb/ITl4Heme4L51xEqpQxhjvRqNRqPRZOF+6Zq+bx2xRqPRaDQ3w1mTr3KLdsQajUajeSC5X9Yj1o5Yo9FoNA8kukWs0Wg0Go0T0WPEGo1Go9E4Ed0i1mg0Go3GiegxYo1Go9FonMj90iK+PzrQNRqNRqN5QNEtYo1Go9E8kNwvLWLtiDUajUbzQKIdsUaj0Wg0TuR+ccR69aU7j65gjUajseeueMjOm17P9f13VctpevWlB5FOdd93tgQbq/dPoN6rXzhbhh37Zg6/55Yd1Msy3pi1O9+nc5nXnS3DjlUXptGx0Xhny7CxZtcHtG/2kbNl2Fi37T2aPT/F2TJsbFv85l0p535pEWtHrNFoNJoHEu2INRqNRqNxItoRazQajUbjRLQj1mg0Go3GiSjtiDUajUajcR76v6Y1Go1Go3Eiumtao9FoNBonorumNRqNRqNxIrpFrNFoNBqNE9EtYo1Go9FonIhuEWs0Go1G40Tul6UUtCPWaDQazQOJfn3pHkNE/IFmSqmfrfsNgV5KqdecKgxo0Kwig0d1wWQSVv++lyU/bLaLr1m/HINGdqZ8JV8mvb2ULf8ctcV5+xXhjQ+64u1bBKUU7w/7iYjQeIf0NKtejpHPtsYkJv7Ydpgf1u6yi+/WojbPtayDxWLh0tUUPvr5H86GxwJQqZQX773YlkL582FRih6f/My11DSH9DRsUoHBb3bEZDKxevk+Fi/Yahdfq15ZBg3vyEMVfZn43q9sXn/MFtdvWDsaN6+ISYS9O88yc8oah7QAvDsZNmyH4sVgxbys8UrBxOmwaQfkzwcTx0AN6xoSf6yGWQuM74N7wZOdHJYD3Ht11KB1VQaNexqT2cTqRQEsnfmPXXzNhysw8IOnKF+tJJOHzGfL3wdscR/+OIiq9cpxZNc5xvWd67AWgIZNKzDozU6YTSZWLd/Lkvn29VOzXlkGjehk1M+7y9iSoX5eGdaOhx+phIiwd8dZZk1ZnTeaHn6IV9/oiMksrFqxn8U/brOLf+aFh+n8eF3S0iwkxF/i84l/ERmeAED7zrV5qc8jACyct4V1qw46rOfhOv680acNZpOwYv1hfly+0y7+hf814PFHa5GWZiE+8RITZ68hPDoJgFe7t6BZ/YcA+OHXAP7dfsJhPXmBHiO+g4iIYCzhaMlFMn+gO/AzgFJqN7A779XlDpNJGDLmMd4ZNJ/oiESmLxxIwMbjBJ2NstlEhScw5f3feaZX8yzpR370NIu+3cS+gDPkL+CGo8tamkR4+/lHGTz9NyLik1g4ujsbD56xOVqAVbuOs2yzceG3qvUQI55pxdAZv2M2CR/16cTYeas5GRJNkUL5SU3LzSHKRo9JGDqqM28P/YnoyES+mt+P7ZtPEHQu2mYTGZ7A5xOW061HU7u01WuVpkbtMgzqPgeAqd/0pXb9chzcG+iQpic7Q/en4e2J2cdv2gGBwbB6IRw4ChOmwuLZEJ8IM+bB0rkgAt36Q5vmUKSwQ3LuuToymYQhHz3LO91nEh0Wz7S/3mTHukMEnYpI1xMSx5QRP/PMwDZZ0v86ez35CrjS+aWs5/tt6xnVhTFDfyQ6IpGv5vcnYJN9/USFJzBl/B9069HMLm312qWpUacMg16cDcCUPDqHTCZh2FudGf36QqIjE/n6u1fYvvkkQefTNZ0+Gc6Ql7/j6tVUHnuqPv1ffZSP3/+dwoXz0/PlFgx5+TsUMPP7V9i+5STJSVduX48Ib73cltc/XkZkTBLfTXqJzbtPcz4k/bo/eT6Sl8f8xNVrqTzVvg6vvtSK96f9RbN65alc3pfeoxbg6mpmxgfPs33/OS5dvuZIFeUJ98sYscnZAnKKiPiLyAkRWQAcBtIyxHUTkXnW7/NEZLqIbBORsyLSzWo2GWghIvtFZLiItBaRv6xpxonIfBHZLCKBIvK0iHwqIodEZLWIuFrtGojIRhHZIyJrRKSEo7+rSs3ShF2IJTwkjtTUNDauOUTT1lXtbCJC4zl3KiKLky37kDdms4l9AWcAuHL5GlevpDikp6a/Hxei4gmJSSA1zcKaPSdoXaeCnc3FK+kXWIF8rlxfcrlptXKcConmZIhxM0m4eAWLgw8GVWqUIjQ4jvDQeFJTLWxce4RmLavY2USEJXDudCTKYl+WAtzczLi4mnF1NePiYiIu9qJDegAa1YGiN3Ge67dA146Gs61bAxKTITIGtu6EZg2hqIfhfJs1hC07HJZzz9VR5brlCD0fRXhQDKkpaWz8cy9NOtSys4kMjuX88dBsHxz3bz3JpeSrDmnISJUapQi9EEt4iFE/G9YdoWmrTNeYtX4yn69KgZubS4b6MefJOVSleklCg2Ntx2zDP0do1sJ+6c0DewO5ejUVgGNHQvD28QCM3o89u86RlHSF5KQr7Nl1jkZNKmQpIzdUr+hHcEQ8oZHGdf/PthO0aFTRzmbvkQtcvWboOXIqDB9PdwD8S3uy/1gwaRbFlaupnA6Mokkdf4f05BVK5X5zBvdbi7gS0FspFSAiyTexKwE8AlQF/gSWAW8DbymlHgMQkdaZ0lQA2gDVge3AM0qpUSLyO/A/EVkJfAV0VUpFicjzwMfAy478IE+fwkRZu5sAoiMSqVKrdI7SlirnSXLSFcZOeQHfUsXYv+MM309bh8Vy+2eTT1F3IuKSbPsRccnU9PfLYvdcyzr0aFsfVxczA79cBkBZn2IoBTOGPkUx9wKs2XOS+esc63Tw8i5MVER6/URFJlK1RqkcpT12KJj9ewL55e8RiMDypbu4kKHFcaeIiAY/n/R9P2+IjMoa7utthDnKvVZHXn5FiMowPBIdFk+VeuUcytMRPL0LExWRmK4nIpGqNXNePwf2nGfRqjcRgT+X5M055JVZU1QSVauXvKF958fqstP6wO3pVZioyAxpIxPx9HKsW8W7uDsRMenXfVRMEtUr3rid8VibmgTsPwfA6cAoXu7WlEV/7SZ/Plfq1yjD+ZAYh/TkFfdL1/R90yK2EqiUCsiB3R9KKYtS6ijgm8O8VymlUoBDgBm4PhB0CKNbuwpQE1gnIvuB94BsPaaIDBCR3SKye+7cvBnjyg6z2UTNeuX4ZuoaXntpDn6litH+iXp3rLyMLNl0gCc++IFpv2+mX+eHbXrqVSjJuz+s4uUpS3i0TgUaVylzV/RkR8nSxSjr70X3x77gxf99Qd2G5alZt6zT9NyL6Dq6OSVLF6OMvxcv/W8q3btMpU5D/7teP2071qRy1RIsXbj9rpZ7Izo+Uo2qFXxZ+KfxkL3zYCDb951jzocvMv61/3H4VBhpDjQG8hKlJNebM7jfHHHGPqGMRzp/JruM/Vo5rdmrANZx5xSV3mdmweg5EOCIUqqudaullOqQXUZKqblKqYZKqYYDBgy4aaExkUl4+xWx7Xv5ehCT4Wn3ZkRHJHLmRDjhIXFY0ixs/+84Fas51lseGZ+Mb7H0p2vfYu5EJdy48yFj13VkXBJ7T4cQf/EKV1JS2XLkPFXL+NwwbU6IjkrC2ze9frx9PIiJSrpJinSat67K8cPBXLmcwpXLKezadppqOextcARfLwiPTN8PjwIf76zhEVFGmKPca3UUHZ6Ad8mitn2vEkWJydDrc7eJiUrC29cjXY+vB9E5rJ9mratx/HCIrX52b8+bcyg6sybvwtlqqtewPN17P8L7o5eQkmKMxsVEJ9m6qQG8fDyIic7Z77kRUbHJ+HqmX/fenoWJist63TesVZbeTz/M6E//ICXDJMz5v++gz+gfeePjZQhwITTOIT15hUVJrjdncL854oxEiEg1ETEBT+XAPglwpP/mBOAtIk0BRMRVRGo4kJ+R6ZEQSpYtjm/Jori4mGnVsRYBG4/nKO3JIyG4F85PkWIFAajTuLzdJK/b4UhgOGV9ilHS0wMXs4mODaqw4eBZO5uy3kVt31vUfIgLkfEAbDsaSMWSnuR3dcFsEhpUKm03yet2OHE0hFJliuNXsiguLiZadajB9s0nc5Q2MjyBWvXLYTILZrOJ2vXLceHcne+abtMclq8xxpv2H4HChcDHE5o3hq27ICHJ2LbuMsIc5V6ro5MHgijp741vmeK4uJpp9UR9AtYddihPRzhxNIRSZT2t15iJ1u1rELApZ7N6oyISqJ2hfmrVL2c3oeq2NR0LpVTp4viVsGpqV4PtW+yPWYXKvrwxugvvj1pMfNwlW/jugDM0aPwQ7oXz4144Pw0aP8Rua7f17XLsTDil/YpSwtu47ts1q8KW3fZ5Vvb3YXS/9oz69A/iEi/bwk0ieLgbbaEKZb2oWM6bnQfPO6Qnr9BjxHeet4G/gCiM2c/ut7A/CKSJyAFgHrAvN4Uppa5ZJ35NF5EiGHX3JXAkd7LtsaRZmDl5JR/P6oXJZGLt8r0Enomi5+BHOXU0hICNJ6hcoyRjp75IYY8CPNyyCj0HP8rAZ77GYlF888UaJs/pAyKcPhbKql/3OCKHNIvik8XrmTn0aUwmYfn2I5wNi2HwY005GhjBxkNneb51XR6uUpbUtDQSL19l7ALjdZeky1f5af1efhrdHYViy5HzbDl8ziE9ljTF15+tYuL0lzCZhDUr9hN4NopeA1pz8lgoAZtPUrlaST749DkKe+SnSYvK9BzQigEvzGbz+mPUbVieuT8PQinjBhawJWcO6ma8OR527of4BGjdDYb2hVRjDgsvdIVWTWBTAHTsbn196W0jrqiH8crScwON/Vd7G2GOcq/VkSXNwqyxv/LRT4Mxm02sXRxA0Mlwer7ZmZMHL7Bj3WEq1ynL2G9ewb1IAR5uV5MeIzozqN1kAD779TXKVPAlfyE3ftw5ni9GLmJvDh9Ob1Q/Mz79m4nTe2AyC2v/tNbPQGv9bDpJ5eolef/T5436eaQyvQa2ZsDzs9j871HqNCzPnEWDjfrZfpodOXzIuZWmr6euZtIXL2Iym1jz134Cz0XTu18rTh4PZfuWUwwY0o4CBVwZ+9EzAERGJPL+6CUkJV1h4Q+b+fo7Y3rKwh82k+TAjGkwrvup36/ni3eewWwy8deGw5wLjqHfs804fjaCLXvOMKRHSwrkd+Wj4Y8DEBGdxOjP/sDFxcSs8S8AcPHyVcZ/9fc91TV9PyCOvu6iuSWqU933na3Bxur9E6j36hfOlmHHvpnD6dB4grNl2Fi7830s4ZVvbXiXMPmdvOfqp3OZ150tw45VF6bRsdF4Z8uwsWbXB7Rv9pGzZdhYt+09mj0/xdkybGxb/OZd8ZBVf5uQawd3/On377r3vp9bxBqNRqPR3JD7pZmpHbFGo9FoHkjul65p7Yg1Go1G82BynzSJtSPWaDQazQOJbhFrNBqNRuNE7pe5yNoRazQajeaB5H5pEd/Pf+ih0Wg0Gs2NUZL77RaISCfrAkSnReTtG9g8JyJHReSIiPx8qzx1i1ij0Wg0DyR53TUtImZgBtAeCAZ2icif1nUNrttUAsYAzZVScSJyy//51S1ijUaj0TyYqNvYbk5j4LRS6qxS6hrwC9A1k01/YIZSKg5AKRXJLdCOWKPRaDQPJLez+lLG1fOsW8aVe0oBFzLsB1vDMlIZqCwiW0UkQEQ63Uqn7prWaDQazYPJbXRNK6XmAo6sX+sCVAJaYyyVu0lEaiml4m+WQKPRaDSaB447MGs6BMi4yHppa1hGgoEd1vXtz4nISQzHvOtGmequaY1Go9E8mOT9GPEuoJKIlBcRN+AF4M9MNn9gtIYRES+Mruqz3ATtiDUajUbzgCK3sd0YpVQqMBRYAxwDliiljojIBBF5wmq2BogRkaPAf8BIpVTMTVXqZRDvOLqCNRqNxp678k8b/vM/yfX993zv0XoZxAeROn+NdbYEGwce+5DOFUc6W4Ydq05/hv8Pnzpbho3zfUfdc+v/3mvrI7fqcu8cL4CNf4+iY6FezpZhY83FBXQq1s/ZMmysjvuWzr6DnS3DxqqIWXenoPukGaQdsUaj0WgeTO6Tv7jUjlij0Wg0DyT3y8irdsQajUajeTDRjlij0Wg0Gieiu6Y1Go1Go3EeolvEGo1Go9E4Ee2INRqNRqNxIvdJ17T+Zy2NRqPRaJyIbhFrNBqN5sFEd01rNBqNRuNEtCPWaDQajcaJaEd8ZxERf+AvpVTN20x/HmiolIq+jbRPAieVUkdvp+zMNPOuyOga/8Mkwu9Be/j+zOYsNh1K1GRQ5TYAnEgMZ8y+pQD45S/CuDpP4pu/CArF0J0/Eno53iE9DVpWYdB7T2Aym1i9ZCdL5/xnF1+zUXkGvvcE5auUYPIbC9my+hAAPiWLMnZWb0RMuLia+HPBVv5eFOCQFoBWpcrz/sNtMYuw+ORBZh3aYRffrWJNxjRqTcTFJADmH9vH4lMHaepXlrGN29jsKhTxZNjGP1kbdNohPQ2bVGDwmx0xmUysXr6PxQu22sXXqleWQcM78lBFXya+9yub1x+zxfUb1o7GzStiEmHvzrPMnLLGIS0A706GDduheDFYMS9rvFIwcTps2gH588HEMVDD+tfVf6yGWQuM74N7wZOdHJYDQOMG5Rk2sC0mk7ByzUF+Xmp/zJ57qiH/61ibtDQL8QmX+eTLVUREJgKwfsVbnD0fBUBkVBLvTPjNYT0N29di0Kc9MJtNrJq/kSVT/rKLd3VzYeQ3A6lUz5/E2GQm9ppBRJBxayhfswyvTe9LocL5sSjFsBbjSLma4rCmBm1rMHjSi8Z19uNmlny5Koumt2a9QqW65UiMTWbSy3OIuBBDm2cfptuwjja78jVKM7TVh5w9fMExPW2qM+ij5zCZhdULt7L0q7VZ9Lz5dW8q1S5LYtxFJg34lsgLsbi4mhn2WXcq1S2Hsihmv7eEQ9tOOaQlz7hPJmvdt47YyTwJ/AU47IhNCO/UfJyBO+YRcTmRn1sMYkPEcc4mR9lsyhYqzisVW9J72zckpVyhuFshW9xH9Z7h21MbCYg+QwGzG46upmUyCUPGPcU7vecSHZ7AtN9eY8e/Rwg6HWmziQyNZ8qoJTzTr5Vd2tioJEY8+zUp19LIX9CN2X+/ScC/R4m13mBvS48IE5q0o8eaJYRfSuLPx3uxLug0pxPsVxX769xxPgj4xy5se3gQXf6cD0ARt/xs7NafTSHnb1sLGPUzdFRn3h76E9GRiXw1vx/bN58g6Fz681xkeAKfT1hOtx5N7dJWr1WaGrXLMKj7HACmftOX2vXLcXBvoEOanuwM3Z+GtydmH79pBwQGw+qFcOAoTJgKi2dDfCLMmAdL54IIdOsPbZpDkcIOycFkEt54tR1vvruEqOgk5nzZi60Bpwm8kH7MTp2JZMDrC7h6NZWuXeoy6OXWjJ9sLOt69Voq/YbNd0xEJj1DpvZizOOfEh0Sy1ebxxOwci9Bx0NtNh17tyI5/iJ9a4+kVbeHeeXD55nYewYms4lR3w3ks35zOHvoAoWLu5OWkpo3mj57iXeemkp0aBzT179HwKr9BJ0IS9fU8xGSEy7ycoN3aPV0I14e141Jr8zhv6U7+M/6YONfvRTv/zTEYSdsMglDJr/AO89NJzo0jmlr3mbHmoMEnQy32XTo3ozk+Eu80uQDWj3ZkJfHPsXkAd/RqccjALza+iOKeBXmw5+H8nrHyQ7fi/KC++U94vt91rSLiCwUkWMiskxECorIeetizIhIQxHZYP3uKSJrReSIiHxLhmW4RGSsiJwQkS0iskhE3rKGVxCR1SKyR0Q2i0hVEWkGPAF8JiL7RaSCIz+gZtHSXLgYQ8ilOFJVGqtDDtHat5qdzdNlG/LL+R0kpVwBIPbaRQAecvfGRUwERJ8B4HLaNa5YHHtSr1ynLKGB0YRfiCU1JY2NK/fTpF0NO5vIkDjOnwhDWezP8tSUNFKupQHG07OYHH8aretVgsCkeC4kJ5BisbDi7DE6lK2Y63y6+FdhQ/A5rqQ5dhOtUqMUocFxhIfGk5pqYePaIzRrWcXOJiIsgXOnI7PUjwLc3My4uJpxdTXj4mIiLvaiQ3oAGtWBojdxnuu3QNeOhrOtWwMSkyEyBrbuhGYNoaiH4XybNYQtO26cT06pVrkEIaHxhIUnkJpqYf2mYzzS1P6Y7TsYxNWrxrE4ejwUby93xwu+AVUaViD0bCTh56NITUljw7IAmj5W386m6WP1WbdwCwCbf99F3dbVAWjQribnDl/g7CHD0SXFJmOxOH53r9KgPGFnIwkPjDaus9920rRLXXtNnevyz6Jthqble6jbqmqWfFo/05iNv+1yWE/l+v6EnotK1/PHbpp0qmOvp1Md/lli9HBtXrGXuo8YespWLsGBLScASIhO4mLiJSrVLeuwpjxB3cbmBO53R1wFmKmUqgYkAq/exPYDYItSqgbwO1AWQEQaAc8AdYDOQMMMaeYCw5RSDYC3rGVtA/7EWOy5rlLqjCM/wKeAB+FXEmz7kVcS8C1gf1ctV8iLcu6ezGvWjx+bD6CZd0VbeFLKFaY2eJHFLV5leLWOmBxc5tPL14OosHjbfnR4Ap6+RXKevkQRZv41ggWb32Xp3A0OtYYBfAu6E2rtcgYIu5SEb6GsXqdzucqs6tqHmW26UiKb+McfqsqfZ49lCc8tXt6FiYpIP15RkYl4euesCXnsUDD79wTyy98j+GXVCHYHnOHC+VyPjOSaiGjw80nf9/OGyKis4b7eRpijeHm6ExmdfsyiopPw8rxxHXXpWJsdu8/Z9t3cXJgzrRczp/bI4sBvB8+SxYgKTm+NR4fE4lWimL3mDDaWNAsXEy/h4elO6YolUAo+Xj6Sr7dO4NnhXRzWA+BZohhRIXHpmkLj8MykybNkuo2h6TIexe0fWFo+1YgNvzr+9OTlV5So0Ex6/Ipm0lyU6Ax6LiVdxqN4Ic4dDaZJx9qYzCZ8y3pSsXZZvEsWd1jT/yfu967pC0qp6wN0PwGv3cS2JfA0gFJqpYhcP+uaA8uVUleAKyKyAkBE3IFmwFIRm3PLl8f6c4SLmChXyJN+27/HN78H3zfrR7eNX2M2mahXvBzPb55J+OUEPq3/HF3L1OP3C3udIROA6LAEXn1sKsV9PHh/Vm+2rDpIfEzyHS3znwun+fPsMa5Z0uhepQ5TWnSh++rFtnjvAoWoUsybTSHnbpLLnadk6WKU9fei+2NfADD5657UrHuGw/uDnKrLmbRvU50qlfx4fdQiW9jzfWYTHZNMCb8ifDHpBc6eiyY0PN4p+swuJmo2rcywlh9w9dI1Jq98m1P7zrN/Q55MD3GIKg3Kc/XyNQKPhd7a+A6y5udtlKnkx/S1bxMZHMuxXWexWCxO1XQd3TV9d8hczQpIJf135XcgbxMQb231Xt+q3TIVICIDRGS3iOyeO3fuTW0jLyfilz+9xemTvwgRl5PsbCKuJLAh/DipykLI5XgCL0ZTtpAnEZcTOJEYRsilONKUhf/Cj1G1SMnc/9IMREck4l2iqG3fy68IMRlagDklNjKRwJPh1GxU3iE9EZeSKZmhhVuiYGHbpKzrxF+9wjWL0SX+y8mD1PT0s4t/rHxV1gSeIlU5fnOIjkrCO0MPgbePBzFRSTdJkU7z1lU5fjiYK5dTuHI5hV3bTlOtVmmHNd0KXy8ITx/iJzwKfLyzhkdEGWGOEh2TjI9X+jHz9ipMdEzWOmpQtxw9n2/KO+N/IyU1zS49QFh4AvsPBlGpgk+WtLkhJjQO79Ketn2vUsWJDouzs4nOYGMymyjkUZDEmGSiQmI5tPUEiTHJXL18jV1rDlCxrr9DegBiwuLwLpXeAvYqWYyYTJpiQtNtDE0FSIxNf6ht9XRjNvy602EtANHh8XiXzKQn08NPTFg8Xhn0FCxcgMTYi1jSLMx9fxlD205kQu/ZFCpSgJAzEXmiy2GU5H5zAve7Iy4rItdnxHQHtgDngQbWsGcy2G6y2iAinYHrZ91W4HERyW9tBT8GoJRKBM6JyLPWNCIi1wdNkoAb9rUppeYqpRoqpRoOGDDgpj/gSEIIZQt5UqpAUVzETKdStdgYcdzOZn34MRp6Gg6tqGtByhXyIvhSLEfiQyjsWoBibgUBaOz1EGeTIrOUkRtOHrxAyXJe+JYuhourmVb/q0vAvzl7+vfyK4JbPqOTxd2jANUblif4bNQtUt2cA9Fh+HsUo7R7EVxNJh5/qBrrLtjPevYukD55rX2ZipyJt5/I9UT5aqzIg25pgBNHQyhVpjh+JYvi4mKiVYcabN98MkdpI8MTqFW/HCazYDabqF2/HBfO3fmu6TbNYfkaY/b0/iNQuBD4eELzxrB1FyQkGdvWXUaYoxw/GUbpksXw8y2Ci4uJR1tWY2uA/TGr9JAPbw7rwJgJvxGfcMkW7u6eD1cXMwBFPApQq3ppzgfZH8/ccmLPWUpV8MW3nBcurmZad2tCwMp9djYBK/fS/iVj0lGLpxpxYKNxzu/55xD+NUqTr4AbJrOJ2i2qEnQsxCE9ACf2nqdkBV98yxqaWj3dmIBVB+w1rT5AuxebGZq6NuDApvT7gojQ8smGbMwjR3xyXyAlH/LBt6ynoefJhgSsOWivZ81B2j3XxNDzeH3buHC+Aq7kK+gGQL2WVUlLtdhN8nIq98kY8f3eNX0CGCIi32PMYJ4F7AS+E5EPgQ0ZbMcDi0TkCLANCAJQSu0SkT+Bg0AEcAi43gR8CZglIu8BrsAvwAHr5zci8hrQzZFx4jRlYdKRv5j1cG9MYuKPC3s5kxzJq5Uf5UhCKBsjjrMt6jTNvCvyW6thWJTii2NrSEi5DMDUo6uZ26QvgnA0IYRfg/bcrhTAGPuZNf4PPvqhP2azibVLdxJ0KoKer3fg5OFgdvx7lMq1SjN2Vm/cPQry8KPV6PF6BwZ1nkKZCj70H/M4SilEhN++3ch5By/INKV4P+AfFnR4FrMIS04d4lR8DMPrPcKh6HD+uXCavtUb0K5MRdKUhfirV3hry9+29KXdPShRqDAB4XnT/WtJU3z92SomTn8Jk0lYs2I/gWej6DWgNSePhRKw+SSVq5Xkg0+fo7BHfpq0qEzPAa0Y8MJsNq8/Rt2G5Zn78yCUgt0BZwjYkjMnfjPeHA8790N8ArTuBkP7Qqp1TtoLXaFVE9gUAB27W19fetuIK+phvLL03EBj/9XeRpijpFkUX876h88/ehaTSfh77SHOB8Xwco9HOH4qnG07TjPoldYUyO/G+DFPAOmvKZUr48lbwzpisShMJmHh0gC72da3gyXNwow3FzBx+ShMZmHtgk0EHguh13tPc3LvOQL+3sfq+ZsY9e1Afjj4GUlxyUzsPROA5PhL/PbVar7aNA4F7FxzgJ1rDtysuBxrmjnqZz7+9Q1MZhNrF24l8HgoPcd05dT+8wSsOsDqHzczanY/vt8zkaS4i0x6ZY4tfa1mlYkKiSU8MG8e5CxpFmaN+YWPfhlmXPeLthF0Ioyeox7j5IEgdqw5yJqftzLy6z58FzCepPhLTB74HQBFvArz8S+vYbFYiAlP4POh8/JEU55wn3RNy70wxdzZiIi7UipZRApitJwHKKXyaqBV1flrbB5l5TgHHvuQzhVHOluGHatOf4b/D586W4aN831H0aHxBGfLsLF25/tYwis7W4YNk99JWnW5d44XwMa/R9GxUC9ny7Cx5uICOhXr52wZNlbHfUtn38HOlmFjVcSsu9IHXGHq1Fw7uDMjRtz1/un7vUWcV8wVkeoYY8rz89AJazQajcZZ3CftTO2IAaVUd2dr0Gg0Gk0eox2xRqPRaDTO4355fUk7Yo1Go9E8mOj/mtZoNBqNxonoFrFGo9FoNM5Dd01rNBqNRuNMtCPWaDQajcZ56BaxRqPRaDTORDtijUaj0WiciHbEGo1Go9E4j/ula/p+X31Jo9FoNJr7Gt0i1mg0Gs2DyX3SItaOWKPRaDQPJPdL17ReBvHOoytYo9Fo7Lkr/z1ZddwXub7/Hh83XC+D+CDSts0kZ0uw8e9/Y+hcaZSzZdix6tSntOnwibNl2Phv7Wg6l3nd2TJsrLow7Z5a/3fj36PuqfWRwVgjuWP+l5wtw8aaKwvvufWRO3sPcrYMG6uiZt+dgu6TZpB2xBqNRqN5ILlfuqa1I9ZoNBrNg4l2xBqNRqPROA/dItZoNBqNxploR6zRaDQajRPRjlij0Wg0Guehu6Y1Go1Go3Em2hFrNBqNRuNE7hNHrBd90Gg0Gs0Diajcb7fMU6STiJwQkdMi8vZN7J4RESUiDW+Vp3bEGo1Go3kwUbex3QQRMQMzgM5AdeBFEamejV1h4HVgR05kakes0Wg0mgeSO9AibgycVkqdVUpdA34BumZj9yHwCXAlJzq1I9ZoNBrNg8lttIhFZICI7M6wDciQYyngQob9YGuYDRGpD5RRSq3MqcwHerKWiPgDfymlauYy3TalVDNr+mZKqZ/vhL7rNGr0EEOGtsNkNvH3yv38sijALr7bs43o0qUuaWkW4hMu8dmnK4mMSKRCBR/eGN6JgoXcsKQpFi7cxob/jjmsp0GLygx6rysms7B6yU6Wzt1gF1+zUXkGvvsE5av4MXn4z2xZfQgAn5JFGTuzN2ISXFxM/PnjNv7O9Ftuh0YNyzN0cFvMJhMrVx9g0WL73p5nn2lEl061SUuzkJBwiU+nrCIiMhFfHw8mfPAUJpPgYjbz2/I9rFi532E9DVpXZdC4pzGZTaxeFMDSmf/Yxdd8uAIDP3iK8tVKMnnIfLb8fcAW9+GPg6harxxHdp1jXN+5Dmu5TuMG5Rk2sC0mk7ByzUF+XmpfR8891ZD/daxtPYcu88mXRh0BrF/xFmfPRwEQGZXEOxN+c1jPu5Nhw3YoXgxWzMsarxRMnA6bdkD+fDBxDNSwriPxx2qYtcD4PrgXPNnJYTk0bF+bQVN6YjabWPXDBpZ8vsIu3tXNhZHfDaZSfX8SY5KZ2PMrIgKj8S3nxTf7PyP4ZBgAx3eeZvqw7x0XBDRsX4tBn/YwNM3fyJIpf2XV9M1AKtXzJzE2mYm9ZhARFA1A+ZpleG16XwoVzo9FKYa1GEfK1RSH9DR4tDqDPn7OOK9/2srS6Wuy6HlzRh8q1SlLYuxFJvX/lsgLMZhdTLzxZU8q1CqL2cXEv0sCWDJtzQ1KucvcxmQtpdRc4LYuThExAVOBPrlJ90A74twiIi5KqVSlVDNrkD/QHbhjjthkEl57vQOjRv5CVFQiM2f3Yfu2UwQGxthsTp+KYPCgH7h6NZXHn6jHgIFt+GjCcq5eTWXypBWEhMTh6enOrDl92bXzLBcvXnVIz5BxT/FOn2+IDk9g2q/D2LH+KEGnI202kaHxTBm9mGdeaWWXNjYqiRHPfU3KtTTyF3Rj9soRBPx7lFjrDf929bw+tD0j315MVHQSs7/qzbbtpwkMSq+fU6cjGDR0PlevpvLEY3UZ2K81Eyb+SUxsMkPf+ImUlDTy53flh7mvsG37aWJikx3SM+SjZ3mn+0yiw+KZ9teb7Fh3iKBTETabyJA4poz4mWcGtsmS/tfZ68lXwJXOLzW/bQ3ZaXrj1Xa8+e4SoqKTmPNlL7YGnCbwQoY6OhPJgNcXcPVqKl271GXQy60ZP/lPAK5eS6XfsPl5pgfgyc7Q/Wl4e2L28Zt2QGAwrF4IB47ChKmweDbEJ8KMebB0LohAt/7QpjkUKXz7WkwmYci0Poz53ySig2P5auuHBPy1l6DjITabjn1akxx/kb413qTVs0145aMXmdjzKwDCzkbw6sPv3L6AG2ma2osxj39KdEgsX20eT8DKvQQdD03X1LuVoan2SFp1e5hXPnyeib1nYDKbGPXdQD7rN4ezhy5QuLg7aSmpjuuZ/CLvPDuN6NA4pq0dw47VBwmyPoAAdHipOcnxl3il8fu0erIhL7//FJP7f0uLJxrg6ubCq60+JF8BV+ZsGceG33YTmeH8cxZ3YD3DEKBMhv3S1rDrFAZqAhtEBMAP+FNEnlBK7b5Rpk7tmhYRfxE5LiILReSYiCwTkYIi0lZE9onIIRH5XkTyWe3Pi8in1vCdIlLRGj5PRLplyDfLndZa1mYR2WvdmlnDW1vD/wSOZko/GWghIvtFZLiIbBKRuhny3CIidRypg6pVSxISGkdYWDypqRb+W3+MZs3tl5jbvz+Iq1eNC+3Y0VC8vT0ACA6OJSQkDoCYmGTi4y9StGhBR+RQuXYZQgOjCb8QS2pKGhtXHqBJ2xp2NpEhcZw/EU7mtaxTU9JIuZYGGE/PYnL8MqhapQShofGEhSeQmmph/cZjNG9Wyc5m/4H0+jl6LBRvb+OunZpqISXF0OPmas4TPZXrliP0fBThQTFG/fy5lyYdatnZRAbHcv54aJb6Adi/9SSXkm//QSk7qlUuQUjGOtp0jEeaVrSz2XcwQx0dD8Xbyz1PNWSmUR0oehPnuX4LdO1oONu6NSAxGSJjYOtOaNYQinoYzrdZQ9iSo+kuN6ZKowqEnokg/FwUqSlpbFgaQNPHG9jZNH28Aet+2gTA5t92UrdNjeyyyjOqNKxA6NlIws9bNS0LoOlj9e01PVafdQu3GJp+30Xd1sacoAbtanLu8AXOHjJ6SJNik7FYHHtPp3J9f0LPRxIeGG2c13/soknn2vZ6Otfmn8XbDT0r9lK3RVUAlFLkL5gPk9mEW343UlJSuZR02SE9eUYeT9YCdgGVRKS8iLgBLwB/2opTKkEp5aWU8ldK+QMBwE2dMNwbY8RVgJlKqWpAIjACmAc8r5SqhdFqH5zBPsEa/jXwZS7KiQTaK6XqA88D0zPE1QdeV0plXmT1bWCzUqquUuoL4DusXQ4iUhnIr5Q6gAN4ebkTlaHFGBWVhJfXje9gnbvUYeeOM1nCq1QtgYuLmdDQOEfk4OVXhKiwBNt+dHgCnr4euUo/c8VwFmx6h6VzNzjUGgbw8ipMZFSm+vG8sRPp0qk2O3adte17exfm29l9WbzwVX5ZHOBQaxis9RMab9uPDovH06+IQ3k6ipenO5HRSbb9qOgkvDxvfA516VibHbvP2fbd3FyYM60XM6f2yOLA7xQR0eDnk77v5w2RUVnDfb2NMEfwLFmcqOD01ll0SCxeJYvZ2XiVLEZUcCwAljQLFxMv4WE9z/z8vZkR8DGfrXuPms2rOCbGpqlYVk0lstMUk0VT6YolUAo+Xj6Sr7dO4NnhXRzW41WiGFEh6feO6NB4PDPp8fQrSrTVxpJm4VLiZTyKF2LLir1cuXSVnw9/woJ9E/ltxjqS4y85rCkvyOvJWkqpVGAosAY4BixRSh0RkQki8sTt6rwXuqYvKKW2Wr//BIwFzimlTlrD5gNDSHe6izJ8fpGLclyBr60t2jQgo9PdqZQ6l20qe5YCY0VkJPAyxgNDFqyD+wMA5syZkwuJN6dduxpUruLHiDcW2oUXL16IMWMe55PJf5FNI+yuEh2ewKuPf0FxHw/en9mLLasPER/jmPPLKe3aVqdK5RK88Vb6SEJUVBL9Bv2AZ3F3Phz3FBs3nyDuHrlJOIP2bapTpZIfr49aZAt7vs9somOSKeFXhC8mvcDZc9GEhsc7T+Q9RGxYPD0qvU5SbDIV6/kzbukIBtQb7dQWn9nFRM2mlRnW8gOuXrrG5JVvc2rfefZvOOoUPVXql8eSpnip1mjcixbi8xVvsm/TccIDHXyCygvuwP1QKfU38HemsPdvYNs6J3neCy3izFUVnwv7699Tsf4W62C5WzbphgMRQB2gYSabizkSqtQlYB3GdPXngIU3sJurlGqolGo4YMCA7ExsREcn4+2T3uL09i5MdIbWzXXq1/ene49mjH13ma27FaBgQTcmTnqO77/byLFjoVnS5Zbo8AS8S6S38Lz8ihATkftWbWxkIoGnIqjZqLxjeqKT8PHOVD/ZOPb69crR48VmvPvBr3b1c52Y2GTOn4+mVq0yWeJypSc8Ae+SRW37XiWKEhOecOMEd4HomGR8MvSieHsVJjom6znUoG45ej7flHfG/0ZKappdeoCw8AT2HwyiUgWfLGnzGl8vCE+fdkB4FPh4Zw2PiDLCHCEmNBbv0p62fa9SxYnO1HMUHRqHd+niAJjMJgp5FCQxJpmUa6kkWXtRTu87T+jZCEpV8nNMEBATGpdVU1h2mjyzaIoKieXQ1hMkxiRz9fI1dq05QMW6/g7piQ6Lw7tUegvYq2RRYjLpiQmPx8tqYzKbKOhRgMTYi7R+phG71x8hLdVCQnQSR3eeoVLdcg7pyTPyvmv6jnAvOOKyItLU+r07sBvwvz7+C/QENmawfz7D53br9/PA9UGfJzBav5kpAoQppSzWPM050JaEMfiekW8xurV3KaUc6wcGjh8PpVSpYvj5FcHFxUSbR6uxbdspO5uKFX0ZPqITY99dRnyG1pyLi4nxHz7D2rWH2bTphKNSADh5KJiS/l74li6Gi6uZVv+rQ8C/OXvS9vIrgls+o5PF3aMA1Rv4E3w2yiE9x0+E2dXPo62qsW37aTubihV8GPF6R959/1e7+vHyKoybm1WPez5q1izNBQcnkJw8EERJf298yxQ36ueJ+gSsO+xQno5y/GQYpUsWw8/XWkctq7E1wL6OKj3kw5vDOjBmwm/EJ6TXkbt7PlxdjEuhiEcBalUvzfmgOz/Jpk1zWL7GmD29/wgULgQ+ntC8MWzdBQlJxrZ1lxHmCCd2n6VURT98/b1xcTXT+tkmBPy1x84m4K+9tO/REoAWTzfmwIYjABTxKozJOrfAr7w3pSr4EX4uEkc5secspSr44lvOy9DUrQkBK/fZa1q5l/YvPWJoeqoRBzYa1+Gefw7hX6M0+Qq4YTKbqN2iKkHHQrKUkRtO7gukZHkffMt6Guf1k40IWH3QXs/qg7R73rhVt3i8Pge2GPecqOBY6rQwuuzzFXSjaoOHuHAq3CE9ecWd+GetO8G90DV9AhgiIt9jTJZ6DWOAe6mIuGAMjs/OYF9MRA4CV4EXrWHfAMtF5ACwmuxbuDOBX0Wk101sMnMQSLPmO08p9YVSao+IJAI/5PaHZofFovhq+jo++fQFTCZh1aqDBJ6Ppk/fFpw4Ecb2bacZMKgNBQq48f64pwCIjEhk7HvLaN26GrVrl8HDowAdOxkThj6d/Bdnztz+jcKSZmHW+OV89H0/zGYTa5ftIuh0BD1f78DJQ8HsWH+UyrVKM3ZmL9w9CvJwm2r0eK09g7pMpUwFH/q//RhKKUSE377bxPmTjl2QFoti+tfr+HTic0b9rDnE+cBo+vZ6hBMnw9kWcJpB/Y36GTfWeK8+IjKR9z74jXJlPRk8oI3xlCuwZNlOzp13rLvMkmZh1thf+einwUb9LA4g6GQ4Pd/szMmDF9ix7jCV65Rl7Dev4F6kAA+3q0mPEZ0Z1G4yAJ/9+hplKviSv5AbP+4czxcjF7F343GHNKVZFF/O+ofPP3oWk0n4e+0hzgfF8HKPRzh+KpxtO04z6JXWFMjvxvgxxjDW9deUypXx5K1hHbFYFCaTsHBpgN1s69vlzfGwcz/EJ0DrbjC0L6RaJ/a+0BVaNYFNAdCxu/X1JesfBRb1MF5Zem6gsf9qbyPMESxpFma8MY+JK0ZjMptYO38jgcdC6PX+M5zcc46AlXtZPW8Do74fzA9HppAUe5GJvYwZ07UeqUqv97uRmpKGxWJh+rDvSYrLUQfarTW9uYCJy0dhMgtrF2wyNL33NCf3niPg732snr+JUd8O5IeDn5EUl8zE3jMBSI6/xG9frearTeNQwM41B9i5xqGpKsZ5PWYxHy15DbPJxNpF2wg6EUbP0Y9zcn8gO9YcZM3CrYyc2Zfvdk4gKe4Skwd8C8CK7zcyYnovZm9+HxFh7aJtnD/q2INBnuHkobqcItnN7LxrhefyPV8ROQ80VEo5bfBBREoCG4Cq1tb1rVBt20y6s6Jywb//jaFzpVHOlmHHqlOf0qbDJ86WYeO/taPpXOZ1Z8uwserCNFp1+dTZMmxs/HsUlvDM8xqdi8nvJB3zv+RsGTbWXFlIx0K9nC3DxpqLC+jsPcjZMmysipp9B94sykq9IV/k2sHtmzH8rmjLyL3QNX3fYG1N7wDezaET1mg0Go3mpji1a1opdR7j5eec2vvfMTE5K38BsMCZGjQajUaTQ+6Trul7YYxYo9FoNJo8x1mTr3KLdsQajUajeTDRjlij0Wg0GieiHbFGo9FoNM5Dd01rNBqNRuNMtCPWaDQajcZ5iLP/fD+HaEes0Wg0mgeT+8MPa0es0Wg0mgcTPUas0Wg0Go0z0Y5Yo9FoNBrnoVvEGo1Go9E4k/vEETt19aX/J+gK1mg0GnvuygpHD/eamuv7744FI+766ku6RXwXaG961tkSbKyzLKVl18+cLcOOTctH0ql4f2fLsLE69hs6NhrvbBk21uz64J5bUu9eWnIQjGUH76WlGU1+J2n64hRny7CxfdGbVPzkC2fLsHF69PC7U9B90gzSjlij0Wg0DyR6jFij0Wg0Gmdynwy9akes0Wg0mgcS3SLWaDQajcaZaEes0Wg0Go3zEIuzFeQM7Yg1Go1G82CiW8QajUaj0TgPPUas0Wg0Go0z0bOmNRqNRqNxHrpFrNFoNBqNM9GOWKPRaDQa56FbxBqNRqPROBM9RpwzRCRZKeXubB3gPC0NO9bl1S/7YjKbWPXdvyz+5A+7eFc3F0bNH0alBg+RGJPExy98QURgFFUaVWT4nIFW8fDj+KVs/WOnw3oa1/Pntf5tMZmElesOsvBX+zyfe6Ihj3WoRVqaIj7hEpO/Wk1EVCIAPl6FGT20Ez5ehVEoRk34lfDIRIf0NGhbg8ETX8BkNrH6x80smbbaLt7VzYW3Zr1MpTrlSIxLZtLLc4m4EIPZxcwb03pRsU5ZzC5m/v1lO4u/XOWQFoCGTSsw6M1OmE0mVi3fy5L5W+3ia9Yry6ARnXiooi8T313GlvXHbHGvDGvHw49UQkTYu+Mss6aszpz97WlqX4tBn/bAbDaxav5Glkz5yy7e1c2Fkd8MpFI9fxJjk5nYawYRQdEAlK9Zhtem96VQ4fxYlGJYi3GkXE1xUE9tBk3paej5YQNLPl+RVc93g6lU35/EmGQm9vyKiMBofMt58c3+zwg+GQbA8Z2nmT7se4e0ALw7GTZsh+LFYMW8rPFKwcTpsGkH5M8HE8dADesaEn+shlkLjO+De8GTnRyWA0CTOv680asNZpPw53+H+fFP++vsqXa1eaZ9XdIsistXUpj87VrOh8QC0KtrYx5vXZM0i+KL+evZcTDQYT0ty5fjvbatMZtMLDlwmDk7dmVr17FyRWY89ThPzv+Zw+ERuJhMTOzUnhp+PphNwh+HjzE7IPu0dxvdIs6AiAjGkov3yevVdw+TycSwr19hdIcPiQ6O5eudk9j+526CjgXbbDq98ijJ8cn0qTyM1s83o9/kHnz84hecPxzEq41GY0mzUNyvKLP3f872FbuxpN1+NZtMwvCB7RnxwRKiYpKY+3lPtuw8Q+CFGJvNqXMR9B+xn6vXUunaqS6D+7Ri3GfGjfbdN7rw49IAdh8IpEB+VywWx64Ek0kY8ml33nn6C6JD45j+77sErD5A0Ikwm03HHo+QHH+Jlxu+S6unG/HyuGeY9MpcWnRtgGs+FwY/Mp58BdyYu308G37dSUSG33JbekZ1YczQH4mOSOSr+f0J2HSCoHPRNpuo8ASmjP+Dbj2a2aWtXrs0NeqUYdCLswGY8k1fatcvx8G9jt1ETSZhyNRejHn8U6JDYvlq83gCVu4l6HiozaZj71Ykx1+kb+2RtOr2MK98+DwTe8/AZDYx6ruBfNZvDmcPXaBwcXfSUlId1zOtD2P+N4no4Fi+2vohAX/tJeh4SLqePq0NPTXepNWzTXjloxeZ2PMrAMLORvDqw+84pCEzT3aG7k/D2xOzj9+0AwKDYfVCOHAUJkyFxbMhPhFmzIOlc0EEuvWHNs2hSGHH9JhEeLNvW16fuIzImCS+//glNu85bXO0AGu2Huf3fw4C8EiDCrzeszXDJ/+Gf6nitGtahe4j5+NVrBDT332W54d/j8WB1p9JhHHtH6X34t8IT0rit97d+ff0GU7HxNrZFXJzpXfDeuwPTb/+OlephJuLmf99/yP5XVxY3a8XK46eICTRsQfwPOE+ccSmO5WxiPiLyAkRWQAcBsaKyC4ROSgi2a4xJyIjs7MRkT9EZI+IHBGRAdYws4jME5HDInJIRIZbwyuIyGqr/WYRqXoTjeVFZLs1/UcZwt1F5F8R2WuN62oNnyAib2Sw+1hEXneknqo0rkjo6XDCz0WSmpLKhsVbada1oZ1NsycasXb+RgA2LQugXtuaAFy9fM3mdN3yu+VJN0y1SiUICY8jLCKB1FQL/24+ziONK9rZ7Dt0gavXjJv10ROheHsad6VyZTwxm03sPmA4lstXUmx2t0uVBuUJOxdFeGA0qSlpbPxtF00717WzadqlLv/8sg2Azcv3ULel9ZAryF8wHyazCbf8rqRcS+Ni0mXH9NQo9X/tnXd4VEUXh9+zSegJNSShBqkCAkqRXpSqoiBgQQXFgorYULB3RD97B5QiCKggIqg0QUSRUKVKL5EWSAIhCYhC9nx/zE2yG7qb5AaY93n2yd57Z/f+cu/sPTNnzpxh9479xO1K4tgxL/Nmr6VJK/8qtnfPQbZt3nfcg1EV8uULJjgkiJCQIIKDgziw/1BAegCqN6jM7q37iNsez7GjacybFEOTay7zK9PkmsuYPe43AH79dgn1WtcEoH7b2mxbs4Otq3cAkLI/NeDGU/WGldm9ZS9x2xw9E2No0rm+v57O9Zn9xXyjZ/Ji6rWpFdA5T0fDulDsFMZz7m9wXQdjbOvVguRU2JcICxZD0wZQLMwY36YN4LdFgeupWSWSnXFJ7N53kGNpXn5auIGWDfx/Z4f//jfjfcH8IRk/75YNqvDTwg0cPZbGnvhkdsYlUbNKZEB66kZFEpuUxI6DBznq9fLDug20rVr5uHIPt2jK8Jil/HMs83etQKGQEIJEKBAczNE0L6n//hOQnuxC9OxfbpDTPeKqQG8gDOgONMIsCD1VRFqq6vz0giLS3il/ojJ9VHW/iBQElojIN0A0UFZVazufL+Z81XDgXlXdJCKXAx8DV5xE33vAJ6o6RkT6+ew/AnRV1WQRKQXEiMhUYCQwGXhXRDzATY7e/0ypsiWI35nZQ0vYuZ8al1f1K1OybAnid5gelzfNy6GDhwkrGUpyYgo1GlVhwIj7iagYzuu9PgioNwxQqmQR9iWkZGzHJ6ZQs1rUSctf3e4SFi3bCkD5MsVJPfQPrzxxHZERRVm2MpZhY+YH9GAvGVWMeJ9eQsLuA1SvX+kEZQ4AzvVJ/puwEkX4deoyGl9Vl/Hr3qRAwXwMe+YrUpMO/2ctACXDQ4nfm9nST9ibTI3aZc/os+tW72Tlsu1MmD4AEZj69RJ2bE84/QdPp6lMcf86tGs/NRr4P0RL+ZQx1+gwYSWLUK5KFKow+LvHKVoqlF8mxTDxnR8D1FPieD0NT6Rn/3F6ACKjw/koZjCHU/7m8xcmsmbBhoD0nAl7EyCydOZ2ZDjsiz9+f0S42Rco4cWLsC8x83e2LzGFWlWO/511a1ePm66uT0hwEA+88nXGZ9dszuyRxu9PIbx4YCNqEaFF2JOcqScuJZW6Uf7GvVZEaaJCQ5m3dRt3X57ZsJqxYRNtq1Zm4QP3UCA4hMFzf+HgkbxhiAmwUZlb5FiP2CFWVWOA9s7rD2A5UANjdH05VZkHRWQlEAOUd/ZvBS4SkQ9EpCOQLCJFgKbARBFZAQwDTm5FoBkwwXk/1me/AK+KyCrgJ6AsEKGq24FEEbk0XauqHufnFJF7RGSpiCwdPnz4qa5PwKxfvJm7L3mUBxo9wU1PdCUkf0iOns+Xdq1qUr1KJBO+NeNBQUEe6tQsx0ej5tF3wFjKRBSj0xW1c01PVqrXj8abptxS83F6X/ok3e5vT2TFUq7pKVOuOOWjS3HL1W/T86q3qdsgmtr1KrimByAo2EPtJtV4vc8nDGj7Ck07N8joLbvB/j1J3Fr1Ifo1fpphA7/gic/7USi0oGt63Oab2Svo8fAIPh4/nzu6NnZNhwBPXdGSIXPnH3esTlQkaV4vTT/6lNbDRnBnw8soX7Ro7os8EfofXi6Q04Y43e8mwBBVree8qqjqiCxlT1hGRFoDbYEmqloXY6gLqOoBoC4wD7gX+Mz5f5J8vqOeql58Go0nuvS3AOFAfVWtB+wFCjjHPgNuB+7A9JCP/0LV4araQFUb3HPPPac8ecKu/YSXK5mxXapcCRJ2+dv2xF37CS9vDIgnyEPhooVI9mlNA/y1fhd/px6hUu3ypzzf6UhITKV0qUwfXnjJUOITU48rV79uRXr1aMyTg7/l6LE0AOITUti8bR979h4kzav8umgT1SpHBKQncU8S4WVLZGyXKlOcxD1JJyhTHHCuT1hBkven0qbb5Sybs4a0Y2kcTEhh7eLNVL00OjA98SmER4Rl6okIIyE+5RSfyKRp64tZv2YXR/4+ypG/j7J04WYuvqRcQHoAEncf8K9DZUuQsOeAX5kEnzLmGhUiOTGV+F37Wb1gA8mJqfzz978smbmSKvWiA9Sz/3g9u0+kp8Rxeo7+e4yU/aa+bf5jO7u37qVs1cDcrmdCRCmI25e5HRcPpcOP37833uwLlPgDqZQumfk7K10ylPgDx//O0pm9cH2G6zr+QCoRPp8NL3Hqz54Je1NSiQrL/M7I0CLsTc38zsL58lG1VCnG9ezOvHv7UK9MFMOuv5bakRFcW7M6v26L5ZjXy/7Df7Ns124uiQrsd59dnCuu6Zw2xOnMBPo4PVZEpKyIlD7DMkWBA6p62BnvbewcLwV4VPUb4BngMlVNBraJSA+njIhI3VPoWoBxL4MxvukUBfap6lERaQNU9Dn2LdARaOhoDogNSzZTtmoUkdGlCQ4JpvWNzVg4dalfmYXTltK+dysAWnZvzIq5awCIjC6NJ8jcwtIVSlGhRhnitscHpGf9pj2UiypOVOmiBAd7uLJFDRYs3uxXpmql0jx2X3ueHDyZpIOZrt71m+MoUjg/RcNMD+ayOhXYHkBgFMCG5dspc1FpIiqUIjgkiFbXNyRmxkq/MjHTV9D2JhMY1eK6+qz81bgy9+3cT11nvDh/oXzUaHBRRjTuf9bz5y7KVihJRJliBAd7aN2uFjHzz8x1Gr/3IHUuq4gnSAgK8nDJZRX5Kxtc0xuWbaVs5QgiKppr1Lp7Y2J++MOvTMwPy2l3S3MAWnRtyMpf/gRg2U+ria5VjvwF8+EJ8lCnRQ3+WrfruHOclZ6lWylbJZKI6HCjp0djYr5f5q/n++W0u7Wl0XN9I1bOWwtA0VKheDwCQGSlcMpWjiRu2z5ymjbN4LuZZhx/xVoILQylS0KzRrBgCRxMMa8FS8y+QFm3JY7ykcWICg8jOMhD2ybV+XXZFr8y5SKLZbxvdulF7IgzjZlfl22hbZPqhAQHERUeRvnIYvy5OS4gPav2xFGxeHHKFQ0jxOPh6ourM2fz1ozjqf/+S6MPhtJ66EhaDx3Jit176Dt5Kmvi9rI7OYXGFU0HoGBIMJeWiWJLliAv11A9+5cL5ErUtKrOEpGLgYUmgJpU4FZg3xmUmQHcKyLrgA0Y9zQYd/EoZ6wW4Enn7y3AJyLyDBACfAn4P7kzeQgYLyKDgO989o8DponIamApsN5H578i8jOm55121hcjC940Lx/2H8GQGU/jCfIwc9TPxP65k94v3sjGpVtYOG0p00fM5Ykx/Rm98QNS9qcy+OZ3AKjdvAY3DupC2tE0vF4v7/f77Lie8tmS5lXeHf4Tb77QHY/Hw49zVrN9RyJ9ejZjw+Y4Fizewn13tKZgwRBeHHgdAPsSknly8Ld4vcrHo+bx7ss3IsCGLXuZNutkl/7Mr8/HA8czeNLDeIKEWeMWELt+N7c9eS2b/oglZsZKZnzxGwOH3snIpYNJOXCIIXeZ4YBpI35mwIe3M+z3F0Fg9vgFbPszMCPjTVM++t+PvPr+rUbP1BXEbo2nV9/WbFy3m5j5G6lWswzP/e9GQsMK0Lh5NXr1bc09N37Cr3P+pG6DSgybcB+qsHThZhb9ujEgPenX6KMBY3j1u4FG05j5xK7bRa9nrmfj8m3E/PgHMz6fz8DP+jJq1RukHEjl1d4fA5CadJjJH8zgg/kvoMDimStZPDPwe/bRw6N5ddogPEEeZn3+i9HzXDc2LttGzA/LmTF6HgNH3seotW+Rsv8Qr/YyEdOXNK9Br+e6cyy9TvcfScqBwAPaBrwIi1dA0kFo3R0euAPS441uug5aNYb5MdChpzN96QlzrFiYmbJ0gzNL8P7eZl+gpHmVt0bP5d0nu+HxePh+3hq27Uzk7u5NWbdtL78t20L39pfS8JIKHDvmJeXQEV7+xEx127YzkTkxGxn/5u2kpXl5c9ScgCKmAdJUeXH2XEbdcD1BIkxcvZZNCYk81LwJa+L2+hnlrHyxfCWvX9We6Xf2QoBJq9eyIT4bBtKzgXNl+pLoOTLhOa/gGP7lQA9V3XQGH9F2nh45rOrMme2dSMvr3nBbhh/zv3ucjiXudltGBjP2f0qHhicM7HeFmUuep0PhXm7LyGDmoTF0KHDL6QvmIjOPjMMbV81tGRl4IjfS5Oa33JaRwcIJA6jy+jtuy8hg86BHJDfO06b962dt4H6eNShXtPmSW67p8wIRqQlsBuacoRG2WCwWi0uI6lm/3MD1zFq5gYg8DWTtlk5U1cFn8z2q+idwUbYJs1gsFkvOcY6kkLogDLFjcM/K6FosFovl3MatHu7ZckEYYovFYrFcgJwbdtgaYovFYrGcp5wjPWIbrGWxWCyW85KcSOghIh2ddRQ2i8gTJzj+qIj86ayZMEdEKp7oe3yxhthisVgs5yfZnNBDRIKAj4BOQE3gZmc2jS9/AA1UtQ4wCfjf6WRaQ2yxWCyW8xLxnv3rNDQCNqvqVlX9F5Mw6jrfAqr6s6qmpxyMAU6bx9YaYovFYrGcn/yHHrHvoj3Oy3fBgLLADp/tnc6+k3EnMP10Mm2wlsVisVjOT/5DrJaqDscspxsQInIr0ABodbqy1hBbLBaL5bwkB+YR78IsxZtOOWef/3lF2gJPA61U9bSLM1vXtMVisVjOT7J/9aUlQFURqSQi+TCr9031LeCsVz8MuFZVz2jpMNsjtlgsFsv5STanuFTVYyLyAGYJ3CBgpKquFZGXgKWqOhV4AygCTHRWEvxLVa891ffa1ZdyHnuBLRaLxZ9cWeGoQ8MXz/r5O3PJ87m++pLtEecC7UNucltCBrOOfkmz7m+6LcOPBZMeo1Pk/W7LyGB63Me0a/qK2zIymP37M3QsfpfbMjKYceCzPLUsI5ilGfPasoN5bVnGym+97baMDLYMeNRtCXkKa4gtFovFcn5yjnh8rSG2WCwWy/mJNcQWi8VisbiIXY/YYrFYLBb3sOsRWywWi8XiJtYQWywWi8XiItYQWywWi8XiItYQWywWi8XiIjZYy2KxWCwW97DBWhaLxWKxuIk1xBaLxWKxuIjXGmKLxWKxWNzD9ogtZ0qD9nW57+3eeII8zBg5l6/e8FvekpB8wTw+qh9VL6tEyv5UBvd8j72x8RnHw8uX5LNVbzH2pUlMeuf7gPVcXi+ah++4Ao9HmDZnNV9MWex3/MZr6tP5yjqkeb0kJR/m1Y9msjchGYD7b21J0/oXISIsWRXLuyPnBqynfpua3PtyDzxBwoxxvzPxw1l+x0PyBTPgg95UrVOe5AOHGNJ3BPt27Cc4JIj+b/Skat0KqFcZ+uxEVv++KWA9DS6/iPsf7oAnSJg+bQVfjf3d73i3my6nU+d6pKV5OZh0mDdf/Z59cQcBaNepDrfc3hyAcaN/Y/b0VQHrAah/ZS3uG3KzqUNjf+Xrd6f7HQ/JF8xjn9xJ1XoVSd6fypA+w9i7I5E2PS6ne/8OGeUq1SrHA61eZuuaHQHpadDuEu79360EBXmY/vkvfP2Wf70MyRfM45/2peql0STvT+XVXh+x968Eo6F2eR58/w4KhxbAq0r/Fi9w9J+jAelpXDeah3u1IcgjTP15DWOn+tfprm3r0K1dPdK8yt9HjvLaZ7PYvms/AL2ua0Tn1rVJ8yrvfD6XRatiA9IC8PRrMG8hlCgO00Yff1wVXn0f5i+CAvnh1SehlrOGxJQZ8MkY8/6+XtClY8ByAGgZHc2zbVoTJB6+WrOaYYuX+B3vVqsmg1q2ZG9qKgBjV6zg69VrALi+Zk36Nb4cgI9iFjH5zz+zR1SgnCOG2JNdXyQiqdn1XXkFEekiIjV9tueJSIPsPIfHIzzwfh+e7vwad9cZQOubmlHh4rJ+ZTr2aUNqUip3XPwwk9/7gTtf7el3/N43erFkxops0zPgrrYMGPwNtzwyirbNaxBdrqRfmU3b9nHnoLH0HvA5Py/cSL/bWgJQu3oZLqlRll4DPue2R0dzceVILq1VPmA9/YbcyLM9P6Rvy5dp3bUBFapF+pVp37MpqUmHubPJC0wZNpc+z3QFoOOtzQC4v81gnrrxfe5+vhvO+qAB6en/WCeeGjCBu3oOpU3bWlSILuVXZvPGOPr1GUHfXp8y/+d13H3/FQCEhhbgtj4t6H/XSB64ayS39WlBkdACAelJ19TvjVt4pse73NP4WVp3a0SF6lF+ZTrc1pzUg4foU/8pvv1kNn1e6A7AzxMX0a/lS/Rr+RJv3DuCuNiEgI2wxyP0e7sXz3R9k7vrP0GbHo2pUKOMv57erUhNOsQddR5n8oczuPPlG81ngzwMHNGXDx4axT0Nn+LxjkNIO3osMD0iDLjjSh59fTI3Pzaadk2rE122hF+ZmQvWc+ugMfR+cixffL+Eh25rDUB02RK0bVKdno9/ziOvfcNjfdriCbAOAXTpBMPfOPnx+YsgdifMGAcvPgYvOQsnJSXDR6Phq6Hw9TDz/mBKwHLwiPDClVfQZ/K3dBg9ms7Va1ClRInjyv2wYSOdx35B57FfZBjhogUK0L9JY64fP4Gu48bTv0ljwvLnD1xUdqB69i8XOCtDLIZsM97nAF2AmqcrFAjVG1Vh95Y44rbt49jRNH756neadva39U06N2D22PkAzP9mEZdeUSvjWNNrGxC3fR+xf+7MFj0XV4lkZ9wBdu87yLFjXuYsWE+LhpX9yixfu4N//jUPx7Wb9hBeMhQAVSVfSBDBwUGEBAcRHOxhf9KhgPRUuzSa3dviifsr0VyfKcto3KGuX5kmHerw09cxAPz6/R/Ua14dgArVolj52wYADiakcij5MFXrVQhIT/WaZdi9cz9xu5M4dszLvJ/W0rSF/3J3K5fH8s8/5vqsW7uL8NJhADRoXJllS7aRknKE1JQjLFuyjYaNKx93jrPWVL8Se7buIy42wVyjyYtpclU9vzJNOtXjpwmm5/7rd8uo16rGcd/Tulsjfpm85Lj9Z62nQWV2b91H3PZ4jh1NY96kGJpcc5m/nmsuY/a434yeb5dQr7X5mdVvW5tta3awdbVpDKTsT8Ub4DhfzSqR7IxLMnU6zctPCzfQskEVvzKH//43433B/CEZz+OWDarw08INHD2Wxp74ZHbGJVGzin9D8L/QsC4UCz358bm/wXUdQATq1YLkVNiXCAsWQ9MGUCwMioaa978tClgOdSMjiU1KYsfBgxz1evl+w3raVjmzutkyuiILYv/i4JEjJP/zDwti/6JVpejARWUHXj37lwuc1qiKSLSIbBCRMcAa4FkRWSIiq0TkxZN85vETlRGRKSKyTETWisg9zr4gERktImtEZLWIPOLsrywiM5zyv4rI8U+OzO8dLSKfiEiMiGwVkdYiMlJE1onIaJ9yNzvnWCMir/vsTxWRwSKy0vmOCBFpClwLvCEiK0QkvVb2EJHFIrJRRFqc7vqdjlJlShC/MzFjO37Xfkpmaa2XKlOC+B2mjDfNy6GDfxNWMpQChfNzw+PXMvblSYHKyCC8RCj7EjKb2PsSUwkvcfInRucrLiHmj20ArN24h+VrdzD103uZ+ul9LFqxnVjHvfdfKRVVjPjdBzK2E/YcoGRUUb8yJaOKkeCU8aZ5OZzyN2ElCrNt7U4ad6iDJ8hDRIWSVKlTgfAyxQPTEx5K/N7kTD3xKZQKP/n16XRNPRbHbDE6S4USv8/ns/uSKVnqFE/jM6RkVHHid/lco90HKBnl/3+WLJNZxpvm5VDy34SVKOJXpmXXhsz7JvCneskyxf3qdMKu/ZTKoqeUTxmj5zBhJYtQrkoUqjD4u8f5cMFL9HjkqoD1hBcvwr5E3zqdQnjxIseV69auHhPfvZN+PVvy9udzMz671+ez8ftP/NnsZm8CRJbO3I4Mh33xx++PCDf7AiWiSBH2pGT+n3EpqUQUOb5udqxahR963caHna8hKrTIiT+bmkJEkZy/RmeEes/+5QJn2rutCnwMPAKUBRoB9YD6ItLSt6CItHfKn6hMH1WtDzQAHhSRkk6ZsqpaW1UvAUY5ZYcD/Z3yjznnPxXFgSaOxqnAO0At4BIRqSciZYDXgSucczYUkS7OZwsDMapaF5gP3K2qvzvf87iq1lPVLU7ZYFVtBDwMPH8aTTnKbc/1YPJ7P3Lk0D+unL99i4upUTmC8d+ZXlTZyGJEly1J177D6NJ3KPVrV6BuFjd7bjJzwkISdh/g/ZmD6PtSd9Yt3Yo3LfdavFd2qE21GlFMHLcw1875X6levxL//P0vset2u6ojKNhD7SbVeL3PJwxo+wpNOzfI6C3nNN/MXkGPh0fw8fj53NG1ca6c81xizpattPpsBFePGcuC2Fje6JhNg9M5yXnmmo5V1RigvfP6A1gO1MAYXV9OVeZBEVkJxADlnf1bgYtE5AMR6Qgki0gRoCkwUURWAMMA/0Gv45mmqgqsBvaq6mpV9QJrgWigITBPVeNV9RgwDkhvIPwLpEeTLHPKn4zJpysnIveIyFIRWTp8+PBTik7YvZ9wnzHY8LIlSMzSi0zYvZ/w8qaMJ8hD4aIFSU5MoUajKtw15BbGbPqArg924qYnunDt/R0IhPj9KZT26aWVLlmE+P3HD0I1uKQCvbs1ZuBrUzh6LA2AVo2qsnbTbv4+cpS/jxwl5o9t1KpW5rjPng0Je5L8erGlooqTuOegX5nEPUmUcsp4gjwUCi1I8v5DeNO8DH/+Gx5oO4SXbh9G4bBC7Nq6NzA98SmER4Rl6gkPJSH++OtzaYNK9OzdnOcGfc3Ro+b6JCakZLipAUqVDiMxIfABvsQ9Bwgv63ONyhQncc8B/zK7M8t4gjwUDitI8v7MsI5W1zdi3jf+AUz/Wc/uA351ulTZEiRk0ZPgU8boKURyYirxu/azesEGkhNT+efvf1kycyVV6kUHpCf+QCqlS/rW6VDiD5w8pGX2wvUZruv4A6lE+Hw2vMSpP5tdRJSCuH2Z23HxUDr8+P17482+QNmbmkpUaOb/GRlahL2p/nUz6cgR/k0zdfmr1WuoHRFx4s8WCc0I6HKd88U17ZA+0CfAEKeHWE9Vq6jqiCxlT1hGRFoDbYEmTs/zD6CAqh4A6gLzgHuBzxxdST7fUU9VLz6NxvRuodfnffr26aLDjzpGHCDtNOX/OV05VR2uqg1UtcE999xzyhNvWLKFslUiiYwOJzgkiFY3NmXh98v8yiz8fhntnIColt0uZ8XPawEY0OYFelXtT6+q/fn2/el8+doUpn488zT/6qlZvzmOclHFiSpdlOBgD1c2q8FvS7b4lalaqTQD+7Zn0GvfkpR8OGP/3oRk6tUsT5BHCAryUK9WOWJ9XJT/hY0rYilzUWkiKpQ016dLfWJm+Ucax8xaRdsbTA+mxTWXsnKBGRfOXzCE/IXyAXBpyxqkHUvjr41xAenZsG43ZcuVIDKqGMHBHlq3rcXC3zb6lalcLYKHB13FcwO/IulA5vVZGrOF+o0uokhoAYqEFqB+o4tYGrMl6ynOXtPy7ZSpHEFEhVLmGl3fiJjpK/3KxMxYSdubmwLQ4rr6rJy/PuOYiNCySwN+ySZDvGHZVspWjiCiotHTuntjYn74w1/PD8tpd4uJHm/RtSErfzFRtst+Wk10rXLkL5gPT5CHOi1q8Ne6XQHpWbcljvKRxYgKDyM4yEPbJtX5dZn/dS8XWSzjfbNLL2JHnGk4/LpsC22bVCckOIio8DDKRxbjz82B1aEzoU0z+G6m6aCtWAuhhaF0SWjWCBYsMQFaB1PM+2aNAj/fqrg4oosVo1xYGCEeD9dUr8GcLVv9yoQXLpzxvm3lymxONB2G+dtjaR5dkbD8+QnLn5/m0RWZvz3wyPJs4RzpEZ/t9KWZwMsiMk5VU0WkLMaI7TtdGaAocEBVDzvjvY0BRKQU8K+qfiMiG4AvVDVZRLaJSA9VnSgm1LWOqvo/Xc6OxcD7zvkOADcDH5zmMylA4IN4p8Cb5uXDh0bx6g9P4QnyMHP0z8T+uZNez/dg47KtxHy/jBkjf2bQ6H6MWvcuKQdSefWW93NMT5pXeeezObz9TDeCPB6+n7uabTsTuevGZqzfEsdvS7fQ77ZWFCwQwisDrgWMAR70+hR+jtnIZbUrMObt21GFRSu2sWDZ1tOc8dR407x88tRXvDLhAYKCPMyasJC/NuzhtoHXsHFFLItmrWbm+N95/MPbGbHwBVKSDvNaX9M2LFoqlMET+uP1KolxSbzZ//OAr483Tfnw7RkMecdMFZr5/QpityXQ+65WbFy/m4W/beKefm0pWDCEZ1/pBsC+vck8N+hrUlKOMG7Ur3w4og8A40b9SkrKkWzQ5OXjgeMZ/M3DeII8zBq3gNj1u7ntyevYtGI7MdNXMmPsrwwcehcjl71KyoFDDLlzWMbnL2lajfhd+4mLzYbBRkfPRwPG8Op3A/EECbPGzCd23S56PXM9G5dvI+bHP5jx+XwGftaXUaveMHW6txl5Sk06zOQPZvDB/BdQYPHMlSyeGcjP3tTpt0bP5d0nu+HxePh+3hq27Uzk7u5NWbdtL78t20L39pfS8JIKHDvmJeXQEV7+ZAYA23YmMidmI+PfvJ20NC9vjpqDNxse1gNehMUrIOkgtO4OD9wBx5zg8Juug1aNYX4MdOjpTF96whwrFmamLN3Q12zf39vsC5Q0VV6c+zOju3XD4xEmrVnDpsREHm7alNV745izZSu9L72UKytfRJpXOXjkCANnmmt08MgRPoyJYcottwDwwcIYDh4JvF5nC+fI9CXR0wgVkWjge1Wt7Ww/BNzlHE4FblXVLSKSqqpFTlYG2AlMwbhzNwDFgBcwRnEUmb3zJ1V1uohUAj7BuKRDgC9V9aWTaBztaJx0Ar2+x24GnsL02n9Q1UFOGV/t3YFrVPV2EWkGfIrpBXcHRgCPqepSx6AvVdXoU15A0PYhN52mSO4x6+iXNOv+ptsy/Fgw6TE6Rd7vtowMpsd9TLumr7gtI4PZvz9Dx+J3nb5gLjHjwGd0KNzLbRl+zDw0hiY3v+W2jAwWThiAN67a6QvmEp7IjVR+6223ZWSwZcCjgc8BOwM6le1/1pZ4+q4PckWbL6ftEavqdqC2z/Z7wHsnKFfkdGWATic5zWVZd6jqNuCMogFU9fZT6PU9NgGYcILP+2qfBExy3i/Af/pSa59yCZx6LNlisVgsbuI9N5Zfspm1LBaLxXJ+co64ps8pQywiTwM9suyeqKqD3dBjsVgsljyMNcTZj2NwrdG1WCwWy+mxqy9ZLBaLxeIe6lKmrLPFGmKLxWKxnJ/YHrHFYrFYLC5ix4gtFovFYnERO33JYrFYLBYXsT1ii8VisVjcQ22P2GKxWCwWF7E9YovFYrFYXMRGTVssFovF4iJ2HrHFYrFYLO6h50iP+LTLIFoCxl5gi8Vi8SdXlhpsH3LTWT9/Zx39Mu8tg2gJnHZBN7otIYPZaV9Rdcg7bsvwY9OTj9Cp0qNuy8hg+ra3aXpj3lnb9vevBtAp4j63ZWQwfe8ndAq/120ZfkyPH0qV1/NOvd486JG8tv5vnlsfOTc4V3rE1hBbLBaL5fzEjhFbLBaLxeIes70Tc93N/F/wuC3AYrFYLJYLGWuILRaLxWJxEWuILRaLxWJxEWuILRaLxWJxEWuILRaLxWJxEWuILRaLxWJxEWuILRaLxWJxEWuILRaLxWJxEWuILRaLxWJxEWuILRaLxWJxkVxPcSkiqapaJLfPm5dp0KEu979zO54gD9NHzOWr/33ndzwkXzADP+9H1csuIjkxhcE3v8fe2PiM4+HlSzJizduMeXEik97+PmA9LS6qyDNtWxPk8fD1ijUMj1lywnIdqlfhw+s703XUeNbE7SXY42HwVe2oFVGaYI/w7Zp1DFt44s+eDfVb1uDe57vg8XiY8VUME4fO9Tteu9FF9H22C5VqRPHag2P5bfoqAC66uAwPvNKdQkUK4PV6+fLDn5j/w4qA9VxeN5qHb29DkEeYNncNY79b7Hf8pqvr0/mKS0hL85KUfJhXh84kLiEFgPt7tqDpZRcBMOqbGOYs3BCwHoD6bWpy7ys34AkSZoxbwMQPZvkdD8kXzIAPe1O1TgWSDxxiyD2fsW/HfoJDguj/Rk+q1quIepWhz3zN6t83Ba7niprcO/gGPEEeZnyxgInvzzxez0e3U7VuBZL3H2LI3Z+xb0ciQcEeHn73NipfUoGgYA9zvo7h6/dmnuQsZ07LShV55kqnTq9cw7BFJ6nT1arwUdfOdPk8s06/2rEdtSJLE+QRpqxZx9CT/B7OWlN0NM+2aU2QePhqzWqGLfb/3m61ajKoZUv2pqYCMHbFCr5evQaA62vWpF/jywH4KGYRk//8MyAtT78G8xZCieIwbfTxx1Xh1fdh/iIokB9efRJqOWtITJkBn4wx7+/rBV06BiTlgiRHesRiuCB62yISUGPG4xH6f9CHp64ewl21H6XNTc2ocHFZvzId+1xB6oFD3F79ISa/9yN3vdbT7/i9b/ViyYwVgcjI1CPCC+2v4K6vp9Bp+OdcU7M6VUqWOK5c4Xwh9G5wKSt27cnY16lGVfIFBXHNiLF0GTWem+pdQtmiYYHp8Qj9XrqeZ28fTt/2r9P62suoUCXCr8y+XQd46/EJ/Dx1ud/+f44c5c0B47m3w/94pvdw+j7XhcKhBQLTI8Jjfa5kwJDJ9Hx0NG2bVSe6rP/12bh9H32e/IJeA8fw86JN3H9LKwCaXlqJapUi6D1wDHc9PY6enRtQqGC+gPSAc41eu4lne35I3xYv0bprQypUi/Qr075nU1KTDnNn4+eZMmwufZ7tCkDHW5sDcH/rV3jqhve5+4XuiASWntfouZlnb/qQvs1edPRE+eu5pZnR0+g5pgydQ5/njJ4W19YnJF8w97d6mQfbvspVvVpSunzJwPSI8EK7K7hz4hQ6fnYGdXq3T52uXpV8wUFcPXIsXUY7dTossDqdoenKK+gz+Vs6jB5N5+o1qFLieE0/bNhI57Ff0HnsFxlGuGiBAvRv0pjrx0+g67jx9G/SmLD8+QPS06UTDH/j5MfnL4LYnTBjHLz4GLzkLCyVlAwfjYavhsLXw8z7gykBSbkgyTZjKSLRIrJBRMYAa4BnRWSJiKwSkRdP8pnHT1RGRKaIyDIRWSsi9zj7gkRktIisEZHVIvKIs7+yiMxwyv8qIjVOcq5QEdkmIiHOdlj69sm+Q0Q6i8giEflDRH4SkQhn/wsiMlZEFgBjA7lu1RtVYfeWvcRt28exo2nM++p3ml7b0K9M0+saMGvMLwDMnxTDpVfU9jsWt20f29fuCERGBnXKRBJ7IIkdSQc56vXyw7oNXFmt8nHlHm7ZlOExS/nn2LGMfQoUCgkhSIQCIcEc9XpJ/eefgPRUq1uB3bEJxO3Yz7Gjafwy7Q8at6vtV2bfrgNsX7/nuCXPdm2LZ/f2BAD270smKTGVoiUDc8bUrBLJzr1J7N53kGNpXn76fQMtGlbxK7N87Q7++ddcl7Wb9lDaOWd0uZKsWLeTNK9y5J9jbI6Np3Hd6ID0AFS7LJrd2+KJi00w12jKUhp3rOtXpknHuvz0dQwAv05bTr3m5mdSoVoUK38zvfKDCSkcSj5M1XoVAtezfZ+PniU07lTHX0+nOvz01cJMPS2MHlWlQKH8eII85CuQj6NHj3E45e+A9NSNiiQ2KYkdBzPrdNuqJ6jTLU5Tp4ODOZrmJfXfwOo0QN1If03fb1hP2yrHazoRLaMrsiD2Lw4eOULyP/+wIPYvWlWKDkhPw7pQLPTkx+f+Btd1ABGoVwuSU2FfIixYDE0bQLEwKBpq3v+2KCApFyTZ3WutCnwMPAKUBRoB9YD6ItLSt6CItHfKn6hMH1WtDzQAHhSRkk6ZsqpaW1UvAUY5ZYcD/Z3yjznnPw5VTQHmAVc7u24CJqvq0VN8x29AY1W9FPgSGOjzlTWBtqp685lenBNRqmwJ4nckZmwn7EqkVNnifmVKlsks403zcujgYcJKhlKgcH5ufPw6xr40KRAJfkQWKcKe5MwmbVxKKhGh/sarZkRpokJDmbdlm9/+Ges3cfjoUX5/8B5+uf8uRixaxsEjgT20SkUWJX5PUsZ2QlwSJSOLnvX3VKtbgeCQIPbEJp6+8CkIL1GEvYmZ1yc+MYXw4ic37te0qU3MCnOdNsfG07heNPnzBVM0tCCX1SpPRKlTPP3OkFKRxYjffSBjO2H3AUpGFvMrUzKqGAm7TBlvmpfDKX8TVqIw2/7cSeMOdfAEeYioUJIqdSoQXub4ntlZ6YkqTvwuXz1JlIzKUqcjs+hJNnp+m7acI4f/Yfya1xnzx6tM/mg2qUmHA9ITEXqCOl3E/57VSq/TW7PU6Q2mTi984B7m33cXny0OvE4DRBQpwp6UrJqOrwsdq1bhh1638WHna4hyfofHfTY15bj/J7vZmwCRpTO3I8NhX/zx+yPCzT7L2ZHdY8SxqhojIm8C7YE/nP1FMEZ3vk/Z9qco86CIdHX2l3f2bwAuEpEPgB+AWSJSBGgKTPRxp53KR/MZxphOAe4A7j7Nd5QDvhKRKCAf4PsrnaqqJ2yqO734ewCGDRt2CjmB0ev5Hnzz3g8cORT4g+FMEeCpK1sy6IdZxx2rExWJV700++BTwgrkZ8KtN/D79r/YkXQw1/SdiOLhoTz+dk/eGjAB1dxbKLxD84upUTmCfi98DcDiVbFcXDmSYS/fTFLy36zZtIc0lxcunzn+d8pXjeT9WU+wb+d+1i3Zitfr3hqu1S+rhDdNueWSQRQpVpg3pw3gj/nriYvNuae7AE9d0ZKBJ6nTaV4vTT8ydfrLnk6dPpjzdXrOlq1MW7+Bf9PSuLnOJbzRsSO3Tsy+Rrcl75DdhviQ81eAIap6Kit0wjIi0hpoCzRR1cMiMg8ooKoHRKQu0AG4F7gBeBhIUtV6ZyJOVRc4LvTWQJCqrhGRsFN8xwfA26o61fnMCyf4X090nuGYXjaATrxvzkk1JezaT7jPGFipsiUzegrpJO42ZRJ27ccT5KFw0UIkJ6ZQo1EVWnS7nLtfu4UixQrj9SpHjxzlu4//e3BLXGoqUWGZLfPI0CLsTUnN2C6cPx9Vw0vxRc/uAIQXKczQ7tdy76SpdK5VnflbYznm9bL/8N8s37mb2pERARnihLiDhEcVy9guFVmMxLgz/75CRfLz0si7+fzNH1m/IvY/60gnfn8qESUzr094yVDiD6QeV67BJRXoff3l9HvhK44eS8vY//m3i/j8W+O7e6H/VezYfeC4z54tCXFJhJfJ7HGWKlOcxLgkvzKJe5IoVbY4CXuS8AR5KBRakOT9pgoPfy7z4f7W94+xa8vewPTsOUB4WV89xUjck6VOx2XRE2b0tO7WkKVz15J2zMvBhBT+XLyFqvUqBmSI96acoE6n+tTpfPmoWqoU49LrdOHCDLv+WvpOnsq1Navz67bMOr1s124uiYoI2BDvTU0lKjSrJv/B1aQjRzLef7V6DYNatsz47OXlymd+tkgoi3Zmz9DUyYgoBXH7Mrfj4qF0uNm/eEXm/r3x0Khejko5L8mpgKqZQB+nt4mIlBWR0mdYpihwwDHCNYDGzvFSgEdVvwGeAS5T1WRgm4j0cMqIY6xPxRhgPI5r+zTfURTY5bzv/Z+uxGnYsGQLZatEEhkdTnBIEK1vbMrCaUv9yiycupT2vUzAT8vujVnx81oAHm39ArdV7s9tlfsz+b0fmTDk24CMMMDq3XFEFy9OuaJhhHg8XH1xdeZs2ppxPPWff7n8vaG0+WQkbT4ZyYpde7h30lTWxO1lT3IKTSqaB0TBkGDqlY1ia+L+gPRsXLWDMtHhRJQrQXBIEK06X0rMT2vO6LPBIUE8O/QO5kxemhFJHSjrtsRRLrIYUeFhBAd5aNu0Or8t3eJXplp0aQbd1Y6B/5vCgeRMp4lHhLAiJliscoVSVKkYzuJV2wPWtPGPWMpcVJqICiXNNerSgJiZ/v9vzMxVtL2hMQAtOl+WMS6cv2AI+QuZgLFLW9Yg7ZiXvzbGBa6nkq+ehsTMyKJnxira3tjkOD3xO/dTt0V1o61QPmrUv4gdmwLTs2pPHBWz1unNPnX6339p9MFQWg8dSeuhI1mxew99J5s6vTs5hcY+dfrSMlFsCbBOA6yKiyO6WDHKhRlN11SvwZwtW/3KhBcunPG+beXKbHbOO397LM2jKxKWPz9h+fPTPLoi87cH3sg8FW2awXczTfT0irUQWhhKl4RmjWDBEhOgdTDFvG/WKEelnJfkyPQlVZ0lIhcDCx13bypwK7DvDMrMAO4VkXUYd3SM85GywCifaOwnnb+3AJ+IyDNACGYsd+Up5I0DXgEm+Ow72Xe8gHFZHwDmApXO7kqcHm+alw8fHMmQ6U/hCfIwc9Q8Yv/cSe8XerBx2VYWTlvG9JE/88SYBxi94T1S9qcyuOd72S0jgzRVXpw9l5E3XU+QCJNWrWVzQiIPtWjC6j17mbt560k/+8Wylbx2dXt+vKsXIvDNqrVsiA/MpehN8/LJ85N5Zcw9BHk8zJq4mL827eW2RzqycfUOFv20lmp1yvPs0DsoUrQgl19Zi1sf7si9Hf5Hi6vrUbtRZUKLF6ZtdxMA9/ZjE9i6bvd/1pPmVd4eOZd3nupGkMfD9/PWsG1nInf1aMr6rXv5bdkW+t3akoIFQnjlkc4A7E1IYdAbUwgO9vDJizcBcOjvf3jxgx+zxTXtTfPyyZNf8sqX/QkK8jBrwu/8tWEPtw28ho0r/2LRzFXMHL+Axz+8nRExL5KSdJjX+o4AoGipUAZ/+SBer5fEuIO8+cDobNLzFa98/aC5Z+l6BnVm44pYo2fcAh7/+A5GLH6JlAOHee2ezwCYNvIXHn2/F0N/fQ4RYdaE39n+567TnPHUpNfpUTeYOj1x9Vo2JSTyUPMmrInb62eUs/LF8pW8flV7pt/ZCwEmrQ68Tmdomvszo7t1w+MRJq1Zw6bERB5u2pTVe+OYs2UrvS+9lCsrX0SaVzl45AgDZ84A4OCRI3wYE8OUW24B4IOFMRz06T3/Fwa8aHq2SQehdXd44A5Ij1m76Tpo1Rjmx0CHns70pSfMsWJhZsrSDX3N9v29zT7L2SG5OWaWFxCR7sB1qnpbLp1S2wXdmEunOj2z076i6pB33Jbhx6YnH6FTpUfdlpHB9G1v0/TGt9yWkcHvXw2gU8R9bsvIYPreT+gUfq/bMvyYHj+UKq/nnXq9edAjVH7rbbdlZLBlwKN446q5LSMDT+TGwObInWfkekIPN3ECvToBV7mtxWKxWCwWOE8NsYg8DfTIsnuiqvZ3Q4/FYrFYLCfjvDTEqjoYGOy2DovFYrFYTscFkYbSYrFYLJa8ijXEFovFYrG4iDXEFovFYrG4iDXEFovFYrG4iDXEFovFYrG4iDXEFovFYrG4iDXEFovFYrG4iDXEFovFYrG4iDXEFovFYrG4iDXEFovFYrG4yAW3+tK5iojco6rD3daRTl7TA3lPk9VzevKaJqvn1OQ1PecLtkd87nCP2wKykNf0QN7TZPWcnrymyeo5NXlNz3mBNcQWi8VisbiINcQWi8VisbiINcTnDnltXCav6YG8p8nqOT15TZPVc2rymp7zAhusZbFYLBaLi9gescVisVgsLmINscVisVgsLmINseWCRkTkRO8tFoslt7CG2JJnyG1DKCIh6gRJiEiQXsABE7YRYrG4hzXE5yEiUthtDacjS080VEQkNw2hc43eEJFyIvIKcHdunds5f54xfCJSELjIeX+xiBR3WdJpEZGizt88cx19yau6LHmTYLcFWLIXEXkQuFhEjgGfAWtUNc1lWcfh0xMdDRzGaO6nqn/m0vkPichm4C9gtqo+kxvn9Tl/+v9/L1Abcw2+U9UFuanDoSpwrYgUAG4BrgQOuKDjtDgGrhLwvojcrKopbmvKiohUBy4FvsztBuaZkJc0iUg7IFxVx7utxU1sj/g8QkRuAboBTwJdgG550QinIyJDgFRVvR+oBzTzOZYjPYos37sA+Am4TETKn6ZsTmi5H+gOjAIaOe9zHVVdBYQCjwPDVXWrGzrOBDVsBQ4Cj7mtJytOnekItIPMBldeQERCRMSjqioizUSkk4hc7qKeesDzQK40vvMy1hCfB4hI+n2sDDwDXI+p3C87xwu4JM2PExi2Q8CnIjICGKeqn4pI6fSHRU6c36cnejHGW9AeeBFYLiJVnGPdcmnMuDimwdQU+Bt4XETyi0ipHD4vcNz9GItpwFUUka4iUswpE5IbWk5Fev0WkVIiUsTZ/S6Qp4ZgRCSfU2eGAzVF5Ca3NaUjIqWB94HyItISmIhpMIxwGvC5rScaeBDYp6ornH0XrDvfuqbPD6KAXcAe4FVML7MDgIg8BRwD/ueevOOMYB2fXtgXwFRVfdop+hawFHgvB88/CuMOThORB1T1QxHJBywUkR+ACODbnDq/D1HAMmCtqnZyyvUBjonIaFX1ZqeGE+kRkY5AHSAEU3duAa4FUkWkEMZb8IqqHs0pLafQWABIU9WjTu/pXcw92gWMBNqJSDdV/Sa3tWVFRGoBV4vIH6o6W0Q+BMKdY56cvJdngqruc+IiXgV2ALeq6lwRaQsMc6pDbrqHU4B1QAcR6aqq3zr1Mc+4zXMT2yM+xxGRGsAqx8U0y9k9XkSiReQGoAfwvWsCOc4I3gyMdh6sQ4EgYL2INBaRN4DSwEfZrcHn/I8AR1S1ITAD0wttqapvA7djDGNnVfVmZwvd5/zdROQ6ESkBvA7sBNY4x+4AHgZ+y+kHt/PQ6wS8AizCuMU/VNUvMA2hrpjG20o3jLBDc2CAiHRx9LwITAZuBB4AEoGuIlIkD/SmSgFHgLdE5AHMGPFtInKRm0ZYRPKlezcwKyftwbjNI0QkWFV/cva/IyK9clCHOH8vF5EmmN/5m8APQCsRuQbylis/N7EpLs8DROQeYABmfLgw0AuoAAjwpKqudlFeBmICsxSoCPwLpPfW7wfyAWnAfap6zHENBzy+naUR0BJjXH5T1cecfU8A9TFjo7N9PpcT578F4/7dCmzDjE//hXEZxmN6yHfndMCaT2/4DRw3KmZ8+FZV3e6UCQWKqeqO3O6liEg5Vd0pJjJ6Eub+3KSqs5zjIUALjEHpAlyvqutyS5+jIf0a1sf85jaqapyI1AQaY7wMfTC9+BcBb24bGREJAto6m+WByzENmCEYQ/gisNn5P9oBR1V1Xg7quQYYDHwJtAE+VtUpYgJMawE/qup3OXX+PI2q2tc5+MI8iMr7bPcBNgM1ne3CQJjbOn30dQJ+ct5HY1ygM4F6PmU8zt+gHDj/Zc7f+4BpmEC29GODgVdy4Jzi874Y8DRQBuMGfhzTI2jpHM8PFM2lexHm/H0XGI9pEFRx9nUHevtqd6GujMYMHXiAT5z79S4QeoKyAzGNCU8u6gt2/nYCNgLPAfuAFlnK3Q18A4S4eC0bAAsx7uibffZ/BHwOXOx77XLqvmMi838FyjnX5Q/gZ+Bm5z4/mv7suhBfrguwr7O8YabShmDczUOdip1uwIZi3HWXu63zBLq7pBtiZ7s8xi01Pd0YOfuz/UHgPNQPYXpOYFxxnwHdc+q8WR5uA53/dUd6AwCIdIzxZ0CHXLj+6d6vGpggvgjgMiAJuNc51gxYD7RyqY74NlyigS+d96HAMIzXAoy3p63z/g7ga3Kg8XYCfRFZ6tQfmADJDkCcY5TbZ/nML0A7l6/lW5jG1o1AJZ/9I4AJQKFc0FMW0+ttDqxw7u8jGO9QLzfqW1562THic4/iasbsbgAKAIMwlRzMWN83GGPsGr7jdSISAaCqU4AUMckzUNUdmB78dqC1OKjzq81OVHUNJpL8f05gyHAgBrhZRK5wymg2jwl7AZxgmCuBfpgAtBEi0khV44BxwGrMgynH8HGjdgLexvR4H8f04roAg0RkJPAB8Jiq/pKTek5G+r0XkaZqXOQ1ReRrNXOFB5tD8jOmUXPY+ZgHeElzeJqeUzemiMhXjtY1GK9OFDBYVSMx09CmiUhLEfGImRJXEtiUk9pOpNW53zXEROA/jxm66oIJjsovImUw8QEvq+rhU3zdf9bg/K3unOtvVV0LVAE+de7vPmAqpgFzYeN2S8C+zvwF9McY28EYl1M+zI9/BKbHsBIo47ZOH71DMa7PNzCt4csw40OzgDFkTqEYSQ64FjEusJpk9gavxLTAOzrb12b3eZ3/8TbnfS1McNEEn+P9MA+gZs52jvfknPPUxvR2LwY6A+9gesbFML3zikB1p6ybbunGmPHzis52DPCN8z4YuBdo41M+N3rCvr3L9cD7Ptt9MUFuYMY9f8HxSGFiNIrn8vVLr+vtgN2YHu87mDHhRs7v8V1M1HLjHNbSCVgFPItpjJTGBESudH4HsUATt+paXnq5LsC+zvBGmUo9ARN88TImwKcVxk3dBeP+rOW2Th+972HG9yKABKeh0ArTeLgdZ7zKKfNuNp1TsmyPdR481XDG6ZyH0FHfB0B2GWNM76yBY9iinX13khnpG+TsG+AYmwLZde4TaKkAvOmz3Q6Y6bPd2DFybwNV3a4vjqZKjqa+Wfb/Bsw61b3OJX21gNcwvfGPnH3NMQ3Kdx0Dk6PG7Qx1NgFecgxvHccQfoaZThWNCepsmcMaqjr3sjLGc7AaJwbC+f0/CVzl9rXKKy/XBdjXGdwkqOsYs/SxvPLAQ46xu9ZtfY4m315DOUxgUgFMz3eY88CfRWZwUj7gCeDzE31HgOevBRR03r+CcQHXcLYHYjIyZWtPyvf7MO7IH4H+znZfjNvX1xjnaE8JE6y3CqeRAxTFDFvcSGav6VVM465XoNc/mzRXcozaCkzaQ99jizGNHFc0OsZtJ6YxeRWmZ5xujNthvFSdXL5+Qc5rLbDFZ39tTKKfcWRpdGXn9czyGyyBCcDq5ty79GDAtum/zbxQ5/LKy3UB9nWGN8pE2MaS6bIr4xiy1zhBNGkua/P9AY7EuD7Tp5h85eyPxIwJ9/UpW8/nfXb1Sj/GRGN+RabL8CWMS3yu88rW6GzHyKUHgrVz/v8rHKOS3ni6CzOMkB6slWMPIDJ7/5djpkd95qPhLcz0lXaY+cIDMeN0+d2qN5jee4Tzvgimd/lFVmPs5gszrPGOz3YYxvX7TpZybvTU069jejR3KCaz3nCfMnUw0d2X5LCWphhXeD6nQRDv83tr4vz+Krt9P/Pay3UB9nWKm2PGMO/A9IhDMfNuF+FEPjrGLVfHoE6j9xmcXoKz3QATjFUfEzDy6YkMbnY9vDDjTj9ipgJdhBk7T4+0vQy4xudhlW0uYUyqyscwUbTLMb0SD9Aa45a+xynXG5/I2xy+F50xCUueAPZipqsUBlpi3JRfOfelKWZ6UOFcrivpD+erMT33YcC3Ptfzf861yxPG2Gm4LAeK+OwbghlrreWGAXY0pBvhNk4DZqCjpwAmUcwnPmWL5IKOCOc3WNx5bv2FcUPf5/w+rnP7XubFl+sC7OskN8ZkWPrVMW6rgKud/U9hogyj3daYRW+ko2tOlv0PYQJYpmW3Ecz68MP0+B513odgIlq/Bi7KUi67esK+noA7MMMHk3z2FXIM30zgrly6D0GYhshUMl3OIc5D8FOfcvkdI7gMH89ELugr7PO+OWbssBJm3NCLSbYCxr3/bm5qOwPtH2B6mg0xDZ2vcQLcXNbVCtPgvRPT4Bru6CuI6bUPz0UtBTGNqhud7Uuc+/gczjSurL9b+7KGOE++MNORxjvv78OMrQY5D9RgzNSTSi5r9DVC6QkiajgP/JezlA0n+93BvufvixmXbofJud3I59iP5MC86hM0AoIwEdqvYsbFSzj7L8bMzy2bS/clfWz8f5hsVOn7azmG7h2ffb1wxs5zSVsRTOPyeh9NdYD2mKQToRh3eboxDs4tbafR7TsnPN2z8zPQ9WT1IZf19QPud96XxEzV+9TZLgq0zuHz18SMA7d2fuuNnedAtNv37lx52RSXeQwxq5Lswoz9VsK0MK9R1TQnF+wvqhrrokQ/RORdjMszFtML+wfTIv9FVZ/LUjbbk9+LyBhM46Sfqh4Qkd6YqPJXMK6xCkAXzcZ5plnSVj7onCdFVR8WkUiMK644ZhihDjBQVQ9m1/lPoasypkfUBzMeNwDTK97s5PZ+EBijOZjG8Aw03oJx4z+jqj+IWVnpPWCVmtW3HsS4069V1aVu6XS0+t7njLrrzJEtqKqH3VikIOs5ReRuzFS961R1j5Ma9FvgQTXznXN8DWIReQzTkGqOaYi2A0aqWVgiWFWP5dS5zwfs6kt5CCdPbT+MO3o/ZvrBQ44Rvg2TvGOeewr9EZE3Mb30dzE9hE2q+pWT+/pbEdmhqp+ml88BI9wBkw/5WmdbVPVzEUnErG98gMzrly25o8Ev8cRVwK0Yw/KiiMxQ1Y4i8oKzrydmfDjHjbDDQUzE8YeY3m4UMFREdmB6K3eq6jw3jYeqjhMRBV5zjNs0EdkDVBWRuzDj+Feqe7mjq2CysP2tqknpBlidRUCc6+ZRJwlGbl/H9HOKSDPM8+FbYApOpjbnN1nIef3j+5mc0OJzX990coDXxeSOb4CJ02hqjfDpsT3iPISTiWcyJso3BjP/LxpIxYy13KQmO43rOD+6IZj5zI9hHk4POIsFHMFZmjE7e6In0HAFptHSGTjsPKDyYYJS9vuUy4kFHNphep4zVXW0s28uZmWnq5ztIqqaGuh5z0BXFVXd7Lwvien51sPM3yyJibA/pqpLclrLqRCRNpg6sVHMKlxPYbRuwYxvNsK4VCe7pK8TxhP1LSZzXQtVTcxSJshp2BXGxB7k+oIqjhEehgnGKoIJvkvGNLauxqxt/a6qTsplXR6nwZIf00AfiRmf/ik3dZyL2BSXeQARqSgixdWkfXwOM+aZhjHIT2GifzvlISPcFZOR6QBmOkKQqj7gHH4Lk7nqr/SeaA5K2Q5swET+pi8S/xIm+1IGOdATLoKJRC4CNBSRSs7xKzDLy011PnIoO857ItKvq+PanSIizzsaEjE94iOYlYtQ1YVuG2GH5sBKEamqqhMwDbm3gWqq+jzGtTo5O1ONnikiUh14ATO+ugWzKpiv+1d8jHAxjLHOteUNfVJGhmEaVv1V9SZMrvarMGPBL2LG27uq6qScvo5Zv9/H4/Wv0wA9iMl5YDkN1hC7jJgFxZ/D5CCuByzBRJJWUdUEVV2jqnNUdaebOtMRkWoYd2wBYD4minShiISLyP8wY7LT08vnZI9YVbdiFhfvCnwtJl9yU0ygUo4gIpdhWvoHMVNFigJXOWP7qGp9zFJzOeIOdDwOOAahJWYs7j3gdhHp5xyLx9SjQziL07uJYzxQ1ZcxDaUFIlJdzUL07wEfiEhpjPFzxd2L6VGOxbhW+2MCyvaLSAcRKeS4X9ON8ERMfulcaxg73p5rMUFRgzALl6CqH2GmVd2M+R0ccO5/tl5Hn4ZAFRGJEpFijqYT2ZAgESmOqXsx2aXhfMa6pl1ERKIwE94rYhJApK8k0xuzmsu16t6i7CdFRD4AIlW1h+NibIZp+R7G5FnOtvWET6HB101cE6iO6RV/mZ3nlywBZiJSG/PAi8b0oNIzCK0BvtYcDKQTkUKYucHvYZIlfIt5CO/ATJOqhBmvj8M0Bu5QJ1jHLUTkYszUpMmqusjZ9xTmmjVT1Q0iEqWqe3JZV/qYcB1Mz3cvsAATcBTlHGuC6WX2VdVtToPiB+ApVf01l/VWx3gQ3sH8zj4AflbVp53j/TDR5itzUMMZu+6d981UdUFO6Tmv0DwQun0hvjAPoqmY8Z27nH0NMOOd8zCLE5R2W6eP3mtwJuNjpuoMxQRipG+Hkdmwy/YpSmdznGya9uL7/UBzn/cXY3olozGJ7BtgIsVzPLkKphGwCDMkkH79q2AM71hM1PQYfKbWuFBXfK9bpHNtXsMnRSWmx74HMysg19YSzqLzOsw86vQFOBphElA8hulxrsAnAQUmAK6RCzojML3wmenPBMxUwZ+Bt3NJQ3Wn3lUGbsPkNijhe8/JTN9awtFa2606eK69bI/YBZxAn2dUtZWIzMfkre2r6TXauB+Lqovu6Cw9zrKYcdcGmAfVe872VlV992Sfy8bz34H5oc8BdmsWL0HWXmt2kOX8D2J6muNV9VZnXx1MfuF/MZHuB1T1n5N8XbYiZmnFb4A3VPUVJ3CuEyaxw2OQuaxjdtyL/6ixGSaOIAEzN/gNzLWahhlb7YLJpOWK69LpqY/FrEm93RlaKIQJjByAyZj1i6rO9uk956iX5zR6u2Gi8KcAP6pqojOs9RnG47AxJ++1473rhkkQ8gTQU820uA7Ar+pEkfu47l9Rl5bTPBex05dyGTFTe+oCI0WkLybC8QHnh14JiFWz/mqKixp9jVBtYL+qPuu4Rt8DemDyGPcVkd9VdXH6Z7PrYeBz/pGYwLUjmGxjN2LGhX21ps/v7Im5fgG7w3zO3xWTNL8G8IWIjFbV21V1lYisx/yGPLllhB1tP4nI7cAbIrJFVSeIyEGMezocM9yRbffiTPExWE0xKTQnYSJ5f8QYtxcwDbhWwH1uGWGHYxh39LUiEg5ciuntPauqD/kWTL+Obhjh9Guqqt+ISDAmKtorIjNVda2ItFXVbA8KPInr/iGOd90PwGTUS3fdT8MF1/05j9td8gvphRNUhJlW8htmjCf92KOYKQkhbuv00fQFptewCXjE2efBZLG6HzNWlGPrwWKibNMzBI3AyQpF5qIGvise3YwZp62Zjecvixl/neBsF8EEp30BPILp6ZVz8f50xsw3/w5j+DrngTrTAhMJnZ7OsJBzzR7zuYa5nvSfTJd4UaCQ874XJtPXdZghhhtxMlTlpRf+rv4emAZOr5x+VnCOuO7Ph5frAi6Ul89DfYSzPQITQdoDE5z1B3loTAXjik03gvMwvaznTlI2u8aEw3ze13AM/muY8dAPfY49lv4wdbZ7YqJJs80I+3z39ZjewC3Odn7MFK23gTp54D5d7zRAmjjbbi8+8BImWruXz7H6mPF0V1JW+mjrgnHtfodJGuJ7rLlzHdu7fU+z6j7B+5uBujl87osxDc1oZzsak8qyAsYr9gpZckdn13PgQny5LuBCejkPzX1AB0wKxHsw68F+mpeMsKO1Bab3MhKTX7cqxo3+Qk784DAu3hsxUaGfYdJERgPjMb29UKfcW5jpUem5qztheuzZboR9tF2DCU65xWefKwFGJ9FXwsVzpz+Ew332PQSsxOn5Yua5/oaLy3VipnktwQQ+jXfqTE/MOHYNzDQb19b29rmOVTDJcIo5256sZXJJT1VMhPiDmJSx32OGhLq7dY3O55cN1splRKQzZmGAp1R1mrMvn6r+666y4xGRMphGwq1q8jhPwhjjXpoDFccJmJmLCeapqar/ismedQ/GUOfDzF++Ss0UJQ+mlX5YzZziHMOZujEceFhVv8nJc51riEhHzNDKPkwyjCGYubj3Yx7gURj3fq5fN5+xzvswrtTSmPnfEzANhtcwY9geVd3lcoDbmUwPCnbqfiFMroFV2XTu9OtUFDiqJo92L0wO6zcxi3K0AUqq6sfZcU5LJtYQu4DPQ/0RzeU0dGeDmAxSb2AiX8th5i/2V/+8u4GewzcwrADGtVkIMxb9tNMAqIAJEimFmSuZrbmjz0JrO2BLThv9cwkncvc7zBz4UMwSgVVU9TYRGYhZPay3qs7PzXvmY1gKqxPMJCIFgS8xjeC1IvItZu75baq6Nzd0nUJvdcy0s56YpDSPY1ZN2u8cF0xjIT2pyNeY50fASUV8rlUXTAS2AO+r6hyfY80xUxYfVdVZgZ7T4o/NrOUCqjodk6d4udtaToWaNHXfYyK4C2AWUPA604Wy2whfhRmnexEzPn2EzAxZrTHu8F+cB5Ent40wgKrOtkb4uNSG+YHZaqJkZ2BiH9JEpKWq/g/jBh4hIhVy8545xqMT8L6IPCMirTGLICQAN4vJShaCiXtw1Qg7uJbZy7lW7YCnMel1D2EWC+kJFBWRGphe8VPWCOcMdvqSS6jqbDfPf7oerc+0iR8wY0Xp+7NtSTMfIzwekxAkFLOc4teY4J77nSlCW4FxPp/LtRy/luNxHtzNMJm8QoAeIjJNVX8EdorI30A1YL6qPi0iRzFJX3IcycwH3RxjPG7GxBxEYxJSfIkJkBwKDFL35jHnielBPs+BKpjx4MaYTH/vYRrFBTGu+25uu+7PZ6xr+gIkS08015NlZPn+TsC9qnqds/0QZt7uY6p6UEzCgJ98esLWCLtElnnCIzBTW/Zixg7/BUZhUm9+hLmnC3NRWxXMdJ51znzb+zGNuj2Onu6qGisikaoaJyLlVHWny2PC12HyzD+oqgtEpBFmatL7mB7y/cDzqvqdU74XsF595u0HcO5zynV/vmMN8QWM+CfLaAXcqD7rwGYx2NmWLMPn+7tgUue1Bgaqs6SciMwGJqrqcJ+yrmU1smTiGIvXgSdVNUZELgKuxYxrlsAYv2mqOiWXdd0LfIyZUrbGCYp8EtOju1pVd4tID8y0nJfd7tVJHsjs5TSCuwPbMFHt8zHBmXuAWZigtlfc8hpcSFjX9AWK47pLU9W7RWQEMMfpTYSo6lHxT96evnbsDdl4fg8mQUAVzAOgtogcVdX1mKklftmCrBHOMxTFZPC6AjPlZwdm6KAcZr3s9CxnudrTVNWhTrDfLyLSAvgFE4exAFARqY9Z3/tJt42wgyuZvc4V1/2Fhu0RXyCISJiqJjvva2Ba3g9gjOGf6qwnLCKPAR9rZu7YnpjUkrer6p/ZpKW4mmjofJipGocxPamajq4ooE12jUVbshfHpfoWxmhMEJFWmIf61UC8m4ZORB7GBB1djpkjfBOmt34Y+EhVv3PDHe3Tq3VletC56Lq/kLA94gsA54fXSUQaY4JBtmDmUVbAZMx60in3FsYYvu1sd8IEbFyXjUb4duAyEflFTf7cEZhpSTMwBrg8ZjEAV6YoWU6PY8y8wDgxixF4Me7efbmpw8e4NcQMcSxX1XdF5BjGsDVV1YFi1jpWVY132Qh3wZkeJCLvq+oYERnrHGuO6bE/mkMy2gIfi0i6634bJ3Hdi8jL6iw4Y41w7mB7xBcIkkeSZYiZE9wIk63nM0yGsQ6Y1aeW+5SzRjiPI2ah+peAcar6hoiZ1pSbD29nLHgIZkrP9cDrqjre6Rm/jsl9nGNr9J4pYqYHvYrJ0vYOZr7185iI5EjMLIFXVXVqDmp4GGPsWwA7gc8xrvtxQBlMsN2TamZKWHIR2yM+j8nS+o/DRGQWAt4VkadVda6IbObkyTKyfVF5Vf0L+EtElmPSUwZjchHfCCxP12yNcN5HVaeKyBHMSmJbVHVybp7fCXjqgBmvro0xxD872t4VkSBMJi3X8PkNuj49yLkmYMbPL8c0hm/CNGIOY4YafrDu6NzH9ojPU7JEPF+FmV6yEOP+vR+T9/duZ5xqhTqp8iQXpwj5BI7cDYy0xvfcRHIx45iPm7cpZrWy+RhPTk3gZicCuTOwTlU3+34mp7WdRKdr04NO4rr/U0QewPSMm6rqFrdd9xbbIz5v8THCeTlZhtc556eO1mxLFmLJPTQXk9M4hiW9NzcQY8iewcw73y4mCcabmCX5Nqd/Jrf0ZdHZCejujMemTw9Kz+w1ixzO7OVo8HXdPy4ir6vqh07cyJ8i4ue6t0bYHWyKy/MY50FQWFWvUdVWmAQM12HmA9+LyeTT2emV5npdyPqjt0bYcoYUxcw9r4xx6/4O3CVmXvwIYICqLnJDmOMOT58e+CbGBX0tcCsmHeiXGHf5UGCY5uD0oCyu+/RMXBmue8yURFdd9xaDdU2fp4hNlmE5j3Hq9/8wU/BmAw0wEffbVPWP3Hax5pXpQeeK697ij3VNn4eITZZhOc9R1SnONKXXgFKqOh6z3nD68dw2LHlietC54rq3+GN7xOcZYpNlWC4gxCQXGYIxhHG5HOOQVcvD5IHpQSLSHpiOGXoaiTG8JTDPgsYYD9n3OanBcnZYQ3weIU6yDEyO2m9E5HpssgzLeY6IhKtqvNs6IO9k9sprrnvLqbGu6fOLuZhe7ytOAo/0ZBlLneCVRWDHhC3nF24Z4ZNMD8oTmb3yoOvecgps1PR5hKr+paqTMDl/j+CfLCNjQXdrhC2WwPGZHjQKE8E9QUR6quqHGHf5nyJSV1X3pTcWctMAOu7nF4FnRKSMGzMjLGeG7RGfh6jqVhEZ6rigt2DGiWwr2GLJRs6FzF6OK/z3vOK6t5wYO0Z8npLVBWaTZVgsgWOnB1lyAuuqOE+xyTIsluznBNODfsYM/zybZXpQSd/PuCLWcs5gDbHFYrGcHXk2s5fl3MS6pi0Wi+UssdODLNmJDdayWCyWs8ROD7JkJ9YQWywWy39AVb93IqOHiMg8XM7sZTl3sa5pi8ViCYC8lNnLcm5iDbHFYrFYLC5io6YtFovFYnERa4gtFovFYnERa4gtFovFYnERa4gtFovFYnERa4gtFovFYnERa4gtFovFYnGR/wMAlzmbXg3NIgAAAABJRU5ErkJggg==\n",
       "datasetInfos": [],
       "metadata": {},
       "removedWidgets": [],
       "type": "image"
      }
     },
     "output_type": "display_data"
    }
   ],
   "source": [
    "# Convert to Pandas\n",
    "df_corr = train_df.select(numerical_features_target).toPandas()\n",
    "\n",
    "# Plot correlation matrix using a pretty palette\n",
    "plt.figure(figsize=(8, 6))\n",
    "sns.heatmap(\n",
    "    df_corr.corr(),\n",
    "    annot=True,\n",
    "    fmt=\".2f\",\n",
    "    cmap=\"viridis\",\n",
    "    square=True,\n",
    "    linewidths=0.5,\n",
    "    cbar_kws={\"shrink\": 0.8}\n",
    ")\n",
    "plt.title(\"Correlation Matrix of Numerical Features\", fontsize=14)\n",
    "plt.xticks(rotation=45)\n",
    "plt.yticks(rotation=0)\n",
    "plt.tight_layout()\n",
    "plt.show()"
   ]
  },
  {
   "cell_type": "markdown",
   "metadata": {
    "application/vnd.databricks.v1+cell": {
     "cellMetadata": {},
     "inputWidgets": {},
     "nuid": "172d4a13-3d3d-4692-8231-cbb269cf9e5a",
     "showTitle": false,
     "tableResultSettingsMap": {},
     "title": ""
    }
   },
   "source": [
    "---\n",
    "## Model-Based Importance for Decision Tree\n",
    "---"
   ]
  },
  {
   "cell_type": "code",
   "execution_count": 0,
   "metadata": {
    "application/vnd.databricks.v1+cell": {
     "cellMetadata": {
      "byteLimit": 2048000,
      "rowLimit": 10000
     },
     "inputWidgets": {},
     "nuid": "a7bf7b2c-d53a-4c3c-bc24-b59ce55736da",
     "showTitle": false,
     "tableResultSettingsMap": {},
     "title": ""
    }
   },
   "outputs": [],
   "source": [
    "# Split the data\n",
    "train_df, test_df = df_final.randomSplit([0.8, 0.2], seed=12)"
   ]
  },
  {
   "cell_type": "code",
   "execution_count": 0,
   "metadata": {
    "application/vnd.databricks.v1+cell": {
     "cellMetadata": {
      "byteLimit": 2048000,
      "rowLimit": 10000
     },
     "inputWidgets": {},
     "nuid": "992ec386-580f-4ee4-b995-f5272b1cd8ee",
     "showTitle": false,
     "tableResultSettingsMap": {},
     "title": ""
    }
   },
   "outputs": [
    {
     "output_type": "stream",
     "name": "stdout",
     "output_type": "stream",
     "text": [
      "🔎 Feature Importances (Descending):\n\nbudget: 0.4938\nROI: 0.3851\nvote_count: 0.0962\nruntime: 0.0149\nrelease_year: 0.0080\nrelease_month: 0.0014\nadult: 0.0007\nvote_average: 0.0000\npopularity: 0.0000\nrelease_day: 0.0000\nreleased_bool: 0.0000\nen_bool: 0.0000\ntagline_bool: 0.0000\ngenre_action: 0.0000\ngenre_adventure: 0.0000\ngenre_comedy: 0.0000\ngenre_drama: 0.0000\ngenre_thriller: 0.0000\nprodco_warner_bros_pictures: 0.0000\nprodco_universal_pictures: 0.0000\nprodco_20th_century_fox: 0.0000\ncountry_united_states_of_america: 0.0000\ncountry_united_kingdom: 0.0000\ncountry_china: 0.0000\ncountry_germany: 0.0000\ncountry_france: 0.0000\nkeyword_sequel: 0.0000\nkeyword_duringcreditsstinger: 0.0000\nkeyword_based_on_novel_or_book: 0.0000\n"
     ]
    }
   ],
   "source": [
    "# Use full train_df with all features + target\n",
    "all_features = train_df.drop(\"revenue\").columns\n",
    "\n",
    "# Assemble features\n",
    "assembler = VectorAssembler(inputCols=all_features, outputCol=\"features\")\n",
    "train_assembled = assembler.transform(train_df)\n",
    "\n",
    "# Fit Decision Tree\n",
    "tree = DecisionTreeRegressor(featuresCol=\"features\", labelCol=\"revenue\")\n",
    "model = tree.fit(train_assembled)\n",
    "\n",
    "# Get feature importances\n",
    "importances = model.featureImportances.toArray()\n",
    "feature_importance_list = list(zip(all_features, importances))\n",
    "\n",
    "# Sort and print\n",
    "sorted_features = sorted(feature_importance_list, key=lambda x: x[1], reverse=True)\n",
    "print(\"🔎 Feature Importances (Descending):\\n\")\n",
    "for feature, importance in sorted_features:\n",
    "    print(f\"{feature}: {importance:.4f}\")"
   ]
  },
  {
   "cell_type": "markdown",
   "metadata": {
    "application/vnd.databricks.v1+cell": {
     "cellMetadata": {},
     "inputWidgets": {},
     "nuid": "7438e7de-a945-486d-bf7f-8f0c72779df6",
     "showTitle": false,
     "tableResultSettingsMap": {},
     "title": ""
    }
   },
   "source": [
    "---\n",
    "## Chi-Square Test (for categorical/boolean features)\n",
    "---"
   ]
  },
  {
   "cell_type": "code",
   "execution_count": 0,
   "metadata": {
    "application/vnd.databricks.v1+cell": {
     "cellMetadata": {
      "byteLimit": 2048000,
      "rowLimit": 10000
     },
     "inputWidgets": {},
     "nuid": "55346776-384a-4e60-831b-b4f576abf388",
     "showTitle": false,
     "tableResultSettingsMap": {},
     "title": ""
    }
   },
   "outputs": [
    {
     "output_type": "display_data",
     "data": {
      "text/plain": [
       "\u001B[0;31m---------------------------------------------------------------------------\u001B[0m\n",
       "\u001B[0;31mIllegalArgumentException\u001B[0m                  Traceback (most recent call last)\n",
       "File \u001B[0;32m<command-1292540715583090>:10\u001B[0m\n",
       "\u001B[1;32m      8\u001B[0m \u001B[38;5;66;03m# Assemble into feature vector\u001B[39;00m\n",
       "\u001B[1;32m      9\u001B[0m assembler \u001B[38;5;241m=\u001B[39m VectorAssembler(inputCols\u001B[38;5;241m=\u001B[39mcategorical_and_boolean_features, outputCol\u001B[38;5;241m=\u001B[39m\u001B[38;5;124m\"\u001B[39m\u001B[38;5;124mfeatures\u001B[39m\u001B[38;5;124m\"\u001B[39m)\n",
       "\u001B[0;32m---> 10\u001B[0m assembled \u001B[38;5;241m=\u001B[39m assembler\u001B[38;5;241m.\u001B[39mtransform(train_binned)\n",
       "\u001B[1;32m     12\u001B[0m \u001B[38;5;66;03m# Apply Chi-Square feature selection\u001B[39;00m\n",
       "\u001B[1;32m     13\u001B[0m selector \u001B[38;5;241m=\u001B[39m ChiSqSelector(numTopFeatures\u001B[38;5;241m=\u001B[39m\u001B[38;5;241m10\u001B[39m, featuresCol\u001B[38;5;241m=\u001B[39m\u001B[38;5;124m\"\u001B[39m\u001B[38;5;124mfeatures\u001B[39m\u001B[38;5;124m\"\u001B[39m, labelCol\u001B[38;5;241m=\u001B[39m\u001B[38;5;124m\"\u001B[39m\u001B[38;5;124mrevenue_bucket\u001B[39m\u001B[38;5;124m\"\u001B[39m, outputCol\u001B[38;5;241m=\u001B[39m\u001B[38;5;124m\"\u001B[39m\u001B[38;5;124mselected_features\u001B[39m\u001B[38;5;124m\"\u001B[39m)\n",
       "\n",
       "File \u001B[0;32m/databricks/spark/python/pyspark/ml/base.py:262\u001B[0m, in \u001B[0;36mTransformer.transform\u001B[0;34m(self, dataset, params)\u001B[0m\n",
       "\u001B[1;32m    260\u001B[0m         \u001B[38;5;28;01mreturn\u001B[39;00m \u001B[38;5;28mself\u001B[39m\u001B[38;5;241m.\u001B[39mcopy(params)\u001B[38;5;241m.\u001B[39m_transform(dataset)\n",
       "\u001B[1;32m    261\u001B[0m     \u001B[38;5;28;01melse\u001B[39;00m:\n",
       "\u001B[0;32m--> 262\u001B[0m         \u001B[38;5;28;01mreturn\u001B[39;00m \u001B[38;5;28;43mself\u001B[39;49m\u001B[38;5;241;43m.\u001B[39;49m\u001B[43m_transform\u001B[49m\u001B[43m(\u001B[49m\u001B[43mdataset\u001B[49m\u001B[43m)\u001B[49m\n",
       "\u001B[1;32m    263\u001B[0m \u001B[38;5;28;01melse\u001B[39;00m:\n",
       "\u001B[1;32m    264\u001B[0m     \u001B[38;5;28;01mraise\u001B[39;00m \u001B[38;5;167;01mTypeError\u001B[39;00m(\u001B[38;5;124m\"\u001B[39m\u001B[38;5;124mParams must be a param map but got \u001B[39m\u001B[38;5;132;01m%s\u001B[39;00m\u001B[38;5;124m.\u001B[39m\u001B[38;5;124m\"\u001B[39m \u001B[38;5;241m%\u001B[39m \u001B[38;5;28mtype\u001B[39m(params))\n",
       "\n",
       "File \u001B[0;32m/databricks/spark/python/pyspark/ml/wrapper.py:400\u001B[0m, in \u001B[0;36mJavaTransformer._transform\u001B[0;34m(self, dataset)\u001B[0m\n",
       "\u001B[1;32m    397\u001B[0m \u001B[38;5;28;01massert\u001B[39;00m \u001B[38;5;28mself\u001B[39m\u001B[38;5;241m.\u001B[39m_java_obj \u001B[38;5;129;01mis\u001B[39;00m \u001B[38;5;129;01mnot\u001B[39;00m \u001B[38;5;28;01mNone\u001B[39;00m\n",
       "\u001B[1;32m    399\u001B[0m \u001B[38;5;28mself\u001B[39m\u001B[38;5;241m.\u001B[39m_transfer_params_to_java()\n",
       "\u001B[0;32m--> 400\u001B[0m \u001B[38;5;28;01mreturn\u001B[39;00m DataFrame(\u001B[38;5;28;43mself\u001B[39;49m\u001B[38;5;241;43m.\u001B[39;49m\u001B[43m_java_obj\u001B[49m\u001B[38;5;241;43m.\u001B[39;49m\u001B[43mtransform\u001B[49m\u001B[43m(\u001B[49m\u001B[43mdataset\u001B[49m\u001B[38;5;241;43m.\u001B[39;49m\u001B[43m_jdf\u001B[49m\u001B[43m)\u001B[49m, dataset\u001B[38;5;241m.\u001B[39msparkSession)\n",
       "\n",
       "File \u001B[0;32m/databricks/spark/python/lib/py4j-0.10.9.5-src.zip/py4j/java_gateway.py:1321\u001B[0m, in \u001B[0;36mJavaMember.__call__\u001B[0;34m(self, *args)\u001B[0m\n",
       "\u001B[1;32m   1315\u001B[0m command \u001B[38;5;241m=\u001B[39m proto\u001B[38;5;241m.\u001B[39mCALL_COMMAND_NAME \u001B[38;5;241m+\u001B[39m\\\n",
       "\u001B[1;32m   1316\u001B[0m     \u001B[38;5;28mself\u001B[39m\u001B[38;5;241m.\u001B[39mcommand_header \u001B[38;5;241m+\u001B[39m\\\n",
       "\u001B[1;32m   1317\u001B[0m     args_command \u001B[38;5;241m+\u001B[39m\\\n",
       "\u001B[1;32m   1318\u001B[0m     proto\u001B[38;5;241m.\u001B[39mEND_COMMAND_PART\n",
       "\u001B[1;32m   1320\u001B[0m answer \u001B[38;5;241m=\u001B[39m \u001B[38;5;28mself\u001B[39m\u001B[38;5;241m.\u001B[39mgateway_client\u001B[38;5;241m.\u001B[39msend_command(command)\n",
       "\u001B[0;32m-> 1321\u001B[0m return_value \u001B[38;5;241m=\u001B[39m \u001B[43mget_return_value\u001B[49m\u001B[43m(\u001B[49m\n",
       "\u001B[1;32m   1322\u001B[0m \u001B[43m    \u001B[49m\u001B[43manswer\u001B[49m\u001B[43m,\u001B[49m\u001B[43m \u001B[49m\u001B[38;5;28;43mself\u001B[39;49m\u001B[38;5;241;43m.\u001B[39;49m\u001B[43mgateway_client\u001B[49m\u001B[43m,\u001B[49m\u001B[43m \u001B[49m\u001B[38;5;28;43mself\u001B[39;49m\u001B[38;5;241;43m.\u001B[39;49m\u001B[43mtarget_id\u001B[49m\u001B[43m,\u001B[49m\u001B[43m \u001B[49m\u001B[38;5;28;43mself\u001B[39;49m\u001B[38;5;241;43m.\u001B[39;49m\u001B[43mname\u001B[49m\u001B[43m)\u001B[49m\n",
       "\u001B[1;32m   1324\u001B[0m \u001B[38;5;28;01mfor\u001B[39;00m temp_arg \u001B[38;5;129;01min\u001B[39;00m temp_args:\n",
       "\u001B[1;32m   1325\u001B[0m     temp_arg\u001B[38;5;241m.\u001B[39m_detach()\n",
       "\n",
       "File \u001B[0;32m/databricks/spark/python/pyspark/errors/exceptions.py:234\u001B[0m, in \u001B[0;36mcapture_sql_exception.<locals>.deco\u001B[0;34m(*a, **kw)\u001B[0m\n",
       "\u001B[1;32m    230\u001B[0m converted \u001B[38;5;241m=\u001B[39m convert_exception(e\u001B[38;5;241m.\u001B[39mjava_exception)\n",
       "\u001B[1;32m    231\u001B[0m \u001B[38;5;28;01mif\u001B[39;00m \u001B[38;5;129;01mnot\u001B[39;00m \u001B[38;5;28misinstance\u001B[39m(converted, UnknownException):\n",
       "\u001B[1;32m    232\u001B[0m     \u001B[38;5;66;03m# Hide where the exception came from that shows a non-Pythonic\u001B[39;00m\n",
       "\u001B[1;32m    233\u001B[0m     \u001B[38;5;66;03m# JVM exception message.\u001B[39;00m\n",
       "\u001B[0;32m--> 234\u001B[0m     \u001B[38;5;28;01mraise\u001B[39;00m converted \u001B[38;5;28;01mfrom\u001B[39;00m \u001B[38;5;28mNone\u001B[39m\n",
       "\u001B[1;32m    235\u001B[0m \u001B[38;5;28;01melse\u001B[39;00m:\n",
       "\u001B[1;32m    236\u001B[0m     \u001B[38;5;28;01mraise\u001B[39;00m\n",
       "\n",
       "\u001B[0;31mIllegalArgumentException\u001B[0m: keyword_based_on_novel_or_bookcountry_united_states_of_america does not exist. Available: vote_average, vote_count, revenue, runtime, adult, budget, popularity, release_day, release_month, release_year, released_bool, en_bool, tagline_bool, ROI, genre_action, genre_adventure, genre_comedy, genre_drama, genre_thriller, prodco_warner_bros_pictures, prodco_universal_pictures, prodco_20th_century_fox, country_united_states_of_america, country_united_kingdom, country_china, country_germany, country_france, keyword_sequel, keyword_duringcreditsstinger, keyword_based_on_novel_or_book, revenue_bucket"
      ]
     },
     "metadata": {
      "application/vnd.databricks.v1+output": {
       "arguments": {},
       "data": "\u001B[0;31m---------------------------------------------------------------------------\u001B[0m\n\u001B[0;31mIllegalArgumentException\u001B[0m                  Traceback (most recent call last)\nFile \u001B[0;32m<command-1292540715583090>:10\u001B[0m\n\u001B[1;32m      8\u001B[0m \u001B[38;5;66;03m# Assemble into feature vector\u001B[39;00m\n\u001B[1;32m      9\u001B[0m assembler \u001B[38;5;241m=\u001B[39m VectorAssembler(inputCols\u001B[38;5;241m=\u001B[39mcategorical_and_boolean_features, outputCol\u001B[38;5;241m=\u001B[39m\u001B[38;5;124m\"\u001B[39m\u001B[38;5;124mfeatures\u001B[39m\u001B[38;5;124m\"\u001B[39m)\n\u001B[0;32m---> 10\u001B[0m assembled \u001B[38;5;241m=\u001B[39m assembler\u001B[38;5;241m.\u001B[39mtransform(train_binned)\n\u001B[1;32m     12\u001B[0m \u001B[38;5;66;03m# Apply Chi-Square feature selection\u001B[39;00m\n\u001B[1;32m     13\u001B[0m selector \u001B[38;5;241m=\u001B[39m ChiSqSelector(numTopFeatures\u001B[38;5;241m=\u001B[39m\u001B[38;5;241m10\u001B[39m, featuresCol\u001B[38;5;241m=\u001B[39m\u001B[38;5;124m\"\u001B[39m\u001B[38;5;124mfeatures\u001B[39m\u001B[38;5;124m\"\u001B[39m, labelCol\u001B[38;5;241m=\u001B[39m\u001B[38;5;124m\"\u001B[39m\u001B[38;5;124mrevenue_bucket\u001B[39m\u001B[38;5;124m\"\u001B[39m, outputCol\u001B[38;5;241m=\u001B[39m\u001B[38;5;124m\"\u001B[39m\u001B[38;5;124mselected_features\u001B[39m\u001B[38;5;124m\"\u001B[39m)\n\nFile \u001B[0;32m/databricks/spark/python/pyspark/ml/base.py:262\u001B[0m, in \u001B[0;36mTransformer.transform\u001B[0;34m(self, dataset, params)\u001B[0m\n\u001B[1;32m    260\u001B[0m         \u001B[38;5;28;01mreturn\u001B[39;00m \u001B[38;5;28mself\u001B[39m\u001B[38;5;241m.\u001B[39mcopy(params)\u001B[38;5;241m.\u001B[39m_transform(dataset)\n\u001B[1;32m    261\u001B[0m     \u001B[38;5;28;01melse\u001B[39;00m:\n\u001B[0;32m--> 262\u001B[0m         \u001B[38;5;28;01mreturn\u001B[39;00m \u001B[38;5;28;43mself\u001B[39;49m\u001B[38;5;241;43m.\u001B[39;49m\u001B[43m_transform\u001B[49m\u001B[43m(\u001B[49m\u001B[43mdataset\u001B[49m\u001B[43m)\u001B[49m\n\u001B[1;32m    263\u001B[0m \u001B[38;5;28;01melse\u001B[39;00m:\n\u001B[1;32m    264\u001B[0m     \u001B[38;5;28;01mraise\u001B[39;00m \u001B[38;5;167;01mTypeError\u001B[39;00m(\u001B[38;5;124m\"\u001B[39m\u001B[38;5;124mParams must be a param map but got \u001B[39m\u001B[38;5;132;01m%s\u001B[39;00m\u001B[38;5;124m.\u001B[39m\u001B[38;5;124m\"\u001B[39m \u001B[38;5;241m%\u001B[39m \u001B[38;5;28mtype\u001B[39m(params))\n\nFile \u001B[0;32m/databricks/spark/python/pyspark/ml/wrapper.py:400\u001B[0m, in \u001B[0;36mJavaTransformer._transform\u001B[0;34m(self, dataset)\u001B[0m\n\u001B[1;32m    397\u001B[0m \u001B[38;5;28;01massert\u001B[39;00m \u001B[38;5;28mself\u001B[39m\u001B[38;5;241m.\u001B[39m_java_obj \u001B[38;5;129;01mis\u001B[39;00m \u001B[38;5;129;01mnot\u001B[39;00m \u001B[38;5;28;01mNone\u001B[39;00m\n\u001B[1;32m    399\u001B[0m \u001B[38;5;28mself\u001B[39m\u001B[38;5;241m.\u001B[39m_transfer_params_to_java()\n\u001B[0;32m--> 400\u001B[0m \u001B[38;5;28;01mreturn\u001B[39;00m DataFrame(\u001B[38;5;28;43mself\u001B[39;49m\u001B[38;5;241;43m.\u001B[39;49m\u001B[43m_java_obj\u001B[49m\u001B[38;5;241;43m.\u001B[39;49m\u001B[43mtransform\u001B[49m\u001B[43m(\u001B[49m\u001B[43mdataset\u001B[49m\u001B[38;5;241;43m.\u001B[39;49m\u001B[43m_jdf\u001B[49m\u001B[43m)\u001B[49m, dataset\u001B[38;5;241m.\u001B[39msparkSession)\n\nFile \u001B[0;32m/databricks/spark/python/lib/py4j-0.10.9.5-src.zip/py4j/java_gateway.py:1321\u001B[0m, in \u001B[0;36mJavaMember.__call__\u001B[0;34m(self, *args)\u001B[0m\n\u001B[1;32m   1315\u001B[0m command \u001B[38;5;241m=\u001B[39m proto\u001B[38;5;241m.\u001B[39mCALL_COMMAND_NAME \u001B[38;5;241m+\u001B[39m\\\n\u001B[1;32m   1316\u001B[0m     \u001B[38;5;28mself\u001B[39m\u001B[38;5;241m.\u001B[39mcommand_header \u001B[38;5;241m+\u001B[39m\\\n\u001B[1;32m   1317\u001B[0m     args_command \u001B[38;5;241m+\u001B[39m\\\n\u001B[1;32m   1318\u001B[0m     proto\u001B[38;5;241m.\u001B[39mEND_COMMAND_PART\n\u001B[1;32m   1320\u001B[0m answer \u001B[38;5;241m=\u001B[39m \u001B[38;5;28mself\u001B[39m\u001B[38;5;241m.\u001B[39mgateway_client\u001B[38;5;241m.\u001B[39msend_command(command)\n\u001B[0;32m-> 1321\u001B[0m return_value \u001B[38;5;241m=\u001B[39m \u001B[43mget_return_value\u001B[49m\u001B[43m(\u001B[49m\n\u001B[1;32m   1322\u001B[0m \u001B[43m    \u001B[49m\u001B[43manswer\u001B[49m\u001B[43m,\u001B[49m\u001B[43m \u001B[49m\u001B[38;5;28;43mself\u001B[39;49m\u001B[38;5;241;43m.\u001B[39;49m\u001B[43mgateway_client\u001B[49m\u001B[43m,\u001B[49m\u001B[43m \u001B[49m\u001B[38;5;28;43mself\u001B[39;49m\u001B[38;5;241;43m.\u001B[39;49m\u001B[43mtarget_id\u001B[49m\u001B[43m,\u001B[49m\u001B[43m \u001B[49m\u001B[38;5;28;43mself\u001B[39;49m\u001B[38;5;241;43m.\u001B[39;49m\u001B[43mname\u001B[49m\u001B[43m)\u001B[49m\n\u001B[1;32m   1324\u001B[0m \u001B[38;5;28;01mfor\u001B[39;00m temp_arg \u001B[38;5;129;01min\u001B[39;00m temp_args:\n\u001B[1;32m   1325\u001B[0m     temp_arg\u001B[38;5;241m.\u001B[39m_detach()\n\nFile \u001B[0;32m/databricks/spark/python/pyspark/errors/exceptions.py:234\u001B[0m, in \u001B[0;36mcapture_sql_exception.<locals>.deco\u001B[0;34m(*a, **kw)\u001B[0m\n\u001B[1;32m    230\u001B[0m converted \u001B[38;5;241m=\u001B[39m convert_exception(e\u001B[38;5;241m.\u001B[39mjava_exception)\n\u001B[1;32m    231\u001B[0m \u001B[38;5;28;01mif\u001B[39;00m \u001B[38;5;129;01mnot\u001B[39;00m \u001B[38;5;28misinstance\u001B[39m(converted, UnknownException):\n\u001B[1;32m    232\u001B[0m     \u001B[38;5;66;03m# Hide where the exception came from that shows a non-Pythonic\u001B[39;00m\n\u001B[1;32m    233\u001B[0m     \u001B[38;5;66;03m# JVM exception message.\u001B[39;00m\n\u001B[0;32m--> 234\u001B[0m     \u001B[38;5;28;01mraise\u001B[39;00m converted \u001B[38;5;28;01mfrom\u001B[39;00m \u001B[38;5;28mNone\u001B[39m\n\u001B[1;32m    235\u001B[0m \u001B[38;5;28;01melse\u001B[39;00m:\n\u001B[1;32m    236\u001B[0m     \u001B[38;5;28;01mraise\u001B[39;00m\n\n\u001B[0;31mIllegalArgumentException\u001B[0m: keyword_based_on_novel_or_bookcountry_united_states_of_america does not exist. Available: vote_average, vote_count, revenue, runtime, adult, budget, popularity, release_day, release_month, release_year, released_bool, en_bool, tagline_bool, ROI, genre_action, genre_adventure, genre_comedy, genre_drama, genre_thriller, prodco_warner_bros_pictures, prodco_universal_pictures, prodco_20th_century_fox, country_united_states_of_america, country_united_kingdom, country_china, country_germany, country_france, keyword_sequel, keyword_duringcreditsstinger, keyword_based_on_novel_or_book, revenue_bucket",
       "errorSummary": "<span class='ansi-red-fg'>IllegalArgumentException</span>: keyword_based_on_novel_or_bookcountry_united_states_of_america does not exist. Available: vote_average, vote_count, revenue, runtime, adult, budget, popularity, release_day, release_month, release_year, released_bool, en_bool, tagline_bool, ROI, genre_action, genre_adventure, genre_comedy, genre_drama, genre_thriller, prodco_warner_bros_pictures, prodco_universal_pictures, prodco_20th_century_fox, country_united_states_of_america, country_united_kingdom, country_china, country_germany, country_france, keyword_sequel, keyword_duringcreditsstinger, keyword_based_on_novel_or_book, revenue_bucket",
       "errorTraceType": "ansi",
       "metadata": {},
       "type": "ipynbError"
      }
     },
     "output_type": "display_data"
    }
   ],
   "source": [
    "# Discretize the revenue target into quantile buckets\n",
    "discretizer = QuantileDiscretizer(numBuckets=4, inputCol=\"revenue\", outputCol=\"revenue_bucket\")\n",
    "train_binned = discretizer.fit(train_df).transform(train_df)\n",
    "\n",
    "# Combine boolean + categorical features\n",
    "categorical_and_boolean_features = boolean_features + categorical_features\n",
    "\n",
    "# Assemble into feature vector\n",
    "assembler = VectorAssembler(inputCols=categorical_and_boolean_features, outputCol=\"features\")\n",
    "assembled = assembler.transform(train_binned)\n",
    "\n",
    "# Apply Chi-Square feature selection\n",
    "selector = ChiSqSelector(numTopFeatures=10, featuresCol=\"features\", labelCol=\"revenue_bucket\", outputCol=\"selected_features\")\n",
    "selector_model = selector.fit(assembled)\n",
    "\n",
    "# Get selected feature indices\n",
    "selected_feature_indices = selector_model.selectedFeatures\n",
    "\n",
    "# Print feature names\n",
    "print(\"Top features selected by Chi-Square test:\")\n",
    "for i in selected_feature_indices:\n",
    "    print(f\"- {categorical_and_boolean_features[i]}\")"
   ]
  },
  {
   "cell_type": "markdown",
   "metadata": {
    "application/vnd.databricks.v1+cell": {
     "cellMetadata": {},
     "inputWidgets": {},
     "nuid": "17d11cc1-57db-4b04-a6c2-70f02fc18dec",
     "showTitle": false,
     "tableResultSettingsMap": {},
     "title": ""
    }
   },
   "source": [
    "---\n",
    "## Lasso Regression (L1 Regularization)\n",
    "---"
   ]
  },
  {
   "cell_type": "code",
   "execution_count": 0,
   "metadata": {
    "application/vnd.databricks.v1+cell": {
     "cellMetadata": {
      "byteLimit": 2048000,
      "rowLimit": 10000
     },
     "inputWidgets": {},
     "nuid": "f9c5eda0-86ab-4b74-98b5-a7e9e85b1150",
     "showTitle": false,
     "tableResultSettingsMap": {},
     "title": ""
    }
   },
   "outputs": [
    {
     "output_type": "stream",
     "name": "stdout",
     "output_type": "stream",
     "text": [
      "Feature Importances from L1-Regularized Linear Regression (Lasso):\n\n- prodco_universal_pictures: -28300870.4984 (negative relationship with revenue)\n- released_bool: -13474985.1368 (negative relationship with revenue)\n- country_united_kingdom: 8666910.5869 (positive relationship with revenue)\n- country_france: -6680221.1647 (negative relationship with revenue)\n- genre_action: 4924727.7050 (positive relationship with revenue)\n- country_china: 4692922.7616 (positive relationship with revenue)\n- keyword_based_on_novel_or_bookcountry_united_states_of_america: -4605933.0745 (negative relationship with revenue)\n- keyword_sequel: -3168983.5524 (negative relationship with revenue)\n- prodco_20th_century_fox: 2782356.6693 (positive relationship with revenue)\n- country_germany: -2710091.2582 (negative relationship with revenue)\n- adult: -797308.6172 (negative relationship with revenue)\n- tagline_bool: 163249.5513 (positive relationship with revenue)\n- genre_thriller: -79969.4007 (negative relationship with revenue)\n- en_bool: 25567.9390 (positive relationship with revenue)\n- genre_comedy: 20966.4138 (positive relationship with revenue)\n- prodco_warner_bros_pictures: -7289.9361 (negative relationship with revenue)\n- genre_drama: 5268.8103 (positive relationship with revenue)\n- genre_adventure: 1.6727 (positive relationship with revenue)\n- keyword_duringcreditsstinger: 1.3087 (positive relationship with revenue)\n"
     ]
    }
   ],
   "source": [
    "# L1 regression = Lasso\n",
    "lr = LinearRegression(featuresCol=\"features\", labelCol=\"revenue\", elasticNetParam=1.0, regParam=0.3)\n",
    "model = lr.fit(train_assembled)\n",
    "\n",
    "# Zip coefficients with feature names\n",
    "coefficients = model.coefficients.toArray()\n",
    "feature_names = assembler.getInputCols()\n",
    "\n",
    "coef_feature_pairs = list(zip(feature_names, coefficients))\n",
    "\n",
    "# Sort by absolute value (importance)\n",
    "sorted_pairs = sorted(coef_feature_pairs, key=lambda x: abs(x[1]), reverse=True)\n",
    "\n",
    "print(\"Feature Importances from L1-Regularized Linear Regression (Lasso):\\n\")\n",
    "for feature, coef in sorted_pairs:\n",
    "    if coef != 0.0:\n",
    "        direction = \"positive\" if coef > 0 else \"negative\"\n",
    "        print(f\"- {feature}: {coef:.4f} ({direction} relationship with revenue)\")\n",
    "    else:\n",
    "        print(f\"- {feature}: {coef:.4f} (excluded by L1 regularization)\")"
   ]
  },
  {
   "cell_type": "markdown",
   "metadata": {
    "application/vnd.databricks.v1+cell": {
     "cellMetadata": {},
     "inputWidgets": {},
     "nuid": "aaf3ca2d-74ed-465b-96e2-069694a926a7",
     "showTitle": false,
     "tableResultSettingsMap": {},
     "title": ""
    }
   },
   "source": [
    "---\n",
    "## Define Final Features\n",
    "---"
   ]
  },
  {
   "cell_type": "code",
   "execution_count": 0,
   "metadata": {
    "application/vnd.databricks.v1+cell": {
     "cellMetadata": {
      "byteLimit": 2048000,
      "rowLimit": 10000
     },
     "inputWidgets": {},
     "nuid": "6725e1f0-5667-4939-a75d-576d19a97571",
     "showTitle": false,
     "tableResultSettingsMap": {},
     "title": ""
    }
   },
   "outputs": [],
   "source": [
    "final_features = [\n",
    "    \"budget\", \"ROI\", \"vote_count\", \"runtime\", \"release_year\",\n",
    "    \"adult\", \"release_month\", \"revenue\"\n",
    "]"
   ]
  },
  {
   "cell_type": "markdown",
   "metadata": {
    "application/vnd.databricks.v1+cell": {
     "cellMetadata": {},
     "inputWidgets": {},
     "nuid": "47ba743a-aec7-40bf-b32b-6af6d00fd3d8",
     "showTitle": false,
     "tableResultSettingsMap": {},
     "title": ""
    }
   },
   "source": [
    "---\n",
    "## Assemble datasets\n",
    "---"
   ]
  },
  {
   "cell_type": "code",
   "execution_count": 0,
   "metadata": {
    "application/vnd.databricks.v1+cell": {
     "cellMetadata": {
      "byteLimit": 2048000,
      "rowLimit": 10000
     },
     "inputWidgets": {},
     "nuid": "e7911907-39e0-4804-8800-983d7567cfe8",
     "showTitle": false,
     "tableResultSettingsMap": {},
     "title": ""
    }
   },
   "outputs": [],
   "source": [
    "# CROSS-VALIDATION   (median)\n",
    "def prep_for_cv(train_df, val_df):\n",
    "    \"\"\"\n",
    "    - Compute runtime median on train; fill runtime==0 in both splits.\n",
    "    - Try KNN imputation on 'popularity'; fall back to leaving zeros.\n",
    "    Returns (train_ready, val_ready)\n",
    "    \"\"\"\n",
    "    # -- runtime median (train only) --\n",
    "    runtime_median = train_df.filter(F.col(\"runtime\") != 0)\\\n",
    "                             .approxQuantile(\"runtime\", [0.5], 0.0)[0]\n",
    "\n",
    "    train_df = train_df.withColumn(\n",
    "        \"runtime\",\n",
    "        F.when(F.col(\"runtime\") == 0, F.lit(runtime_median)).otherwise(F.col(\"runtime\"))\n",
    "    )\n",
    "    val_df = val_df.withColumn(\n",
    "        \"runtime\",\n",
    "        F.when(F.col(\"runtime\") == 0, F.lit(runtime_median)).otherwise(F.col(\"runtime\"))\n",
    "    )\n",
    "\n",
    "    return train_df, val_df\n",
    "\n",
    "\n",
    "train_df, test_df = prep_for_cv(train_df, test_df)\n",
    "# 3. Assemble features\n",
    "# Exclude label column\n",
    "feature_cols = [c for c in train_df.columns if c != \"revenue\"]\n",
    "\n",
    "assembler = VectorAssembler(inputCols=feature_cols, outputCol=\"features\")\n",
    "\n",
    "train_prepared = assembler.transform(train_df)\n",
    "test_prepared  = assembler.transform(test_df)"
   ]
  },
  {
   "cell_type": "markdown",
   "metadata": {
    "application/vnd.databricks.v1+cell": {
     "cellMetadata": {},
     "inputWidgets": {},
     "nuid": "ccee64ea-7aa1-474c-aee1-841c38a0a6c8",
     "showTitle": false,
     "tableResultSettingsMap": {},
     "title": ""
    }
   },
   "source": [
    "---\n",
    "## Train and evaluate models\n",
    "---\n",
    "We'll train and compare:\n",
    "\n",
    "1. Linear Regression\n",
    "\n",
    "2. Decision Tree Regressor\n",
    "\n",
    "3. Random Forest Regressor"
   ]
  },
  {
   "cell_type": "markdown",
   "metadata": {
    "application/vnd.databricks.v1+cell": {
     "cellMetadata": {},
     "inputWidgets": {},
     "nuid": "b2a8311f-b2dc-435a-bb31-4871ad9aed54",
     "showTitle": false,
     "tableResultSettingsMap": {},
     "title": ""
    }
   },
   "source": [
    "---\n",
    "## Linear Regression with Cross-Validation\n",
    "---"
   ]
  },
  {
   "cell_type": "code",
   "execution_count": 0,
   "metadata": {
    "application/vnd.databricks.v1+cell": {
     "cellMetadata": {
      "byteLimit": 2048000,
      "rowLimit": 10000
     },
     "inputWidgets": {},
     "nuid": "2eb6ae3e-90c9-4194-ab6f-a2564547ff5d",
     "showTitle": false,
     "tableResultSettingsMap": {},
     "title": ""
    }
   },
   "outputs": [
    {
     "output_type": "stream",
     "name": "stdout",
     "output_type": "stream",
     "text": [
      "Training Linear Regression with Cross-Validation...\n"
     ]
    }
   ],
   "source": [
    "# Define and run Linear Regression with CrossValidator\n",
    "lr = LinearRegression(featuresCol=\"features\", labelCol=\"revenue\")\n",
    "\n",
    "lr_param_grid = ParamGridBuilder() \\\n",
    "    .addGrid(lr.regParam, [0.1, 0.3, 0.5]) \\\n",
    "    .addGrid(lr.elasticNetParam, [0.0, 0.5, 1.0]) \\\n",
    "    .build()\n",
    "\n",
    "evaluator = RegressionEvaluator(labelCol=\"revenue\", predictionCol=\"prediction\", metricName=\"rmse\")\n",
    "\n",
    "lr_cv = CrossValidator(estimator=lr,\n",
    "                       estimatorParamMaps=lr_param_grid,\n",
    "                       evaluator=evaluator,\n",
    "                       numFolds=3)\n",
    "\n",
    "print(\"Training Linear Regression with Cross-Validation...\")\n",
    "lr_model = lr_cv.fit(train_prepared)"
   ]
  },
  {
   "cell_type": "code",
   "execution_count": 0,
   "metadata": {
    "application/vnd.databricks.v1+cell": {
     "cellMetadata": {
      "byteLimit": 2048000,
      "rowLimit": 10000
     },
     "inputWidgets": {},
     "nuid": "420338f2-0cc5-4bab-bc11-d84616cd431f",
     "showTitle": false,
     "tableResultSettingsMap": {},
     "title": ""
    }
   },
   "outputs": [
    {
     "output_type": "display_data",
     "data": {
      "text/html": [
       "<style scoped>\n",
       "  .ansiout {\n",
       "    display: block;\n",
       "    unicode-bidi: embed;\n",
       "    white-space: pre-wrap;\n",
       "    word-wrap: break-word;\n",
       "    word-break: break-all;\n",
       "    font-family: \"Menlo\", \"Monaco\", \"Consolas\", \"Ubuntu Mono\", \"Source Code Pro\", monospace;\n",
       "    font-size: 13px;\n",
       "    color: #555;\n",
       "    margin-left: 4px;\n",
       "    line-height: 19px;\n",
       "  }\n",
       "</style>"
      ]
     },
     "metadata": {
      "application/vnd.databricks.v1+output": {
       "arguments": {},
       "data": "",
       "errorSummary": "",
       "errorTraceType": null,
       "metadata": {},
       "type": "ipynbError"
      }
     },
     "output_type": "display_data"
    }
   ],
   "source": [
    "# Evaluate on the test set\n",
    "def evaluate_model(model, df):\n",
    "    predictions = model.transform(df)\n",
    "    evaluator_rmse = RegressionEvaluator(labelCol=\"revenue\", predictionCol=\"prediction\", metricName=\"rmse\")\n",
    "    evaluator_r2   = RegressionEvaluator(labelCol=\"revenue\", predictionCol=\"prediction\", metricName=\"r2\")\n",
    "    return evaluator_rmse.evaluate(predictions), evaluator_r2.evaluate(predictions)\n",
    "\n",
    "lr_rmse, lr_r2 = evaluate_model(lr_model.bestModel, test_prepared)\n",
    "\n",
    "results = []\n",
    "results.append((\"Linear Regression (CV)\", lr_rmse, lr_r2))\n",
    "\n",
    "print(f\"Best Linear Regression RMSE: {lr_rmse:.2f}\")\n",
    "print(f\"Best Linear Regression R²:   {lr_r2:.4f}\")"
   ]
  },
  {
   "cell_type": "markdown",
   "metadata": {
    "application/vnd.databricks.v1+cell": {
     "cellMetadata": {},
     "inputWidgets": {},
     "nuid": "9467c39d-e20b-4965-927d-ca51f0617d5d",
     "showTitle": false,
     "tableResultSettingsMap": {},
     "title": ""
    }
   },
   "source": [
    "---\n",
    "## Decision Tree with Cross-Validation\n",
    "---"
   ]
  },
  {
   "cell_type": "code",
   "execution_count": 0,
   "metadata": {
    "application/vnd.databricks.v1+cell": {
     "cellMetadata": {},
     "inputWidgets": {},
     "nuid": "732d9aeb-ae05-41fd-bab7-7e5e1f431bef",
     "showTitle": false,
     "tableResultSettingsMap": {},
     "title": ""
    }
   },
   "outputs": [],
   "source": [
    "# 1. Define the model\n",
    "dt = DecisionTreeRegressor(featuresCol=\"features\", labelCol=\"revenue\")\n",
    "\n",
    "# 2. Define the parameter grid\n",
    "dt_param_grid = ParamGridBuilder() \\\n",
    "    .addGrid(dt.maxDepth, [3, 5, 10]) \\\n",
    "    .addGrid(dt.minInstancesPerNode, [1, 5, 10]) \\\n",
    "    .build()\n",
    "\n",
    "# 3. Define the evaluator\n",
    "evaluator = RegressionEvaluator(labelCol=\"revenue\", predictionCol=\"prediction\", metricName=\"rmse\")\n",
    "\n",
    "# 4. Set up CrossValidator\n",
    "dt_cv = CrossValidator(\n",
    "    estimator=dt,\n",
    "    estimatorParamMaps=dt_param_grid,\n",
    "    evaluator=evaluator,\n",
    "    numFolds=3\n",
    ")\n",
    "\n",
    "# 5. Train the model\n",
    "print(\"Training Decision Tree Regressor with Cross-Validation...\")\n",
    "dt_model = dt_cv.fit(train_prepared)\n",
    "\n",
    "# 6. Evaluate the model\n",
    "dt_rmse, dt_r2 = evaluate_model(dt_model.bestModel, test_prepared)\n",
    "\n",
    "results.append((\"Decision Tree (CV)\", dt_rmse, dt_r2))\n",
    "\n",
    "print(f\"Best Decision Tree RMSE: {dt_rmse:.2f}\")\n",
    "print(f\"Best Decision Tree R²:   {dt_r2:.4f}\")"
   ]
  },
  {
   "cell_type": "markdown",
   "metadata": {
    "application/vnd.databricks.v1+cell": {
     "cellMetadata": {},
     "inputWidgets": {},
     "nuid": "79d0e31f-806a-46e6-b5a1-19c8477a5782",
     "showTitle": false,
     "tableResultSettingsMap": {},
     "title": ""
    }
   },
   "source": [
    "---\n",
    "## Random Forest with Cross-Validation\n",
    "---"
   ]
  },
  {
   "cell_type": "code",
   "execution_count": 0,
   "metadata": {
    "application/vnd.databricks.v1+cell": {
     "cellMetadata": {},
     "inputWidgets": {},
     "nuid": "17d6d2ac-737c-4bb1-991f-617c71fb308a",
     "showTitle": false,
     "tableResultSettingsMap": {},
     "title": ""
    }
   },
   "outputs": [],
   "source": [
    "# Define the model\n",
    "rf = RandomForestRegressor(featuresCol=\"features\", labelCol=\"revenue\", seed=42)\n",
    "\n",
    "# Define the parameter grid\n",
    "rf_param_grid = ParamGridBuilder() \\\n",
    "    .addGrid(rf.numTrees, [50, 100]) \\\n",
    "    .addGrid(rf.maxDepth, [5, 10]) \\\n",
    "    .addGrid(rf.maxBins, [32]) \\\n",
    "    .build()\n",
    "\n",
    "# Define the evaluator\n",
    "evaluator = RegressionEvaluator(labelCol=\"revenue\", predictionCol=\"prediction\", metricName=\"rmse\")\n",
    "\n",
    "# Set up CrossValidator\n",
    "rf_cv = CrossValidator(\n",
    "    estimator=rf,\n",
    "    estimatorParamMaps=rf_param_grid,\n",
    "    evaluator=evaluator,\n",
    "    numFolds=3\n",
    ")\n",
    "\n",
    "# Train the model\n",
    "print(\"Training Random Forest Regressor with Cross-Validation...\")\n",
    "rf_model = rf_cv.fit(train_prepared)\n",
    "\n",
    "# Evaluate the model\n",
    "rf_rmse, rf_r2 = evaluate_model(rf_model.bestModel, test_prepared)\n",
    "\n",
    "results.append((\"Random Forest (CV)\", rf_rmse, rf_r2))\n",
    "\n",
    "print(f\"Best Random Forest RMSE: {rf_rmse:.2f}\")\n",
    "print(f\"Best Random Forest R²:   {rf_r2:.4f}\")\n"
   ]
  }
 ],
 "metadata": {
  "application/vnd.databricks.v1+notebook": {
   "computePreferences": null,
   "dashboards": [],
   "environmentMetadata": {
    "base_environment": "",
    "environment_version": "1"
   },
   "inputWidgetPreferences": null,
   "language": "python",
   "notebookMetadata": {
    "pythonIndentUnit": 4
   },
   "notebookName": "data_cleaning NEW",
   "widgets": {}
  }
 },
 "nbformat": 4,
 "nbformat_minor": 0
}