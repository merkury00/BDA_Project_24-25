{
 "cells": [
  {
   "cell_type": "markdown",
   "metadata": {
    "application/vnd.databricks.v1+cell": {
     "cellMetadata": {},
     "inputWidgets": {},
     "nuid": "9fe5c21b-ff45-46dc-b8b1-0a24fe30a87c",
     "showTitle": false,
     "tableResultSettingsMap": {},
     "title": ""
    }
   },
   "source": [
    "---\n",
    "## Imports\n",
    "---"
   ]
  },
  {
   "cell_type": "code",
   "execution_count": 0,
   "metadata": {
    "application/vnd.databricks.v1+cell": {
     "cellMetadata": {
      "byteLimit": 2048000,
      "rowLimit": 10000
     },
     "inputWidgets": {},
     "nuid": "830fb0b0-fdff-4ce9-a9e7-f19123624f73",
     "showTitle": false,
     "tableResultSettingsMap": {},
     "title": ""
    }
   },
   "outputs": [
    {
     "output_type": "display_data",
     "data": {
      "text/html": [
       "<style scoped>\n",
       "  .table-result-container {\n",
       "    max-height: 300px;\n",
       "    overflow: auto;\n",
       "  }\n",
       "  table, th, td {\n",
       "    border: 1px solid black;\n",
       "    border-collapse: collapse;\n",
       "  }\n",
       "  th, td {\n",
       "    padding: 5px;\n",
       "  }\n",
       "  th {\n",
       "    text-align: left;\n",
       "  }\n",
       "</style><div class='table-result-container'><table class='table-result'><thead style='background-color: white'><tr><th>path</th><th>name</th><th>size</th><th>modificationTime</th></tr></thead><tbody><tr><td>dbfs:/FileStore/tables/2025_03_11___DBFS_Example_Classifier.ipynb</td><td>2025_03_11___DBFS_Example_Classifier.ipynb</td><td>68203</td><td>1742288094000</td></tr><tr><td>dbfs:/FileStore/tables/Clean_IMDBnew.csv</td><td>Clean_IMDBnew.csv</td><td>11897936</td><td>1748379618000</td></tr><tr><td>dbfs:/FileStore/tables/Clean_IMDBnew.parquet/</td><td>Clean_IMDBnew.parquet/</td><td>0</td><td>0</td></tr><tr><td>dbfs:/FileStore/tables/IMDB_CLEAN.csv</td><td>IMDB_CLEAN.csv</td><td>16096967</td><td>1748425316000</td></tr><tr><td>dbfs:/FileStore/tables/IMDB_CLEAN.parquet/</td><td>IMDB_CLEAN.parquet/</td><td>0</td><td>0</td></tr><tr><td>dbfs:/FileStore/tables/IMDB_Cleaned/</td><td>IMDB_Cleaned/</td><td>0</td><td>0</td></tr><tr><td>dbfs:/FileStore/tables/IMDB_cleannew.csv</td><td>IMDB_cleannew.csv</td><td>16096967</td><td>1748387484000</td></tr><tr><td>dbfs:/FileStore/tables/Imdb_Movie_Dataset-1.csv</td><td>Imdb_Movie_Dataset-1.csv</td><td>392283051</td><td>1746882391000</td></tr><tr><td>dbfs:/FileStore/tables/Imdb_Movie_Dataset-4.csv/</td><td>Imdb_Movie_Dataset-4.csv/</td><td>0</td><td>0</td></tr><tr><td>dbfs:/FileStore/tables/Imdb_Movie_Dataset.csv/</td><td>Imdb_Movie_Dataset.csv/</td><td>0</td><td>0</td></tr><tr><td>dbfs:/FileStore/tables/archive-1.zip</td><td>archive-1.zip</td><td>160786298</td><td>1746877527000</td></tr><tr><td>dbfs:/FileStore/tables/archive-2.zip</td><td>archive-2.zip</td><td>160786298</td><td>1746877987000</td></tr><tr><td>dbfs:/FileStore/tables/archive-3.zip</td><td>archive-3.zip</td><td>160786298</td><td>1746878808000</td></tr><tr><td>dbfs:/FileStore/tables/archive-4.zip</td><td>archive-4.zip</td><td>160786298</td><td>1746879282000</td></tr><tr><td>dbfs:/FileStore/tables/archive.zip</td><td>archive.zip</td><td>160786298</td><td>1746877512000</td></tr><tr><td>dbfs:/FileStore/tables/df_checkpoint/</td><td>df_checkpoint/</td><td>0</td><td>0</td></tr><tr><td>dbfs:/FileStore/tables/df_checkpoint.csv</td><td>df_checkpoint.csv</td><td>400384270</td><td>1747316983000</td></tr><tr><td>dbfs:/FileStore/tables/imdb_movie_sample/</td><td>imdb_movie_sample/</td><td>0</td><td>0</td></tr><tr><td>dbfs:/FileStore/tables/iris-1.csv</td><td>iris-1.csv</td><td>3858</td><td>1742288473000</td></tr><tr><td>dbfs:/FileStore/tables/iris.csv</td><td>iris.csv</td><td>3858</td><td>1741869427000</td></tr></tbody></table></div>"
      ]
     },
     "metadata": {
      "application/vnd.databricks.v1+output": {
       "addedWidgets": {},
       "aggData": [],
       "aggError": "",
       "aggOverflow": false,
       "aggSchema": [],
       "aggSeriesLimitReached": false,
       "aggType": "",
       "arguments": {},
       "columnCustomDisplayInfos": {},
       "data": [
        [
         "dbfs:/FileStore/tables/2025_03_11___DBFS_Example_Classifier.ipynb",
         "2025_03_11___DBFS_Example_Classifier.ipynb",
         68203,
         1742288094000
        ],
        [
         "dbfs:/FileStore/tables/Clean_IMDBnew.csv",
         "Clean_IMDBnew.csv",
         11897936,
         1748379618000
        ],
        [
         "dbfs:/FileStore/tables/Clean_IMDBnew.parquet/",
         "Clean_IMDBnew.parquet/",
         0,
         0
        ],
        [
         "dbfs:/FileStore/tables/IMDB_CLEAN.csv",
         "IMDB_CLEAN.csv",
         16096967,
         1748425316000
        ],
        [
         "dbfs:/FileStore/tables/IMDB_CLEAN.parquet/",
         "IMDB_CLEAN.parquet/",
         0,
         0
        ],
        [
         "dbfs:/FileStore/tables/IMDB_Cleaned/",
         "IMDB_Cleaned/",
         0,
         0
        ],
        [
         "dbfs:/FileStore/tables/IMDB_cleannew.csv",
         "IMDB_cleannew.csv",
         16096967,
         1748387484000
        ],
        [
         "dbfs:/FileStore/tables/Imdb_Movie_Dataset-1.csv",
         "Imdb_Movie_Dataset-1.csv",
         392283051,
         1746882391000
        ],
        [
         "dbfs:/FileStore/tables/Imdb_Movie_Dataset-4.csv/",
         "Imdb_Movie_Dataset-4.csv/",
         0,
         0
        ],
        [
         "dbfs:/FileStore/tables/Imdb_Movie_Dataset.csv/",
         "Imdb_Movie_Dataset.csv/",
         0,
         0
        ],
        [
         "dbfs:/FileStore/tables/archive-1.zip",
         "archive-1.zip",
         160786298,
         1746877527000
        ],
        [
         "dbfs:/FileStore/tables/archive-2.zip",
         "archive-2.zip",
         160786298,
         1746877987000
        ],
        [
         "dbfs:/FileStore/tables/archive-3.zip",
         "archive-3.zip",
         160786298,
         1746878808000
        ],
        [
         "dbfs:/FileStore/tables/archive-4.zip",
         "archive-4.zip",
         160786298,
         1746879282000
        ],
        [
         "dbfs:/FileStore/tables/archive.zip",
         "archive.zip",
         160786298,
         1746877512000
        ],
        [
         "dbfs:/FileStore/tables/df_checkpoint/",
         "df_checkpoint/",
         0,
         0
        ],
        [
         "dbfs:/FileStore/tables/df_checkpoint.csv",
         "df_checkpoint.csv",
         400384270,
         1747316983000
        ],
        [
         "dbfs:/FileStore/tables/imdb_movie_sample/",
         "imdb_movie_sample/",
         0,
         0
        ],
        [
         "dbfs:/FileStore/tables/iris-1.csv",
         "iris-1.csv",
         3858,
         1742288473000
        ],
        [
         "dbfs:/FileStore/tables/iris.csv",
         "iris.csv",
         3858,
         1741869427000
        ]
       ],
       "datasetInfos": [],
       "dbfsResultPath": null,
       "isJsonSchema": true,
       "metadata": {},
       "overflow": false,
       "plotOptions": {
        "customPlotOptions": {},
        "displayType": "table",
        "pivotAggregation": null,
        "pivotColumns": null,
        "xColumns": null,
        "yColumns": null
       },
       "removedWidgets": [],
       "schema": [
        {
         "metadata": "{}",
         "name": "path",
         "type": "\"string\""
        },
        {
         "metadata": "{}",
         "name": "name",
         "type": "\"string\""
        },
        {
         "metadata": "{}",
         "name": "size",
         "type": "\"long\""
        },
        {
         "metadata": "{}",
         "name": "modificationTime",
         "type": "\"long\""
        }
       ],
       "type": "table"
      }
     },
     "output_type": "display_data"
    }
   ],
   "source": [
    "# List files in /FileStore/tables to confirm your CSV is there\n",
    "display(dbutils.fs.ls(\"/FileStore/tables\"))"
   ]
  },
  {
   "cell_type": "code",
   "execution_count": 0,
   "metadata": {
    "application/vnd.databricks.v1+cell": {
     "cellMetadata": {
      "byteLimit": 2048000,
      "rowLimit": 10000
     },
     "inputWidgets": {},
     "nuid": "1b743fda-4265-4aa1-b420-da4d0550c28b",
     "showTitle": false,
     "tableResultSettingsMap": {},
     "title": ""
    }
   },
   "outputs": [
    {
     "output_type": "display_data",
     "data": {
      "text/html": [
       "<style scoped>\n",
       "  .table-result-container {\n",
       "    max-height: 300px;\n",
       "    overflow: auto;\n",
       "  }\n",
       "  table, th, td {\n",
       "    border: 1px solid black;\n",
       "    border-collapse: collapse;\n",
       "  }\n",
       "  th, td {\n",
       "    padding: 5px;\n",
       "  }\n",
       "  th {\n",
       "    text-align: left;\n",
       "  }\n",
       "</style><div class='table-result-container'><table class='table-result'><thead style='background-color: white'><tr><th>id</th><th>title</th><th>vote_average</th><th>vote_count</th><th>status</th><th>release_date</th><th>revenue</th><th>runtime</th><th>adult</th><th>budget</th><th>imdb_id</th><th>original_language</th><th>original_title</th><th>overview</th><th>popularity</th><th>tagline</th><th>genres</th><th>production_companies</th><th>production_countries</th><th>spoken_languages</th><th>keywords</th></tr></thead><tbody><tr><td>27205</td><td>Inception</td><td>8.364</td><td>34495</td><td>Released</td><td>7/15/2010</td><td>825532764</td><td>148</td><td>false</td><td>160000000</td><td>tt1375666</td><td>en</td><td>Inception</td><td>Cobb, a skilled thief who commits corporate espionage by infiltrating the subconscious of his targets is offered a chance to regain his old life as payment for a task considered to be impossible: \"inception\", the implantation of another person's idea into a target's subconscious.</td><td>83.952</td><td>Your mind is the scene of the crime.</td><td>Action, Science Fiction, Adventure</td><td>Legendary Pictures, Syncopy, Warner Bros. Pictures</td><td>United Kingdom, United States of America</td><td>English, French, Japanese, Swahili</td><td>rescue, mission, dream, airplane, paris, france, virtual reality, kidnapping, philosophy, spy, allegory, manipulation, car crash, heist, memory, architecture, los angeles, california, dream world, subconscious</td></tr><tr><td>157336</td><td>Interstellar</td><td>8.417</td><td>32571</td><td>Released</td><td>11/5/2014</td><td>701729206</td><td>169</td><td>false</td><td>165000000</td><td>tt0816692</td><td>en</td><td>Interstellar</td><td>The adventures of a group of explorers who make use of a newly discovered wormhole to surpass the limitations on human space travel and conquer the vast distances involved in an interstellar voyage.</td><td>140.241</td><td>Mankind was born on Earth. It was never meant to die here.</td><td>Adventure, Drama, Science Fiction</td><td>Legendary Pictures, Syncopy, Lynda Obst Productions</td><td>United Kingdom, United States of America</td><td>English</td><td>rescue, future, spacecraft, race against time, artificial intelligence (a.i.), nasa, time warp, dystopia, expedition, space travel, wormhole, famine, black hole, quantum mechanics, family relationships, space, robot, astronaut, scientist, single father, farmer, space station, curious, space adventure, time paradox, thoughtful, time-manipulation, father daughter relationship, 2060s, cornfield, time manipulation, complicated</td></tr><tr><td>155</td><td>The Dark Knight</td><td>8.512</td><td>30619</td><td>Released</td><td>7/16/2008</td><td>1004558444</td><td>152</td><td>false</td><td>185000000</td><td>tt0468569</td><td>en</td><td>The Dark Knight</td><td>Batman raises the stakes in his war on crime. With the help of Lt. Jim Gordon and District Attorney Harvey Dent, Batman sets out to dismantle the remaining criminal organizations that plague the streets. The partnership proves to be effective, but they soon find themselves prey to a reign of chaos unleashed by a rising criminal mastermind known to the terrified citizens of Gotham as the Joker.</td><td>130.643</td><td>Welcome to a world without rules.</td><td>Drama, Action, Crime, Thriller</td><td>DC Comics, Legendary Pictures, Syncopy, Isobel Griffiths, Warner Bros. Pictures</td><td>United Kingdom, United States of America</td><td>English, Mandarin</td><td>joker, sadism, chaos, secret identity, crime fighter, superhero, anti hero, scarecrow, based on comic, vigilante, organized crime, tragic hero, anti villain, criminal mastermind, district attorney, super power, super villain, neo-noir</td></tr><tr><td>19995</td><td>Avatar</td><td>7.573</td><td>29815</td><td>Released</td><td>12/15/2009</td><td>2923706026</td><td>162</td><td>false</td><td>237000000</td><td>tt0499549</td><td>en</td><td>Avatar</td><td>In the 22nd century, a paraplegic Marine is dispatched to the moon Pandora on a unique mission, but becomes torn between following orders and protecting an alien civilization.</td><td>79.932</td><td>Enter the world of Pandora.</td><td>Action, Adventure, Fantasy, Science Fiction</td><td>Dune Entertainment, Lightstorm Entertainment, 20th Century Fox, Ingenious Media</td><td>United States of America, United Kingdom</td><td>English, Spanish</td><td>future, society, culture clash, space travel, space war, space colony, tribe, romance, alien, futuristic, space, alien planet, marine, soldier, battle, love affair, nature, anti war, power relations, joyful</td></tr><tr><td>24428</td><td>The Avengers</td><td>7.71</td><td>29166</td><td>Released</td><td>4/25/2012</td><td>1518815515</td><td>143</td><td>false</td><td>220000000</td><td>tt0848228</td><td>en</td><td>The Avengers</td><td>When an unexpected enemy emerges and threatens global safety and security, Nick Fury, director of the international peacekeeping agency known as S.H.I.E.L.D., finds himself in need of a team to pull the world back from the brink of disaster. Spanning the globe, a daring recruitment effort begins!</td><td>98.082</td><td>Some assembly required.</td><td>Science Fiction, Action, Adventure</td><td>Marvel Studios</td><td>United States of America</td><td>English, Hindi, Russian</td><td>new york city, superhero, shield, based on comic, alien invasion, superhero team, aftercreditsstinger, duringcreditsstinger, marvel cinematic universe (mcu)</td></tr></tbody></table></div>"
      ]
     },
     "metadata": {
      "application/vnd.databricks.v1+output": {
       "addedWidgets": {},
       "aggData": [],
       "aggError": "",
       "aggOverflow": false,
       "aggSchema": [],
       "aggSeriesLimitReached": false,
       "aggType": "",
       "arguments": {},
       "columnCustomDisplayInfos": {},
       "data": [
        [
         27205,
         "Inception",
         8.364,
         34495,
         "Released",
         "7/15/2010",
         825532764,
         148,
         false,
         160000000,
         "tt1375666",
         "en",
         "Inception",
         "Cobb, a skilled thief who commits corporate espionage by infiltrating the subconscious of his targets is offered a chance to regain his old life as payment for a task considered to be impossible: \"inception\", the implantation of another person's idea into a target's subconscious.",
         83.952,
         "Your mind is the scene of the crime.",
         "Action, Science Fiction, Adventure",
         "Legendary Pictures, Syncopy, Warner Bros. Pictures",
         "United Kingdom, United States of America",
         "English, French, Japanese, Swahili",
         "rescue, mission, dream, airplane, paris, france, virtual reality, kidnapping, philosophy, spy, allegory, manipulation, car crash, heist, memory, architecture, los angeles, california, dream world, subconscious"
        ],
        [
         157336,
         "Interstellar",
         8.417,
         32571,
         "Released",
         "11/5/2014",
         701729206,
         169,
         false,
         165000000,
         "tt0816692",
         "en",
         "Interstellar",
         "The adventures of a group of explorers who make use of a newly discovered wormhole to surpass the limitations on human space travel and conquer the vast distances involved in an interstellar voyage.",
         140.241,
         "Mankind was born on Earth. It was never meant to die here.",
         "Adventure, Drama, Science Fiction",
         "Legendary Pictures, Syncopy, Lynda Obst Productions",
         "United Kingdom, United States of America",
         "English",
         "rescue, future, spacecraft, race against time, artificial intelligence (a.i.), nasa, time warp, dystopia, expedition, space travel, wormhole, famine, black hole, quantum mechanics, family relationships, space, robot, astronaut, scientist, single father, farmer, space station, curious, space adventure, time paradox, thoughtful, time-manipulation, father daughter relationship, 2060s, cornfield, time manipulation, complicated"
        ],
        [
         155,
         "The Dark Knight",
         8.512,
         30619,
         "Released",
         "7/16/2008",
         1004558444,
         152,
         false,
         185000000,
         "tt0468569",
         "en",
         "The Dark Knight",
         "Batman raises the stakes in his war on crime. With the help of Lt. Jim Gordon and District Attorney Harvey Dent, Batman sets out to dismantle the remaining criminal organizations that plague the streets. The partnership proves to be effective, but they soon find themselves prey to a reign of chaos unleashed by a rising criminal mastermind known to the terrified citizens of Gotham as the Joker.",
         130.643,
         "Welcome to a world without rules.",
         "Drama, Action, Crime, Thriller",
         "DC Comics, Legendary Pictures, Syncopy, Isobel Griffiths, Warner Bros. Pictures",
         "United Kingdom, United States of America",
         "English, Mandarin",
         "joker, sadism, chaos, secret identity, crime fighter, superhero, anti hero, scarecrow, based on comic, vigilante, organized crime, tragic hero, anti villain, criminal mastermind, district attorney, super power, super villain, neo-noir"
        ],
        [
         19995,
         "Avatar",
         7.573,
         29815,
         "Released",
         "12/15/2009",
         2923706026,
         162,
         false,
         237000000,
         "tt0499549",
         "en",
         "Avatar",
         "In the 22nd century, a paraplegic Marine is dispatched to the moon Pandora on a unique mission, but becomes torn between following orders and protecting an alien civilization.",
         79.932,
         "Enter the world of Pandora.",
         "Action, Adventure, Fantasy, Science Fiction",
         "Dune Entertainment, Lightstorm Entertainment, 20th Century Fox, Ingenious Media",
         "United States of America, United Kingdom",
         "English, Spanish",
         "future, society, culture clash, space travel, space war, space colony, tribe, romance, alien, futuristic, space, alien planet, marine, soldier, battle, love affair, nature, anti war, power relations, joyful"
        ],
        [
         24428,
         "The Avengers",
         7.71,
         29166,
         "Released",
         "4/25/2012",
         1518815515,
         143,
         false,
         220000000,
         "tt0848228",
         "en",
         "The Avengers",
         "When an unexpected enemy emerges and threatens global safety and security, Nick Fury, director of the international peacekeeping agency known as S.H.I.E.L.D., finds himself in need of a team to pull the world back from the brink of disaster. Spanning the globe, a daring recruitment effort begins!",
         98.082,
         "Some assembly required.",
         "Science Fiction, Action, Adventure",
         "Marvel Studios",
         "United States of America",
         "English, Hindi, Russian",
         "new york city, superhero, shield, based on comic, alien invasion, superhero team, aftercreditsstinger, duringcreditsstinger, marvel cinematic universe (mcu)"
        ]
       ],
       "datasetInfos": [],
       "dbfsResultPath": null,
       "isJsonSchema": true,
       "metadata": {},
       "overflow": false,
       "plotOptions": {
        "customPlotOptions": {},
        "displayType": "table",
        "pivotAggregation": null,
        "pivotColumns": null,
        "xColumns": null,
        "yColumns": null
       },
       "removedWidgets": [],
       "schema": [
        {
         "metadata": "{}",
         "name": "id",
         "type": "\"integer\""
        },
        {
         "metadata": "{}",
         "name": "title",
         "type": "\"string\""
        },
        {
         "metadata": "{}",
         "name": "vote_average",
         "type": "\"double\""
        },
        {
         "metadata": "{}",
         "name": "vote_count",
         "type": "\"integer\""
        },
        {
         "metadata": "{}",
         "name": "status",
         "type": "\"string\""
        },
        {
         "metadata": "{}",
         "name": "release_date",
         "type": "\"string\""
        },
        {
         "metadata": "{}",
         "name": "revenue",
         "type": "\"long\""
        },
        {
         "metadata": "{}",
         "name": "runtime",
         "type": "\"integer\""
        },
        {
         "metadata": "{}",
         "name": "adult",
         "type": "\"boolean\""
        },
        {
         "metadata": "{}",
         "name": "budget",
         "type": "\"integer\""
        },
        {
         "metadata": "{}",
         "name": "imdb_id",
         "type": "\"string\""
        },
        {
         "metadata": "{}",
         "name": "original_language",
         "type": "\"string\""
        },
        {
         "metadata": "{}",
         "name": "original_title",
         "type": "\"string\""
        },
        {
         "metadata": "{}",
         "name": "overview",
         "type": "\"string\""
        },
        {
         "metadata": "{}",
         "name": "popularity",
         "type": "\"double\""
        },
        {
         "metadata": "{}",
         "name": "tagline",
         "type": "\"string\""
        },
        {
         "metadata": "{}",
         "name": "genres",
         "type": "\"string\""
        },
        {
         "metadata": "{}",
         "name": "production_companies",
         "type": "\"string\""
        },
        {
         "metadata": "{}",
         "name": "production_countries",
         "type": "\"string\""
        },
        {
         "metadata": "{}",
         "name": "spoken_languages",
         "type": "\"string\""
        },
        {
         "metadata": "{}",
         "name": "keywords",
         "type": "\"string\""
        }
       ],
       "type": "table"
      }
     },
     "output_type": "display_data"
    }
   ],
   "source": [
    "# File location and type\n",
    "file_location = \"/FileStore/tables/Imdb_Movie_Dataset-1.csv\"\n",
    "file_type = \"csv\"\n",
    "\n",
    "# CSV options\n",
    "infer_schema = \"true\"\n",
    "first_row_is_header = \"true\"\n",
    "delimiter = \",\"\n",
    "\n",
    "# The applied options are for CSV files. For other file types, these will be ignored.\n",
    "# quote <-- Important to handle commas correctly\n",
    "df = (\n",
    "    spark.read.format(file_type)\n",
    "    .option(\"inferSchema\", infer_schema)\n",
    "    .option(\"header\", first_row_is_header)\n",
    "    .option(\"sep\", delimiter)\n",
    "    .option(\"quote\", '\"')\n",
    "    .option(\"escape\", '\"')\n",
    "    .load(file_location)\n",
    ")\n",
    "\n",
    "display(df.limit(5))"
   ]
  },
  {
   "cell_type": "code",
   "execution_count": 0,
   "metadata": {
    "application/vnd.databricks.v1+cell": {
     "cellMetadata": {
      "byteLimit": 2048000,
      "rowLimit": 10000
     },
     "inputWidgets": {},
     "nuid": "0d2ea799-bf60-456d-9f82-f13deb145e96",
     "showTitle": false,
     "tableResultSettingsMap": {},
     "title": ""
    }
   },
   "outputs": [
    {
     "output_type": "display_data",
     "data": {
      "application/vnd.databricks.v1+bamboolib_hint": "{\"pd.DataFrames\": [\"df_corr\"], \"version\": \"0.0.1\"}",
      "text/plain": []
     },
     "metadata": {},
     "output_type": "display_data"
    }
   ],
   "source": [
    "from pyspark.sql import functions as F\n",
    "from pyspark.sql.functions import (col, count, when, isnan, row_number, to_date, split, regexp_replace, expr, corr)\n",
    "\n",
    "from pyspark.sql.window import Window\n",
    "import pandas as pd\n",
    "import matplotlib.pyplot as plt\n",
    "import seaborn as sns\n",
    "\n",
    "from pyspark.ml.tuning import CrossValidator, ParamGridBuilder\n",
    "from pyspark.ml.feature import ChiSqSelector, VectorAssembler, QuantileDiscretizer\n",
    "from pyspark.ml.evaluation import RegressionEvaluator\n",
    "from pyspark.ml.regression import LinearRegression, DecisionTreeRegressor, RandomForestRegressor, GBTRegressor\n",
    "\n",
    "spark.conf.set(\"spark.sql.legacy.timeParserPolicy\", \"LEGACY\")  # to parse the release date without problems"
   ]
  },
  {
   "cell_type": "markdown",
   "metadata": {
    "application/vnd.databricks.v1+cell": {
     "cellMetadata": {},
     "inputWidgets": {},
     "nuid": "234112b8-967f-443c-b6a2-c64b9bbcafdb",
     "showTitle": false,
     "tableResultSettingsMap": {},
     "title": ""
    }
   },
   "source": [
    "---\n",
    "## Define the Data Cleaning Function\n",
    "---"
   ]
  },
  {
   "cell_type": "code",
   "execution_count": 0,
   "metadata": {
    "application/vnd.databricks.v1+cell": {
     "cellMetadata": {
      "byteLimit": 2048000,
      "rowLimit": 10000
     },
     "inputWidgets": {},
     "nuid": "20d939da-ce76-423e-bc08-69185e8e9116",
     "showTitle": false,
     "tableResultSettingsMap": {},
     "title": ""
    }
   },
   "outputs": [],
   "source": [
    "def drop_duplicates_keep_least_null(df, id_col):\n",
    "    \"\"\"\n",
    "    Deduplicate on `id_col`, keeping the row with the fewest null values.\n",
    "    Rows with null `id_col` are left unchanged.\n",
    "    \"\"\"\n",
    "    print(f\"Starting deduplication on column: {id_col}\")\n",
    "\n",
    "    non_null_df = df.filter(col(id_col).isNotNull())\n",
    "    null_df     = df.filter(col(id_col).isNull())\n",
    "    print(f\"Rows with non-null '{id_col}': {non_null_df.count()}\")\n",
    "    print(f\"Rows with null '{id_col}': {null_df.count()}\")\n",
    "\n",
    "    null_count_expr = sum(\n",
    "        when(col(c).isNull(), 1).otherwise(0) for c in non_null_df.columns\n",
    "    ).alias(\"_null_cnt\")\n",
    "\n",
    "    nn_with_counts = non_null_df.withColumn(\"_null_cnt\", null_count_expr)\n",
    "    print(\"Added null count column for ranking\")\n",
    "\n",
    "    w = Window.partitionBy(id_col).orderBy(col(\"_null_cnt\").asc())\n",
    "    ranked = nn_with_counts.withColumn(\"_rn\", row_number().over(w))\n",
    "    print(\"Ranked rows within each group\")\n",
    "\n",
    "    deduped = (\n",
    "        ranked\n",
    "        .filter(col(\"_rn\") == 1)\n",
    "        .drop(\"_null_cnt\", \"_rn\")\n",
    "    )\n",
    "    print(\"Filtered to keep only top-ranked rows with fewest nulls\")\n",
    "\n",
    "    result_df = deduped.unionByName(null_df)\n",
    "    print(f\"Final row count after deduplication on '{id_col}': {result_df.count()}\")\n",
    "    return result_df\n",
    "\n",
    "def _build_top_indicator(df, col_name, top_n, suffix):\n",
    "    \"\"\"\n",
    "    For a comma-separated string column (e.g., 'Adventure, Comedy, Science Fiction'),\n",
    "    create binary columns for the top-N most profitable individual items.\n",
    "    \"\"\"\n",
    "    print(f\"Creating top-{top_n} binary indicator columns for: {col_name}\")\n",
    "    arr_col = F.split(F.col(col_name), \",\\\\s*\")\n",
    "\n",
    "    exploded = (\n",
    "        df.select(arr_col.alias(\"arr\"), \"revenue\")\n",
    "          .withColumn(\"item\", F.explode(\"arr\"))\n",
    "          .withColumn(\"item\", F.trim(F.col(\"item\")))\n",
    "          .groupBy(\"item\")\n",
    "          .agg(F.sum(\"revenue\").alias(\"tot_rev\"))\n",
    "          .orderBy(F.col(\"tot_rev\").desc())\n",
    "          .limit(top_n)\n",
    "    )\n",
    "\n",
    "    top_items = [row[\"item\"] for row in exploded.collect()]\n",
    "    print(f\"Top {top_n} items for '{col_name}': {top_items}\")\n",
    "\n",
    "    for item in top_items:\n",
    "        clean_name = item.strip().lower().replace(\" \", \"_\").replace(\"-\", \"_\").replace(\"(\", \"\").replace(\".\", \"\")\n",
    "        df = df.withColumn(\n",
    "            f\"{suffix}_{clean_name}\",\n",
    "            F.when(F.array_contains(arr_col, item), 1).otherwise(0)\n",
    "        )\n",
    "        print(f\"Created binary column: {suffix}_{clean_name}\")\n",
    "\n",
    "    return df\n",
    "\n",
    "# main data cleaner\n",
    "def initial_preprocess(df):\n",
    "    \"\"\"\n",
    "    1. Drop rows with revenue == 0 (it's our first step to make the dataset lighter and thus the following operations faster)\n",
    "    2. Replace literal 'None' / 'none' in imdb_id with null\n",
    "    3. Deduplicate on id, then on imdb_id using fewest-null rule\n",
    "    4. Drop heavy text cols\n",
    "    5. Change the data types to correct ones\n",
    "    6. Fix incorrect values for vote_average (should only be in the range 1-10)\n",
    "    7. Set the vote vote_average to zero, when vote_count == 0\n",
    "    8. Cast the release_date to data type \n",
    "    9. Create release -day, -month, -year features\n",
    "    10. Create a binary feature 'released_bool', that takes on 1 when the movie has been released and 0 for any other status\n",
    "    11. Create a binary feature 'en_bool', that takes on 1 when the movie has been released and 0 for any other status\n",
    "    12. Create a binary column 'tagline_bool' that takes on 1 when the movie had a tagline and 0 when it didnt\n",
    "    13. Create a retun on investment column (ROI)\n",
    "    14. Create boolean features for the columns with multiple string values: \"genres\", \"production_companies\", \"production_countries\", \"keywords\"\n",
    "    15. Drop the unneccessary fetures (after feature engineering)\n",
    "    \"\"\"\n",
    "    print(\"Step 1: Dropping rows with revenue = 0\")\n",
    "    df = df.filter(F.col(\"revenue\") != 0)\n",
    "\n",
    "    print(\"Step 2: Replacing 'None' strings in imdb_id with null\")\n",
    "    none_count = df.filter(F.lower(col(\"imdb_id\")) == \"none\").count()\n",
    "    df = df.withColumn(\n",
    "        \"imdb_id\",\n",
    "        when(F.lower(col(\"imdb_id\")) == \"none\", None).otherwise(col(\"imdb_id\"))\n",
    "    )\n",
    "    print(f\"Number of 'None' values replaced with null in 'imdb_id': {none_count}\")\n",
    "\n",
    "    print(\"Step 3a: Deduplicating by id\")\n",
    "    df = drop_duplicates_keep_least_null(df, id_col=\"id\")\n",
    "\n",
    "    print(\"Step 3b: Deduplicating by imdb_id\")\n",
    "    df = drop_duplicates_keep_least_null(df, id_col=\"imdb_id\")\n",
    "\n",
    "    print(\"Step 4: Dropping unused text columns\")\n",
    "    df = df.drop(\"id\", \"imdb_id\", \"title\", \"original_title\", \"overview\", \"spoken_languages\")\n",
    "    \n",
    "    print(\"Step 5: Casting to correct data types\")\n",
    "    df = (\n",
    "        df\n",
    "        .withColumn(\"vote_average\",  F.col(\"vote_average\").cast(DoubleType()))\n",
    "        .withColumn(\"popularity\",    F.col(\"popularity\").cast(DoubleType()))\n",
    "        .withColumn(\"vote_count\",    F.col(\"vote_count\").cast(IntegerType()))\n",
    "        .withColumn(\"runtime\",       F.col(\"runtime\").cast(IntegerType()))\n",
    "        .withColumn(\"adult\",         F.col(\"adult\").cast(IntegerType()))\n",
    "        .withColumn(\"revenue\",       F.col(\"revenue\").cast(LongType()))\n",
    "        .withColumn(\"budget\",        F.col(\"budget\").cast(LongType()))\n",
    "    )\n",
    "\n",
    "    print(\"Step 6: Fixing out-of-range vote_average values\")\n",
    "    df = df.withColumn(\n",
    "        \"vote_average\",\n",
    "        F.when((F.col(\"vote_average\") < 1) | (F.col(\"vote_average\") > 10), 0.0)\n",
    "         .otherwise(F.col(\"vote_average\"))\n",
    "    )\n",
    "\n",
    "    print(\"Step 7: Setting vote_average to 0 where vote_count == 0\")\n",
    "    df = df.withColumn(\n",
    "        \"vote_average\",\n",
    "        F.when((F.col(\"vote_count\") == 0) & (F.col(\"vote_average\") != 0), 0.0)\n",
    "         .otherwise(F.col(\"vote_average\"))\n",
    "    )\n",
    "\n",
    "    print(\"Step 8: Parsing release_date using multiple formats\")\n",
    "    date_eu  = F.to_date(F.col(\"release_date\"), \"dd/MM/yyyy\")\n",
    "    date_us  = F.to_date(F.col(\"release_date\"), \"MM/dd/yyyy\")\n",
    "    date_iso = F.to_date(F.col(\"release_date\"), \"yyyy-MM-dd\")\n",
    "    df = df.withColumn(\"parsed_date\", F.coalesce(date_eu, date_us, date_iso))\n",
    "\n",
    "    print(\"Step 9: Creating release_day, release_month, release_year\")\n",
    "    df = (\n",
    "        df\n",
    "        .withColumn(\"release_day\",   F.dayofmonth(\"parsed_date\").cast(IntegerType()))\n",
    "        .withColumn(\"release_month\", F.month(\"parsed_date\").cast(IntegerType()))\n",
    "        .withColumn(\"release_year\",  F.year(\"parsed_date\").cast(IntegerType()))\n",
    "    )\n",
    "    print(\"Filling missing values in release_day, release_month, release_year with 0\")\n",
    "    df = (\n",
    "        df\n",
    "        .withColumn(\"release_day\",   F.when(F.col(\"release_day\").isNull(),   0).otherwise(F.col(\"release_day\")))\n",
    "        .withColumn(\"release_month\", F.when(F.col(\"release_month\").isNull(), 0).otherwise(F.col(\"release_month\")))\n",
    "        .withColumn(\"release_year\",  F.when(F.col(\"release_year\").isNull(),  0).otherwise(F.col(\"release_year\")))\n",
    "    )\n",
    "\n",
    "    print(\"Step 10: Creating 'released_bool' binary column from status\")\n",
    "    df = df.withColumn(\n",
    "        \"released_bool\",\n",
    "        F.when(F.col(\"status\") == \"Released\", 1).otherwise(0)\n",
    "    )\n",
    "\n",
    "    print(\"Step 11: Creating 'en_bool' binary column from original_language\")\n",
    "    df = df.withColumn(\n",
    "        \"en_bool\",\n",
    "        F.when(F.col(\"original_language\") == \"en\", 1).otherwise(0)\n",
    "    )\n",
    "\n",
    "    print(\"Step 12: Creating 'tagline_bool' from presence of tagline\")\n",
    "    df = (\n",
    "        df\n",
    "        .withColumn(\n",
    "            \"tagline\",\n",
    "            F.when(F.lower(F.col(\"tagline\")).isin(\"none\", \"null\"), F.lit(None))\n",
    "             .otherwise(F.col(\"tagline\"))\n",
    "        )\n",
    "        .withColumn(\"tagline_bool\", F.when(F.col(\"tagline\").isNotNull(), 1).otherwise(0))\n",
    "    )\n",
    "\n",
    "    print(\"Step 13: Creating ROI feature (budget-aware)\")\n",
    "    df = df.withColumn(\n",
    "        \"ROI\",\n",
    "        F.when(F.col(\"budget\") == 0, F.lit(0.0))\n",
    "         .otherwise((F.col(\"revenue\") - F.col(\"budget\")) / F.col(\"budget\"))\n",
    "    )\n",
    "\n",
    "    print(\"Step 14: Creating top-N indicator columns\")\n",
    "    df = _build_top_indicator(df, \"genres\",               5, \"genre\")\n",
    "    df = _build_top_indicator(df, \"production_companies\", 3, \"prodco\")\n",
    "    df = _build_top_indicator(df, \"production_countries\", 5, \"country\")\n",
    "    df = _build_top_indicator(df, \"keywords\",             3, \"keyword\")\n",
    "\n",
    "    print(\"Step 15: Dropping raw and intermediate columns\")\n",
    "    df = df.drop(\n",
    "        \"release_date\", \"status\", \"original_language\", \"tagline\",\n",
    "        \"genres\", \"production_companies\", \"production_countries\", \"keywords\",\n",
    "        \"parsed_date\"\n",
    "    )\n",
    "\n",
    "    print(\"Initial preprocessing complete.\")\n",
    "    return df"
   ]
  },
  {
   "cell_type": "markdown",
   "metadata": {
    "application/vnd.databricks.v1+cell": {
     "cellMetadata": {},
     "inputWidgets": {},
     "nuid": "57a7c7fd-4165-4fdb-b403-fc0567621af5",
     "showTitle": false,
     "tableResultSettingsMap": {},
     "title": ""
    }
   },
   "source": [
    "---\n",
    "## Clean and Engineer the Data\n",
    "---"
   ]
  },
  {
   "cell_type": "code",
   "execution_count": 0,
   "metadata": {
    "application/vnd.databricks.v1+cell": {
     "cellMetadata": {
      "byteLimit": 2048000,
      "rowLimit": 10000
     },
     "inputWidgets": {},
     "nuid": "ed56e77f-048e-4b97-b3cc-47afa29db735",
     "showTitle": false,
     "tableResultSettingsMap": {},
     "title": ""
    }
   },
   "outputs": [
    {
     "output_type": "stream",
     "name": "stdout",
     "output_type": "stream",
     "text": [
      "Step 1: Dropping rows with revenue = 0\nStep 2: Replacing 'None' strings in imdb_id with null\nNumber of 'None' values replaced with null in 'imdb_id': 4\nStep 3a: Deduplicating by id\nStarting deduplication on column: id\nRows with non-null 'id': 20676\nRows with null 'id': 0\nAdded null count column for ranking\nRanked rows within each group\nFiltered to keep only top-ranked rows with fewest nulls\nFinal row count after deduplication on 'id': 20674\nStep 3b: Deduplicating by imdb_id\nStarting deduplication on column: imdb_id\nRows with non-null 'imdb_id': 16927\nRows with null 'imdb_id': 3747\nAdded null count column for ranking\nRanked rows within each group\nFiltered to keep only top-ranked rows with fewest nulls\nFinal row count after deduplication on 'imdb_id': 20664\nStep 4: Dropping unused text columns\nStep 5: Casting to correct data types\nStep 6: Fixing out-of-range vote_average values\nStep 7: Setting vote_average to 0 where vote_count == 0\nStep 8: Parsing release_date using multiple formats\nStep 9: Creating release_day, release_month, release_year\nFilling missing values in release_day, release_month, release_year with 0\nStep 10: Creating 'released_bool' binary column from status\nStep 11: Creating 'en_bool' binary column from original_language\nStep 12: Creating 'tagline_bool' from presence of tagline\nStep 13: Creating ROI feature (budget-aware)\nStep 14: Creating top-N indicator columns\nCreating top-5 binary indicator columns for: genres\nTop 5 items for 'genres': ['Action', 'Adventure', 'Comedy', 'Drama', 'Thriller']\nCreated binary column: genre_action\nCreated binary column: genre_adventure\nCreated binary column: genre_comedy\nCreated binary column: genre_drama\nCreated binary column: genre_thriller\nCreating top-3 binary indicator columns for: production_companies\nTop 3 items for 'production_companies': ['Warner Bros. Pictures', 'Universal Pictures', '20th Century Fox']\nCreated binary column: prodco_warner_bros_pictures\nCreated binary column: prodco_universal_pictures\nCreated binary column: prodco_20th_century_fox\nCreating top-5 binary indicator columns for: production_countries\nTop 5 items for 'production_countries': ['United States of America', 'United Kingdom', 'China', 'Germany', 'France']\nCreated binary column: country_united_states_of_america\nCreated binary column: country_united_kingdom\nCreated binary column: country_china\nCreated binary column: country_germany\nCreated binary column: country_france\nCreating top-3 binary indicator columns for: keywords\nTop 3 items for 'keywords': ['sequel', 'duringcreditsstinger', 'based on novel or book']\nCreated binary column: keyword_sequel\nCreated binary column: keyword_duringcreditsstinger\nCreated binary column: keyword_based_on_novel_or_book\nStep 15: Dropping raw and intermediate columns\nInitial preprocessing complete.\n"
     ]
    }
   ],
   "source": [
    "# Apply initial preprocessing\n",
    "df_final = initial_preprocess(df)"
   ]
  },
  {
   "cell_type": "markdown",
   "metadata": {
    "application/vnd.databricks.v1+cell": {
     "cellMetadata": {},
     "inputWidgets": {},
     "nuid": "4774c8e4-dd3f-4919-a0ee-61970d24b159",
     "showTitle": false,
     "tableResultSettingsMap": {},
     "title": ""
    }
   },
   "source": [
    "### Original 21 Columns – Feature Engineering Summary\n",
    "\n",
    "| Column Name             | Action Taken / Reason                                                         |\n",
    "|------------------------|--------------------------------------------------------------------------------|\n",
    "| id                     | Dropped (identifier, no target relationship)                                   |\n",
    "| title                  | Dropped (text, should not affect revenue)                                      |\n",
    "| vote_average           | Kept (numeric feature)                                                         |\n",
    "| vote_count             | Kept (numeric feature)                                                         |\n",
    "| status                 | Kept (categorical)                                                             |\n",
    "| release_date           | Dropped (transformed into `release_day`, `release_month`, `release_year`)      |\n",
    "| revenue                | Kept (target variable)                                                         |\n",
    "| runtime                | Kept (numeric feature)                                                         |\n",
    "| adult                  | Kept (boolean)                                                                 |\n",
    "| budget                 | Kept (numeric feature)                                                         |\n",
    "| imdb_id                | Dropped (identifier)                                                           |\n",
    "| original_language      | Dropped (transformed into `en_bool`)                                           |\n",
    "| original_title         | Dropped (text)                                                                 |\n",
    "| overview               | Dropped (long text, transformations needed)                                    |\n",
    "| popularity             | Kept (numeric feature)                                                         |\n",
    "| tagline                | Dropped (created `tagline_bool` for boolean present/abs)                       |\n",
    "| genres                 | Dropped (created boolean columns for top 5 genres)                             |\n",
    "| production_companies   | Dropped (created boolean columns for top 3 companies)                          |\n",
    "| production_countries   | Dropped (created boolean columns for top 5 production countries)               |\n",
    "| spoken_languages       | Dropped (high cardinality – potential future work)                             |\n",
    "| keywords               | Dropped (created boolean columns for top 3 keywords)                           |\n"
   ]
  },
  {
   "cell_type": "markdown",
   "metadata": {
    "application/vnd.databricks.v1+cell": {
     "cellMetadata": {},
     "inputWidgets": {},
     "nuid": "bd561ea7-694d-4f3d-bd0c-d54b9cb296f2",
     "showTitle": false,
     "tableResultSettingsMap": {},
     "title": ""
    }
   },
   "source": [
    "---\n",
    "## Check the Changes \n",
    "---"
   ]
  },
  {
   "cell_type": "code",
   "execution_count": 0,
   "metadata": {
    "application/vnd.databricks.v1+cell": {
     "cellMetadata": {
      "byteLimit": 2048000,
      "rowLimit": 10000
     },
     "inputWidgets": {},
     "nuid": "a3312643-2048-4dbd-962a-a8d897aef318",
     "showTitle": false,
     "tableResultSettingsMap": {},
     "title": ""
    }
   },
   "outputs": [
    {
     "output_type": "stream",
     "name": "stdout",
     "output_type": "stream",
     "text": [
      "root\n |-- vote_average: double (nullable = true)\n |-- vote_count: integer (nullable = true)\n |-- revenue: long (nullable = true)\n |-- runtime: integer (nullable = true)\n |-- adult: integer (nullable = true)\n |-- budget: long (nullable = true)\n |-- popularity: double (nullable = true)\n |-- release_day: integer (nullable = true)\n |-- release_month: integer (nullable = true)\n |-- release_year: integer (nullable = true)\n |-- released_bool: integer (nullable = false)\n |-- en_bool: integer (nullable = false)\n |-- tagline_bool: integer (nullable = false)\n |-- ROI: double (nullable = true)\n |-- genre_action: integer (nullable = false)\n |-- genre_adventure: integer (nullable = false)\n |-- genre_comedy: integer (nullable = false)\n |-- genre_drama: integer (nullable = false)\n |-- genre_thriller: integer (nullable = false)\n |-- prodco_warner_bros_pictures: integer (nullable = false)\n |-- prodco_universal_pictures: integer (nullable = false)\n |-- prodco_20th_century_fox: integer (nullable = false)\n |-- country_united_states_of_america: integer (nullable = false)\n |-- country_united_kingdom: integer (nullable = false)\n |-- country_china: integer (nullable = false)\n |-- country_germany: integer (nullable = false)\n |-- country_france: integer (nullable = false)\n |-- keyword_sequel: integer (nullable = false)\n |-- keyword_duringcreditsstinger: integer (nullable = false)\n |-- keyword_based_on_novel_or_book: integer (nullable = false)\n\nFinal row count: 20664\n+-------+------------+\n|summary|vote_average|\n+-------+------------+\n|    min|         0.0|\n|    max|        10.0|\n+-------+------------+\n\nFalse\nFalse\nFalse\n+-----------+-------------+------------+-------------+-------+------------+\n|release_day|release_month|release_year|released_bool|en_bool|tagline_bool|\n+-----------+-------------+------------+-------------+-------+------------+\n|         24|           11|        1913|            1|      1|           0|\n|         25|            4|        1914|            1|      1|           0|\n|         15|           11|        1914|            1|      1|           1|\n|          4|           10|        1914|            1|      1|           0|\n|          2|            8|        1915|            1|      1|           1|\n+-----------+-------------+------------+-------------+-------+------------+\nonly showing top 5 rows\n\n+-------+-----------------+\n|summary|              ROI|\n+-------+-----------------+\n|  count|            20664|\n|    min|             -2.0|\n|    max|     9.99999999E8|\n|   mean|247531.7826877218|\n+-------+-----------------+\n\n+------------+---------------+------------+-----------+--------------+\n|genre_action|genre_adventure|genre_comedy|genre_drama|genre_thriller|\n+------------+---------------+------------+-----------+--------------+\n|           0|              0|           0|          1|             0|\n|           0|              0|           0|          0|             0|\n|           0|              1|           0|          0|             0|\n|           0|              0|           0|          0|             0|\n|           0|              0|           0|          1|             0|\n+------------+---------------+------------+-----------+--------------+\nonly showing top 5 rows\n\n"
     ]
    }
   ],
   "source": [
    "# 1. Check schema changes\n",
    "df_final.printSchema()\n",
    "\n",
    "# 2. Check basic row count\n",
    "print(f\"Final row count: {df_final.count()}\")\n",
    "\n",
    "# 3. Check value range of 'vote_average' (should be between 0 and 10)\n",
    "df_final.select(\"vote_average\").summary(\"min\", \"max\").show()\n",
    "\n",
    "# 4. Check if 'runtime' has any 0 values left\n",
    "df_final.filter(col(\"runtime\") == 0).count()\n",
    "\n",
    "# 5. Check if 'release_date' and other dropped columns are really gone\n",
    "print(\"release_date\" in df_final.columns)     # should be False\n",
    "print(\"status\" in df_final.columns)           # should be False\n",
    "print(\"original_language\" in df_final.columns) # should be False\n",
    "\n",
    "# 6. Show sample of new columns\n",
    "df_final.select(\"release_day\", \"release_month\", \"release_year\", \"released_bool\", \"en_bool\", \"tagline_bool\").show(5)\n",
    "\n",
    "# 7. Show ROI distribution\n",
    "df_final.select(\"ROI\").summary(\"count\", \"min\", \"max\", \"mean\").show()\n",
    "\n",
    "# 8. Check new genre/country/keyword boolean features\n",
    "genre_cols = [c for c in df_final.columns if c.startswith(\"genre_\")]\n",
    "df_final.select(genre_cols).show(5)"
   ]
  },
  {
   "cell_type": "markdown",
   "metadata": {
    "application/vnd.databricks.v1+cell": {
     "cellMetadata": {},
     "inputWidgets": {},
     "nuid": "4a8bc295-c066-4512-8930-ead4350e9923",
     "showTitle": false,
     "tableResultSettingsMap": {},
     "title": ""
    }
   },
   "source": [
    "---\n",
    "## Check for Missing Values\n",
    "---"
   ]
  },
  {
   "cell_type": "code",
   "execution_count": 0,
   "metadata": {
    "application/vnd.databricks.v1+cell": {
     "cellMetadata": {
      "byteLimit": 2048000,
      "rowLimit": 10000
     },
     "inputWidgets": {},
     "nuid": "cd9d353b-8700-41b0-a91a-770809079fac",
     "showTitle": false,
     "tableResultSettingsMap": {},
     "title": ""
    }
   },
   "outputs": [
    {
     "output_type": "display_data",
     "data": {
      "text/html": [
       "<style scoped>\n",
       "  .table-result-container {\n",
       "    max-height: 300px;\n",
       "    overflow: auto;\n",
       "  }\n",
       "  table, th, td {\n",
       "    border: 1px solid black;\n",
       "    border-collapse: collapse;\n",
       "  }\n",
       "  th, td {\n",
       "    padding: 5px;\n",
       "  }\n",
       "  th {\n",
       "    text-align: left;\n",
       "  }\n",
       "</style><div class='table-result-container'><table class='table-result'><thead style='background-color: white'><tr><th>vote_average</th><th>vote_count</th><th>revenue</th><th>runtime</th><th>adult</th><th>budget</th><th>popularity</th><th>release_day</th><th>release_month</th><th>release_year</th><th>released_bool</th><th>en_bool</th><th>tagline_bool</th><th>ROI</th><th>genre_action</th><th>genre_adventure</th><th>genre_comedy</th><th>genre_drama</th><th>genre_thriller</th><th>prodco_warner_bros_pictures</th><th>prodco_universal_pictures</th><th>prodco_20th_century_fox</th><th>country_united_states_of_america</th><th>country_united_kingdom</th><th>country_china</th><th>country_germany</th><th>country_france</th><th>keyword_sequel</th><th>keyword_duringcreditsstinger</th><th>keyword_based_on_novel_or_book</th></tr></thead><tbody><tr><td>0</td><td>0</td><td>0</td><td>0</td><td>0</td><td>0</td><td>0</td><td>0</td><td>0</td><td>0</td><td>0</td><td>0</td><td>0</td><td>0</td><td>0</td><td>0</td><td>0</td><td>0</td><td>0</td><td>0</td><td>0</td><td>0</td><td>0</td><td>0</td><td>0</td><td>0</td><td>0</td><td>0</td><td>0</td><td>0</td></tr></tbody></table></div>"
      ]
     },
     "metadata": {
      "application/vnd.databricks.v1+output": {
       "addedWidgets": {},
       "aggData": [],
       "aggError": "",
       "aggOverflow": false,
       "aggSchema": [],
       "aggSeriesLimitReached": false,
       "aggType": "",
       "arguments": {},
       "columnCustomDisplayInfos": {},
       "data": [
        [
         0,
         0,
         0,
         0,
         0,
         0,
         0,
         0,
         0,
         0,
         0,
         0,
         0,
         0,
         0,
         0,
         0,
         0,
         0,
         0,
         0,
         0,
         0,
         0,
         0,
         0,
         0,
         0,
         0,
         0
        ]
       ],
       "datasetInfos": [],
       "dbfsResultPath": null,
       "isJsonSchema": true,
       "metadata": {},
       "overflow": false,
       "plotOptions": {
        "customPlotOptions": {},
        "displayType": "table",
        "pivotAggregation": null,
        "pivotColumns": null,
        "xColumns": null,
        "yColumns": null
       },
       "removedWidgets": [],
       "schema": [
        {
         "metadata": "{}",
         "name": "vote_average",
         "type": "\"long\""
        },
        {
         "metadata": "{}",
         "name": "vote_count",
         "type": "\"long\""
        },
        {
         "metadata": "{}",
         "name": "revenue",
         "type": "\"long\""
        },
        {
         "metadata": "{}",
         "name": "runtime",
         "type": "\"long\""
        },
        {
         "metadata": "{}",
         "name": "adult",
         "type": "\"long\""
        },
        {
         "metadata": "{}",
         "name": "budget",
         "type": "\"long\""
        },
        {
         "metadata": "{}",
         "name": "popularity",
         "type": "\"long\""
        },
        {
         "metadata": "{}",
         "name": "release_day",
         "type": "\"long\""
        },
        {
         "metadata": "{}",
         "name": "release_month",
         "type": "\"long\""
        },
        {
         "metadata": "{}",
         "name": "release_year",
         "type": "\"long\""
        },
        {
         "metadata": "{}",
         "name": "released_bool",
         "type": "\"long\""
        },
        {
         "metadata": "{}",
         "name": "en_bool",
         "type": "\"long\""
        },
        {
         "metadata": "{}",
         "name": "tagline_bool",
         "type": "\"long\""
        },
        {
         "metadata": "{}",
         "name": "ROI",
         "type": "\"long\""
        },
        {
         "metadata": "{}",
         "name": "genre_action",
         "type": "\"long\""
        },
        {
         "metadata": "{}",
         "name": "genre_adventure",
         "type": "\"long\""
        },
        {
         "metadata": "{}",
         "name": "genre_comedy",
         "type": "\"long\""
        },
        {
         "metadata": "{}",
         "name": "genre_drama",
         "type": "\"long\""
        },
        {
         "metadata": "{}",
         "name": "genre_thriller",
         "type": "\"long\""
        },
        {
         "metadata": "{}",
         "name": "prodco_warner_bros_pictures",
         "type": "\"long\""
        },
        {
         "metadata": "{}",
         "name": "prodco_universal_pictures",
         "type": "\"long\""
        },
        {
         "metadata": "{}",
         "name": "prodco_20th_century_fox",
         "type": "\"long\""
        },
        {
         "metadata": "{}",
         "name": "country_united_states_of_america",
         "type": "\"long\""
        },
        {
         "metadata": "{}",
         "name": "country_united_kingdom",
         "type": "\"long\""
        },
        {
         "metadata": "{}",
         "name": "country_china",
         "type": "\"long\""
        },
        {
         "metadata": "{}",
         "name": "country_germany",
         "type": "\"long\""
        },
        {
         "metadata": "{}",
         "name": "country_france",
         "type": "\"long\""
        },
        {
         "metadata": "{}",
         "name": "keyword_sequel",
         "type": "\"long\""
        },
        {
         "metadata": "{}",
         "name": "keyword_duringcreditsstinger",
         "type": "\"long\""
        },
        {
         "metadata": "{}",
         "name": "keyword_based_on_novel_or_book",
         "type": "\"long\""
        }
       ],
       "type": "table"
      }
     },
     "output_type": "display_data"
    }
   ],
   "source": [
    "display(df_final.select([\n",
    "    count(when(col(c).isNull() | isnan(c), c)).alias(c) for c in df_final.columns\n",
    "]))"
   ]
  },
  {
   "cell_type": "markdown",
   "metadata": {
    "application/vnd.databricks.v1+cell": {
     "cellMetadata": {},
     "inputWidgets": {},
     "nuid": "f8f570df-d7dd-4758-b998-2d38d1b0ef00",
     "showTitle": false,
     "tableResultSettingsMap": {},
     "title": ""
    }
   },
   "source": [
    "---\n",
    "## Define numerical, categorical, and boolean features\n",
    "---"
   ]
  },
  {
   "cell_type": "code",
   "execution_count": 0,
   "metadata": {
    "application/vnd.databricks.v1+cell": {
     "cellMetadata": {
      "byteLimit": 2048000,
      "rowLimit": 10000
     },
     "inputWidgets": {},
     "nuid": "48546e63-a471-468b-ad35-77074d4f2d9a",
     "showTitle": false,
     "tableResultSettingsMap": {},
     "title": ""
    }
   },
   "outputs": [],
   "source": [
    "# Numerical features (including target)\n",
    "numerical_features = [\n",
    "    \"vote_average\",\n",
    "    \"vote_count\",\n",
    "    \"runtime\",\n",
    "    \"budget\",\n",
    "    \"popularity\",\n",
    "    \"ROI\"\n",
    "    #\"release_day\",\n",
    "    #\"release_month\",\n",
    "    #\"release_year\"\n",
    "]\n",
    "# for correlation\n",
    "numerical_features_target = [\n",
    "    \"revenue\", #TARGET\n",
    "    \"vote_average\",\n",
    "    \"vote_count\",\n",
    "    \"runtime\",\n",
    "    \"budget\",\n",
    "    \"popularity\",\n",
    "    \"ROI\",\n",
    "    \"release_day\",\n",
    "    \"release_month\",\n",
    "    \"release_year\"\n",
    "]\n",
    "\n",
    "# Categorical features (string categories)\n",
    "categorical_features = [\n",
    "    \"released_bool\"\n",
    "]\n",
    "\n",
    "# Boolean/binary features (encoded as integer or boolean)\n",
    "boolean_features = [\n",
    "    \"adult\",\n",
    "    \"en_bool\",\n",
    "    \"tagline_bool\",\n",
    "    \"genre_action\", \"genre_adventure\", \"genre_comedy\", \"genre_drama\", \"genre_thriller\", # top 5 genres\n",
    "    \"prodco_warner_bros_pictures\", \"prodco_universal_pictures\", \n",
    "    \"prodco_20th_century_fox\", # top 3 production companies\n",
    "    \"keyword_sequel\", \"keyword_duringcreditsstinger\", \"keyword_based_on_novel_or_book\",  # top 3 keywords\n",
    "    \"country_united_states_of_america\", \"country_united_kingdom\", \"country_china\", \n",
    "    \"country_germany\", \"country_france\" # top 5 production countries\n",
    "]"
   ]
  },
  {
   "cell_type": "markdown",
   "metadata": {
    "application/vnd.databricks.v1+cell": {
     "cellMetadata": {},
     "inputWidgets": {},
     "nuid": "4e78a33c-8161-4a8b-b1a5-014f93c4d704",
     "showTitle": false,
     "tableResultSettingsMap": {},
     "title": ""
    }
   },
   "source": [
    "---\n",
    "## Correlation-Based Filtering (for numeric features)\n",
    "---"
   ]
  },
  {
   "cell_type": "code",
   "execution_count": 0,
   "metadata": {
    "application/vnd.databricks.v1+cell": {
     "cellMetadata": {
      "byteLimit": 2048000,
      "rowLimit": 10000
     },
     "inputWidgets": {},
     "nuid": "8b519759-d8a7-4a8d-be65-803c77825b98",
     "showTitle": false,
     "tableResultSettingsMap": {},
     "title": ""
    }
   },
   "outputs": [
    {
     "output_type": "display_data",
     "data": {
      "image/png": "[encoded data removed]"
     },
     "metadata": {
      "application/vnd.databricks.v1+output": {
       "addedWidgets": {},
       "arguments": {},
       "data": "data:image/png;base64,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\n",
       "datasetInfos": [],
       "metadata": {},
       "removedWidgets": [],
       "type": "image"
      }
     },
     "output_type": "display_data"
    }
   ],
   "source": [
    "# Convert to Pandas\n",
    "df_corr = train_df.select(numerical_features_target).toPandas()\n",
    "\n",
    "# Plot correlation matrix using a pretty palette\n",
    "plt.figure(figsize=(8, 6))\n",
    "sns.heatmap(\n",
    "    df_corr.corr(),\n",
    "    annot=True,\n",
    "    fmt=\".2f\",\n",
    "    cmap=\"viridis\",\n",
    "    square=True,\n",
    "    linewidths=0.5,\n",
    "    cbar_kws={\"shrink\": 0.8}\n",
    ")\n",
    "plt.title(\"Correlation Matrix of Numerical Features\", fontsize=14)\n",
    "plt.xticks(rotation=45)\n",
    "plt.yticks(rotation=0)\n",
    "plt.tight_layout()\n",
    "plt.show()"
   ]
  },
  {
   "cell_type": "markdown",
   "metadata": {
    "application/vnd.databricks.v1+cell": {
     "cellMetadata": {},
     "inputWidgets": {},
     "nuid": "172d4a13-3d3d-4692-8231-cbb269cf9e5a",
     "showTitle": false,
     "tableResultSettingsMap": {},
     "title": ""
    }
   },
   "source": [
    "---\n",
    "## Model-Based Importance for Decision Tree\n",
    "---"
   ]
  },
  {
   "cell_type": "code",
   "execution_count": 0,
   "metadata": {
    "application/vnd.databricks.v1+cell": {
     "cellMetadata": {
      "byteLimit": 2048000,
      "rowLimit": 10000
     },
     "inputWidgets": {},
     "nuid": "a7bf7b2c-d53a-4c3c-bc24-b59ce55736da",
     "showTitle": false,
     "tableResultSettingsMap": {},
     "title": ""
    }
   },
   "outputs": [],
   "source": [
    "# Split the data\n",
    "train_df, test_df = df_final.randomSplit([0.8, 0.2], seed=12)"
   ]
  },
  {
   "cell_type": "code",
   "execution_count": 0,
   "metadata": {
    "application/vnd.databricks.v1+cell": {
     "cellMetadata": {
      "byteLimit": 2048000,
      "rowLimit": 10000
     },
     "inputWidgets": {},
     "nuid": "992ec386-580f-4ee4-b995-f5272b1cd8ee",
     "showTitle": false,
     "tableResultSettingsMap": {},
     "title": ""
    }
   },
   "outputs": [
    {
     "output_type": "stream",
     "name": "stdout",
     "output_type": "stream",
     "text": [
      "🔎 Feature Importances (Descending):\n\nbudget: 0.4938\nROI: 0.3851\nvote_count: 0.0962\nruntime: 0.0149\nrelease_year: 0.0080\nrelease_month: 0.0014\nadult: 0.0007\nvote_average: 0.0000\npopularity: 0.0000\nrelease_day: 0.0000\nreleased_bool: 0.0000\nen_bool: 0.0000\ntagline_bool: 0.0000\ngenre_action: 0.0000\ngenre_adventure: 0.0000\ngenre_comedy: 0.0000\ngenre_drama: 0.0000\ngenre_thriller: 0.0000\nprodco_warner_bros_pictures: 0.0000\nprodco_universal_pictures: 0.0000\nprodco_20th_century_fox: 0.0000\ncountry_united_states_of_america: 0.0000\ncountry_united_kingdom: 0.0000\ncountry_china: 0.0000\ncountry_germany: 0.0000\ncountry_france: 0.0000\nkeyword_sequel: 0.0000\nkeyword_duringcreditsstinger: 0.0000\nkeyword_based_on_novel_or_book: 0.0000\n"
     ]
    }
   ],
   "source": [
    "# Use full train_df with all features + target\n",
    "all_features = train_df.drop(\"revenue\").columns\n",
    "\n",
    "# Assemble features\n",
    "assembler = VectorAssembler(inputCols=all_features, outputCol=\"features\")\n",
    "train_assembled = assembler.transform(train_df)\n",
    "\n",
    "# Fit Decision Tree\n",
    "tree = DecisionTreeRegressor(featuresCol=\"features\", labelCol=\"revenue\")\n",
    "model = tree.fit(train_assembled)\n",
    "\n",
    "# Get feature importances\n",
    "importances = model.featureImportances.toArray()\n",
    "feature_importance_list = list(zip(all_features, importances))\n",
    "\n",
    "# Sort and print\n",
    "sorted_features = sorted(feature_importance_list, key=lambda x: x[1], reverse=True)\n",
    "print(\"Feature Importances (Descending):\\n\")\n",
    "for feature, importance in sorted_features:\n",
    "    print(f\"{feature}: {importance:.4f}\")"
   ]
  },
  {
   "cell_type": "markdown",
   "metadata": {
    "application/vnd.databricks.v1+cell": {
     "cellMetadata": {},
     "inputWidgets": {},
     "nuid": "7438e7de-a945-486d-bf7f-8f0c72779df6",
     "showTitle": false,
     "tableResultSettingsMap": {},
     "title": ""
    }
   },
   "source": [
    "---\n",
    "## Chi-Square Test (for categorical/boolean features)\n",
    "---"
   ]
  },
  {
   "cell_type": "code",
   "execution_count": 0,
   "metadata": {
    "application/vnd.databricks.v1+cell": {
     "cellMetadata": {
      "byteLimit": 2048000,
      "rowLimit": 10000
     },
     "inputWidgets": {},
     "nuid": "55346776-384a-4e60-831b-b4f576abf388",
     "showTitle": false,
     "tableResultSettingsMap": {},
     "title": ""
    }
   },
   "outputs": [
    {
     "output_type": "stream",
     "name": "stdout",
     "output_type": "stream",
     "text": [
      "Top features selected by Chi-Square test:\n- adult\n- en_bool\n- tagline_bool\n- genre_action\n- genre_adventure\n- genre_comedy\n- genre_drama\n- genre_thriller\n- prodco_warner_bros_pictures\n- prodco_universal_pictures\n"
     ]
    }
   ],
   "source": [
    "# Discretize the revenue target into quantile buckets\n",
    "discretizer = QuantileDiscretizer(numBuckets=4, inputCol=\"revenue\", outputCol=\"revenue_bucket\")\n",
    "train_binned = discretizer.fit(train_df).transform(train_df)\n",
    "\n",
    "# Combine boolean + categorical features\n",
    "categorical_and_boolean_features = boolean_features + categorical_features\n",
    "\n",
    "# Assemble into feature vector\n",
    "assembler = VectorAssembler(inputCols=categorical_and_boolean_features, outputCol=\"features\")\n",
    "assembled = assembler.transform(train_binned)\n",
    "\n",
    "# Apply Chi-Square feature selection\n",
    "selector = ChiSqSelector(numTopFeatures=10, featuresCol=\"features\", labelCol=\"revenue_bucket\", outputCol=\"selected_features\")\n",
    "selector_model = selector.fit(assembled)\n",
    "\n",
    "# Get selected feature indices\n",
    "selected_feature_indices = selector_model.selectedFeatures\n",
    "\n",
    "# Print feature names\n",
    "print(\"Top features selected by Chi-Square test:\")\n",
    "for i in selected_feature_indices:\n",
    "    print(f\"- {categorical_and_boolean_features[i]}\")"
   ]
  },
  {
   "cell_type": "markdown",
   "metadata": {
    "application/vnd.databricks.v1+cell": {
     "cellMetadata": {},
     "inputWidgets": {},
     "nuid": "17d11cc1-57db-4b04-a6c2-70f02fc18dec",
     "showTitle": false,
     "tableResultSettingsMap": {},
     "title": ""
    }
   },
   "source": [
    "---\n",
    "## Lasso Regression (L1 Regularization)\n",
    "---"
   ]
  },
  {
   "cell_type": "code",
   "execution_count": 0,
   "metadata": {
    "application/vnd.databricks.v1+cell": {
     "cellMetadata": {
      "byteLimit": 2048000,
      "rowLimit": 10000
     },
     "inputWidgets": {},
     "nuid": "f9c5eda0-86ab-4b74-98b5-a7e9e85b1150",
     "showTitle": false,
     "tableResultSettingsMap": {},
     "title": ""
    }
   },
   "outputs": [
    {
     "output_type": "stream",
     "name": "stdout",
     "output_type": "stream",
     "text": [
      "Feature Importances from L1-Regularized Linear Regression (Lasso):\n\n- prodco_universal_pictures: -28300870.4984 (negative relationship with revenue)\n- released_bool: -13474985.1368 (negative relationship with revenue)\n- country_united_kingdom: 8666910.5869 (positive relationship with revenue)\n- country_france: -6680221.1647 (negative relationship with revenue)\n- genre_action: 4924727.7050 (positive relationship with revenue)\n- country_china: 4692922.7616 (positive relationship with revenue)\n- keyword_based_on_novel_or_bookcountry_united_states_of_america: -4605933.0745 (negative relationship with revenue)\n- keyword_sequel: -3168983.5524 (negative relationship with revenue)\n- prodco_20th_century_fox: 2782356.6693 (positive relationship with revenue)\n- country_germany: -2710091.2582 (negative relationship with revenue)\n- adult: -797308.6172 (negative relationship with revenue)\n- tagline_bool: 163249.5513 (positive relationship with revenue)\n- genre_thriller: -79969.4007 (negative relationship with revenue)\n- en_bool: 25567.9390 (positive relationship with revenue)\n- genre_comedy: 20966.4138 (positive relationship with revenue)\n- prodco_warner_bros_pictures: -7289.9361 (negative relationship with revenue)\n- genre_drama: 5268.8103 (positive relationship with revenue)\n- genre_adventure: 1.6727 (positive relationship with revenue)\n- keyword_duringcreditsstinger: 1.3087 (positive relationship with revenue)\n"
     ]
    }
   ],
   "source": [
    "# L1 regression = Lasso\n",
    "lr = LinearRegression(featuresCol=\"features\", labelCol=\"revenue\", elasticNetParam=1.0, regParam=0.3)\n",
    "model = lr.fit(train_assembled)\n",
    "\n",
    "# Zip coefficients with feature names\n",
    "coefficients = model.coefficients.toArray()\n",
    "feature_names = assembler.getInputCols()\n",
    "\n",
    "coef_feature_pairs = list(zip(feature_names, coefficients))\n",
    "\n",
    "# Sort by absolute value (importance)\n",
    "sorted_pairs = sorted(coef_feature_pairs, key=lambda x: abs(x[1]), reverse=True)\n",
    "\n",
    "print(\"Feature Importances from L1-Regularized Linear Regression (Lasso):\\n\")\n",
    "for feature, coef in sorted_pairs:\n",
    "    if coef != 0.0:\n",
    "        direction = \"positive\" if coef > 0 else \"negative\"\n",
    "        print(f\"- {feature}: {coef:.4f} ({direction} relationship with revenue)\")\n",
    "    else:\n",
    "        print(f\"- {feature}: {coef:.4f} (excluded by L1 regularization)\")"
   ]
  },
  {
   "cell_type": "markdown",
   "metadata": {
    "application/vnd.databricks.v1+cell": {
     "cellMetadata": {},
     "inputWidgets": {},
     "nuid": "aaf3ca2d-74ed-465b-96e2-069694a926a7",
     "showTitle": false,
     "tableResultSettingsMap": {},
     "title": ""
    }
   },
   "source": [
    "---\n",
    "## Define Final Features\n",
    "---"
   ]
  },
  {
   "cell_type": "code",
   "execution_count": 0,
   "metadata": {
    "application/vnd.databricks.v1+cell": {
     "cellMetadata": {
      "byteLimit": 2048000,
      "rowLimit": 10000
     },
     "inputWidgets": {},
     "nuid": "6725e1f0-5667-4939-a75d-576d19a97571",
     "showTitle": false,
     "tableResultSettingsMap": {},
     "title": ""
    }
   },
   "outputs": [],
   "source": [
    "final_features = [\n",
    "    \"budget\", \"ROI\", \"vote_count\", \"runtime\", \"release_year\",\n",
    "    \"adult\", \"release_month\", \"revenue\"\n",
    "]"
   ]
  },
  {
   "cell_type": "markdown",
   "metadata": {
    "application/vnd.databricks.v1+cell": {
     "cellMetadata": {},
     "inputWidgets": {},
     "nuid": "47ba743a-aec7-40bf-b32b-6af6d00fd3d8",
     "showTitle": false,
     "tableResultSettingsMap": {},
     "title": ""
    }
   },
   "source": [
    "---\n",
    "## Assemble datasets\n",
    "---"
   ]
  },
  {
   "cell_type": "code",
   "execution_count": 0,
   "metadata": {
    "application/vnd.databricks.v1+cell": {
     "cellMetadata": {
      "byteLimit": 2048000,
      "rowLimit": 10000
     },
     "inputWidgets": {},
     "nuid": "e7911907-39e0-4804-8800-983d7567cfe8",
     "showTitle": false,
     "tableResultSettingsMap": {},
     "title": ""
    }
   },
   "outputs": [],
   "source": [
    "# CROSS-VALIDATION   (median)\n",
    "def prep_for_cv(train_df, val_df):\n",
    "    \"\"\"\n",
    "    - Compute runtime median on train; fill runtime==0 in both splits.\n",
    "    - Try KNN imputation on 'popularity'; fall back to leaving zeros.\n",
    "    Returns (train_ready, val_ready)\n",
    "    \"\"\"\n",
    "    # -- runtime median (train only) --\n",
    "    runtime_median = train_df.filter(F.col(\"runtime\") != 0)\\\n",
    "                             .approxQuantile(\"runtime\", [0.5], 0.0)[0]\n",
    "\n",
    "    train_df = train_df.withColumn(\n",
    "        \"runtime\",\n",
    "        F.when(F.col(\"runtime\") == 0, F.lit(runtime_median)).otherwise(F.col(\"runtime\"))\n",
    "    )\n",
    "    val_df = val_df.withColumn(\n",
    "        \"runtime\",\n",
    "        F.when(F.col(\"runtime\") == 0, F.lit(runtime_median)).otherwise(F.col(\"runtime\"))\n",
    "    )\n",
    "\n",
    "    return train_df, val_df\n",
    "\n",
    "\n",
    "train_df, test_df = prep_for_cv(train_df, test_df)\n",
    "\n",
    "# Assemble features\n",
    "feature_cols = [c for c in train_df.columns if c != \"revenue\"] # Exclude label column\n",
    "\n",
    "assembler = VectorAssembler(inputCols=feature_cols, outputCol=\"features\")\n",
    "\n",
    "train_prepared = assembler.transform(train_df)\n",
    "test_prepared  = assembler.transform(test_df)"
   ]
  },
  {
   "cell_type": "markdown",
   "metadata": {
    "application/vnd.databricks.v1+cell": {
     "cellMetadata": {},
     "inputWidgets": {},
     "nuid": "ccee64ea-7aa1-474c-aee1-841c38a0a6c8",
     "showTitle": false,
     "tableResultSettingsMap": {},
     "title": ""
    }
   },
   "source": [
    "---\n",
    "## Train and evaluate models\n",
    "---\n",
    "We'll train and compare:\n",
    "\n",
    "1. Linear Regression\n",
    "\n",
    "2. Decision Tree Regressor\n",
    "\n",
    "3. Random Forest Regressor"
   ]
  },
  {
   "cell_type": "code",
   "execution_count": 0,
   "metadata": {
    "application/vnd.databricks.v1+cell": {
     "cellMetadata": {
      "byteLimit": 2048000,
      "rowLimit": 10000
     },
     "inputWidgets": {},
     "nuid": "e021277a-a9d0-4518-9aa2-0df5890fe3ee",
     "showTitle": false,
     "tableResultSettingsMap": {},
     "title": ""
    }
   },
   "outputs": [],
   "source": [
    "def store_results(model_name, cv_model, test_data, results_list):\n",
    "    predictions = cv_model.transform(test_data)\n",
    "    evaluator_rmse = RegressionEvaluator(labelCol=\"revenue\", predictionCol=\"prediction\", metricName=\"rmse\")\n",
    "    evaluator_r2 = RegressionEvaluator(labelCol=\"revenue\", predictionCol=\"prediction\", metricName=\"r2\")\n",
    "    \n",
    "    rmse = evaluator_rmse.evaluate(predictions)\n",
    "    r2 = evaluator_r2.evaluate(predictions)\n",
    "    \n",
    "    results_list.append((model_name, rmse, r2))\n",
    "\n",
    "results = []"
   ]
  },
  {
   "cell_type": "markdown",
   "metadata": {
    "application/vnd.databricks.v1+cell": {
     "cellMetadata": {},
     "inputWidgets": {},
     "nuid": "b2a8311f-b2dc-435a-bb31-4871ad9aed54",
     "showTitle": false,
     "tableResultSettingsMap": {},
     "title": ""
    }
   },
   "source": [
    "---\n",
    "## Linear Regression with Cross-Validation\n",
    "---"
   ]
  },
  {
   "cell_type": "code",
   "execution_count": 0,
   "metadata": {
    "application/vnd.databricks.v1+cell": {
     "cellMetadata": {
      "byteLimit": 2048000,
      "rowLimit": 10000
     },
     "inputWidgets": {},
     "nuid": "2eb6ae3e-90c9-4194-ab6f-a2564547ff5d",
     "showTitle": false,
     "tableResultSettingsMap": {},
     "title": ""
    }
   },
   "outputs": [],
   "source": [
    "def run_linear_regression_cv(train_data):\n",
    "    lr = LinearRegression(featuresCol=\"features\", labelCol=\"revenue\", regParam=0.3, elasticNetParam=0.0)\n",
    "\n",
    "    evaluator = RegressionEvaluator(labelCol=\"revenue\", predictionCol=\"prediction\", metricName=\"rmse\")\n",
    "    \n",
    "    cv = CrossValidator(estimator=lr,\n",
    "                        estimatorParamMaps=ParamGridBuilder().build(),  \n",
    "                        evaluator=evaluator,\n",
    "                        numFolds=3)\n",
    "\n",
    "    cv_model = cv.fit(train_data)\n",
    "    return cv_model\n",
    "\n",
    "# Train and evaluate\n",
    "lr_model = run_linear_regression_cv(train_prepared)\n",
    "store_results(\"Linear Regression\", lr_model, test_prepared, results)"
   ]
  },
  {
   "cell_type": "markdown",
   "metadata": {
    "application/vnd.databricks.v1+cell": {
     "cellMetadata": {},
     "inputWidgets": {},
     "nuid": "9467c39d-e20b-4965-927d-ca51f0617d5d",
     "showTitle": false,
     "tableResultSettingsMap": {},
     "title": ""
    }
   },
   "source": [
    "---\n",
    "## Decision Tree with Cross-Validation\n",
    "---"
   ]
  },
  {
   "cell_type": "code",
   "execution_count": 0,
   "metadata": {
    "application/vnd.databricks.v1+cell": {
     "cellMetadata": {
      "byteLimit": 2048000,
      "rowLimit": 10000
     },
     "inputWidgets": {},
     "nuid": "732d9aeb-ae05-41fd-bab7-7e5e1f431bef",
     "showTitle": false,
     "tableResultSettingsMap": {},
     "title": ""
    }
   },
   "outputs": [],
   "source": [
    "def run_decision_tree_cv(train_data):\n",
    "    dt = DecisionTreeRegressor(featuresCol=\"features\", labelCol=\"revenue\", maxDepth=5)\n",
    "\n",
    "    evaluator = RegressionEvaluator(labelCol=\"revenue\", predictionCol=\"prediction\", metricName=\"rmse\")\n",
    "\n",
    "    cv = CrossValidator(estimator=dt,\n",
    "                        estimatorParamMaps=ParamGridBuilder().build(),\n",
    "                        evaluator=evaluator,\n",
    "                        numFolds=3)\n",
    "\n",
    "    cv_model = cv.fit(train_data)\n",
    "    return cv_model\n",
    "\n",
    "dt_model = run_decision_tree_cv(train_prepared)\n",
    "store_results(\"Decision Tree\", dt_model, test_prepared, results)"
   ]
  },
  {
   "cell_type": "markdown",
   "metadata": {
    "application/vnd.databricks.v1+cell": {
     "cellMetadata": {},
     "inputWidgets": {},
     "nuid": "79d0e31f-806a-46e6-b5a1-19c8477a5782",
     "showTitle": false,
     "tableResultSettingsMap": {},
     "title": ""
    }
   },
   "source": [
    "---\n",
    "## Random Forest with Cross-Validation\n",
    "---"
   ]
  },
  {
   "cell_type": "code",
   "execution_count": 0,
   "metadata": {
    "application/vnd.databricks.v1+cell": {
     "cellMetadata": {
      "byteLimit": 2048000,
      "rowLimit": 10000
     },
     "inputWidgets": {},
     "nuid": "17d6d2ac-737c-4bb1-991f-617c71fb308a",
     "showTitle": false,
     "tableResultSettingsMap": {},
     "title": ""
    }
   },
   "outputs": [],
   "source": [
    "def run_random_forest_cv(train_data):\n",
    "    rf = RandomForestRegressor(featuresCol=\"features\", labelCol=\"revenue\", numTrees=50, maxDepth=5)\n",
    "\n",
    "    evaluator = RegressionEvaluator(labelCol=\"revenue\", predictionCol=\"prediction\", metricName=\"rmse\")\n",
    "\n",
    "    cv = CrossValidator(estimator=rf,\n",
    "                        estimatorParamMaps=ParamGridBuilder().build(),\n",
    "                        evaluator=evaluator,\n",
    "                        numFolds=3)\n",
    "\n",
    "    cv_model = cv.fit(train_data)\n",
    "    return cv_model\n",
    "\n",
    "rf_model = run_random_forest_cv(train_prepared)\n",
    "store_results(\"Random Forest\", rf_model, test_prepared, results)"
   ]
  },
  {
   "cell_type": "markdown",
   "metadata": {
    "application/vnd.databricks.v1+cell": {
     "cellMetadata": {},
     "inputWidgets": {},
     "nuid": "f7d1cfe9-2533-46e0-a189-8374190ed272",
     "showTitle": false,
     "tableResultSettingsMap": {},
     "title": ""
    }
   },
   "source": [
    "---\n",
    "## Results\n",
    "---"
   ]
  },
  {
   "cell_type": "code",
   "execution_count": 0,
   "metadata": {
    "application/vnd.databricks.v1+cell": {
     "cellMetadata": {
      "byteLimit": 2048000,
      "rowLimit": 10000
     },
     "inputWidgets": {},
     "nuid": "f58dafa7-fb9c-42c0-9fff-6bf8416aa536",
     "showTitle": false,
     "tableResultSettingsMap": {},
     "title": ""
    }
   },
   "outputs": [
    {
     "output_type": "stream",
     "name": "stdout",
     "output_type": "stream",
     "text": [
      "Linear Regression - RMSE: 81071053.06, R2: 0.64\nDecision Tree - RMSE: 73406855.51, R2: 0.71\nRandom Forest - RMSE: 75355692.50, R2: 0.69\n"
     ]
    }
   ],
   "source": [
    "# Print results\n",
    "for model, rmse, r2 in results:\n",
    "    print(f\"{model} - RMSE: {rmse:.2f}, R2: {r2:.2f}\")"
   ]
  }
 ],
 "metadata": {
  "application/vnd.databricks.v1+notebook": {
   "computePreferences": null,
   "dashboards": [],
   "environmentMetadata": {
    "base_environment": "",
    "environment_version": "1"
   },
   "inputWidgetPreferences": null,
   "language": "python",
   "notebookMetadata": {
    "pythonIndentUnit": 4
   },
   "notebookName": "clean_select_model",
   "widgets": {}
  }
 },
 "nbformat": 4,
 "nbformat_minor": 0
}