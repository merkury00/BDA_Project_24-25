{
 "cells": [
  {
   "cell_type": "markdown",
   "metadata": {
    "application/vnd.databricks.v1+cell": {
     "cellMetadata": {},
     "inputWidgets": {},
     "nuid": "7bcf2b41-9c55-456f-835a-71f1492098ee",
     "showTitle": false,
     "tableResultSettingsMap": {},
     "title": ""
    }
   },
   "source": [
    "In this notebook we will do the following:\n",
    "- Define the Data Cleaning function\n",
    "- Clean the Data\n",
    "- Split into train and test (80/20)\n",
    "- Define the Data Engineering function\n",
    "- Perform Data Engineering on test and train\n",
    "- Drop Unnecessary Features\n",
    "- Perform Feature Selection\n",
    "    - Correlation Matrix (numerical features)\n",
    "    - Chi Square (binary features)\n",
    "    - Model Based Importance for Decision Tree (all features)\n",
    "    - L1 Regression (all features)\n",
    "- Split Train into Train and Val (75/25)\n",
    "- Assemble Vectors \n",
    "- Train and Evaluate the Models\n",
    "    - Linear Regression\n",
    "    - Decision Tree Regressor\n",
    "    - Random Forest Regressor\n",
    "    - Gradient Boosted Tree Regressor\n",
    "    - Generalized Linear Model\n",
    "- Hypertune Parameters of the Best Model Chosen (Random Forest Regressor)\n",
    "- Train RFR with the best parameters and the original train split\n",
    "- Evaluate on Test"
   ]
  },
  {
   "cell_type": "markdown",
   "metadata": {
    "application/vnd.databricks.v1+cell": {
     "cellMetadata": {
      "byteLimit": 2048000,
      "rowLimit": 10000
     },
     "inputWidgets": {},
     "nuid": "9fe5c21b-ff45-46dc-b8b1-0a24fe30a87c",
     "showTitle": false,
     "tableResultSettingsMap": {},
     "title": ""
    }
   },
   "source": [
    "---\n",
    "## Imports\n",
    "---\n",
    "Below, we will import our dataset and all the libraries that will be used throughout this notebook."
   ]
  },
  {
   "cell_type": "code",
   "execution_count": 0,
   "metadata": {
    "application/vnd.databricks.v1+cell": {
     "cellMetadata": {
      "byteLimit": 2048000,
      "rowLimit": 10000
     },
     "inputWidgets": {},
     "nuid": "830fb0b0-fdff-4ce9-a9e7-f19123624f73",
     "showTitle": false,
     "tableResultSettingsMap": {},
     "title": ""
    }
   },
   "outputs": [
    {
     "output_type": "display_data",
     "data": {
      "text/html": [
       "<style scoped>\n",
       "  .table-result-container {\n",
       "    max-height: 300px;\n",
       "    overflow: auto;\n",
       "  }\n",
       "  table, th, td {\n",
       "    border: 1px solid black;\n",
       "    border-collapse: collapse;\n",
       "  }\n",
       "  th, td {\n",
       "    padding: 5px;\n",
       "  }\n",
       "  th {\n",
       "    text-align: left;\n",
       "  }\n",
       "</style><div class='table-result-container'><table class='table-result'><thead style='background-color: white'><tr><th>path</th><th>name</th><th>size</th><th>modificationTime</th></tr></thead><tbody><tr><td>dbfs:/FileStore/tables/2025_03_11___DBFS_Example_Classifier.ipynb</td><td>2025_03_11___DBFS_Example_Classifier.ipynb</td><td>68203</td><td>1742288094000</td></tr><tr><td>dbfs:/FileStore/tables/Clean_IMDBnew.csv</td><td>Clean_IMDBnew.csv</td><td>11897936</td><td>1748379618000</td></tr><tr><td>dbfs:/FileStore/tables/Clean_IMDBnew.parquet/</td><td>Clean_IMDBnew.parquet/</td><td>0</td><td>0</td></tr><tr><td>dbfs:/FileStore/tables/IMDB_CLEAN.csv</td><td>IMDB_CLEAN.csv</td><td>16096967</td><td>1748425316000</td></tr><tr><td>dbfs:/FileStore/tables/IMDB_CLEAN.parquet/</td><td>IMDB_CLEAN.parquet/</td><td>0</td><td>0</td></tr><tr><td>dbfs:/FileStore/tables/IMDB_Cleaned/</td><td>IMDB_Cleaned/</td><td>0</td><td>0</td></tr><tr><td>dbfs:/FileStore/tables/IMDB_cleannew.csv</td><td>IMDB_cleannew.csv</td><td>16096967</td><td>1748387484000</td></tr><tr><td>dbfs:/FileStore/tables/Imdb_Movie_Dataset-1.csv</td><td>Imdb_Movie_Dataset-1.csv</td><td>392283051</td><td>1746882391000</td></tr><tr><td>dbfs:/FileStore/tables/Imdb_Movie_Dataset-4.csv/</td><td>Imdb_Movie_Dataset-4.csv/</td><td>0</td><td>0</td></tr><tr><td>dbfs:/FileStore/tables/Imdb_Movie_Dataset.csv/</td><td>Imdb_Movie_Dataset.csv/</td><td>0</td><td>0</td></tr></tbody></table></div>"
      ]
     },
     "metadata": {
      "application/vnd.databricks.v1+output": {
       "addedWidgets": {},
       "aggData": [],
       "aggError": "",
       "aggOverflow": false,
       "aggSchema": [],
       "aggSeriesLimitReached": false,
       "aggType": "",
       "arguments": {},
       "columnCustomDisplayInfos": {},
       "data": [
        [
         "dbfs:/FileStore/tables/2025_03_11___DBFS_Example_Classifier.ipynb",
         "2025_03_11___DBFS_Example_Classifier.ipynb",
         68203,
         1742288094000
        ],
        [
         "dbfs:/FileStore/tables/Clean_IMDBnew.csv",
         "Clean_IMDBnew.csv",
         11897936,
         1748379618000
        ],
        [
         "dbfs:/FileStore/tables/Clean_IMDBnew.parquet/",
         "Clean_IMDBnew.parquet/",
         0,
         0
        ],
        [
         "dbfs:/FileStore/tables/IMDB_CLEAN.csv",
         "IMDB_CLEAN.csv",
         16096967,
         1748425316000
        ],
        [
         "dbfs:/FileStore/tables/IMDB_CLEAN.parquet/",
         "IMDB_CLEAN.parquet/",
         0,
         0
        ],
        [
         "dbfs:/FileStore/tables/IMDB_Cleaned/",
         "IMDB_Cleaned/",
         0,
         0
        ],
        [
         "dbfs:/FileStore/tables/IMDB_cleannew.csv",
         "IMDB_cleannew.csv",
         16096967,
         1748387484000
        ],
        [
         "dbfs:/FileStore/tables/Imdb_Movie_Dataset-1.csv",
         "Imdb_Movie_Dataset-1.csv",
         392283051,
         1746882391000
        ],
        [
         "dbfs:/FileStore/tables/Imdb_Movie_Dataset-4.csv/",
         "Imdb_Movie_Dataset-4.csv/",
         0,
         0
        ],
        [
         "dbfs:/FileStore/tables/Imdb_Movie_Dataset.csv/",
         "Imdb_Movie_Dataset.csv/",
         0,
         0
        ]
       ],
       "datasetInfos": [],
       "dbfsResultPath": null,
       "isJsonSchema": true,
       "metadata": {},
       "overflow": false,
       "plotOptions": {
        "customPlotOptions": {},
        "displayType": "table",
        "pivotAggregation": null,
        "pivotColumns": null,
        "xColumns": null,
        "yColumns": null
       },
       "removedWidgets": [],
       "schema": [
        {
         "metadata": "{}",
         "name": "path",
         "type": "\"string\""
        },
        {
         "metadata": "{}",
         "name": "name",
         "type": "\"string\""
        },
        {
         "metadata": "{}",
         "name": "size",
         "type": "\"long\""
        },
        {
         "metadata": "{}",
         "name": "modificationTime",
         "type": "\"long\""
        }
       ],
       "type": "table"
      }
     },
     "output_type": "display_data"
    }
   ],
   "source": [
    "# List files in /FileStore/tables to confirm the csv is there\n",
    "display(dbutils.fs.ls(\"/FileStore/tables\")[:10])"
   ]
  },
  {
   "cell_type": "code",
   "execution_count": 0,
   "metadata": {
    "application/vnd.databricks.v1+cell": {
     "cellMetadata": {
      "byteLimit": 2048000,
      "rowLimit": 10000
     },
     "inputWidgets": {},
     "nuid": "1b743fda-4265-4aa1-b420-da4d0550c28b",
     "showTitle": false,
     "tableResultSettingsMap": {},
     "title": ""
    }
   },
   "outputs": [
    {
     "output_type": "display_data",
     "data": {
      "text/html": [
       "<style scoped>\n",
       "  .table-result-container {\n",
       "    max-height: 300px;\n",
       "    overflow: auto;\n",
       "  }\n",
       "  table, th, td {\n",
       "    border: 1px solid black;\n",
       "    border-collapse: collapse;\n",
       "  }\n",
       "  th, td {\n",
       "    padding: 5px;\n",
       "  }\n",
       "  th {\n",
       "    text-align: left;\n",
       "  }\n",
       "</style><div class='table-result-container'><table class='table-result'><thead style='background-color: white'><tr><th>id</th><th>title</th><th>vote_average</th><th>vote_count</th><th>status</th><th>release_date</th><th>revenue</th><th>runtime</th><th>adult</th><th>budget</th><th>imdb_id</th><th>original_language</th><th>original_title</th><th>overview</th><th>popularity</th><th>tagline</th><th>genres</th><th>production_companies</th><th>production_countries</th><th>spoken_languages</th><th>keywords</th></tr></thead><tbody><tr><td>27205</td><td>Inception</td><td>8.364</td><td>34495</td><td>Released</td><td>7/15/2010</td><td>825532764</td><td>148</td><td>false</td><td>160000000</td><td>tt1375666</td><td>en</td><td>Inception</td><td>Cobb, a skilled thief who commits corporate espionage by infiltrating the subconscious of his targets is offered a chance to regain his old life as payment for a task considered to be impossible: \"inception\", the implantation of another person's idea into a target's subconscious.</td><td>83.952</td><td>Your mind is the scene of the crime.</td><td>Action, Science Fiction, Adventure</td><td>Legendary Pictures, Syncopy, Warner Bros. Pictures</td><td>United Kingdom, United States of America</td><td>English, French, Japanese, Swahili</td><td>rescue, mission, dream, airplane, paris, france, virtual reality, kidnapping, philosophy, spy, allegory, manipulation, car crash, heist, memory, architecture, los angeles, california, dream world, subconscious</td></tr><tr><td>157336</td><td>Interstellar</td><td>8.417</td><td>32571</td><td>Released</td><td>11/5/2014</td><td>701729206</td><td>169</td><td>false</td><td>165000000</td><td>tt0816692</td><td>en</td><td>Interstellar</td><td>The adventures of a group of explorers who make use of a newly discovered wormhole to surpass the limitations on human space travel and conquer the vast distances involved in an interstellar voyage.</td><td>140.241</td><td>Mankind was born on Earth. It was never meant to die here.</td><td>Adventure, Drama, Science Fiction</td><td>Legendary Pictures, Syncopy, Lynda Obst Productions</td><td>United Kingdom, United States of America</td><td>English</td><td>rescue, future, spacecraft, race against time, artificial intelligence (a.i.), nasa, time warp, dystopia, expedition, space travel, wormhole, famine, black hole, quantum mechanics, family relationships, space, robot, astronaut, scientist, single father, farmer, space station, curious, space adventure, time paradox, thoughtful, time-manipulation, father daughter relationship, 2060s, cornfield, time manipulation, complicated</td></tr><tr><td>155</td><td>The Dark Knight</td><td>8.512</td><td>30619</td><td>Released</td><td>7/16/2008</td><td>1004558444</td><td>152</td><td>false</td><td>185000000</td><td>tt0468569</td><td>en</td><td>The Dark Knight</td><td>Batman raises the stakes in his war on crime. With the help of Lt. Jim Gordon and District Attorney Harvey Dent, Batman sets out to dismantle the remaining criminal organizations that plague the streets. The partnership proves to be effective, but they soon find themselves prey to a reign of chaos unleashed by a rising criminal mastermind known to the terrified citizens of Gotham as the Joker.</td><td>130.643</td><td>Welcome to a world without rules.</td><td>Drama, Action, Crime, Thriller</td><td>DC Comics, Legendary Pictures, Syncopy, Isobel Griffiths, Warner Bros. Pictures</td><td>United Kingdom, United States of America</td><td>English, Mandarin</td><td>joker, sadism, chaos, secret identity, crime fighter, superhero, anti hero, scarecrow, based on comic, vigilante, organized crime, tragic hero, anti villain, criminal mastermind, district attorney, super power, super villain, neo-noir</td></tr><tr><td>19995</td><td>Avatar</td><td>7.573</td><td>29815</td><td>Released</td><td>12/15/2009</td><td>2923706026</td><td>162</td><td>false</td><td>237000000</td><td>tt0499549</td><td>en</td><td>Avatar</td><td>In the 22nd century, a paraplegic Marine is dispatched to the moon Pandora on a unique mission, but becomes torn between following orders and protecting an alien civilization.</td><td>79.932</td><td>Enter the world of Pandora.</td><td>Action, Adventure, Fantasy, Science Fiction</td><td>Dune Entertainment, Lightstorm Entertainment, 20th Century Fox, Ingenious Media</td><td>United States of America, United Kingdom</td><td>English, Spanish</td><td>future, society, culture clash, space travel, space war, space colony, tribe, romance, alien, futuristic, space, alien planet, marine, soldier, battle, love affair, nature, anti war, power relations, joyful</td></tr><tr><td>24428</td><td>The Avengers</td><td>7.71</td><td>29166</td><td>Released</td><td>4/25/2012</td><td>1518815515</td><td>143</td><td>false</td><td>220000000</td><td>tt0848228</td><td>en</td><td>The Avengers</td><td>When an unexpected enemy emerges and threatens global safety and security, Nick Fury, director of the international peacekeeping agency known as S.H.I.E.L.D., finds himself in need of a team to pull the world back from the brink of disaster. Spanning the globe, a daring recruitment effort begins!</td><td>98.082</td><td>Some assembly required.</td><td>Science Fiction, Action, Adventure</td><td>Marvel Studios</td><td>United States of America</td><td>English, Hindi, Russian</td><td>new york city, superhero, shield, based on comic, alien invasion, superhero team, aftercreditsstinger, duringcreditsstinger, marvel cinematic universe (mcu)</td></tr></tbody></table></div>"
      ]
     },
     "metadata": {
      "application/vnd.databricks.v1+output": {
       "addedWidgets": {},
       "aggData": [],
       "aggError": "",
       "aggOverflow": false,
       "aggSchema": [],
       "aggSeriesLimitReached": false,
       "aggType": "",
       "arguments": {},
       "columnCustomDisplayInfos": {},
       "data": [
        [
         27205,
         "Inception",
         8.364,
         34495,
         "Released",
         "7/15/2010",
         825532764,
         148,
         false,
         160000000,
         "tt1375666",
         "en",
         "Inception",
         "Cobb, a skilled thief who commits corporate espionage by infiltrating the subconscious of his targets is offered a chance to regain his old life as payment for a task considered to be impossible: \"inception\", the implantation of another person's idea into a target's subconscious.",
         83.952,
         "Your mind is the scene of the crime.",
         "Action, Science Fiction, Adventure",
         "Legendary Pictures, Syncopy, Warner Bros. Pictures",
         "United Kingdom, United States of America",
         "English, French, Japanese, Swahili",
         "rescue, mission, dream, airplane, paris, france, virtual reality, kidnapping, philosophy, spy, allegory, manipulation, car crash, heist, memory, architecture, los angeles, california, dream world, subconscious"
        ],
        [
         157336,
         "Interstellar",
         8.417,
         32571,
         "Released",
         "11/5/2014",
         701729206,
         169,
         false,
         165000000,
         "tt0816692",
         "en",
         "Interstellar",
         "The adventures of a group of explorers who make use of a newly discovered wormhole to surpass the limitations on human space travel and conquer the vast distances involved in an interstellar voyage.",
         140.241,
         "Mankind was born on Earth. It was never meant to die here.",
         "Adventure, Drama, Science Fiction",
         "Legendary Pictures, Syncopy, Lynda Obst Productions",
         "United Kingdom, United States of America",
         "English",
         "rescue, future, spacecraft, race against time, artificial intelligence (a.i.), nasa, time warp, dystopia, expedition, space travel, wormhole, famine, black hole, quantum mechanics, family relationships, space, robot, astronaut, scientist, single father, farmer, space station, curious, space adventure, time paradox, thoughtful, time-manipulation, father daughter relationship, 2060s, cornfield, time manipulation, complicated"
        ],
        [
         155,
         "The Dark Knight",
         8.512,
         30619,
         "Released",
         "7/16/2008",
         1004558444,
         152,
         false,
         185000000,
         "tt0468569",
         "en",
         "The Dark Knight",
         "Batman raises the stakes in his war on crime. With the help of Lt. Jim Gordon and District Attorney Harvey Dent, Batman sets out to dismantle the remaining criminal organizations that plague the streets. The partnership proves to be effective, but they soon find themselves prey to a reign of chaos unleashed by a rising criminal mastermind known to the terrified citizens of Gotham as the Joker.",
         130.643,
         "Welcome to a world without rules.",
         "Drama, Action, Crime, Thriller",
         "DC Comics, Legendary Pictures, Syncopy, Isobel Griffiths, Warner Bros. Pictures",
         "United Kingdom, United States of America",
         "English, Mandarin",
         "joker, sadism, chaos, secret identity, crime fighter, superhero, anti hero, scarecrow, based on comic, vigilante, organized crime, tragic hero, anti villain, criminal mastermind, district attorney, super power, super villain, neo-noir"
        ],
        [
         19995,
         "Avatar",
         7.573,
         29815,
         "Released",
         "12/15/2009",
         2923706026,
         162,
         false,
         237000000,
         "tt0499549",
         "en",
         "Avatar",
         "In the 22nd century, a paraplegic Marine is dispatched to the moon Pandora on a unique mission, but becomes torn between following orders and protecting an alien civilization.",
         79.932,
         "Enter the world of Pandora.",
         "Action, Adventure, Fantasy, Science Fiction",
         "Dune Entertainment, Lightstorm Entertainment, 20th Century Fox, Ingenious Media",
         "United States of America, United Kingdom",
         "English, Spanish",
         "future, society, culture clash, space travel, space war, space colony, tribe, romance, alien, futuristic, space, alien planet, marine, soldier, battle, love affair, nature, anti war, power relations, joyful"
        ],
        [
         24428,
         "The Avengers",
         7.71,
         29166,
         "Released",
         "4/25/2012",
         1518815515,
         143,
         false,
         220000000,
         "tt0848228",
         "en",
         "The Avengers",
         "When an unexpected enemy emerges and threatens global safety and security, Nick Fury, director of the international peacekeeping agency known as S.H.I.E.L.D., finds himself in need of a team to pull the world back from the brink of disaster. Spanning the globe, a daring recruitment effort begins!",
         98.082,
         "Some assembly required.",
         "Science Fiction, Action, Adventure",
         "Marvel Studios",
         "United States of America",
         "English, Hindi, Russian",
         "new york city, superhero, shield, based on comic, alien invasion, superhero team, aftercreditsstinger, duringcreditsstinger, marvel cinematic universe (mcu)"
        ]
       ],
       "datasetInfos": [],
       "dbfsResultPath": null,
       "isJsonSchema": true,
       "metadata": {},
       "overflow": false,
       "plotOptions": {
        "customPlotOptions": {},
        "displayType": "table",
        "pivotAggregation": null,
        "pivotColumns": null,
        "xColumns": null,
        "yColumns": null
       },
       "removedWidgets": [],
       "schema": [
        {
         "metadata": "{}",
         "name": "id",
         "type": "\"integer\""
        },
        {
         "metadata": "{}",
         "name": "title",
         "type": "\"string\""
        },
        {
         "metadata": "{}",
         "name": "vote_average",
         "type": "\"double\""
        },
        {
         "metadata": "{}",
         "name": "vote_count",
         "type": "\"integer\""
        },
        {
         "metadata": "{}",
         "name": "status",
         "type": "\"string\""
        },
        {
         "metadata": "{}",
         "name": "release_date",
         "type": "\"string\""
        },
        {
         "metadata": "{}",
         "name": "revenue",
         "type": "\"long\""
        },
        {
         "metadata": "{}",
         "name": "runtime",
         "type": "\"integer\""
        },
        {
         "metadata": "{}",
         "name": "adult",
         "type": "\"boolean\""
        },
        {
         "metadata": "{}",
         "name": "budget",
         "type": "\"integer\""
        },
        {
         "metadata": "{}",
         "name": "imdb_id",
         "type": "\"string\""
        },
        {
         "metadata": "{}",
         "name": "original_language",
         "type": "\"string\""
        },
        {
         "metadata": "{}",
         "name": "original_title",
         "type": "\"string\""
        },
        {
         "metadata": "{}",
         "name": "overview",
         "type": "\"string\""
        },
        {
         "metadata": "{}",
         "name": "popularity",
         "type": "\"double\""
        },
        {
         "metadata": "{}",
         "name": "tagline",
         "type": "\"string\""
        },
        {
         "metadata": "{}",
         "name": "genres",
         "type": "\"string\""
        },
        {
         "metadata": "{}",
         "name": "production_companies",
         "type": "\"string\""
        },
        {
         "metadata": "{}",
         "name": "production_countries",
         "type": "\"string\""
        },
        {
         "metadata": "{}",
         "name": "spoken_languages",
         "type": "\"string\""
        },
        {
         "metadata": "{}",
         "name": "keywords",
         "type": "\"string\""
        }
       ],
       "type": "table"
      }
     },
     "output_type": "display_data"
    }
   ],
   "source": [
    "# File location and type\n",
    "file_location = \"/FileStore/tables/Imdb_Movie_Dataset-1.csv\"\n",
    "file_type = \"csv\"\n",
    "\n",
    "# CSV options\n",
    "infer_schema = \"true\"\n",
    "first_row_is_header = \"true\"\n",
    "delimiter = \",\"\n",
    "\n",
    "# The applied options are for CSV files. For other file types, these will be ignored.\n",
    "# quote <-- Important to handle commas correctly\n",
    "df = (\n",
    "    spark.read.format(file_type)\n",
    "    .option(\"inferSchema\", infer_schema)\n",
    "    .option(\"header\", first_row_is_header)\n",
    "    .option(\"sep\", delimiter)\n",
    "    .option(\"quote\", '\"')\n",
    "    .option(\"escape\", '\"')\n",
    "    .load(file_location)\n",
    ")\n",
    "\n",
    "display(df.limit(5))"
   ]
  },
  {
   "cell_type": "code",
   "execution_count": 0,
   "metadata": {
    "application/vnd.databricks.v1+cell": {
     "cellMetadata": {
      "byteLimit": 2048000,
      "rowLimit": 10000
     },
     "inputWidgets": {},
     "nuid": "0d2ea799-bf60-456d-9f82-f13deb145e96",
     "showTitle": false,
     "tableResultSettingsMap": {},
     "title": ""
    }
   },
   "outputs": [],
   "source": [
    "# Import the libraries\n",
    "from pyspark.sql import functions as F\n",
    "from pyspark.sql.functions import lit\n",
    "from pyspark.sql.functions import col, count, when, isnan, row_number, to_date, split, regexp_replace, expr, corr\n",
    "from pyspark.sql.window import Window\n",
    "from pyspark.sql.types import IntegerType, StringType, BooleanType, FloatType, LongType, DoubleType\n",
    "\n",
    "import pandas as pd\n",
    "import matplotlib.pyplot as plt\n",
    "import seaborn as sns\n",
    "\n",
    "from pyspark.ml.feature import VectorAssembler, StandardScaler, ChiSqSelector, QuantileDiscretizer\n",
    "from pyspark.ml.tuning import CrossValidator, ParamGridBuilder\n",
    "from pyspark.ml.evaluation import RegressionEvaluator\n",
    "from pyspark.ml.regression import LinearRegression, DecisionTreeRegressor, RandomForestRegressor, GBTRegressor, GeneralizedLinearRegression\n",
    "\n",
    "spark.conf.set(\"spark.sql.legacy.timeParserPolicy\", \"LEGACY\")  # to parse the release date without problems"
   ]
  },
  {
   "cell_type": "markdown",
   "metadata": {
    "application/vnd.databricks.v1+cell": {
     "cellMetadata": {
      "byteLimit": 2048000,
      "rowLimit": 10000
     },
     "inputWidgets": {},
     "nuid": "234112b8-967f-443c-b6a2-c64b9bbcafdb",
     "showTitle": false,
     "tableResultSettingsMap": {},
     "title": ""
    }
   },
   "source": [
    "---\n",
    "## Define the Data Cleaning Function\n",
    "---\n",
    "In the previous notebooks we performed a full analysis of our dataset. Now, we will define a function (and a helper function) that applies all the cleaning steps we decided on earlier."
   ]
  },
  {
   "cell_type": "code",
   "execution_count": 0,
   "metadata": {
    "application/vnd.databricks.v1+cell": {
     "cellMetadata": {
      "byteLimit": 2048000,
      "rowLimit": 10000
     },
     "inputWidgets": {},
     "nuid": "20d939da-ce76-423e-bc08-69185e8e9116",
     "showTitle": false,
     "tableResultSettingsMap": {},
     "title": ""
    }
   },
   "outputs": [],
   "source": [
    "# Helper function for deduplication\n",
    "def drop_duplicates_keep_least_null(df, id_col):\n",
    "    \"\"\"\n",
    "    Deduplicate on `id_col`, keeping the row with the fewest null values.\n",
    "    Rows with null `id_col` are left unchanged.\n",
    "    \"\"\"\n",
    "    print(f\"Starting deduplication on column: {id_col}\")\n",
    "\n",
    "    non_null_df = df.filter(col(id_col).isNotNull())\n",
    "    null_df     = df.filter(col(id_col).isNull())\n",
    "    print(f\"Rows with non-null '{id_col}': {non_null_df.count()}\")\n",
    "    print(f\"Rows with null '{id_col}': {null_df.count()}\")\n",
    "\n",
    "    null_count_expr = sum(\n",
    "        when(col(c).isNull(), 1).otherwise(0) for c in non_null_df.columns\n",
    "    ).alias(\"_null_cnt\")\n",
    "\n",
    "    nn_with_counts = non_null_df.withColumn(\"_null_cnt\", null_count_expr)\n",
    "    print(\"Added null count column for ranking\")\n",
    "\n",
    "    w = Window.partitionBy(id_col).orderBy(col(\"_null_cnt\").asc())\n",
    "    ranked = nn_with_counts.withColumn(\"_rn\", row_number().over(w))\n",
    "    print(\"Ranked rows within each group\")\n",
    "\n",
    "    deduped = (\n",
    "        ranked\n",
    "        .filter(col(\"_rn\") == 1)\n",
    "        .drop(\"_null_cnt\", \"_rn\")\n",
    "    )\n",
    "    print(\"Filtered to keep only top-ranked rows with fewest nulls\")\n",
    "\n",
    "    result_df = deduped.unionByName(null_df)\n",
    "    print(f\"Final row count after deduplication on '{id_col}': {result_df.count()}\")\n",
    "    return result_df\n",
    "\n",
    "# Our main data cleaner\n",
    "def initial_preprocess(df):\n",
    "    \"\"\"\n",
    "    1. Drop rows with revenue == 0 (it's our first step to make the dataset lighter and thus the following operations faster)\n",
    "    2. Replace literal 'None' / 'none' in imdb_id with null\n",
    "    3. Deduplicate on id, then on imdb_id using fewest-null rule\n",
    "    4. Drop heavy text cols and imdb_id after\n",
    "    5. Change the data types to correct ones\n",
    "    6. Fix incorrect values for vote_average (should only be in the range 1-10)\n",
    "    7. Set the vote vote_average to zero, when vote_count == 0\n",
    "    8. Cast the release_date to data type \n",
    "    \"\"\"\n",
    "    print(\"Step 1: Dropping rows with revenue = 0\")\n",
    "    df = df.filter(F.col(\"revenue\") != 0)\n",
    "\n",
    "    print(\"Step 2: Replacing 'None' strings in imdb_id with null\")\n",
    "    none_count = df.filter(F.lower(col(\"imdb_id\")) == \"none\").count()\n",
    "    df = df.withColumn(\n",
    "        \"imdb_id\",\n",
    "        when(F.lower(col(\"imdb_id\")) == \"none\", None).otherwise(col(\"imdb_id\"))\n",
    "    )\n",
    "    print(f\"Number of 'None' values replaced with null in 'imdb_id': {none_count}\")\n",
    "\n",
    "    print(\"Step 3a: Deduplicating by id\")\n",
    "    df = drop_duplicates_keep_least_null(df, id_col=\"id\")\n",
    "\n",
    "    print(\"Step 3b: Deduplicating by imdb_id\")\n",
    "    df = drop_duplicates_keep_least_null(df, id_col=\"imdb_id\")\n",
    "\n",
    "    print(\"Step 4: Dropping unused text columns\")\n",
    "    df = df.drop(\"imdb_id\", \"title\", \"original_title\", \"overview\", \"spoken_languages\")\n",
    "    \n",
    "    print(\"Step 5: Casting to correct data types\")\n",
    "    df = (\n",
    "        df\n",
    "        .withColumn(\"vote_average\",  F.col(\"vote_average\").cast(DoubleType()))\n",
    "        .withColumn(\"popularity\",    F.col(\"popularity\").cast(DoubleType()))\n",
    "        .withColumn(\"vote_count\",    F.col(\"vote_count\").cast(IntegerType()))\n",
    "        .withColumn(\"runtime\",       F.col(\"runtime\").cast(IntegerType()))\n",
    "        .withColumn(\"adult\",         F.col(\"adult\").cast(IntegerType()))\n",
    "        .withColumn(\"revenue\",       F.col(\"revenue\").cast(LongType()))\n",
    "        .withColumn(\"budget\",        F.col(\"budget\").cast(LongType()))\n",
    "    )\n",
    "\n",
    "    print(\"Step 6: Fixing out-of-range vote_average values\")\n",
    "    df = df.withColumn(\n",
    "        \"vote_average\",\n",
    "        F.when((F.col(\"vote_average\") < 1) | (F.col(\"vote_average\") > 10), 0.0)\n",
    "         .otherwise(F.col(\"vote_average\"))\n",
    "    )\n",
    "\n",
    "    print(\"Step 7: Setting vote_average to 0 where vote_count == 0\")\n",
    "    df = df.withColumn(\n",
    "        \"vote_average\",\n",
    "        F.when((F.col(\"vote_count\") == 0) & (F.col(\"vote_average\") != 0), 0.0)\n",
    "         .otherwise(F.col(\"vote_average\"))\n",
    "    )\n",
    "    print(\"Step 8: Parsing release_date using multiple formats\")\n",
    "    date_eu  = F.to_date(F.col(\"release_date\"), \"dd/MM/yyyy\")\n",
    "    date_us  = F.to_date(F.col(\"release_date\"), \"MM/dd/yyyy\")\n",
    "    date_iso = F.to_date(F.col(\"release_date\"), \"yyyy-MM-dd\")\n",
    "    df = df.withColumn(\"parsed_date\", F.coalesce(date_eu, date_us, date_iso))\n",
    "\n",
    "    print(\"Step 9: Creating release_day, release_month, release_year\")\n",
    "    df = (\n",
    "        df\n",
    "        .withColumn(\"release_day\",   F.dayofmonth(\"parsed_date\").cast(IntegerType()))\n",
    "        .withColumn(\"release_month\", F.month(\"parsed_date\").cast(IntegerType()))\n",
    "        .withColumn(\"release_year\",  F.year(\"parsed_date\").cast(IntegerType()))\n",
    "    )\n",
    "    print(\"Filling missing values in release_day, release_month, release_year with 0\")\n",
    "    df = (\n",
    "        df\n",
    "        .withColumn(\"release_day\",   F.when(F.col(\"release_day\").isNull(),   0).otherwise(F.col(\"release_day\")))\n",
    "        .withColumn(\"release_month\", F.when(F.col(\"release_month\").isNull(), 0).otherwise(F.col(\"release_month\")))\n",
    "        .withColumn(\"release_year\",  F.when(F.col(\"release_year\").isNull(),  0).otherwise(F.col(\"release_year\")))\n",
    "    )\n",
    "\n",
    "\n",
    "    print(\"Initial preprocessing complete.\")\n",
    "    return df"
   ]
  },
  {
   "cell_type": "markdown",
   "metadata": {
    "application/vnd.databricks.v1+cell": {
     "cellMetadata": {
      "byteLimit": 2048000,
      "rowLimit": 10000
     },
     "inputWidgets": {},
     "nuid": "57a7c7fd-4165-4fdb-b403-fc0567621af5",
     "showTitle": false,
     "tableResultSettingsMap": {},
     "title": ""
    }
   },
   "source": [
    "---\n",
    "## Clean the Data\n",
    "---\n",
    "Let's apply the cleaning function to the original imdb dataframe."
   ]
  },
  {
   "cell_type": "code",
   "execution_count": 0,
   "metadata": {
    "application/vnd.databricks.v1+cell": {
     "cellMetadata": {
      "byteLimit": 2048000,
      "rowLimit": 10000
     },
     "inputWidgets": {},
     "nuid": "ed56e77f-048e-4b97-b3cc-47afa29db735",
     "showTitle": false,
     "tableResultSettingsMap": {},
     "title": ""
    }
   },
   "outputs": [
    {
     "output_type": "stream",
     "name": "stdout",
     "output_type": "stream",
     "text": [
      "Step 1: Dropping rows with revenue = 0\nStep 2: Replacing 'None' strings in imdb_id with null\nNumber of 'None' values replaced with null in 'imdb_id': 4\nStep 3a: Deduplicating by id\nStarting deduplication on column: id\nRows with non-null 'id': 20676\nRows with null 'id': 0\nAdded null count column for ranking\nRanked rows within each group\nFiltered to keep only top-ranked rows with fewest nulls\nFinal row count after deduplication on 'id': 20674\nStep 3b: Deduplicating by imdb_id\nStarting deduplication on column: imdb_id\nRows with non-null 'imdb_id': 16927\nRows with null 'imdb_id': 3747\nAdded null count column for ranking\nRanked rows within each group\nFiltered to keep only top-ranked rows with fewest nulls\nFinal row count after deduplication on 'imdb_id': 20664\nStep 4: Dropping unused text columns\nStep 5: Casting to correct data types\nStep 6: Fixing out-of-range vote_average values\nStep 7: Setting vote_average to 0 where vote_count == 0\nStep 8: Parsing release_date using multiple formats\nStep 9: Creating release_day, release_month, release_year\nFilling missing values in release_day, release_month, release_year with 0\nInitial preprocessing complete.\n"
     ]
    }
   ],
   "source": [
    "# Apply initial preprocessing\n",
    "df_clean = initial_preprocess(df)"
   ]
  },
  {
   "cell_type": "code",
   "execution_count": 0,
   "metadata": {
    "application/vnd.databricks.v1+cell": {
     "cellMetadata": {
      "byteLimit": 2048000,
      "rowLimit": 10000
     },
     "inputWidgets": {},
     "nuid": "fbc928f6-bd92-4bcb-8422-68975e9b306a",
     "showTitle": false,
     "tableResultSettingsMap": {},
     "title": ""
    }
   },
   "outputs": [
    {
     "output_type": "stream",
     "name": "stdout",
     "output_type": "stream",
     "text": [
      "Shape: (20664, 20)\n"
     ]
    }
   ],
   "source": [
    "# Print dataframe shape after cleaning\n",
    "row_count = df_clean.count()\n",
    "col_count = len(df_clean.columns)\n",
    "\n",
    "print(f\"Shape: ({row_count}, {col_count})\")"
   ]
  },
  {
   "cell_type": "markdown",
   "metadata": {
    "application/vnd.databricks.v1+cell": {
     "cellMetadata": {
      "byteLimit": 2048000,
      "rowLimit": 10000
     },
     "inputWidgets": {},
     "nuid": "a1b5604b-d608-4280-8272-e26ddf4b4d3e",
     "showTitle": false,
     "tableResultSettingsMap": {},
     "title": ""
    }
   },
   "source": [
    "---\n",
    "## Train-test split\n",
    "---\n",
    "Here, we split the dataset into train and test before moving on to the feature engineering and subsequent steps. We do this to avoid data leakage as we will use information related to target to create some new columns."
   ]
  },
  {
   "cell_type": "code",
   "execution_count": 0,
   "metadata": {
    "application/vnd.databricks.v1+cell": {
     "cellMetadata": {
      "byteLimit": 2048000,
      "rowLimit": 10000
     },
     "inputWidgets": {},
     "nuid": "37eaa7f3-84e8-4a54-b25a-f26d9fa65edb",
     "showTitle": false,
     "tableResultSettingsMap": {},
     "title": ""
    }
   },
   "outputs": [],
   "source": [
    "# Split the data\n",
    "train_df, test_df = df_clean.randomSplit([0.8, 0.2], seed=12)"
   ]
  },
  {
   "cell_type": "markdown",
   "metadata": {
    "application/vnd.databricks.v1+cell": {
     "cellMetadata": {
      "byteLimit": 2048000,
      "rowLimit": 10000
     },
     "inputWidgets": {},
     "nuid": "3b4ffd6c-84ac-4735-b31b-000046bf34c1",
     "showTitle": false,
     "tableResultSettingsMap": {},
     "title": ""
    }
   },
   "source": [
    "---\n",
    "## Define the data engineering function\n",
    "---"
   ]
  },
  {
   "cell_type": "code",
   "execution_count": 0,
   "metadata": {
    "application/vnd.databricks.v1+cell": {
     "cellMetadata": {
      "byteLimit": 2048000,
      "rowLimit": 10000
     },
     "inputWidgets": {},
     "nuid": "69b1b576-21d2-40c2-b97c-f4bc0d34fd5f",
     "showTitle": false,
     "tableResultSettingsMap": {},
     "title": ""
    }
   },
   "outputs": [],
   "source": [
    "def feature_engineer(df, train_df_for_reference):\n",
    "    \"\"\"\n",
    "    Performs feature engineering on the df using the training data as reference to avoid data leakage\n",
    "\n",
    "    Steps:\n",
    "    1. Fill missing or zero 'runtime' values using the median from the training set\n",
    "    2. Create binary indicator 'released_bool' from the 'status' column\n",
    "    3. Create binary indicator 'en_bool' for movies originally in English\n",
    "    4. Create binary indicator 'tagline_bool' based on the presence of a tagline\n",
    "    5. Create binary indicator columns for the top-N most profitable values in:\n",
    "       - 'genres' (Top 5)\n",
    "       - 'production_companies' (Top 3)\n",
    "       - 'production_countries' (Top 5)\n",
    "       - 'keywords' (Top 3)\n",
    "       (Top-Ns are determined based on training data revenue)\n",
    "    \"\"\"\n",
    "    print(\"Step 1: Filling missing 'runtime' with train median\")\n",
    "    runtime_median = train_df_for_reference.filter(F.col(\"runtime\") != 0)\\\n",
    "                                           .approxQuantile(\"runtime\", [0.5], 0.0)[0]\n",
    "    df = df.withColumn(\"runtime\", F.when(F.col(\"runtime\") == 0, runtime_median).otherwise(F.col(\"runtime\")))\n",
    "\n",
    "    print(\"Step 2: Creating 'released_bool' binary column from status\")\n",
    "    df = df.withColumn(\n",
    "        \"released_bool\",\n",
    "        F.when(F.col(\"status\") == \"Released\", 1).otherwise(0)\n",
    "    )\n",
    "\n",
    "    print(\"Step 3: Creating 'en_bool' binary column from original_language\")\n",
    "    df = df.withColumn(\n",
    "        \"en_bool\",\n",
    "        F.when(F.col(\"original_language\") == \"en\", 1).otherwise(0)\n",
    "    )\n",
    "\n",
    "    print(\"Step 4: Creating 'tagline_bool' from presence of tagline\")\n",
    "    df = (\n",
    "        df\n",
    "        .withColumn(\n",
    "            \"tagline\",\n",
    "            F.when(F.lower(F.col(\"tagline\")).isin(\"none\", \"null\"), F.lit(None))\n",
    "             .otherwise(F.col(\"tagline\"))\n",
    "        )\n",
    "        .withColumn(\"tagline_bool\", F.when(F.col(\"tagline\").isNotNull(), 1).otherwise(0))\n",
    "    )\n",
    "\n",
    "    print(\"Step 5: Creating top-N indicator columns using train as reference\")\n",
    "\n",
    "    def get_top_items(train_df, col_name, top_n):\n",
    "        arr_col = F.split(F.col(col_name), \",\\\\s*\")\n",
    "        return (\n",
    "            train_df.select(arr_col.alias(\"arr\"), \"revenue\")\n",
    "                    .withColumn(\"item\", F.explode(\"arr\"))\n",
    "                    .withColumn(\"item\", F.trim(F.col(\"item\")))\n",
    "                    .groupBy(\"item\")\n",
    "                    .agg(F.sum(\"revenue\").alias(\"tot_rev\"))\n",
    "                    .orderBy(F.col(\"tot_rev\").desc())\n",
    "                    .limit(top_n)\n",
    "                    .rdd.map(lambda r: r[\"item\"])\n",
    "                    .collect()\n",
    "        )\n",
    "\n",
    "    def build_indicators(df, col_name, top_items, suffix):\n",
    "        arr_col = F.split(F.col(col_name), \",\\\\s*\")\n",
    "        for item in top_items:\n",
    "            clean_name = item.strip().lower().replace(\" \", \"_\").replace(\"-\", \"_\").replace(\"(\", \"\").replace(\".\", \"\")\n",
    "            df = df.withColumn(\n",
    "                f\"{suffix}_{clean_name}\",\n",
    "                F.when(F.array_contains(arr_col, item), 1).otherwise(0)\n",
    "            )\n",
    "        return df\n",
    "\n",
    "    top_genres   = get_top_items(train_df_for_reference, \"genres\", 5)\n",
    "    top_companies = get_top_items(train_df_for_reference, \"production_companies\", 3)\n",
    "    top_countries = get_top_items(train_df_for_reference, \"production_countries\", 5)\n",
    "    top_keywords  = get_top_items(train_df_for_reference, \"keywords\", 3)\n",
    "\n",
    "    df = build_indicators(df, \"genres\", top_genres, \"genre\")\n",
    "    df = build_indicators(df, \"production_companies\", top_companies, \"prodco\")\n",
    "    df = build_indicators(df, \"production_countries\", top_countries, \"country\")\n",
    "    df = build_indicators(df, \"keywords\", top_keywords, \"keyword\")\n",
    "\n",
    "    print(\"Feature engineering complete.\")\n",
    "    return df"
   ]
  },
  {
   "cell_type": "markdown",
   "metadata": {
    "application/vnd.databricks.v1+cell": {
     "cellMetadata": {
      "byteLimit": 2048000,
      "rowLimit": 10000
     },
     "inputWidgets": {},
     "nuid": "bde20302-0df8-4449-ad5f-c0b13dc30898",
     "showTitle": false,
     "tableResultSettingsMap": {},
     "title": ""
    }
   },
   "source": [
    "---\n",
    "## Perform data engineering\n",
    "---\n",
    "We will use the defined function to engineer new features."
   ]
  },
  {
   "cell_type": "code",
   "execution_count": 0,
   "metadata": {
    "application/vnd.databricks.v1+cell": {
     "cellMetadata": {
      "byteLimit": 2048000,
      "rowLimit": 10000
     },
     "inputWidgets": {},
     "nuid": "f3703369-b12f-4022-b586-d84e0ade8c85",
     "showTitle": false,
     "tableResultSettingsMap": {},
     "title": ""
    }
   },
   "outputs": [
    {
     "output_type": "stream",
     "name": "stdout",
     "output_type": "stream",
     "text": [
      "Step 1: Filling missing 'runtime' with train median\nStep 2: Creating 'released_bool' binary column from status\nStep 3: Creating 'en_bool' binary column from original_language\nStep 4: Creating 'tagline_bool' from presence of tagline\nStep 5: Creating top-N indicator columns using train as reference\nFeature engineering complete.\nStep 1: Filling missing 'runtime' with train median\nStep 2: Creating 'released_bool' binary column from status\nStep 3: Creating 'en_bool' binary column from original_language\nStep 4: Creating 'tagline_bool' from presence of tagline\nStep 5: Creating top-N indicator columns using train as reference\nFeature engineering complete.\n"
     ]
    }
   ],
   "source": [
    "# Apply feature engineering safely using train as reference\n",
    "train_df = feature_engineer(train_df, train_df)\n",
    "test_df  = feature_engineer(test_df, train_df)"
   ]
  },
  {
   "cell_type": "markdown",
   "metadata": {
    "application/vnd.databricks.v1+cell": {
     "cellMetadata": {
      "byteLimit": 2048000,
      "rowLimit": 10000
     },
     "inputWidgets": {},
     "nuid": "0b902237-9ca5-424c-9d45-6043c73a522a",
     "showTitle": false,
     "tableResultSettingsMap": {},
     "title": ""
    }
   },
   "source": [
    "### Original 21 Columns – Feature Engineering Summary\n",
    "This table summarizes all the changes to the columns in the original imdb dataset. \n",
    "\n",
    "| Column Name             | Action Taken / Reason                                                         |\n",
    "|------------------------|--------------------------------------------------------------------------------|\n",
    "| id                     | Dropped (identifier, no target relationship)                                   |\n",
    "| title                  | Dropped (text, should not affect revenue)                                      |\n",
    "| vote_average           | Kept (numeric feature)                                                         |\n",
    "| vote_count             | Kept (numeric feature)                                                         |\n",
    "| status                 | Dropped (created binary `released_bool`)                                       |\n",
    "| release_date           | Dropped (transformed into `release_day`, `release_month`, `release_year`)      |\n",
    "| revenue                | Kept (target variable)                                                         |\n",
    "| runtime                | Kept (numeric feature)                                                         |\n",
    "| adult                  | Kept (boolean)                                                                 |\n",
    "| budget                 | Kept (numeric feature)                                                         |\n",
    "| imdb_id                | Dropped (identifier)                                                           |\n",
    "| original_language      | Dropped (transformed into `en_bool`)                                           |\n",
    "| original_title         | Dropped (text)                                                                 |\n",
    "| overview               | Dropped (long text, transformations needed)                                    |\n",
    "| popularity             | Kept (numeric feature)                                                         |\n",
    "| tagline                | Dropped (created `tagline_bool` for boolean present/abs)                       |\n",
    "| genres                 | Dropped (created boolean columns for top 5 genres)                             |\n",
    "| production_companies   | Dropped (created boolean columns for top 3 companies)                          |\n",
    "| production_countries   | Dropped (created boolean columns for top 5 production countries)               |\n",
    "| spoken_languages       | Dropped (deemed unnecessairy since we have `en_bool`)                          |\n",
    "| keywords               | Dropped (created boolean columns for top 3 keywords)                           |"
   ]
  },
  {
   "cell_type": "markdown",
   "metadata": {
    "application/vnd.databricks.v1+cell": {
     "cellMetadata": {
      "byteLimit": 2048000,
      "rowLimit": 10000
     },
     "inputWidgets": {},
     "nuid": "bd561ea7-694d-4f3d-bd0c-d54b9cb296f2",
     "showTitle": false,
     "tableResultSettingsMap": {},
     "title": ""
    }
   },
   "source": [
    "---\n",
    "## Drop unnecessary columns and inspect the new dataframe\n",
    "---\n",
    "Below, we will 1) drop the columns that are not longer needed and 2) inspect whether our 'initial_preprocess' function applied all the changes we intended it to."
   ]
  },
  {
   "cell_type": "code",
   "execution_count": 0,
   "metadata": {
    "application/vnd.databricks.v1+cell": {
     "cellMetadata": {
      "byteLimit": 2048000,
      "rowLimit": 10000
     },
     "inputWidgets": {},
     "nuid": "5c0b28be-2d92-4ab4-a9a4-37bc92619675",
     "showTitle": false,
     "tableResultSettingsMap": {},
     "title": ""
    }
   },
   "outputs": [],
   "source": [
    "train_df = train_df.drop(\"release_date\", \"status\", \"original_language\", \"tagline\",\n",
    "        \"genres\", \"production_companies\", \"production_countries\", \"keywords\",\n",
    "        \"parsed_date\", \"id\")\n",
    "test_df = test_df.drop(\"release_date\", \"status\", \"original_language\", \"tagline\",\n",
    "        \"genres\", \"production_companies\", \"production_countries\", \"keywords\",\n",
    "        \"parsed_date\", \"id\")"
   ]
  },
  {
   "cell_type": "code",
   "execution_count": 0,
   "metadata": {
    "application/vnd.databricks.v1+cell": {
     "cellMetadata": {
      "byteLimit": 2048000,
      "rowLimit": 10000
     },
     "inputWidgets": {},
     "nuid": "a3312643-2048-4dbd-962a-a8d897aef318",
     "showTitle": false,
     "tableResultSettingsMap": {},
     "title": ""
    }
   },
   "outputs": [
    {
     "output_type": "stream",
     "name": "stdout",
     "output_type": "stream",
     "text": [
      "root\n |-- vote_average: double (nullable = true)\n |-- vote_count: integer (nullable = true)\n |-- revenue: long (nullable = true)\n |-- runtime: double (nullable = true)\n |-- adult: integer (nullable = true)\n |-- budget: long (nullable = true)\n |-- popularity: double (nullable = true)\n |-- release_day: integer (nullable = true)\n |-- release_month: integer (nullable = true)\n |-- release_year: integer (nullable = true)\n |-- released_bool: integer (nullable = false)\n |-- en_bool: integer (nullable = false)\n |-- tagline_bool: integer (nullable = false)\n |-- genre_action: integer (nullable = false)\n |-- genre_adventure: integer (nullable = false)\n |-- genre_comedy: integer (nullable = false)\n |-- genre_drama: integer (nullable = false)\n |-- genre_thriller: integer (nullable = false)\n |-- prodco_warner_bros_pictures: integer (nullable = false)\n |-- prodco_universal_pictures: integer (nullable = false)\n |-- prodco_paramount: integer (nullable = false)\n |-- country_united_states_of_america: integer (nullable = false)\n |-- country_united_kingdom: integer (nullable = false)\n |-- country_china: integer (nullable = false)\n |-- country_france: integer (nullable = false)\n |-- country_germany: integer (nullable = false)\n |-- keyword_duringcreditsstinger: integer (nullable = false)\n |-- keyword_based_on_novel_or_book: integer (nullable = false)\n |-- keyword_sequel: integer (nullable = false)\n\nFinal row count: 16521\n+-------+------------+\n|summary|vote_average|\n+-------+------------+\n|    min|         0.0|\n|    max|        10.0|\n+-------+------------+\n\nFalse\nFalse\nFalse\n+-----------+-------------+------------+-------------+-------+------------+\n|release_day|release_month|release_year|released_bool|en_bool|tagline_bool|\n+-----------+-------------+------------+-------------+-------+------------+\n|         12|            9|        1995|            1|      1|           1|\n|          5|            2|        1997|            1|      1|           1|\n|          3|            7|        2003|            1|      1|           0|\n|         25|            7|        2007|            1|      1|           1|\n|         15|            3|        2002|            1|      0|           0|\n+-----------+-------------+------------+-------------+-------+------------+\nonly showing top 5 rows\n\n+------------+---------------+------------+-----------+--------------+\n|genre_action|genre_adventure|genre_comedy|genre_drama|genre_thriller|\n+------------+---------------+------------+-----------+--------------+\n|           0|              0|           1|          0|             0|\n|           1|              1|           0|          0|             1|\n|           0|              0|           0|          1|             0|\n|           0|              0|           1|          0|             0|\n|           0|              0|           0|          1|             0|\n+------------+---------------+------------+-----------+--------------+\nonly showing top 5 rows\n\n"
     ]
    }
   ],
   "source": [
    "# Check schema changes\n",
    "train_df.printSchema()\n",
    "\n",
    "# Check basic row count\n",
    "print(f\"Final row count: {train_df.count()}\")\n",
    "\n",
    "#  Check value range of 'vote_average' (should be between 0 and 10)\n",
    "train_df.select(\"vote_average\").summary(\"min\", \"max\").show()\n",
    "\n",
    "# Check if 'runtime' has any 0 values left\n",
    "train_df.filter(col(\"runtime\") == 0).count()\n",
    "\n",
    "# Check if 'release_date' and other dropped columns are really gone\n",
    "print(\"release_date\" in train_df.columns)     # should be False\n",
    "print(\"status\" in train_df.columns)           # should be False\n",
    "print(\"original_language\" in train_df.columns) # should be False\n",
    "\n",
    "# Show sample of new columns\n",
    "train_df.select(\"release_day\", \"release_month\", \"release_year\", \"released_bool\", \"en_bool\", \"tagline_bool\").show(5)\n",
    "\n",
    "# Check new genre features\n",
    "genre_cols = [c for c in train_df.columns if c.startswith(\"genre_\")]\n",
    "train_df.select(genre_cols).show(5)"
   ]
  },
  {
   "cell_type": "code",
   "execution_count": 0,
   "metadata": {
    "application/vnd.databricks.v1+cell": {
     "cellMetadata": {
      "byteLimit": 2048000,
      "rowLimit": 10000
     },
     "inputWidgets": {},
     "nuid": "c77f3b37-ebe9-4991-9413-b44b4856e71e",
     "showTitle": false,
     "tableResultSettingsMap": {},
     "title": ""
    }
   },
   "outputs": [
    {
     "output_type": "stream",
     "name": "stdout",
     "output_type": "stream",
     "text": [
      "Shape: (16521, 29)\nShape: (4143, 29)\n"
     ]
    }
   ],
   "source": [
    "# Print train_df shape after feature engineering\n",
    "row_count_train = train_df.count()\n",
    "col_count_train = len(train_df.columns)\n",
    "print(f\"Shape: ({row_count_train}, {col_count_train})\")\n",
    "\n",
    "# Print test_df shape after feature engineering\n",
    "row_count_test = test_df.count()\n",
    "col_count_test = len(test_df.columns)\n",
    "\n",
    "print(f\"Shape: ({row_count_test}, {col_count_test})\")"
   ]
  },
  {
   "cell_type": "markdown",
   "metadata": {
    "application/vnd.databricks.v1+cell": {
     "cellMetadata": {
      "byteLimit": 2048000,
      "rowLimit": 10000
     },
     "inputWidgets": {},
     "nuid": "4a8bc295-c066-4512-8930-ead4350e9923",
     "showTitle": false,
     "tableResultSettingsMap": {},
     "title": ""
    }
   },
   "source": [
    "---\n",
    "## Check for Missing Values\n",
    "---\n",
    "The algorithms we will use later on in this notebook would give us an error if the dataset contained null values. Therefore, we will check if we didn't let any null values slip during the preprocessing stage. "
   ]
  },
  {
   "cell_type": "code",
   "execution_count": 0,
   "metadata": {
    "application/vnd.databricks.v1+cell": {
     "cellMetadata": {
      "byteLimit": 2048000,
      "rowLimit": 10000
     },
     "inputWidgets": {},
     "nuid": "cd9d353b-8700-41b0-a91a-770809079fac",
     "showTitle": false,
     "tableResultSettingsMap": {},
     "title": ""
    }
   },
   "outputs": [
    {
     "output_type": "display_data",
     "data": {
      "text/html": [
       "<style scoped>\n",
       "  .table-result-container {\n",
       "    max-height: 300px;\n",
       "    overflow: auto;\n",
       "  }\n",
       "  table, th, td {\n",
       "    border: 1px solid black;\n",
       "    border-collapse: collapse;\n",
       "  }\n",
       "  th, td {\n",
       "    padding: 5px;\n",
       "  }\n",
       "  th {\n",
       "    text-align: left;\n",
       "  }\n",
       "</style><div class='table-result-container'><table class='table-result'><thead style='background-color: white'><tr><th>vote_average</th><th>vote_count</th><th>revenue</th><th>runtime</th><th>adult</th><th>budget</th><th>popularity</th><th>release_day</th><th>release_month</th><th>release_year</th><th>released_bool</th><th>en_bool</th><th>tagline_bool</th><th>genre_action</th><th>genre_adventure</th><th>genre_comedy</th><th>genre_drama</th><th>genre_thriller</th><th>prodco_warner_bros_pictures</th><th>prodco_universal_pictures</th><th>prodco_paramount</th><th>country_united_states_of_america</th><th>country_united_kingdom</th><th>country_china</th><th>country_france</th><th>country_germany</th><th>keyword_duringcreditsstinger</th><th>keyword_based_on_novel_or_book</th><th>keyword_sequel</th></tr></thead><tbody><tr><td>0</td><td>0</td><td>0</td><td>0</td><td>0</td><td>0</td><td>0</td><td>0</td><td>0</td><td>0</td><td>0</td><td>0</td><td>0</td><td>0</td><td>0</td><td>0</td><td>0</td><td>0</td><td>0</td><td>0</td><td>0</td><td>0</td><td>0</td><td>0</td><td>0</td><td>0</td><td>0</td><td>0</td><td>0</td></tr></tbody></table></div>"
      ]
     },
     "metadata": {
      "application/vnd.databricks.v1+output": {
       "addedWidgets": {},
       "aggData": [],
       "aggError": "",
       "aggOverflow": false,
       "aggSchema": [],
       "aggSeriesLimitReached": false,
       "aggType": "",
       "arguments": {},
       "columnCustomDisplayInfos": {},
       "data": [
        [
         0,
         0,
         0,
         0,
         0,
         0,
         0,
         0,
         0,
         0,
         0,
         0,
         0,
         0,
         0,
         0,
         0,
         0,
         0,
         0,
         0,
         0,
         0,
         0,
         0,
         0,
         0,
         0,
         0
        ]
       ],
       "datasetInfos": [],
       "dbfsResultPath": null,
       "isJsonSchema": true,
       "metadata": {},
       "overflow": false,
       "plotOptions": {
        "customPlotOptions": {},
        "displayType": "table",
        "pivotAggregation": null,
        "pivotColumns": null,
        "xColumns": null,
        "yColumns": null
       },
       "removedWidgets": [],
       "schema": [
        {
         "metadata": "{}",
         "name": "vote_average",
         "type": "\"long\""
        },
        {
         "metadata": "{}",
         "name": "vote_count",
         "type": "\"long\""
        },
        {
         "metadata": "{}",
         "name": "revenue",
         "type": "\"long\""
        },
        {
         "metadata": "{}",
         "name": "runtime",
         "type": "\"long\""
        },
        {
         "metadata": "{}",
         "name": "adult",
         "type": "\"long\""
        },
        {
         "metadata": "{}",
         "name": "budget",
         "type": "\"long\""
        },
        {
         "metadata": "{}",
         "name": "popularity",
         "type": "\"long\""
        },
        {
         "metadata": "{}",
         "name": "release_day",
         "type": "\"long\""
        },
        {
         "metadata": "{}",
         "name": "release_month",
         "type": "\"long\""
        },
        {
         "metadata": "{}",
         "name": "release_year",
         "type": "\"long\""
        },
        {
         "metadata": "{}",
         "name": "released_bool",
         "type": "\"long\""
        },
        {
         "metadata": "{}",
         "name": "en_bool",
         "type": "\"long\""
        },
        {
         "metadata": "{}",
         "name": "tagline_bool",
         "type": "\"long\""
        },
        {
         "metadata": "{}",
         "name": "genre_action",
         "type": "\"long\""
        },
        {
         "metadata": "{}",
         "name": "genre_adventure",
         "type": "\"long\""
        },
        {
         "metadata": "{}",
         "name": "genre_comedy",
         "type": "\"long\""
        },
        {
         "metadata": "{}",
         "name": "genre_drama",
         "type": "\"long\""
        },
        {
         "metadata": "{}",
         "name": "genre_thriller",
         "type": "\"long\""
        },
        {
         "metadata": "{}",
         "name": "prodco_warner_bros_pictures",
         "type": "\"long\""
        },
        {
         "metadata": "{}",
         "name": "prodco_universal_pictures",
         "type": "\"long\""
        },
        {
         "metadata": "{}",
         "name": "prodco_paramount",
         "type": "\"long\""
        },
        {
         "metadata": "{}",
         "name": "country_united_states_of_america",
         "type": "\"long\""
        },
        {
         "metadata": "{}",
         "name": "country_united_kingdom",
         "type": "\"long\""
        },
        {
         "metadata": "{}",
         "name": "country_china",
         "type": "\"long\""
        },
        {
         "metadata": "{}",
         "name": "country_france",
         "type": "\"long\""
        },
        {
         "metadata": "{}",
         "name": "country_germany",
         "type": "\"long\""
        },
        {
         "metadata": "{}",
         "name": "keyword_duringcreditsstinger",
         "type": "\"long\""
        },
        {
         "metadata": "{}",
         "name": "keyword_based_on_novel_or_book",
         "type": "\"long\""
        },
        {
         "metadata": "{}",
         "name": "keyword_sequel",
         "type": "\"long\""
        }
       ],
       "type": "table"
      }
     },
     "output_type": "display_data"
    }
   ],
   "source": [
    "display(train_df.select([\n",
    "    count(when(col(c).isNull() | isnan(c), c)).alias(c) for c in train_df.columns\n",
    "]))"
   ]
  },
  {
   "cell_type": "code",
   "execution_count": 0,
   "metadata": {
    "application/vnd.databricks.v1+cell": {
     "cellMetadata": {
      "byteLimit": 2048000,
      "rowLimit": 10000
     },
     "inputWidgets": {},
     "nuid": "6b6b99c0-53c4-4a74-a991-e827ba312bd3",
     "showTitle": false,
     "tableResultSettingsMap": {},
     "title": ""
    }
   },
   "outputs": [
    {
     "output_type": "display_data",
     "data": {
      "text/html": [
       "<style scoped>\n",
       "  .table-result-container {\n",
       "    max-height: 300px;\n",
       "    overflow: auto;\n",
       "  }\n",
       "  table, th, td {\n",
       "    border: 1px solid black;\n",
       "    border-collapse: collapse;\n",
       "  }\n",
       "  th, td {\n",
       "    padding: 5px;\n",
       "  }\n",
       "  th {\n",
       "    text-align: left;\n",
       "  }\n",
       "</style><div class='table-result-container'><table class='table-result'><thead style='background-color: white'><tr><th>vote_average</th><th>vote_count</th><th>revenue</th><th>runtime</th><th>adult</th><th>budget</th><th>popularity</th><th>release_day</th><th>release_month</th><th>release_year</th><th>released_bool</th><th>en_bool</th><th>tagline_bool</th><th>genre_action</th><th>genre_adventure</th><th>genre_comedy</th><th>genre_drama</th><th>genre_thriller</th><th>prodco_warner_bros_pictures</th><th>prodco_universal_pictures</th><th>prodco_paramount</th><th>country_united_states_of_america</th><th>country_united_kingdom</th><th>country_china</th><th>country_france</th><th>country_germany</th><th>keyword_duringcreditsstinger</th><th>keyword_based_on_novel_or_book</th><th>keyword_sequel</th></tr></thead><tbody><tr><td>0</td><td>0</td><td>0</td><td>0</td><td>0</td><td>0</td><td>0</td><td>0</td><td>0</td><td>0</td><td>0</td><td>0</td><td>0</td><td>0</td><td>0</td><td>0</td><td>0</td><td>0</td><td>0</td><td>0</td><td>0</td><td>0</td><td>0</td><td>0</td><td>0</td><td>0</td><td>0</td><td>0</td><td>0</td></tr></tbody></table></div>"
      ]
     },
     "metadata": {
      "application/vnd.databricks.v1+output": {
       "addedWidgets": {},
       "aggData": [],
       "aggError": "",
       "aggOverflow": false,
       "aggSchema": [],
       "aggSeriesLimitReached": false,
       "aggType": "",
       "arguments": {},
       "columnCustomDisplayInfos": {},
       "data": [
        [
         0,
         0,
         0,
         0,
         0,
         0,
         0,
         0,
         0,
         0,
         0,
         0,
         0,
         0,
         0,
         0,
         0,
         0,
         0,
         0,
         0,
         0,
         0,
         0,
         0,
         0,
         0,
         0,
         0
        ]
       ],
       "datasetInfos": [],
       "dbfsResultPath": null,
       "isJsonSchema": true,
       "metadata": {},
       "overflow": false,
       "plotOptions": {
        "customPlotOptions": {},
        "displayType": "table",
        "pivotAggregation": null,
        "pivotColumns": null,
        "xColumns": null,
        "yColumns": null
       },
       "removedWidgets": [],
       "schema": [
        {
         "metadata": "{}",
         "name": "vote_average",
         "type": "\"long\""
        },
        {
         "metadata": "{}",
         "name": "vote_count",
         "type": "\"long\""
        },
        {
         "metadata": "{}",
         "name": "revenue",
         "type": "\"long\""
        },
        {
         "metadata": "{}",
         "name": "runtime",
         "type": "\"long\""
        },
        {
         "metadata": "{}",
         "name": "adult",
         "type": "\"long\""
        },
        {
         "metadata": "{}",
         "name": "budget",
         "type": "\"long\""
        },
        {
         "metadata": "{}",
         "name": "popularity",
         "type": "\"long\""
        },
        {
         "metadata": "{}",
         "name": "release_day",
         "type": "\"long\""
        },
        {
         "metadata": "{}",
         "name": "release_month",
         "type": "\"long\""
        },
        {
         "metadata": "{}",
         "name": "release_year",
         "type": "\"long\""
        },
        {
         "metadata": "{}",
         "name": "released_bool",
         "type": "\"long\""
        },
        {
         "metadata": "{}",
         "name": "en_bool",
         "type": "\"long\""
        },
        {
         "metadata": "{}",
         "name": "tagline_bool",
         "type": "\"long\""
        },
        {
         "metadata": "{}",
         "name": "genre_action",
         "type": "\"long\""
        },
        {
         "metadata": "{}",
         "name": "genre_adventure",
         "type": "\"long\""
        },
        {
         "metadata": "{}",
         "name": "genre_comedy",
         "type": "\"long\""
        },
        {
         "metadata": "{}",
         "name": "genre_drama",
         "type": "\"long\""
        },
        {
         "metadata": "{}",
         "name": "genre_thriller",
         "type": "\"long\""
        },
        {
         "metadata": "{}",
         "name": "prodco_warner_bros_pictures",
         "type": "\"long\""
        },
        {
         "metadata": "{}",
         "name": "prodco_universal_pictures",
         "type": "\"long\""
        },
        {
         "metadata": "{}",
         "name": "prodco_paramount",
         "type": "\"long\""
        },
        {
         "metadata": "{}",
         "name": "country_united_states_of_america",
         "type": "\"long\""
        },
        {
         "metadata": "{}",
         "name": "country_united_kingdom",
         "type": "\"long\""
        },
        {
         "metadata": "{}",
         "name": "country_china",
         "type": "\"long\""
        },
        {
         "metadata": "{}",
         "name": "country_france",
         "type": "\"long\""
        },
        {
         "metadata": "{}",
         "name": "country_germany",
         "type": "\"long\""
        },
        {
         "metadata": "{}",
         "name": "keyword_duringcreditsstinger",
         "type": "\"long\""
        },
        {
         "metadata": "{}",
         "name": "keyword_based_on_novel_or_book",
         "type": "\"long\""
        },
        {
         "metadata": "{}",
         "name": "keyword_sequel",
         "type": "\"long\""
        }
       ],
       "type": "table"
      }
     },
     "output_type": "display_data"
    }
   ],
   "source": [
    "display(test_df.select([\n",
    "    count(when(col(c).isNull() | isnan(c), c)).alias(c) for c in test_df.columns\n",
    "]))"
   ]
  },
  {
   "cell_type": "markdown",
   "metadata": {
    "application/vnd.databricks.v1+cell": {
     "cellMetadata": {
      "byteLimit": 2048000,
      "rowLimit": 10000
     },
     "inputWidgets": {},
     "nuid": "000488b2-8685-4474-a9c7-4e2052441acb",
     "showTitle": false,
     "tableResultSettingsMap": {},
     "title": ""
    }
   },
   "source": [
    "No missing values. Let's move on to the next steps."
   ]
  },
  {
   "cell_type": "markdown",
   "metadata": {
    "application/vnd.databricks.v1+cell": {
     "cellMetadata": {
      "byteLimit": 2048000,
      "rowLimit": 10000
     },
     "inputWidgets": {},
     "nuid": "20301b26-a05f-4168-a4a3-73affcf86e97",
     "showTitle": false,
     "tableResultSettingsMap": {},
     "title": ""
    }
   },
   "source": [
    "---\n",
    "## Normalize using StandardScaler\n",
    "---\n",
    "We need to scale our features because many algorithms are sensitive to the scale of input features. If features are in different ranges, the algorithm might behave incorrectly or suboptimally."
   ]
  },
  {
   "cell_type": "code",
   "execution_count": 0,
   "metadata": {
    "application/vnd.databricks.v1+cell": {
     "cellMetadata": {
      "byteLimit": 2048000,
      "rowLimit": 10000
     },
     "inputWidgets": {},
     "nuid": "dece6ed3-dd5b-486c-98a0-0ab9c3d8b71a",
     "showTitle": false,
     "tableResultSettingsMap": {},
     "title": ""
    }
   },
   "outputs": [],
   "source": [
    "# Assemble unscaled features for train and test\n",
    "feature_cols = [c for c in train_df.columns if c != \"revenue\"]\n",
    "\n",
    "assembler = VectorAssembler(inputCols=feature_cols, outputCol=\"unscaled_features\")\n",
    "\n",
    "train_assembled = assembler.transform(train_df)\n",
    "test_assembled  = assembler.transform(test_df)\n",
    "\n",
    "# Fit StandardScaler on training set only\n",
    "scaler = StandardScaler(\n",
    "    inputCol=\"unscaled_features\",\n",
    "    outputCol=\"features\",   # final column used by models\n",
    "    withMean=True,\n",
    "    withStd=True\n",
    ")\n",
    "\n",
    "scaler_model = scaler.fit(train_assembled)\n",
    "\n",
    "# Transform both train and test using the fitted scaler\n",
    "train_scaled = scaler_model.transform(train_assembled)\n",
    "test_scaled  = scaler_model.transform(test_assembled)"
   ]
  },
  {
   "cell_type": "markdown",
   "metadata": {
    "application/vnd.databricks.v1+cell": {
     "cellMetadata": {
      "byteLimit": 2048000,
      "rowLimit": 10000
     },
     "inputWidgets": {},
     "nuid": "f8f570df-d7dd-4758-b998-2d38d1b0ef00",
     "showTitle": false,
     "tableResultSettingsMap": {},
     "title": ""
    }
   },
   "source": [
    "---\n",
    "## Define numerical, categorical, and boolean features\n",
    "---\n",
    "In order to perform adequate feature selection, we will define numerical and boolean features."
   ]
  },
  {
   "cell_type": "code",
   "execution_count": 0,
   "metadata": {
    "application/vnd.databricks.v1+cell": {
     "cellMetadata": {
      "byteLimit": 2048000,
      "rowLimit": 10000
     },
     "inputWidgets": {},
     "nuid": "e16c9c90-0a81-42d9-a2da-e5a354443a60",
     "showTitle": false,
     "tableResultSettingsMap": {},
     "title": ""
    }
   },
   "outputs": [
    {
     "output_type": "execute_result",
     "data": {
      "text/plain": [
       "['vote_average',\n",
       " 'vote_count',\n",
       " 'revenue',\n",
       " 'runtime',\n",
       " 'adult',\n",
       " 'budget',\n",
       " 'popularity',\n",
       " 'release_day',\n",
       " 'release_month',\n",
       " 'release_year',\n",
       " 'released_bool',\n",
       " 'en_bool',\n",
       " 'tagline_bool',\n",
       " 'genre_action',\n",
       " 'genre_adventure',\n",
       " 'genre_comedy',\n",
       " 'genre_drama',\n",
       " 'genre_thriller',\n",
       " 'prodco_warner_bros_pictures',\n",
       " 'prodco_universal_pictures',\n",
       " 'prodco_paramount',\n",
       " 'country_united_states_of_america',\n",
       " 'country_united_kingdom',\n",
       " 'country_china',\n",
       " 'country_france',\n",
       " 'country_germany',\n",
       " 'keyword_duringcreditsstinger',\n",
       " 'keyword_based_on_novel_or_book',\n",
       " 'keyword_sequel']"
      ]
     },
     "execution_count": 16,
     "metadata": {},
     "output_type": "execute_result"
    }
   ],
   "source": [
    "# Display the columns in the dataframe\n",
    "train_df.columns"
   ]
  },
  {
   "cell_type": "code",
   "execution_count": 0,
   "metadata": {
    "application/vnd.databricks.v1+cell": {
     "cellMetadata": {
      "byteLimit": 2048000,
      "rowLimit": 10000
     },
     "inputWidgets": {},
     "nuid": "48546e63-a471-468b-ad35-77074d4f2d9a",
     "showTitle": false,
     "tableResultSettingsMap": {},
     "title": ""
    }
   },
   "outputs": [],
   "source": [
    "# Numerical features (including target)\n",
    "numerical_features = [\n",
    "    \"vote_average\",\n",
    "    \"vote_count\",\n",
    "    \"runtime\",\n",
    "    \"budget\",\n",
    "    \"popularity\",\n",
    "    \"release_day\",\n",
    "    \"release_month\",\n",
    "    \"release_year\"\n",
    "]\n",
    "# for correlation\n",
    "numerical_features_target = [\n",
    "    \"revenue\", #TARGET\n",
    "    \"vote_average\",\n",
    "    \"vote_count\",\n",
    "    \"runtime\",\n",
    "    \"budget\",\n",
    "    \"popularity\",\n",
    "    \"release_day\",\n",
    "    \"release_month\",\n",
    "    \"release_year\"\n",
    "]\n",
    "\n",
    "# Boolean/binary features (encoded as integer or boolean)\n",
    "boolean_features = [\n",
    "    \"adult\",\n",
    "    \"en_bool\",\n",
    "    \"tagline_bool\",\n",
    "    \"released_bool\",\n",
    "    \"genre_action\", \"genre_adventure\", \"genre_comedy\", \"genre_drama\", \"genre_thriller\", # top 5 genres\n",
    "    \"prodco_warner_bros_pictures\", \"prodco_universal_pictures\", \n",
    "    \"prodco_paramount\", # top 3 production companies\n",
    "    \"keyword_sequel\", \"keyword_duringcreditsstinger\", \"keyword_based_on_novel_or_book\",  # top 3 keywords\n",
    "    \"country_united_states_of_america\", \"country_united_kingdom\", \"country_china\", \n",
    "    \"country_germany\", \"country_france\" # top 5 production countries\n",
    "]"
   ]
  },
  {
   "cell_type": "markdown",
   "metadata": {
    "application/vnd.databricks.v1+cell": {
     "cellMetadata": {
      "byteLimit": 2048000,
      "rowLimit": 10000
     },
     "inputWidgets": {},
     "nuid": "4e78a33c-8161-4a8b-b1a5-014f93c4d704",
     "showTitle": false,
     "tableResultSettingsMap": {},
     "title": ""
    }
   },
   "source": [
    "---\n",
    "## Correlation-Based Filtering (for numeric features)\n",
    "---\n",
    "We want to inspect what features correlate highly with the target and between each other. This way we can select the \"important\" features and \"redundant\" ones."
   ]
  },
  {
   "cell_type": "code",
   "execution_count": 0,
   "metadata": {
    "application/vnd.databricks.v1+cell": {
     "cellMetadata": {
      "byteLimit": 2048000,
      "rowLimit": 10000
     },
     "inputWidgets": {},
     "nuid": "8b519759-d8a7-4a8d-be65-803c77825b98",
     "showTitle": false,
     "tableResultSettingsMap": {},
     "title": ""
    }
   },
   "outputs": [
    {
     "output_type": "display_data",
     "data": {
      "image/png": "[encoded data removed]",
      "text/plain": [
       "<Figure size 1400x1000 with 2 Axes>"
      ]
     },
     "metadata": {},
     "output_type": "display_data"
    }
   ],
   "source": [
    "# Convert to Pandas\n",
    "df_corr = train_df.select(numerical_features_target).toPandas()\n",
    "\n",
    "# Plot correlation matrix using a pretty palette\n",
    "plt.figure(figsize=(14, 10))\n",
    "sns.heatmap(\n",
    "    df_corr.corr(),\n",
    "    annot=True,\n",
    "    fmt=\".2f\",\n",
    "    cmap=\"viridis\",\n",
    "    square=True,\n",
    "    linewidths=0.5,\n",
    "    cbar_kws={\"shrink\": 0.75},\n",
    "    annot_kws={\"size\": 10} \n",
    ")\n",
    "plt.title(\"Correlation Matrix of Numerical Features\", fontsize=14)\n",
    "plt.xticks(rotation=45)\n",
    "plt.yticks(rotation=0)\n",
    "plt.tight_layout()\n",
    "plt.show()"
   ]
  },
  {
   "cell_type": "markdown",
   "metadata": {
    "application/vnd.databricks.v1+cell": {
     "cellMetadata": {
      "byteLimit": 2048000,
      "rowLimit": 10000
     },
     "inputWidgets": {},
     "nuid": "18ef069d-903a-461c-871f-2f6b2d700bf3",
     "showTitle": false,
     "tableResultSettingsMap": {},
     "title": ""
    }
   },
   "source": [
    "No features highly correlate with each other (no correlation above 0.7). "
   ]
  },
  {
   "cell_type": "markdown",
   "metadata": {
    "application/vnd.databricks.v1+cell": {
     "cellMetadata": {
      "byteLimit": 2048000,
      "rowLimit": 10000
     },
     "inputWidgets": {},
     "nuid": "7438e7de-a945-486d-bf7f-8f0c72779df6",
     "showTitle": false,
     "tableResultSettingsMap": {},
     "title": ""
    }
   },
   "source": [
    "---\n",
    "## Chi-Square Test (boolean features)\n",
    "---\n",
    "We are using chi-square on binary features - scaling is unnecessary. Thus, we will assemble separate vector from booleans and then perform the test."
   ]
  },
  {
   "cell_type": "code",
   "execution_count": 0,
   "metadata": {
    "application/vnd.databricks.v1+cell": {
     "cellMetadata": {
      "byteLimit": 2048000,
      "rowLimit": 10000
     },
     "inputWidgets": {},
     "nuid": "55346776-384a-4e60-831b-b4f576abf388",
     "showTitle": false,
     "tableResultSettingsMap": {},
     "title": ""
    }
   },
   "outputs": [
    {
     "output_type": "stream",
     "name": "stdout",
     "output_type": "stream",
     "text": [
      "Top boolean features selected by Chi-Square test:\n- adult\n- en_bool\n- tagline_bool\n- released_bool\n- genre_action\n- genre_adventure\n- genre_comedy\n- genre_drama\n- genre_thriller\n- prodco_warner_bros_pictures\n"
     ]
    }
   ],
   "source": [
    "# Discretize the revenue target into quantile buckets\n",
    "discretizer = QuantileDiscretizer(numBuckets=4, inputCol=\"revenue\", outputCol=\"revenue_bucket\")\n",
    "train_binned = discretizer.fit(train_df).transform(train_df)\n",
    "\n",
    "# Use only boolean features \n",
    "input_features = boolean_features \n",
    "\n",
    "# Assemble into feature vector\n",
    "assembler = VectorAssembler(inputCols=input_features, outputCol=\"features\")\n",
    "assembled = assembler.transform(train_binned)\n",
    "\n",
    "# Apply Chi-Square feature selection\n",
    "selector = ChiSqSelector(numTopFeatures=10, featuresCol=\"features\", labelCol=\"revenue_bucket\", outputCol=\"selected_features\")\n",
    "selector_model = selector.fit(assembled)\n",
    "\n",
    "# Get selected feature indices\n",
    "selected_feature_indices = selector_model.selectedFeatures\n",
    "\n",
    "# Print feature names\n",
    "print(\"Top boolean features selected by Chi-Square test:\")\n",
    "for i in selected_feature_indices:\n",
    "    print(f\"- {input_features[i]}\")"
   ]
  },
  {
   "cell_type": "markdown",
   "metadata": {
    "application/vnd.databricks.v1+cell": {
     "cellMetadata": {
      "byteLimit": 2048000,
      "rowLimit": 10000
     },
     "inputWidgets": {},
     "nuid": "33c888b7-fb8b-4d94-a13f-c9da29e84f71",
     "showTitle": false,
     "tableResultSettingsMap": {},
     "title": ""
    }
   },
   "source": [
    "---\n",
    "## Model-Based Importance for Decision Tree\n",
    "---\n",
    "Decision trees do not need scaled features, therefore we will assemble a new vector using all the features for this feature selection method. "
   ]
  },
  {
   "cell_type": "code",
   "execution_count": 0,
   "metadata": {
    "application/vnd.databricks.v1+cell": {
     "cellMetadata": {
      "byteLimit": 2048000,
      "rowLimit": 10000
     },
     "inputWidgets": {},
     "nuid": "5bd39b31-0150-4d71-926e-5b113cc87caa",
     "showTitle": false,
     "tableResultSettingsMap": {},
     "title": ""
    }
   },
   "outputs": [
    {
     "output_type": "stream",
     "name": "stdout",
     "output_type": "stream",
     "text": [
      "Feature Importances (Descending):\n\nbudget: 0.5958\nvote_count: 0.2677\nruntime: 0.0516\nrelease_day: 0.0232\nrelease_year: 0.0128\ngenre_adventure: 0.0107\nvote_average: 0.0103\ngenre_drama: 0.0099\ncountry_united_states_of_america: 0.0052\npopularity: 0.0047\ncountry_united_kingdom: 0.0042\ngenre_thriller: 0.0024\ncountry_china: 0.0015\nadult: 0.0000\nrelease_month: 0.0000\nreleased_bool: 0.0000\nen_bool: 0.0000\ntagline_bool: 0.0000\ngenre_action: 0.0000\ngenre_comedy: 0.0000\nprodco_warner_bros_pictures: 0.0000\nprodco_universal_pictures: 0.0000\nprodco_paramount: 0.0000\ncountry_france: 0.0000\ncountry_germany: 0.0000\nkeyword_duringcreditsstinger: 0.0000\nkeyword_based_on_novel_or_book: 0.0000\nkeyword_sequel: 0.0000\n"
     ]
    },
    {
     "output_type": "display_data",
     "data": {
      "image/png": "[encoded data removed]",
      "text/plain": [
       "<Figure size 1000x600 with 1 Axes>"
      ]
     },
     "metadata": {},
     "output_type": "display_data"
    }
   ],
   "source": [
    "# Use full train_df with all features + target\n",
    "all_features = train_df.drop(\"revenue\").columns\n",
    "\n",
    "# Assemble features\n",
    "assembler = VectorAssembler(inputCols=all_features, outputCol=\"features\")\n",
    "train_assembled = assembler.transform(train_df)\n",
    "\n",
    "# Fit Decision Tree\n",
    "tree = DecisionTreeRegressor(featuresCol=\"features\", labelCol=\"revenue\")\n",
    "model = tree.fit(train_assembled)\n",
    "\n",
    "# Get feature importances\n",
    "importances = model.featureImportances.toArray()\n",
    "feature_importance_list = list(zip(all_features, importances))\n",
    "\n",
    "# Sort and print\n",
    "sorted_features = sorted(feature_importance_list, key=lambda x: x[1], reverse=True)\n",
    "print(\"Feature Importances (Descending):\\n\")\n",
    "for feature, importance in sorted_features:\n",
    "    print(f\"{feature}: {importance:.4f}\")\n",
    "\n",
    "# Step 7: Plot feature importances (top 20 for clarity)\n",
    "top_k = 20\n",
    "top_features = sorted_features[:top_k]\n",
    "features, scores = zip(*top_features)\n",
    "\n",
    "plt.figure(figsize=(10, 6))\n",
    "plt.barh(features[::-1], scores[::-1])\n",
    "plt.xlabel(\"Importance\")\n",
    "plt.title(f\"Top {top_k} Feature Importances (Decision Tree)\")\n",
    "plt.tight_layout()\n",
    "plt.show()"
   ]
  },
  {
   "cell_type": "markdown",
   "metadata": {
    "application/vnd.databricks.v1+cell": {
     "cellMetadata": {
      "byteLimit": 2048000,
      "rowLimit": 10000
     },
     "inputWidgets": {},
     "nuid": "17d11cc1-57db-4b04-a6c2-70f02fc18dec",
     "showTitle": false,
     "tableResultSettingsMap": {},
     "title": ""
    }
   },
   "source": [
    "---\n",
    "## Lasso Regression (L1 Regularization)\n",
    "---\n",
    "This feature selection method needs scaled features. Thus, we will use the vector assembled with scaled features."
   ]
  },
  {
   "cell_type": "code",
   "execution_count": 0,
   "metadata": {
    "application/vnd.databricks.v1+cell": {
     "cellMetadata": {
      "byteLimit": 2048000,
      "rowLimit": 10000
     },
     "inputWidgets": {},
     "nuid": "f9c5eda0-86ab-4b74-98b5-a7e9e85b1150",
     "showTitle": false,
     "tableResultSettingsMap": {},
     "title": ""
    }
   },
   "outputs": [
    {
     "output_type": "stream",
     "name": "stdout",
     "output_type": "stream",
     "text": [
      "- vote_average: -1301354.6369 (negative relationship with revenue)\n- vote_count: 53154747.3536 (positive relationship with revenue)\n- runtime: 7353611.4610 (positive relationship with revenue)\n- adult: -54802.6575 (negative relationship with revenue)\n- budget: 53583856.2508 (positive relationship with revenue)\n- popularity: 2552663.3222 (positive relationship with revenue)\n- release_day: 235472.4007 (positive relationship with revenue)\n- release_month: 50889.3504 (positive relationship with revenue)\n- release_year: -3337068.7523 (negative relationship with revenue)\n- released_bool: -2416296.1648 (negative relationship with revenue)\n- en_bool: 3727049.4567 (positive relationship with revenue)\n- tagline_bool: -477560.6033 (negative relationship with revenue)\n- genre_action: -1835518.4307 (negative relationship with revenue)\n- genre_adventure: 3049856.5088 (positive relationship with revenue)\n- genre_comedy: 2538862.0974 (positive relationship with revenue)\n- genre_drama: -1345307.4571 (negative relationship with revenue)\n- genre_thriller: -2193570.2587 (negative relationship with revenue)\n- prodco_warner_bros_pictures: -3584065.2876 (negative relationship with revenue)\n- prodco_universal_pictures: 1433705.5116 (positive relationship with revenue)\n- prodco_paramount: 744992.7901 (positive relationship with revenue)\n- country_united_states_of_america: -9220917.6086 (negative relationship with revenue)\n- country_united_kingdom: -3259706.3451 (negative relationship with revenue)\n- country_china: 4194966.9271 (positive relationship with revenue)\n- country_france: -3782562.8097 (negative relationship with revenue)\n- country_germany: -2440036.9504 (negative relationship with revenue)\n- keyword_duringcreditsstinger: 2198550.8354 (positive relationship with revenue)\n- keyword_based_on_novel_or_book: -2968639.5294 (negative relationship with revenue)\n- keyword_sequel: 7438025.1788 (positive relationship with revenue)\n"
     ]
    }
   ],
   "source": [
    "# Define Lasso (L1) model\n",
    "lr_l1 = LinearRegression(featuresCol=\"features\", labelCol=\"revenue\", elasticNetParam=1.0, regParam=0.3)\n",
    "l1_model = lr_l1.fit(train_scaled)\n",
    "\n",
    "# Get coefficients and feature names\n",
    "coeffs = l1_model.coefficients.toArray()\n",
    "# Get the input column names from the assembler you used\n",
    "feature_names = assembler.getInputCols()\n",
    "\n",
    "# Print results\n",
    "for feature, coef in zip(feature_names, coeffs):\n",
    "    if coef == 0.0:\n",
    "        print(f\"- {feature}: {coef:.4f} (excluded by L1 regularization)\")\n",
    "    else:\n",
    "        direction = \"positive\" if coef > 0 else \"negative\"\n",
    "        print(f\"- {feature}: {coef:.4f} ({direction} relationship with revenue)\")\n"
   ]
  },
  {
   "cell_type": "code",
   "execution_count": 0,
   "metadata": {
    "application/vnd.databricks.v1+cell": {
     "cellMetadata": {
      "byteLimit": 2048000,
      "rowLimit": 10000
     },
     "inputWidgets": {},
     "nuid": "962151d5-158c-439e-a1e1-eb016c7fc64d",
     "showTitle": false,
     "tableResultSettingsMap": {},
     "title": ""
    }
   },
   "outputs": [
    {
     "output_type": "display_data",
     "data": {
      "image/png": "[encoded data removed]",
      "text/plain": [
       "<Figure size 1200x800 with 1 Axes>"
      ]
     },
     "metadata": {},
     "output_type": "display_data"
    }
   ],
   "source": [
    "# Combine and filter out zero-coefficients\n",
    "non_zero_coefs = [(name, coef) for name, coef in zip(feature_names, coeffs) if coef != 0.0]\n",
    "\n",
    "# Sort by absolute value of coefficient\n",
    "sorted_coefs = sorted(non_zero_coefs, key=lambda x: abs(x[1]), reverse=True)\n",
    "\n",
    "# Separate names and values for plotting\n",
    "features, values = zip(*sorted_coefs)\n",
    "colors = ['green' if v > 0 else 'red' for v in values]\n",
    "\n",
    "# Plot\n",
    "plt.figure(figsize=(12, 8))\n",
    "plt.barh(features[::-1], values[::-1], color=colors[::-1])\n",
    "plt.title(\"Lasso Regression Coefficients (Non-Zero Features)\")\n",
    "plt.xlabel(\"Coefficient Value\")\n",
    "plt.tight_layout()\n",
    "plt.show()"
   ]
  },
  {
   "cell_type": "markdown",
   "metadata": {
    "application/vnd.databricks.v1+cell": {
     "cellMetadata": {
      "byteLimit": 2048000,
      "rowLimit": 10000
     },
     "inputWidgets": {},
     "nuid": "bcf4c02d-fa87-4a0e-b1b5-721b9d59eceb",
     "showTitle": false,
     "tableResultSettingsMap": {},
     "title": ""
    }
   },
   "source": [
    "---\n",
    "## Checkpoint\n",
    "---\n",
    "Save the current dataset and in case you want to only run the modeling part."
   ]
  },
  {
   "cell_type": "code",
   "execution_count": 0,
   "metadata": {
    "application/vnd.databricks.v1+cell": {
     "cellMetadata": {
      "byteLimit": 2048000,
      "rowLimit": 10000
     },
     "inputWidgets": {},
     "nuid": "6ce831de-a5d4-49d5-ad4d-1a5ed07d0af5",
     "showTitle": false,
     "tableResultSettingsMap": {},
     "title": ""
    }
   },
   "outputs": [],
   "source": [
    "# Add a split column to each\n",
    "train_tagged = train_df.withColumn(\"data_split\", lit(\"train\"))\n",
    "test_tagged = test_df.withColumn(\"data_split\", lit(\"test\"))\n",
    "\n",
    "# Union the datasets\n",
    "final_df = train_tagged.unionByName(test_tagged)\n",
    "\n",
    "# Save as Parquet\n",
    "final_df.write.mode(\"overwrite\").parquet(\"dbfs:/FileStore/checkpoints/final_df.parquet\")"
   ]
  },
  {
   "cell_type": "code",
   "execution_count": 0,
   "metadata": {
    "application/vnd.databricks.v1+cell": {
     "cellMetadata": {
      "byteLimit": 2048000,
      "rowLimit": 10000
     },
     "inputWidgets": {},
     "nuid": "04c33b25-f189-4d0f-a879-fe5696b97a00",
     "showTitle": false,
     "tableResultSettingsMap": {},
     "title": ""
    }
   },
   "outputs": [
    {
     "output_type": "display_data",
     "data": {
      "application/vnd.databricks.v1+bamboolib_hint": "{\"pd.DataFrames\": [], \"version\": \"0.0.1\"}",
      "text/plain": []
     },
     "metadata": {},
     "output_type": "display_data"
    }
   ],
   "source": [
    "from pyspark.ml.feature import VectorAssembler, StandardScaler, ChiSqSelector, QuantileDiscretizer\n",
    "from pyspark.ml.tuning import CrossValidator, ParamGridBuilder\n",
    "from pyspark.ml.evaluation import RegressionEvaluator\n",
    "from pyspark.ml.regression import LinearRegression, DecisionTreeRegressor, RandomForestRegressor, GBTRegressor, GeneralizedLinearRegression\n",
    "import pandas as pd\n",
    "import matplotlib.pyplot as plt"
   ]
  },
  {
   "cell_type": "code",
   "execution_count": 0,
   "metadata": {
    "application/vnd.databricks.v1+cell": {
     "cellMetadata": {
      "byteLimit": 2048000,
      "rowLimit": 10000
     },
     "inputWidgets": {},
     "nuid": "54d1d6d2-3a96-4e04-8898-6c123e662261",
     "showTitle": false,
     "tableResultSettingsMap": {},
     "title": ""
    }
   },
   "outputs": [],
   "source": [
    "# Load the full dataset\n",
    "loaded_df = spark.read.parquet(\"dbfs:/FileStore/checkpoints/final_df.parquet\")\n",
    "\n",
    "# Recreate original train-test split\n",
    "train_df = loaded_df.filter(\"data_split = 'train'\").drop(\"data_split\")\n",
    "test_df = loaded_df.filter(\"data_split = 'test'\").drop(\"data_split\")"
   ]
  },
  {
   "cell_type": "code",
   "execution_count": 0,
   "metadata": {
    "application/vnd.databricks.v1+cell": {
     "cellMetadata": {
      "byteLimit": 2048000,
      "rowLimit": 10000
     },
     "inputWidgets": {},
     "nuid": "0c5cb40a-8016-42ff-860c-8bc7478a4d48",
     "showTitle": false,
     "tableResultSettingsMap": {},
     "title": ""
    }
   },
   "outputs": [
    {
     "output_type": "stream",
     "name": "stdout",
     "output_type": "stream",
     "text": [
      "+------------+----------+---------+-------+-----+--------+----------+-----------+-------------+------------+-------------+-------+------------+------------+---------------+------------+-----------+--------------+---------------------------+-------------------------+----------------+--------------------------------+----------------------+-------------+--------------+---------------+----------------------------+------------------------------+--------------+\n|vote_average|vote_count|revenue  |runtime|adult|budget  |popularity|release_day|release_month|release_year|released_bool|en_bool|tagline_bool|genre_action|genre_adventure|genre_comedy|genre_drama|genre_thriller|prodco_warner_bros_pictures|prodco_universal_pictures|prodco_paramount|country_united_states_of_america|country_united_kingdom|country_china|country_france|country_germany|keyword_duringcreditsstinger|keyword_based_on_novel_or_book|keyword_sequel|\n+------------+----------+---------+-------+-----+--------+----------+-----------+-------------+------------+-------------+-------+------------+------------+---------------+------------+-----------+--------------+---------------------------+-------------------------+----------------+--------------------------------+----------------------+-------------+--------------+---------------+----------------------------+------------------------------+--------------+\n|6.533       |302       |12136938 |109.0  |0    |21000000|13.564    |15         |10           |1993        |1            |1      |1           |1           |0              |0           |0          |1             |0                          |0                        |0               |1                               |0                     |0            |0             |0              |0                           |0                             |0             |\n|7.824       |18061     |940335536|100.0  |0    |94000000|55.456    |30         |5            |2003        |1            |1      |1           |0           |0              |0           |0          |0             |0                          |0                        |0               |1                               |0                     |0            |0             |0              |1                           |0                             |0             |\n|8.477       |25409     |677387716|142.0  |0    |55000000|92.693    |23         |6            |1994        |1            |1      |1           |0           |0              |1           |1          |0             |0                          |0                        |1               |1                               |0                     |0            |0             |0              |0                           |1                             |0             |\n|8.015       |5034      |23218000 |119.0  |0    |839727  |28.218    |17         |4            |1941        |1            |1      |1           |0           |0              |0           |1          |0             |0                          |0                        |0               |1                               |0                     |0            |0             |0              |0                           |0                             |0             |\n|5.755       |247       |6593579  |87.0   |0    |0       |8.083     |28         |9            |2005        |1            |1      |1           |0           |0              |0           |0          |1             |0                          |0                        |0               |0                               |1                     |0            |0             |1              |0                           |0                             |0             |\n+------------+----------+---------+-------+-----+--------+----------+-----------+-------------+------------+-------------+-------+------------+------------+---------------+------------+-----------+--------------+---------------------------+-------------------------+----------------+--------------------------------+----------------------+-------------+--------------+---------------+----------------------------+------------------------------+--------------+\nonly showing top 5 rows\n\n+------------+----------+---------+-------+-----+--------+----------+-----------+-------------+------------+-------------+-------+------------+------------+---------------+------------+-----------+--------------+---------------------------+-------------------------+----------------+--------------------------------+----------------------+-------------+--------------+---------------+----------------------------+------------------------------+--------------+\n|vote_average|vote_count|revenue  |runtime|adult|budget  |popularity|release_day|release_month|release_year|released_bool|en_bool|tagline_bool|genre_action|genre_adventure|genre_comedy|genre_drama|genre_thriller|prodco_warner_bros_pictures|prodco_universal_pictures|prodco_paramount|country_united_states_of_america|country_united_kingdom|country_china|country_france|country_germany|keyword_duringcreditsstinger|keyword_based_on_novel_or_book|keyword_sequel|\n+------------+----------+---------+-------+-----+--------+----------+-----------+-------------+------------+-------------+-------+------------+------------+---------------+------------+-----------+--------------+---------------------------+-------------------------+----------------+--------------------------------+----------------------+-------------+--------------+---------------+----------------------------+------------------------------+--------------+\n|8.204       |19155     |775398007|121.0  |0    |11000000|88.559    |25         |5            |1977        |1            |1      |1           |1           |1              |0           |0          |0             |0                          |0                        |0               |1                               |0                     |0            |0             |0              |0                           |0                             |0             |\n|7.869       |1618      |40031879 |141.0  |0    |12800000|18.067    |30         |6            |2000        |1            |1      |1           |0           |0              |0           |1          |0             |0                          |0                        |0               |1                               |1                     |0            |1             |1              |0                           |0                             |0             |\n|7.914       |3960      |159157447|130.0  |0    |14400000|31.894    |8          |7            |1992        |1            |1      |1           |0           |0              |0           |0          |0             |1                          |0                        |0               |1                               |0                     |0            |0             |0              |0                           |0                             |0             |\n|7.294       |8505      |333000000|118.0  |0    |28000000|53.304    |23         |5            |1984        |1            |1      |1           |1           |1              |0           |0          |0             |0                          |0                        |1               |1                               |0                     |0            |0             |0              |0                           |0                             |0             |\n|7.847       |9301      |474171806|127.0  |0    |48000000|52.439    |24         |5            |1989        |1            |1      |1           |1           |1              |0           |0          |0             |0                          |0                        |1               |1                               |0                     |0            |0             |0              |0                           |0                             |0             |\n+------------+----------+---------+-------+-----+--------+----------+-----------+-------------+------------+-------------+-------+------------+------------+---------------+------------+-----------+--------------+---------------------------+-------------------------+----------------+--------------------------------+----------------------+-------------+--------------+---------------+----------------------------+------------------------------+--------------+\nonly showing top 5 rows\n\n"
     ]
    }
   ],
   "source": [
    "train_df.show(5, truncate=False)\n",
    "test_df.show(5, truncate=False)"
   ]
  },
  {
   "cell_type": "markdown",
   "metadata": {
    "application/vnd.databricks.v1+cell": {
     "cellMetadata": {
      "byteLimit": 2048000,
      "rowLimit": 10000
     },
     "inputWidgets": {},
     "nuid": "aaf3ca2d-74ed-465b-96e2-069694a926a7",
     "showTitle": false,
     "tableResultSettingsMap": {},
     "title": ""
    }
   },
   "source": [
    "---\n",
    "## Define Final Features\n",
    "---\n",
    "For decision trees based models, we will test two sets of features: \n",
    "1) Features for which importance was greater than 0\n",
    "2) Features for which importance was greater than 0.01\n",
    "\n",
    "For Linear Regression we will use all the features - based on selection of L1 regularization. "
   ]
  },
  {
   "cell_type": "code",
   "execution_count": 0,
   "metadata": {
    "application/vnd.databricks.v1+cell": {
     "cellMetadata": {
      "byteLimit": 2048000,
      "rowLimit": 10000
     },
     "inputWidgets": {},
     "nuid": "6725e1f0-5667-4939-a75d-576d19a97571",
     "showTitle": false,
     "tableResultSettingsMap": {},
     "title": ""
    }
   },
   "outputs": [],
   "source": [
    "# Features selected by dt\n",
    "dt_final_features = ['budget', 'vote_count', 'runtime', 'release_day', 'release_year', 'genre_adventure','vote_average', 'genre_drama', 'country_united_states_of_america', 'popularity', 'country_united_kingdom', 'country_china','genre_thriller']\n",
    "\n",
    "# Features selected with dt with a threshold of 0.01 applied\n",
    "dt_final_features_threshold = ['budget', 'vote_count', 'runtime', 'release_day', 'release_year', 'genre_adventure','vote_average']\n",
    "\n",
    "# Features with non-zero coefficients selected by lasso reg\n",
    "l1_final_features = ['vote_average', 'vote_count','runtime', 'adult',\n",
    "                     'budget','popularity', 'release_day', 'release_month', 'release_year', 'released_bool','en_bool', 'tagline_bool', 'genre_action','genre_adventure', 'genre_comedy', 'genre_drama','genre_thriller', 'prodco_warner_bros_pictures','prodco_universal_pictures', 'prodco_paramount','country_united_states_of_america', 'country_united_kingdom', 'country_china','country_france','country_germany','keyword_duringcreditsstinger','keyword_based_on_novel_or_book', 'keyword_sequel']\n",
    "\n",
    "# Top 10 most important according to chi squared and and 5 most important numerical according to l1\n",
    "alternate = ['budget', 'vote_count', 'keyword_sequel','runtime', 'release_year', 'adult', 'en_bool', 'tagline_bool',  'released_bool', 'genre_action', 'genre_adventure' ,'genre_comedy', 'genre_drama',       'genre_thriller', 'prodco_warner_bros_pictures']"
   ]
  },
  {
   "cell_type": "markdown",
   "metadata": {
    "application/vnd.databricks.v1+cell": {
     "cellMetadata": {
      "byteLimit": 2048000,
      "rowLimit": 10000
     },
     "inputWidgets": {},
     "nuid": "ccee64ea-7aa1-474c-aee1-841c38a0a6c8",
     "showTitle": false,
     "tableResultSettingsMap": {},
     "title": ""
    }
   },
   "source": [
    "---\n",
    "## Train and evaluate models\n",
    "---\n",
    "We'll train and compare:\n",
    "\n",
    "1. Linear Regression\n",
    "\n",
    "2. Decision Tree Regressor\n",
    "\n",
    "3. Random Forest Regressor\n",
    "\n",
    "4. Gradient Boosted Tree Regressor\n",
    "\n",
    "5. Generalized Linear Model\n",
    "\n",
    "But first, we will split train_df into train_split and validation_split. We do this to train the models on train_split and evaluate them on validation_split. We will rank the models based on validation_split scores and then hypertune the best performing model. Finally, we will predict the revenue on test_df to see how well our model performs."
   ]
  },
  {
   "cell_type": "code",
   "execution_count": 0,
   "metadata": {
    "application/vnd.databricks.v1+cell": {
     "cellMetadata": {
      "byteLimit": 2048000,
      "rowLimit": 10000
     },
     "inputWidgets": {},
     "nuid": "9f628bac-08ff-4126-ad50-65c227c3385e",
     "showTitle": false,
     "tableResultSettingsMap": {},
     "title": ""
    }
   },
   "outputs": [],
   "source": [
    "# Split train_df into train_split (75% of train_df) and val_split (25% of train_df)\n",
    "train_split, val_split = train_df.randomSplit([0.75, 0.25], seed=12)"
   ]
  },
  {
   "cell_type": "code",
   "execution_count": 0,
   "metadata": {
    "application/vnd.databricks.v1+cell": {
     "cellMetadata": {
      "byteLimit": 2048000,
      "rowLimit": 10000
     },
     "inputWidgets": {},
     "nuid": "5826c9bd-a1d7-409e-91db-26cc72027419",
     "showTitle": false,
     "tableResultSettingsMap": {},
     "title": ""
    }
   },
   "outputs": [
    {
     "output_type": "stream",
     "name": "stdout",
     "output_type": "stream",
     "text": [
      "train_split: 12442 rows, 29 columns\nval_split: 4152 rows, 29 columns\ntest_df: 4070 rows, 29 columns\n"
     ]
    }
   ],
   "source": [
    "# Print number of rows and columns for train_split, val_split, and test_df\n",
    "for df_name, df in [(\"train_split\", train_split), (\"val_split\", val_split), (\"test_df\", test_df)]:\n",
    "    row_count = df.count()\n",
    "    col_count = len(df.columns)\n",
    "    print(f\"{df_name}: {row_count} rows, {col_count} columns\")\n"
   ]
  },
  {
   "cell_type": "code",
   "execution_count": 0,
   "metadata": {
    "application/vnd.databricks.v1+cell": {
     "cellMetadata": {
      "byteLimit": 2048000,
      "rowLimit": 10000
     },
     "inputWidgets": {},
     "nuid": "7ff403cc-e503-4e65-953b-eaf8f4fd207b",
     "showTitle": false,
     "tableResultSettingsMap": {},
     "title": ""
    }
   },
   "outputs": [],
   "source": [
    "# Assemble vector for decision trees based models (all deemed important columns)\n",
    "assembler_dt = VectorAssembler(inputCols=dt_final_features, outputCol=\"features\")\n",
    "train_dt = assembler_dt.transform(train_split)\n",
    "val_dt   = assembler_dt.transform(val_split)\n",
    "\n",
    "# Assemble vector for decision trees based models (with threshold set to 0.01)\n",
    "assembler_dt = VectorAssembler(inputCols=dt_final_features_threshold, outputCol=\"features\")\n",
    "train_dtt = assembler_dt.transform(train_split)\n",
    "val_dtt   = assembler_dt.transform(val_split)\n",
    "\n",
    "# Assemble vector for linear regression (with standard scaler)\n",
    "assembler_lr = VectorAssembler(inputCols=l1_final_features, outputCol=\"features\")\n",
    "train_lr = assembler_lr.transform(train_split)\n",
    "val_lr   = assembler_lr.transform(val_split)\n",
    "\n",
    "# Scale features \n",
    "scaler = StandardScaler(inputCol=\"features\", outputCol=\"scaledFeatures\", withMean=True, withStd=True)\n",
    "scaler_model = scaler.fit(train_lr)\n",
    "\n",
    "# Apply scaler to both datasets\n",
    "train_scaled = scaler_model.transform(train_lr)\n",
    "val_scaled   = scaler_model.transform(val_lr)\n",
    "\n",
    "# Assemble vector for linear regression for alternate subset of features (with standard scaler)\n",
    "assembler_lra = VectorAssembler(inputCols=alternate, outputCol=\"features\")\n",
    "train_lra = assembler_lra.transform(train_split)\n",
    "val_lra   = assembler_lra.transform(val_split)\n",
    "\n",
    "# Scale features \n",
    "scaler = StandardScaler(inputCol=\"features\", outputCol=\"scaledFeatures\", withMean=True, withStd=True)\n",
    "scaler_model = scaler.fit(train_lra)\n",
    "\n",
    "# Apply scaler to both datasets\n",
    "train_scaled_alternate = scaler_model.transform(train_lra)\n",
    "val_scaled_alternate   = scaler_model.transform(val_lra)"
   ]
  },
  {
   "cell_type": "code",
   "execution_count": 0,
   "metadata": {
    "application/vnd.databricks.v1+cell": {
     "cellMetadata": {
      "byteLimit": 2048000,
      "rowLimit": 10000
     },
     "inputWidgets": {},
     "nuid": "0f1ab684-e824-4e52-9b47-2489b225cc46",
     "showTitle": false,
     "tableResultSettingsMap": {},
     "title": ""
    }
   },
   "outputs": [],
   "source": [
    "results = []"
   ]
  },
  {
   "cell_type": "markdown",
   "metadata": {
    "application/vnd.databricks.v1+cell": {
     "cellMetadata": {
      "byteLimit": 2048000,
      "rowLimit": 10000
     },
     "inputWidgets": {},
     "nuid": "b2a8311f-b2dc-435a-bb31-4871ad9aed54",
     "showTitle": false,
     "tableResultSettingsMap": {},
     "title": ""
    }
   },
   "source": [
    "---\n",
    "## Linear Regression\n",
    "---"
   ]
  },
  {
   "cell_type": "code",
   "execution_count": 0,
   "metadata": {
    "application/vnd.databricks.v1+cell": {
     "cellMetadata": {
      "byteLimit": 2048000,
      "rowLimit": 10000
     },
     "inputWidgets": {},
     "nuid": "f103c3ce-7997-474d-94a8-c97cd4ddcb55",
     "showTitle": false,
     "tableResultSettingsMap": {},
     "title": ""
    }
   },
   "outputs": [],
   "source": [
    "# Train Linear Regression on pre-scaled features selected with l1\n",
    "lr = LinearRegression(featuresCol=\"scaledFeatures\", labelCol=\"revenue\")\n",
    "lr_model = lr.fit(train_scaled)\n",
    "\n",
    "# Predict and evaluate on val set\n",
    "lr_predictions = lr_model.transform(val_scaled)\n",
    "\n",
    "# Evaluate\n",
    "lr_rmse = RegressionEvaluator(labelCol=\"revenue\", predictionCol=\"prediction\", metricName=\"rmse\").evaluate(lr_predictions)\n",
    "lr_r2   = RegressionEvaluator(labelCol=\"revenue\", predictionCol=\"prediction\", metricName=\"r2\").evaluate(lr_predictions)\n",
    "\n",
    "# Add to the list\n",
    "results.append((\"Linear Regression\", lr_rmse, lr_r2))"
   ]
  },
  {
   "cell_type": "code",
   "execution_count": 0,
   "metadata": {
    "application/vnd.databricks.v1+cell": {
     "cellMetadata": {
      "byteLimit": 2048000,
      "rowLimit": 10000
     },
     "inputWidgets": {},
     "nuid": "0bbd8732-a558-4021-ab6c-f9a9c3156b49",
     "showTitle": false,
     "tableResultSettingsMap": {},
     "title": ""
    }
   },
   "outputs": [],
   "source": [
    "# Train Linear Regression on pre-scaled features selected by chi square and l1\n",
    "lr = LinearRegression(featuresCol=\"scaledFeatures\", labelCol=\"revenue\")\n",
    "lr_model = lr.fit(train_scaled_alternate)\n",
    "\n",
    "# Predict and evaluate on val set\n",
    "lr_predictions = lr_model.transform(val_scaled_alternate)\n",
    "\n",
    "# Evaluate\n",
    "lr_rmse = RegressionEvaluator(labelCol=\"revenue\", predictionCol=\"prediction\", metricName=\"rmse\").evaluate(lr_predictions)\n",
    "lr_r2   = RegressionEvaluator(labelCol=\"revenue\", predictionCol=\"prediction\", metricName=\"r2\").evaluate(lr_predictions)\n",
    "\n",
    "# Add to the list\n",
    "results.append((\"Linear Regression (using alternate subset of data)\", lr_rmse, lr_r2))"
   ]
  },
  {
   "cell_type": "markdown",
   "metadata": {
    "application/vnd.databricks.v1+cell": {
     "cellMetadata": {
      "byteLimit": 2048000,
      "rowLimit": 10000
     },
     "inputWidgets": {},
     "nuid": "9467c39d-e20b-4965-927d-ca51f0617d5d",
     "showTitle": false,
     "tableResultSettingsMap": {},
     "title": ""
    }
   },
   "source": [
    "---\n",
    "## Decision Tree Regressor\n",
    "---"
   ]
  },
  {
   "cell_type": "code",
   "execution_count": 0,
   "metadata": {
    "application/vnd.databricks.v1+cell": {
     "cellMetadata": {
      "byteLimit": 2048000,
      "rowLimit": 10000
     },
     "inputWidgets": {},
     "nuid": "ca250b82-33a0-46ea-8050-bef996da6ccd",
     "showTitle": false,
     "tableResultSettingsMap": {},
     "title": ""
    }
   },
   "outputs": [],
   "source": [
    "# Fit all features selected by dt on DTR\n",
    "dt = DecisionTreeRegressor(featuresCol=\"features\", labelCol=\"revenue\", seed=12)\n",
    "dt_model = dt.fit(train_dt)\n",
    "\n",
    "# Predict on validation\n",
    "dt_predictions = dt_model.transform(val_dt)\n",
    "\n",
    "# Evaluate\n",
    "dt_rmse = RegressionEvaluator(labelCol=\"revenue\", predictionCol=\"prediction\", metricName=\"rmse\").evaluate(dt_predictions)\n",
    "dt_r2   = RegressionEvaluator(labelCol=\"revenue\", predictionCol=\"prediction\", metricName=\"r2\").evaluate(dt_predictions)\n",
    "\n",
    "# Add results to the list \n",
    "results.append((\"Decision Tree Regressor\", dt_rmse, dt_r2))"
   ]
  },
  {
   "cell_type": "code",
   "execution_count": 0,
   "metadata": {
    "application/vnd.databricks.v1+cell": {
     "cellMetadata": {
      "byteLimit": 2048000,
      "rowLimit": 10000
     },
     "inputWidgets": {},
     "nuid": "b400b721-55ce-4fc8-960a-031bd76a51e3",
     "showTitle": false,
     "tableResultSettingsMap": {},
     "title": ""
    }
   },
   "outputs": [],
   "source": [
    "# Fit features selected by dt with threshold set to >0.01 on DTR\n",
    "dt_model = dt.fit(train_dtt)\n",
    "\n",
    "# Predict on validation set\n",
    "dt_predictions = dt_model.transform(val_dtt)\n",
    "\n",
    "# Evaluate\n",
    "dt_rmse = RegressionEvaluator(labelCol=\"revenue\", predictionCol=\"prediction\", metricName=\"rmse\").evaluate(dt_predictions)\n",
    "dt_r2   = RegressionEvaluator(labelCol=\"revenue\", predictionCol=\"prediction\", metricName=\"r2\").evaluate(dt_predictions)\n",
    "\n",
    "# Add to the list \n",
    "results.append((\"Decision Tree Regressor (using features above threshold)\", dt_rmse, dt_r2))"
   ]
  },
  {
   "cell_type": "markdown",
   "metadata": {
    "application/vnd.databricks.v1+cell": {
     "cellMetadata": {
      "byteLimit": 2048000,
      "rowLimit": 10000
     },
     "inputWidgets": {},
     "nuid": "79d0e31f-806a-46e6-b5a1-19c8477a5782",
     "showTitle": false,
     "tableResultSettingsMap": {},
     "title": ""
    }
   },
   "source": [
    "---\n",
    "## Random Forest Regressor\n",
    "---"
   ]
  },
  {
   "cell_type": "code",
   "execution_count": 0,
   "metadata": {
    "application/vnd.databricks.v1+cell": {
     "cellMetadata": {
      "byteLimit": 2048000,
      "rowLimit": 10000
     },
     "inputWidgets": {},
     "nuid": "5afd4980-43ff-4237-bedf-3c967f92251b",
     "showTitle": false,
     "tableResultSettingsMap": {},
     "title": ""
    }
   },
   "outputs": [],
   "source": [
    "# Fit all features selected by dt on RFR\n",
    "rf = RandomForestRegressor(featuresCol=\"features\", labelCol=\"revenue\", numTrees=100, maxDepth=10, seed=12)\n",
    "rf_model = rf.fit(train_dt)\n",
    "\n",
    "rf_predictions = rf_model.transform(val_dt)\n",
    "\n",
    "rf_rmse = RegressionEvaluator(labelCol=\"revenue\", predictionCol=\"prediction\", metricName=\"rmse\").evaluate(rf_predictions)\n",
    "rf_r2   = RegressionEvaluator(labelCol=\"revenue\", predictionCol=\"prediction\", metricName=\"r2\").evaluate(rf_predictions)\n",
    "\n",
    "results.append((\"Random Forest Regressor\", rf_rmse, rf_r2))"
   ]
  },
  {
   "cell_type": "code",
   "execution_count": 0,
   "metadata": {
    "application/vnd.databricks.v1+cell": {
     "cellMetadata": {
      "byteLimit": 2048000,
      "rowLimit": 10000
     },
     "inputWidgets": {},
     "nuid": "9bf8da10-c27d-4a62-8ad6-c3d103fb24eb",
     "showTitle": false,
     "tableResultSettingsMap": {},
     "title": ""
    }
   },
   "outputs": [],
   "source": [
    "# fit features selected by dt with threshold set to >0.01 on RFR\n",
    "rf_model = rf.fit(train_dtt)\n",
    "# predict\n",
    "rf_predictions = rf_model.transform(val_dtt)\n",
    "# calculate rmse\n",
    "rf_rmse = RegressionEvaluator(labelCol=\"revenue\", predictionCol=\"prediction\", metricName=\"rmse\").evaluate(rf_predictions)\n",
    "# calculate r2\n",
    "rf_r2   = RegressionEvaluator(labelCol=\"revenue\", predictionCol=\"prediction\", metricName=\"r2\").evaluate(rf_predictions)\n",
    "\n",
    "# add results to the list \n",
    "results.append((\"Random Forest Regressor (using features above threshold)\", rf_rmse, rf_r2))"
   ]
  },
  {
   "cell_type": "markdown",
   "metadata": {
    "application/vnd.databricks.v1+cell": {
     "cellMetadata": {
      "byteLimit": 2048000,
      "rowLimit": 10000
     },
     "inputWidgets": {},
     "nuid": "d921e8d1-fb64-4720-858b-8196a98c0e4d",
     "showTitle": false,
     "tableResultSettingsMap": {},
     "title": ""
    }
   },
   "source": [
    "---\n",
    "## Gradient Boosted Tree Regressor\n",
    "---\n",
    "Due to computational expense of training GBTRegressor only one set of features selected by decision trees will be used "
   ]
  },
  {
   "cell_type": "code",
   "execution_count": 0,
   "metadata": {
    "application/vnd.databricks.v1+cell": {
     "cellMetadata": {
      "byteLimit": 2048000,
      "rowLimit": 10000
     },
     "inputWidgets": {},
     "nuid": "bde39dde-5bde-42c9-80d6-dec2c0cc6b00",
     "showTitle": false,
     "tableResultSettingsMap": {},
     "title": ""
    }
   },
   "outputs": [],
   "source": [
    "gbt = GBTRegressor(featuresCol=\"features\", labelCol=\"revenue\", maxIter=50, maxDepth=5, seed=12)\n",
    "\n",
    "# Fit all features selected with dt on GBTRegressor \n",
    "gbt_model = gbt.fit(train_dt)\n",
    "\n",
    "# Predict \n",
    "gbt_predictions = gbt_model.transform(val_dt)\n",
    "\n",
    "# Evaluate\n",
    "gbt_rmse = RegressionEvaluator(labelCol=\"revenue\", predictionCol=\"prediction\", metricName=\"rmse\").evaluate(gbt_predictions)\n",
    "gbt_r2   = RegressionEvaluator(labelCol=\"revenue\", predictionCol=\"prediction\", metricName=\"r2\").evaluate(gbt_predictions)\n",
    "\n",
    "# Add to the list\n",
    "results.append((\"Gradient Boosted Trees\", gbt_rmse, gbt_r2))"
   ]
  },
  {
   "cell_type": "markdown",
   "metadata": {
    "application/vnd.databricks.v1+cell": {
     "cellMetadata": {
      "byteLimit": 2048000,
      "rowLimit": 10000
     },
     "inputWidgets": {},
     "nuid": "7eaae149-c148-454e-a766-1574c3e3a84c",
     "showTitle": false,
     "tableResultSettingsMap": {},
     "title": ""
    }
   },
   "source": [
    "---\n",
    "## Generalized Linear Model\n",
    "---\n",
    "Supports skewed data"
   ]
  },
  {
   "cell_type": "code",
   "execution_count": 0,
   "metadata": {
    "application/vnd.databricks.v1+cell": {
     "cellMetadata": {
      "byteLimit": 2048000,
      "rowLimit": 10000
     },
     "inputWidgets": {},
     "nuid": "47066def-5902-4ee9-8bd6-d321164a0fbb",
     "showTitle": false,
     "tableResultSettingsMap": {},
     "title": ""
    }
   },
   "outputs": [],
   "source": [
    "# Define and fit the GLR model\n",
    "glr = GeneralizedLinearRegression(\n",
    "    featuresCol=\"scaledFeatures\",\n",
    "    labelCol=\"revenue\",\n",
    "    family=\"tweedie\",     # tweedie distribution is more robust to skewed data\n",
    "    link=\"log\"      \n",
    ")\n",
    "\n",
    "glr_model = glr.fit(train_scaled)\n",
    "\n",
    "# Predict on test data\n",
    "glr_predictions = glr_model.transform(val_scaled)\n",
    "\n",
    "# Evaluate performance\n",
    "evaluator = RegressionEvaluator(labelCol=\"revenue\", predictionCol=\"prediction\", metricName=\"rmse\")\n",
    "glr_rmse = evaluator.evaluate(glr_predictions)\n",
    "glr_r2   = RegressionEvaluator(labelCol=\"revenue\", predictionCol=\"prediction\", metricName=\"r2\").evaluate(glr_predictions)\n",
    "\n",
    "# Save results\n",
    "results.append((\"Generalized Linear Model (Gaussian)\", glr_rmse, glr_r2))"
   ]
  },
  {
   "cell_type": "markdown",
   "metadata": {
    "application/vnd.databricks.v1+cell": {
     "cellMetadata": {
      "byteLimit": 2048000,
      "rowLimit": 10000
     },
     "inputWidgets": {},
     "nuid": "f7d1cfe9-2533-46e0-a189-8374190ed272",
     "showTitle": false,
     "tableResultSettingsMap": {},
     "title": ""
    }
   },
   "source": [
    "---\n",
    "## Results\n",
    "---\n",
    "We will print the results of all the models tested. We will select the one with the lowest RMSE and highest r^2 and hypertune its parameters."
   ]
  },
  {
   "cell_type": "code",
   "execution_count": 0,
   "metadata": {
    "application/vnd.databricks.v1+cell": {
     "cellMetadata": {
      "byteLimit": 2048000,
      "rowLimit": 10000
     },
     "inputWidgets": {},
     "nuid": "bede5f98-e186-443f-86d9-60a74a2bbb98",
     "showTitle": false,
     "tableResultSettingsMap": {},
     "title": ""
    }
   },
   "outputs": [
    {
     "output_type": "stream",
     "name": "stdout",
     "output_type": "stream",
     "text": [
      "Model Evaluation Results:\nLinear Regression:\n  RMSE = 87908656.29\n  R² = 0.5771\n\nLinear Regression (using alternate subset of data):\n  RMSE = 88171779.94\n  R² = 0.5746\n\nDecision Tree Regressor:\n  RMSE = 93603325.65\n  R² = 0.5205\n\nDecision Tree Regressor (using features above threshold):\n  RMSE = 95853735.64\n  R² = 0.4972\n\nRandom Forest Regressor:\n  RMSE = 92095441.19\n  R² = 0.5358\n\nRandom Forest Regressor (using features above threshold):\n  RMSE = 95852664.15\n  R² = 0.4972\n\nGradient Boosted Trees:\n  RMSE = 95162287.19\n  R² = 0.5044\n\nGeneralized Linear Model (Gaussian):\n  RMSE = 87908656.29\n  R² = 0.5771\n\n"
     ]
    }
   ],
   "source": [
    "print(\"Model Evaluation Results:\")\n",
    "for model_name, rmse, r2 in results:\n",
    "    print(f\"{model_name}:\\n  RMSE = {rmse:.2f}\\n  R² = {r2:.4f}\\n\")"
   ]
  },
  {
   "cell_type": "markdown",
   "metadata": {
    "application/vnd.databricks.v1+cell": {
     "cellMetadata": {},
     "inputWidgets": {},
     "nuid": "be8b8c6b-8736-4cd5-b0fa-fc4469a4ff85",
     "showTitle": false,
     "tableResultSettingsMap": {},
     "title": ""
    }
   },
   "source": [
    "The best perform on the validation split:\n",
    "1. Linear Regression:\n",
    "  RMSE = 87908656.29,\n",
    "  R² = 0.5771\n",
    "2. Random Forest Regressor:\n",
    "  RMSE = 92095441.19,\n",
    "  R² = 0.5358"
   ]
  },
  {
   "cell_type": "markdown",
   "metadata": {
    "application/vnd.databricks.v1+cell": {
     "cellMetadata": {
      "byteLimit": 2048000,
      "rowLimit": 10000
     },
     "inputWidgets": {},
     "nuid": "8c69230b-3284-487a-9f0c-fc3e26445a31",
     "showTitle": false,
     "tableResultSettingsMap": {},
     "title": ""
    }
   },
   "source": [
    "---\n",
    "## Hyper-parameter tuning for the best performing models (Linear Regression and Random Forest Regressor)\n",
    "---\n",
    "We define a small parameter grid and hypertune three parameters:\n",
    "1. Number of trees\n",
    "\n",
    "2. Max depth of a tree\n",
    "\n",
    "3. Max number of bins to split continuous features"
   ]
  },
  {
   "cell_type": "code",
   "execution_count": 0,
   "metadata": {
    "application/vnd.databricks.v1+cell": {
     "cellMetadata": {
      "byteLimit": 2048000,
      "rowLimit": 10000
     },
     "inputWidgets": {},
     "nuid": "e0054e45-7282-4106-abe7-a5e9f722055c",
     "showTitle": false,
     "tableResultSettingsMap": {},
     "title": ""
    }
   },
   "outputs": [
    {
     "output_type": "stream",
     "name": "stdout",
     "output_type": "stream",
     "text": [
      "numTrees=50, maxDepth=5, maxBins=32 → RMSE=92876819.60, R²=0.5279\nnumTrees=50, maxDepth=5, maxBins=64 → RMSE=88989667.48, R²=0.5666\nnumTrees=50, maxDepth=10, maxBins=32 → RMSE=94589781.03, R²=0.5104\nnumTrees=50, maxDepth=10, maxBins=64 → RMSE=90094584.20, R²=0.5558\nnumTrees=50, maxDepth=15, maxBins=32 → RMSE=94338834.80, R²=0.5130\nnumTrees=50, maxDepth=15, maxBins=64 → RMSE=89807742.60, R²=0.5586\nnumTrees=100, maxDepth=5, maxBins=32 → RMSE=94095788.39, R²=0.5155\nnumTrees=100, maxDepth=5, maxBins=64 → RMSE=90222757.13, R²=0.5545\nnumTrees=100, maxDepth=10, maxBins=32 → RMSE=95852664.15, R²=0.4972\nnumTrees=100, maxDepth=10, maxBins=64 → RMSE=91246007.58, R²=0.5444\nnumTrees=100, maxDepth=15, maxBins=32 → RMSE=95695256.71, R²=0.4989\nnumTrees=100, maxDepth=15, maxBins=64 → RMSE=91173624.15, R²=0.5451\n"
     ]
    }
   ],
   "source": [
    "# Define parameter grid\n",
    "param_grid = {\n",
    "    \"numTrees\": [50, 100],\n",
    "    \"maxDepth\": [5, 10, 15],\n",
    "    \"maxBins\": [32, 64]\n",
    "}\n",
    "\n",
    "# Evaluator\n",
    "evaluator = RegressionEvaluator(labelCol=\"revenue\", predictionCol=\"prediction\", metricName=\"rmse\")\n",
    "\n",
    "# Track results\n",
    "rf_results = []\n",
    "\n",
    "# Manual grid search\n",
    "for num_trees in param_grid[\"numTrees\"]:\n",
    "    for max_depth in param_grid[\"maxDepth\"]:\n",
    "        for max_bins in param_grid[\"maxBins\"]:\n",
    "            # Define model with current params\n",
    "            rf = RandomForestRegressor(\n",
    "                featuresCol=\"features\",\n",
    "                labelCol=\"revenue\",\n",
    "                numTrees=num_trees,\n",
    "                maxDepth=max_depth,\n",
    "                maxBins=max_bins,\n",
    "                seed=12\n",
    "            )\n",
    "            # Train\n",
    "            model = rf.fit(train_dtt)\n",
    "            # Predict\n",
    "            preds = model.transform(val_dtt)\n",
    "            # Evaluate\n",
    "            rmse = evaluator.evaluate(preds)\n",
    "            r2 = RegressionEvaluator(labelCol=\"revenue\", predictionCol=\"prediction\", metricName=\"r2\").evaluate(preds)\n",
    "\n",
    "            rf_results.append(((num_trees, max_depth, max_bins), rmse, r2))\n",
    "\n",
    "            print(f\"numTrees={num_trees}, maxDepth={max_depth}, maxBins={max_bins} → RMSE={rmse:.2f}, R²={r2:.4f}\")\n"
   ]
  },
  {
   "cell_type": "code",
   "execution_count": 0,
   "metadata": {
    "application/vnd.databricks.v1+cell": {
     "cellMetadata": {
      "byteLimit": 2048000,
      "rowLimit": 10000
     },
     "inputWidgets": {},
     "nuid": "efc1a97f-9ae2-48f4-bda7-01f70687f5d6",
     "showTitle": false,
     "tableResultSettingsMap": {},
     "title": ""
    }
   },
   "outputs": [
    {
     "output_type": "stream",
     "name": "stdout",
     "output_type": "stream",
     "text": [
      "\nBest Random Forest Configuration:\nnumTrees=50, maxDepth=5, maxBins=64\nRMSE: 88989667.48, R²: 0.5666\n"
     ]
    }
   ],
   "source": [
    "# Sort by RMSE (lower is better)\n",
    "best_config = sorted(rf_results, key=lambda x: x[1])[0]\n",
    "\n",
    "print(\"\\nBest Random Forest Configuration:\")\n",
    "print(f\"numTrees={best_config[0][0]}, maxDepth={best_config[0][1]}, maxBins={best_config[0][2]}\")\n",
    "print(f\"RMSE: {best_config[1]:.2f}, R²: {best_config[2]:.4f}\")"
   ]
  },
  {
   "cell_type": "markdown",
   "metadata": {
    "application/vnd.databricks.v1+cell": {
     "cellMetadata": {},
     "inputWidgets": {},
     "nuid": "38832bf2-b3d4-4aa5-8431-b3f04f2f4c27",
     "showTitle": false,
     "tableResultSettingsMap": {},
     "title": ""
    }
   },
   "source": [
    "Turns out the best parameter combination is: numTrees=50, maxDepth=5, maxBins=64 with the following results achieved on the validation set: RMSE=88989667.48, R²=0.5666 "
   ]
  },
  {
   "cell_type": "code",
   "execution_count": 0,
   "metadata": {
    "application/vnd.databricks.v1+cell": {
     "cellMetadata": {
      "byteLimit": 2048000,
      "rowLimit": 10000
     },
     "inputWidgets": {},
     "nuid": "7c94823e-2e26-4d02-b78f-d2076cd91e0f",
     "showTitle": false,
     "tableResultSettingsMap": {},
     "title": ""
    }
   },
   "outputs": [
    {
     "output_type": "stream",
     "name": "stdout",
     "output_type": "stream",
     "text": [
      "Params: regParam=0.0, elasticNet=0.0, maxIter=50  →  RMSE=87908656.2902, R2=0.5771\nParams: regParam=0.0, elasticNet=0.0, maxIter=100  →  RMSE=87908656.2902, R2=0.5771\nParams: regParam=0.0, elasticNet=0.5, maxIter=50  →  RMSE=87908656.2902, R2=0.5771\nParams: regParam=0.0, elasticNet=0.5, maxIter=100  →  RMSE=87908656.2902, R2=0.5771\nParams: regParam=0.0, elasticNet=1.0, maxIter=50  →  RMSE=87908656.2902, R2=0.5771\nParams: regParam=0.0, elasticNet=1.0, maxIter=100  →  RMSE=87908656.2902, R2=0.5771\nParams: regParam=0.1, elasticNet=0.0, maxIter=50  →  RMSE=87908656.2914, R2=0.5771\nParams: regParam=0.1, elasticNet=0.0, maxIter=100  →  RMSE=87908656.2914, R2=0.5771\nParams: regParam=0.1, elasticNet=0.5, maxIter=50  →  RMSE=87908654.3066, R2=0.5771\nParams: regParam=0.1, elasticNet=0.5, maxIter=100  →  RMSE=87908654.3066, R2=0.5771\nParams: regParam=0.1, elasticNet=1.0, maxIter=50  →  RMSE=87908654.2846, R2=0.5771\nParams: regParam=0.1, elasticNet=1.0, maxIter=100  →  RMSE=87908654.2846, R2=0.5771\nParams: regParam=0.5, elasticNet=0.0, maxIter=50  →  RMSE=87908656.2964, R2=0.5771\nParams: regParam=0.5, elasticNet=0.0, maxIter=100  →  RMSE=87908656.2964, R2=0.5771\nParams: regParam=0.5, elasticNet=0.5, maxIter=50  →  RMSE=87908656.2378, R2=0.5771\nParams: regParam=0.5, elasticNet=0.5, maxIter=100  →  RMSE=87908656.2378, R2=0.5771\nParams: regParam=0.5, elasticNet=1.0, maxIter=50  →  RMSE=87908656.1276, R2=0.5771\nParams: regParam=0.5, elasticNet=1.0, maxIter=100  →  RMSE=87908656.1276, R2=0.5771\nParams: regParam=1.0, elasticNet=0.0, maxIter=50  →  RMSE=87908656.3027, R2=0.5771\nParams: regParam=1.0, elasticNet=0.0, maxIter=100  →  RMSE=87908656.3027, R2=0.5771\nParams: regParam=1.0, elasticNet=0.5, maxIter=50  →  RMSE=87908656.1339, R2=0.5771\nParams: regParam=1.0, elasticNet=0.5, maxIter=100  →  RMSE=87908656.1339, R2=0.5771\nParams: regParam=1.0, elasticNet=1.0, maxIter=50  →  RMSE=87908655.2009, R2=0.5771\nParams: regParam=1.0, elasticNet=1.0, maxIter=100  →  RMSE=87908655.2009, R2=0.5771\n\nBest model parameters (by lowest RMSE):\n  regParam       = 0.1\n  elasticNetParam= 1.0\n  maxIter        = 50\n  Validation RMSE= 87908654.2846\n  Validation R2  = 0.5771\n"
     ]
    }
   ],
   "source": [
    "# Define the base estimator\n",
    "lr = LinearRegression(featuresCol=\"scaledFeatures\", labelCol=\"revenue\")\n",
    "\n",
    "# Build a parameter grid\n",
    "paramGrid = (ParamGridBuilder()\n",
    "    .addGrid(lr.regParam,       [0.0, 0.1, 0.5, 1.0])\n",
    "    .addGrid(lr.elasticNetParam,[0.0, 0.5, 1.0])\n",
    "    .addGrid(lr.maxIter,        [50, 100])\n",
    "    .build()\n",
    ")\n",
    "\n",
    "# Prepare evaluators\n",
    "evaluator_rmse = RegressionEvaluator(\n",
    "    labelCol=\"revenue\",\n",
    "    predictionCol=\"prediction\",\n",
    "    metricName=\"rmse\"\n",
    ")\n",
    "evaluator_r2 = RegressionEvaluator(\n",
    "    labelCol=\"revenue\",\n",
    "    predictionCol=\"prediction\",\n",
    "    metricName=\"r2\"\n",
    ")\n",
    "\n",
    "# Loop over grid, fit & evaluate\n",
    "bestModel   = None\n",
    "bestRmse    = float(\"inf\")\n",
    "bestParams  = None\n",
    "\n",
    "for params in paramGrid:\n",
    "    model = lr.copy(params).fit(train_scaled)\n",
    "    preds = model.transform(val_scaled)\n",
    "    \n",
    "    rmse = evaluator_rmse.evaluate(preds)\n",
    "    r2   = evaluator_r2.evaluate(preds)\n",
    "    \n",
    "    print(f\"Params: regParam={params[lr.regParam]}, \"\n",
    "          f\"elasticNet={params[lr.elasticNetParam]}, \"\n",
    "          f\"maxIter={params[lr.maxIter]}  →  RMSE={rmse:.4f}, R2={r2:.4f}\")\n",
    "    \n",
    "    if rmse < bestRmse:\n",
    "        bestRmse   = rmse\n",
    "        bestModel  = model\n",
    "        bestParams = params\n",
    "\n",
    "print(\"\\nBest model parameters (by lowest RMSE):\")\n",
    "print(f\"  regParam       = {bestParams[lr.regParam]}\")\n",
    "print(f\"  elasticNetParam= {bestParams[lr.elasticNetParam]}\")\n",
    "print(f\"  maxIter        = {bestParams[lr.maxIter]}\")\n",
    "print(f\"  Validation RMSE= {bestRmse:.4f}\")\n",
    "print(f\"  Validation R2  = {evaluator_r2.evaluate(bestModel.transform(val_scaled)):.4f}\")"
   ]
  },
  {
   "cell_type": "markdown",
   "metadata": {
    "application/vnd.databricks.v1+cell": {
     "cellMetadata": {
      "byteLimit": 2048000,
      "rowLimit": 10000
     },
     "inputWidgets": {},
     "nuid": "3d3d4292-c99d-4a67-8250-19dd0f153587",
     "showTitle": false,
     "tableResultSettingsMap": {},
     "title": ""
    }
   },
   "source": [
    "The same results for all different parameters might indicate that this problem is not suited for linear modeling or other problem. This might be caused by the huge differences between magnitudes in coefficients as seen during feature selection. \n",
    "Therefore, we will select Random Forest Regressor as our final algorithm and train it on the whole train split and evaluate on test. "
   ]
  },
  {
   "cell_type": "markdown",
   "metadata": {
    "application/vnd.databricks.v1+cell": {
     "cellMetadata": {
      "byteLimit": 2048000,
      "rowLimit": 10000
     },
     "inputWidgets": {},
     "nuid": "f71cc421-785b-4837-9058-f9d82b9b4caf",
     "showTitle": false,
     "tableResultSettingsMap": {},
     "title": ""
    }
   },
   "source": [
    "---\n",
    "## Train and test the best models\n",
    "---\n",
    "We will now use the whole train data (train_split + val_split) to train the best model (RFR) and see how it performs, given the bigger subset train of data."
   ]
  },
  {
   "cell_type": "code",
   "execution_count": 0,
   "metadata": {
    "application/vnd.databricks.v1+cell": {
     "cellMetadata": {
      "byteLimit": 2048000,
      "rowLimit": 10000
     },
     "inputWidgets": {},
     "nuid": "907e2ca4-2aee-4d04-8fbf-f3713dedd67f",
     "showTitle": false,
     "tableResultSettingsMap": {},
     "title": ""
    }
   },
   "outputs": [
    {
     "output_type": "stream",
     "name": "stdout",
     "output_type": "stream",
     "text": [
      "train_df: 16594 rows, 29 columns\ntest_df: 4070 rows, 29 columns\n"
     ]
    }
   ],
   "source": [
    "# Print number of rows and columns for train_df test_df\n",
    "for df_name, df in [(\"train_df\", train_df), (\"test_df\", test_df)]:\n",
    "    row_count = df.count()\n",
    "    col_count = len(df.columns)\n",
    "    print(f\"{df_name}: {row_count} rows, {col_count} columns\")"
   ]
  },
  {
   "cell_type": "code",
   "execution_count": 0,
   "metadata": {
    "application/vnd.databricks.v1+cell": {
     "cellMetadata": {
      "byteLimit": 2048000,
      "rowLimit": 10000
     },
     "inputWidgets": {},
     "nuid": "55477d33-0fd3-47fe-8fa1-569f034bf761",
     "showTitle": false,
     "tableResultSettingsMap": {},
     "title": ""
    }
   },
   "outputs": [],
   "source": [
    "# Assemble vectors with train_dt features for Random Forest Regressor\n",
    "assembler_final = VectorAssembler(inputCols=dt_final_features, outputCol=\"features\")\n",
    "train_final = assembler_final.transform(train_df)\n",
    "test_final   = assembler_final.transform(test_df)"
   ]
  },
  {
   "cell_type": "code",
   "execution_count": 0,
   "metadata": {
    "application/vnd.databricks.v1+cell": {
     "cellMetadata": {
      "byteLimit": 2048000,
      "rowLimit": 10000
     },
     "inputWidgets": {},
     "nuid": "ca0741a1-4bfb-40bb-ad69-3c1130e4e833",
     "showTitle": false,
     "tableResultSettingsMap": {},
     "title": ""
    }
   },
   "outputs": [
    {
     "output_type": "stream",
     "name": "stdout",
     "output_type": "stream",
     "text": [
      "Random Forest Regressor 76002887.24703203 0.6182957828996695\n"
     ]
    }
   ],
   "source": [
    "# Fit all features selected by dt on RFR\n",
    "rf = RandomForestRegressor(featuresCol=\"features\", labelCol=\"revenue\", numTrees=50, maxDepth=5, maxBins=64, seed=12)\n",
    "rf_model = rf.fit(train_final)\n",
    "\n",
    "rf_predictions = rf_model.transform(test_final)\n",
    "\n",
    "rf_rmse = RegressionEvaluator(labelCol=\"revenue\", predictionCol=\"prediction\", metricName=\"rmse\").evaluate(rf_predictions)\n",
    "rf_r2   = RegressionEvaluator(labelCol=\"revenue\", predictionCol=\"prediction\", metricName=\"r2\").evaluate(rf_predictions)\n",
    "\n",
    "print(\"Random Forest Regressor\", rf_rmse, rf_r2)"
   ]
  },
  {
   "cell_type": "code",
   "execution_count": 0,
   "metadata": {
    "application/vnd.databricks.v1+cell": {
     "cellMetadata": {
      "byteLimit": 2048000,
      "rowLimit": 10000
     },
     "inputWidgets": {},
     "nuid": "6497d3fb-5323-48d8-95f9-1d8e21152f67",
     "showTitle": false,
     "tableResultSettingsMap": {},
     "title": ""
    }
   },
   "outputs": [
    {
     "output_type": "display_data",
     "data": {
      "image/png": "[encoded data removed]"
     },
     "metadata": {
      "application/vnd.databricks.v1+output": {
       "addedWidgets": {},
       "arguments": {},
       "data": "data:image/png;base64,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\n",
       "datasetInfos": [],
       "metadata": {},
       "removedWidgets": [],
       "type": "image"
      }
     },
     "output_type": "display_data"
    }
   ],
   "source": [
    "# Feature importances bar chart \n",
    "\n",
    "# Extract importances & feature names\n",
    "feats = rf_model.featureImportances.toArray().tolist()\n",
    "names = dt_final_features  # the Python list you passed to your VectorAssembler\n",
    "\n",
    "# Build a pandas DataFrame and sort\n",
    "fi = pd.DataFrame({\"feature\": names, \"importance\": feats})\n",
    "fi = fi.sort_values(\"importance\", ascending=False).head(10)  # top-10\n",
    "\n",
    "# Plot\n",
    "plt.figure(figsize=(8, 5))\n",
    "plt.barh(fi[\"feature\"], fi[\"importance\"])\n",
    "plt.gca().invert_yaxis()\n",
    "plt.xlabel(\"Importance\")\n",
    "plt.title(\"Top 10 Feature Importances (Random Forest)\")\n",
    "plt.tight_layout()\n",
    "plt.show()"
   ]
  },
  {
   "cell_type": "code",
   "execution_count": 0,
   "metadata": {
    "application/vnd.databricks.v1+cell": {
     "cellMetadata": {
      "byteLimit": 2048000,
      "rowLimit": 10000
     },
     "inputWidgets": {},
     "nuid": "6e3d059c-9fab-426f-901d-d96919cd205e",
     "showTitle": false,
     "tableResultSettingsMap": {},
     "title": ""
    }
   },
   "outputs": [
    {
     "output_type": "display_data",
     "data": {
      "image/png": "[encoded data removed]"
     },
     "metadata": {
      "application/vnd.databricks.v1+output": {
       "addedWidgets": {},
       "arguments": {},
       "data": "data:image/png;base64,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\n",
       "datasetInfos": [],
       "metadata": {},
       "removedWidgets": [],
       "type": "image"
      }
     },
     "output_type": "display_data"
    }
   ],
   "source": [
    "# Actual vs. Predicted Scatter\n",
    "# Collect predictions + labels to Pandas\n",
    "preds_pdf = rf_predictions.select(\"prediction\", \"revenue\").toPandas()\n",
    "\n",
    "# Scatter plot\n",
    "plt.figure(figsize=(6, 6))\n",
    "plt.scatter(preds_pdf[\"revenue\"], preds_pdf[\"prediction\"], alpha=0.3)\n",
    "lims = [0, preds_pdf[[\"revenue\", \"prediction\"]].max().max()]\n",
    "plt.plot(lims, lims, \"--\", color=\"gray\")  # 45° line\n",
    "plt.xlabel(\"Actual Revenue\")\n",
    "plt.ylabel(\"Predicted Revenue\")\n",
    "plt.title(\"Actual vs. Predicted Revenue\")\n",
    "plt.tight_layout()\n",
    "plt.show()\n"
   ]
  },
  {
   "cell_type": "code",
   "execution_count": 0,
   "metadata": {
    "application/vnd.databricks.v1+cell": {
     "cellMetadata": {
      "byteLimit": 2048000,
      "rowLimit": 10000
     },
     "inputWidgets": {},
     "nuid": "ab8612df-5fd1-4a30-b7ce-cf742e395cf9",
     "showTitle": false,
     "tableResultSettingsMap": {},
     "title": ""
    }
   },
   "outputs": [
    {
     "output_type": "stream",
     "name": "stdout",
     "output_type": "stream",
     "text": [
      "\n=== tree 0 ===\nDecisionTreeRegressionModel: uid=dtr_4c4a0461513e, depth=5, numNodes=63, numFeatures=13\n  If (feature 9 <= 30.2375)\n   If (feature 8 <= 0.5)\n    If (feature 0 <= 4.475E7)\n     If (feature 0 <= 1.64691375E7)\n      If (feature 1 <= 1291.0)\n       Predict: 9533958.300953079\n      Else (feature 1 > 1291.0)\n       Predict: 4.4729827625E7\n     Else (feature 0 > 1.64691375E7)\n      If (feature 6 <= 0.5)\n       Predict: 2.0752142515384614E8\n      Else (feature 6 > 0.5)\n       Predict: 4.617214902512563E7\n    Else (feature 0 > 4.475E7)\n     If (feature 1 <= 56.5)\n      If (feature 4 <= 2024.5)\n       Predict: 2.908968730833333E8\n      Else (feature 4 > 2024.5)\n       Predict: 8.0E8\n     Else (feature 1 > 56.5)\n      If (feature 2 <= 137.5)\n       Predict: 8.921599913043478E7\n      Else (feature 2 > 137.5)\n       Predict: 3.4561028E8\n   Else (feature 8 > 0.5)\n    If (feature 0 <= 5.45E7)\n     If (feature 1 <= 1502.5)\n      If (feature 1 <= 561.5)\n       Predict: 9294886.698070884\n      Else (feature 1 > 561.5)\n       Predict: 3.510653834137931E7\n     Else (feature 1 > 1502.5)\n      If (feature 9 <= 2.158)\n       Predict: 4.218706586666667E8\n      Else (feature 9 > 2.158)\n       Predict: 8.552454584020619E7\n    Else (feature 0 > 5.45E7)\n     If (feature 1 <= 5891.0)\n      If (feature 6 <= 7.601)\n       Predict: 1.3996818973026314E8\n      Else (feature 6 > 7.601)\n       Predict: 3.0E9\n     Else (feature 1 > 5891.0)\n      If (feature 5 <= 0.5)\n       Predict: 3.1279712556666666E8\n      Else (feature 5 > 0.5)\n       Predict: 4.3033183648571426E8\n  Else (feature 9 > 30.2375)\n   If (feature 5 <= 0.5)\n    If (feature 1 <= 9150.0)\n     If (feature 8 <= 0.5)\n      If (feature 2 <= 156.5)\n       Predict: 2.7049897487179488E7\n      Else (feature 2 > 156.5)\n       Predict: 6.04380922E8\n     Else (feature 8 > 0.5)\n      If (feature 0 <= 5.45E7)\n       Predict: 9.968915747354497E7\n      Else (feature 0 > 5.45E7)\n       Predict: 2.6037553852380952E8\n    Else (feature 1 > 9150.0)\n     If (feature 4 <= 2016.5)\n      If (feature 0 <= 4.475E7)\n       Predict: 2.1512893662711865E8\n      Else (feature 0 > 4.475E7)\n       Predict: 5.0416858125E8\n     Else (feature 4 > 2016.5)\n      If (feature 6 <= 6.999499999999999)\n       Predict: 1.1194020776666667E9\n      Else (feature 6 > 6.999499999999999)\n       Predict: 4.991673291052632E8\n   Else (feature 5 > 0.5)\n    If (feature 6 <= 7.9315)\n     If (feature 0 <= 8.55E7)\n      If (feature 8 <= 0.5)\n       Predict: 4.397732725925926E7\n      Else (feature 8 > 0.5)\n       Predict: 1.8198258505952382E8\n     Else (feature 0 > 8.55E7)\n      If (feature 9 <= 59.0505)\n       Predict: 4.849186701544715E8\n      Else (feature 9 > 59.0505)\n       Predict: 7.569486247926829E8\n    Else (feature 6 > 7.9315)\n     If (feature 0 <= 1.295E8)\n      If (feature 4 <= 1987.5)\n       Predict: 8486611.5\n      Else (feature 4 > 1987.5)\n       Predict: 6.695417106E8\n     Else (feature 0 > 1.295E8)\n      If (feature 4 <= 2010.5)\n       Predict: 7.834788E8\n      Else (feature 4 > 2010.5)\n       Predict: 2.1334898898333333E9\n\n\n=== tree 1 ===\nDecisionTreeRegressionModel: uid=dtr_d01636c3e454, depth=5, numNodes=61, numFeatures=13\n  If (feature 1 <= 5891.0)\n   If (feature 1 <= 1760.5)\n    If (feature 0 <= 5.45E7)\n     If (feature 2 <= 174.5)\n      If (feature 1 <= 334.5)\n       Predict: 8958304.459791446\n      Else (feature 1 > 334.5)\n       Predict: 2.83912522259429E7\n     Else (feature 2 > 174.5)\n      If (feature 3 <= 0.5)\n       Predict: 2.8930512134615386E8\n      Else (feature 3 > 0.5)\n       Predict: 1.6861865377483442E7\n    Else (feature 0 > 5.45E7)\n     If (feature 4 <= 2023.5)\n      If (feature 3 <= 0.5)\n       Predict: 4.992168966333333E8\n      Else (feature 3 > 0.5)\n       Predict: 1.1514671501910828E8\n     Else (feature 4 > 2023.5)\n      If (feature 9 <= 0.3)\n       Predict: 3.0E9\n      Else (feature 9 > 0.3)\n       Predict: 5.973451734444444E8\n   Else (feature 1 > 1760.5)\n    If (feature 0 <= 6.95E7)\n     If (feature 1 <= 2653.5)\n      If (feature 0 <= 2.48125E7)\n       Predict: 4.898517050826446E7\n      Else (feature 0 > 2.48125E7)\n       Predict: 1.0058300693333334E8\n     Else (feature 1 > 2653.5)\n      If (feature 1 <= 4262.5)\n       Predict: 1.0454977362162162E8\n      Else (feature 1 > 4262.5)\n       Predict: 1.3977644838690478E8\n    Else (feature 0 > 6.95E7)\n     If (feature 1 <= 2653.5)\n      If (feature 2 <= 130.5)\n       Predict: 2.0033532055357143E8\n      Else (feature 2 > 130.5)\n       Predict: 7.767429033333333E7\n     Else (feature 1 > 2653.5)\n      If (feature 0 <= 1.295E8)\n       Predict: 2.3776419359124088E8\n      Else (feature 0 > 1.295E8)\n       Predict: 3.4028071040983605E8\n  Else (feature 1 > 5891.0)\n   If (feature 0 <= 1.295E8)\n    If (feature 0 <= 4.475E7)\n     If (feature 1 <= 9150.0)\n      If (feature 0 <= 1.91007415E7)\n       Predict: 9.369530366101696E7\n      Else (feature 0 > 1.91007415E7)\n       Predict: 1.6062816942857143E8\n     Else (feature 1 > 9150.0)\n      If (feature 0 <= 3.10262375E7)\n       Predict: 1.7127642963380283E8\n      Else (feature 0 > 3.10262375E7)\n       Predict: 3.6189577717391306E8\n    Else (feature 0 > 4.475E7)\n     If (feature 2 <= 98.5)\n      If (feature 2 <= 97.5)\n       Predict: 6.322600362857143E8\n      Else (feature 2 > 97.5)\n       Predict: 9.70761885E8\n     Else (feature 2 > 98.5)\n      If (feature 1 <= 9150.0)\n       Predict: 3.3399572802380955E8\n      Else (feature 1 > 9150.0)\n       Predict: 4.899194114590164E8\n   Else (feature 0 > 1.295E8)\n    If (feature 6 <= 6.7925)\n     If (feature 9 <= 59.0505)\n      If (feature 1 <= 9150.0)\n       Predict: 3.556183432E8\n      Else (feature 1 > 9150.0)\n       Predict: 6.450700048888888E8\n     Else (feature 9 > 59.0505)\n      If (feature 2 <= 89.5)\n       Predict: 6.03900354E8\n      Else (feature 2 > 89.5)\n       Predict: 7.493805433333334E8\n    Else (feature 6 > 6.7925)\n     If (feature 4 <= 1997.5)\n      Predict: 2.264162353E9\n     Else (feature 4 > 1997.5)\n      If (feature 4 <= 2019.5)\n       Predict: 8.543972446185567E8\n      Else (feature 4 > 2019.5)\n       Predict: 5.263202833333333E8\n\n\n=== tree 2 ===\nDecisionTreeRegressionModel: uid=dtr_78a6b04a0b3a, depth=5, numNodes=63, numFeatures=13\n  If (feature 0 <= 8.55E7)\n   If (feature 9 <= 19.9765)\n    If (feature 0 <= 3.775E7)\n     If (feature 2 <= 174.5)\n      If (feature 0 <= 1.00538635E7)\n       Predict: 7330500.750295458\n      Else (feature 0 > 1.00538635E7)\n       Predict: 3.506402704203262E7\n     Else (feature 2 > 174.5)\n      If (feature 4 <= 952.5)\n       Predict: 4.330237127413793E8\n      Else (feature 4 > 952.5)\n       Predict: 1.3370533556213018E7\n    Else (feature 0 > 3.775E7)\n     If (feature 9 <= 2.158)\n      If (feature 3 <= 0.5)\n       Predict: 5.798915069583334E8\n      Else (feature 3 > 0.5)\n       Predict: 2.782941184E8\n     Else (feature 9 > 2.158)\n      If (feature 2 <= 86.5)\n       Predict: 2.456381442E8\n      Else (feature 2 > 86.5)\n       Predict: 8.031260954166667E7\n   Else (feature 9 > 19.9765)\n    If (feature 0 <= 3.10262375E7)\n     If (feature 0 <= 9150000.0)\n      If (feature 9 <= 43.0295)\n       Predict: 3.530677291905565E7\n      Else (feature 9 > 43.0295)\n       Predict: 5.941771608163265E7\n     Else (feature 0 > 9150000.0)\n      If (feature 6 <= 7.500500000000001)\n       Predict: 8.01655383833992E7\n      Else (feature 6 > 7.500500000000001)\n       Predict: 1.57097175E8\n    Else (feature 0 > 3.10262375E7)\n     If (feature 2 <= 91.5)\n      If (feature 4 <= 2014.5)\n       Predict: 2.1735536668E8\n      Else (feature 4 > 2014.5)\n       Predict: 5.763975354285715E8\n     Else (feature 2 > 91.5)\n      If (feature 9 <= 30.2375)\n       Predict: 1.467337717521127E8\n      Else (feature 9 > 30.2375)\n       Predict: 2.0930324158333334E8\n  Else (feature 0 > 8.55E7)\n   If (feature 0 <= 1.295E8)\n    If (feature 9 <= 59.0505)\n     If (feature 6 <= 0.5)\n      If (feature 3 <= 25.5)\n       Predict: 5.36779722125E8\n      Else (feature 3 > 25.5)\n       Predict: 2.000100044E8\n     Else (feature 6 > 0.5)\n      If (feature 6 <= 6.3004999999999995)\n       Predict: 1.7466776075E8\n      Else (feature 6 > 6.3004999999999995)\n       Predict: 2.969009820777778E8\n    Else (feature 9 > 59.0505)\n     If (feature 10 <= 0.5)\n      If (feature 1 <= 2653.5)\n       Predict: 1.4737881125E8\n      Else (feature 1 > 2653.5)\n       Predict: 4.6713047496E8\n     Else (feature 10 > 0.5)\n      If (feature 4 <= 2001.5)\n       Predict: 9.7647555E8\n      Else (feature 4 > 2001.5)\n       Predict: 1.341511219E9\n   Else (feature 0 > 1.295E8)\n    If (feature 2 <= 128.5)\n     If (feature 9 <= 59.0505)\n      If (feature 1 <= 5891.0)\n       Predict: 2.4657411443333334E8\n      Else (feature 1 > 5891.0)\n       Predict: 5.130047425277778E8\n     Else (feature 9 > 59.0505)\n      If (feature 4 <= 2009.5)\n       Predict: 5.51131245E8\n      Else (feature 4 > 2009.5)\n       Predict: 7.583003604814814E8\n    Else (feature 2 > 128.5)\n     If (feature 4 <= 2022.5)\n      If (feature 6 <= 7.601)\n       Predict: 6.78528143E8\n      Else (feature 6 > 7.601)\n       Predict: 1.1116613112916667E9\n     Else (feature 4 > 2022.5)\n      If (feature 4 <= 2023.5)\n       Predict: 2.1749689433333334E8\n      Else (feature 4 > 2023.5)\n       Predict: 1.122117986E9\n\n\n=== tree 3 ===\nDecisionTreeRegressionModel: uid=dtr_7807ada7585d, depth=5, numNodes=63, numFeatures=13\n  If (feature 0 <= 5.45E7)\n   If (feature 8 <= 0.5)\n    If (feature 11 <= 0.5)\n     If (feature 1 <= 2101.5)\n      If (feature 0 <= 3.775E7)\n       Predict: 8001383.705959789\n      Else (feature 0 > 3.775E7)\n       Predict: 1.332541328E8\n     Else (feature 1 > 2101.5)\n      If (feature 9 <= 59.0505)\n       Predict: 6.708333775E7\n      Else (feature 9 > 59.0505)\n       Predict: 3.549388008E8\n    Else (feature 11 > 0.5)\n     If (feature 2 <= 109.5)\n      If (feature 1 <= 140.5)\n       Predict: 1.0718056754010696E7\n      Else (feature 1 > 140.5)\n       Predict: 6.842123357142857E7\n     Else (feature 2 > 109.5)\n      If (feature 3 <= 0.5)\n       Predict: 7.425E8\n      Else (feature 3 > 0.5)\n       Predict: 9.954669033333333E7\n   Else (feature 8 > 0.5)\n    If (feature 1 <= 1502.5)\n     If (feature 0 <= 9150000.0)\n      If (feature 0 <= 741708.0)\n       Predict: 5456294.386398177\n      Else (feature 0 > 741708.0)\n       Predict: 1.2546854059803179E7\n     Else (feature 0 > 9150000.0)\n      If (feature 2 <= 98.5)\n       Predict: 2.6960530791887127E7\n      Else (feature 2 > 98.5)\n       Predict: 3.435312118528139E7\n    Else (feature 1 > 1502.5)\n     If (feature 2 <= 122.5)\n      If (feature 1 <= 4262.5)\n       Predict: 7.794860856772335E7\n      Else (feature 1 > 4262.5)\n       Predict: 1.4320602984541062E8\n     Else (feature 2 > 122.5)\n      If (feature 9 <= 30.2375)\n       Predict: 1.078656967030303E8\n      Else (feature 9 > 30.2375)\n       Predict: 2.0075280828282827E8\n  Else (feature 0 > 5.45E7)\n   If (feature 0 <= 1.295E8)\n    If (feature 1 <= 5891.0)\n     If (feature 9 <= 0.9045000000000001)\n      If (feature 2 <= 103.5)\n       Predict: 1.392432193125E8\n      Else (feature 2 > 103.5)\n       Predict: 6.667155863076923E8\n     Else (feature 9 > 0.9045000000000001)\n      If (feature 9 <= 24.752000000000002)\n       Predict: 1.2391349661173184E8\n      Else (feature 9 > 24.752000000000002)\n       Predict: 2.023132235936073E8\n    Else (feature 1 > 5891.0)\n     If (feature 5 <= 0.5)\n      If (feature 2 <= 101.5)\n       Predict: 5.647467853076923E8\n      Else (feature 2 > 101.5)\n       Predict: 3.5562667417391306E8\n     Else (feature 5 > 0.5)\n      If (feature 9 <= 59.0505)\n       Predict: 4.761298371818182E8\n      Else (feature 9 > 59.0505)\n       Predict: 6.78436907E8\n   Else (feature 0 > 1.295E8)\n    If (feature 9 <= 59.0505)\n     If (feature 1 <= 9150.0)\n      If (feature 4 <= 2023.5)\n       Predict: 3.712585542888889E8\n      Else (feature 4 > 2023.5)\n       Predict: 9.71661103E8\n     Else (feature 1 > 9150.0)\n      If (feature 12 <= 0.5)\n       Predict: 6.525164224390244E8\n      Else (feature 12 > 0.5)\n       Predict: 1.129623669125E9\n    Else (feature 9 > 59.0505)\n     If (feature 6 <= 7.9315)\n      If (feature 2 <= 156.5)\n       Predict: 7.249605933962264E8\n      Else (feature 2 > 156.5)\n       Predict: 1.7752809471666667E9\n     Else (feature 6 > 7.9315)\n      If (feature 4 <= 2014.5)\n       Predict: 7.4576688E8\n      Else (feature 4 > 2014.5)\n       Predict: 2.14970486E9\n\n\n=== tree 4 ===\nDecisionTreeRegressionModel: uid=dtr_3c0685a8f9a4, depth=5, numNodes=63, numFeatures=13\n  If (feature 0 <= 8.55E7)\n   If (feature 0 <= 2.85E7)\n    If (feature 1 <= 1760.5)\n     If (feature 0 <= 1.00538635E7)\n      If (feature 9 <= 14.277999999999999)\n       Predict: 7099000.306474691\n      Else (feature 9 > 14.277999999999999)\n       Predict: 2.0996737758015268E7\n     Else (feature 0 > 1.00538635E7)\n      If (feature 3 <= 1.5)\n       Predict: 6.3263913222222224E7\n      Else (feature 3 > 1.5)\n       Predict: 3.105607956137931E7\n    Else (feature 1 > 1760.5)\n     If (feature 10 <= 0.5)\n      If (feature 1 <= 5891.0)\n       Predict: 6.986102800845666E7\n      Else (feature 1 > 5891.0)\n       Predict: 1.92895831E8\n     Else (feature 10 > 0.5)\n      If (feature 6 <= 6.8995)\n       Predict: 8.672934582222222E7\n      Else (feature 6 > 6.8995)\n       Predict: 5.218814681927711E7\n   Else (feature 0 > 2.85E7)\n    If (feature 4 <= 952.5)\n     If (feature 0 <= 4.475E7)\n      If (feature 0 <= 3.775E7)\n       Predict: 3.82542525E8\n      Else (feature 0 > 3.775E7)\n       Predict: 3.6404400333333336E7\n     Else (feature 0 > 4.475E7)\n      If (feature 2 <= 122.5)\n       Predict: 8.044501872857143E8\n      Else (feature 2 > 122.5)\n       Predict: 5.9756E8\n    Else (feature 4 > 952.5)\n     If (feature 0 <= 5.45E7)\n      If (feature 4 <= 2019.5)\n       Predict: 8.793527557526882E7\n      Else (feature 4 > 2019.5)\n       Predict: 5.319728781632653E7\n     Else (feature 0 > 5.45E7)\n      If (feature 9 <= 24.752000000000002)\n       Predict: 1.1460073752906977E8\n      Else (feature 9 > 24.752000000000002)\n       Predict: 2.477515966729858E8\n  Else (feature 0 > 8.55E7)\n   If (feature 2 <= 130.5)\n    If (feature 0 <= 1.295E8)\n     If (feature 6 <= 6.3004999999999995)\n      If (feature 1 <= 1291.0)\n       Predict: 7.800547425E7\n      Else (feature 1 > 1291.0)\n       Predict: 2.00140923265625E8\n     Else (feature 6 > 6.3004999999999995)\n      If (feature 9 <= 35.099000000000004)\n       Predict: 2.4110501714035088E8\n      Else (feature 9 > 35.099000000000004)\n       Predict: 4.8651328827692306E8\n    Else (feature 0 > 1.295E8)\n     If (feature 9 <= 43.0295)\n      If (feature 2 <= 85.5)\n       Predict: 6.679500525E7\n      Else (feature 2 > 85.5)\n       Predict: 3.9580766903409094E8\n     Else (feature 9 > 43.0295)\n      If (feature 11 <= 0.5)\n       Predict: 6.235943399523809E8\n      Else (feature 11 > 0.5)\n       Predict: 1.8039270625E8\n   Else (feature 2 > 130.5)\n    If (feature 9 <= 43.0295)\n     If (feature 1 <= 56.5)\n      If (feature 4 <= 2023.5)\n       Predict: 4.520456561052632E8\n      Else (feature 4 > 2023.5)\n       Predict: 1.122117986E9\n     Else (feature 1 > 56.5)\n      If (feature 0 <= 1.295E8)\n       Predict: 2.0901518885185185E8\n      Else (feature 0 > 1.295E8)\n       Predict: 3.96859515625E8\n    Else (feature 9 > 43.0295)\n     If (feature 6 <= 6.6805)\n      If (feature 7 <= 0.5)\n       Predict: 5.535282644615384E8\n      Else (feature 7 > 0.5)\n       Predict: 2.68031828E8\n     Else (feature 6 > 6.6805)\n      If (feature 1 <= 4262.5)\n       Predict: 2.5528855266666666E8\n      Else (feature 1 > 4262.5)\n       Predict: 8.936634188196721E8\n\n\n=== tree 5 ===\nDecisionTreeRegressionModel: uid=dtr_f4d50437dad6, depth=5, numNodes=61, numFeatures=13\n  If (feature 0 <= 8.55E7)\n   If (feature 1 <= 2653.5)\n    If (feature 5 <= 0.5)\n     If (feature 0 <= 3.10262375E7)\n      If (feature 0 <= 6550000.0)\n       Predict: 7469144.010911425\n      Else (feature 0 > 6550000.0)\n       Predict: 3.052607073911007E7\n     Else (feature 0 > 3.10262375E7)\n      If (feature 1 <= 1.5)\n       Predict: 5.41034273375E8\n      Else (feature 1 > 1.5)\n       Predict: 7.498645978224456E7\n    Else (feature 5 > 0.5)\n     If (feature 0 <= 1.91007415E7)\n      If (feature 9 <= 12.1445)\n       Predict: 1.0843345367924528E7\n      Else (feature 9 > 12.1445)\n       Predict: 3.597179359006211E7\n     Else (feature 0 > 1.91007415E7)\n      If (feature 11 <= 0.5)\n       Predict: 6.415705985358255E7\n      Else (feature 11 > 0.5)\n       Predict: 1.7544045685714287E8\n   Else (feature 1 > 2653.5)\n    If (feature 9 <= 43.0295)\n     If (feature 8 <= 0.5)\n      If (feature 0 <= 6550000.0)\n       Predict: 3.2910927966666665E7\n      Else (feature 0 > 6550000.0)\n       Predict: 1.2461080078378378E8\n     Else (feature 8 > 0.5)\n      If (feature 5 <= 0.5)\n       Predict: 1.448674583535188E8\n      Else (feature 5 > 0.5)\n       Predict: 2.4152228819512194E8\n    Else (feature 9 > 43.0295)\n     If (feature 5 <= 0.5)\n      If (feature 2 <= 121.5)\n       Predict: 1.853940354090909E8\n      Else (feature 2 > 121.5)\n       Predict: 3.303376003043478E8\n     Else (feature 5 > 0.5)\n      If (feature 1 <= 5891.0)\n       Predict: 2.419440376875E8\n      Else (feature 1 > 5891.0)\n       Predict: 4.801401290625E8\n  Else (feature 0 > 8.55E7)\n   If (feature 0 <= 1.295E8)\n    If (feature 1 <= 9150.0)\n     If (feature 4 <= 2024.5)\n      If (feature 9 <= 0.3)\n       Predict: 4.128863146315789E8\n      Else (feature 9 > 0.3)\n       Predict: 2.1170785430810812E8\n     Else (feature 4 > 2024.5)\n      Predict: 1.0E9\n    Else (feature 1 > 9150.0)\n     If (feature 3 <= 27.5)\n      If (feature 2 <= 123.5)\n       Predict: 5.548786814E8\n      Else (feature 2 > 123.5)\n       Predict: 4.273607292307692E8\n     Else (feature 3 > 27.5)\n      If (feature 7 <= 0.5)\n       Predict: 8.982103435E8\n      Else (feature 7 > 0.5)\n       Predict: 6.19021436E8\n   Else (feature 0 > 1.295E8)\n    If (feature 1 <= 9150.0)\n     If (feature 3 <= 6.5)\n      If (feature 1 <= 1.5)\n       Predict: 9.970554551764706E8\n      Else (feature 1 > 1.5)\n       Predict: 4.4386014864705884E8\n     Else (feature 3 > 6.5)\n      If (feature 2 <= 141.5)\n       Predict: 3.2395322958715594E8\n      Else (feature 2 > 141.5)\n       Predict: 4.500576551034483E8\n    Else (feature 1 > 9150.0)\n     If (feature 6 <= 7.601)\n      If (feature 4 <= 2015.5)\n       Predict: 6.933443501363636E8\n      Else (feature 4 > 2015.5)\n       Predict: 8.921510391785715E8\n     Else (feature 6 > 7.601)\n      If (feature 5 <= 0.5)\n       Predict: 8.9989838325E8\n      Else (feature 5 > 0.5)\n       Predict: 1.0091775363076923E9\n\n\n=== tree 6 ===\nDecisionTreeRegressionModel: uid=dtr_a6f8fa08083c, depth=5, numNodes=63, numFeatures=13\n  If (feature 5 <= 0.5)\n   If (feature 0 <= 3.775E7)\n    If (feature 1 <= 3360.0)\n     If (feature 1 <= 848.5)\n      If (feature 9 <= 11.1375)\n       Predict: 6855044.9648369625\n      Else (feature 9 > 11.1375)\n       Predict: 1.784961714917647E7\n     Else (feature 1 > 848.5)\n      If (feature 2 <= 156.5)\n       Predict: 4.2184940456490725E7\n      Else (feature 2 > 156.5)\n       Predict: 7.28169427586207E7\n    Else (feature 1 > 3360.0)\n     If (feature 9 <= 43.0295)\n      If (feature 9 <= 21.478)\n       Predict: 7.951189229032259E7\n      Else (feature 9 > 21.478)\n       Predict: 1.3292130380349346E8\n     Else (feature 9 > 43.0295)\n      If (feature 0 <= 2.85E7)\n       Predict: 1.7815143133333334E8\n      Else (feature 0 > 2.85E7)\n       Predict: 3.555483273333333E8\n   Else (feature 0 > 3.775E7)\n    If (feature 1 <= 5891.0)\n     If (feature 0 <= 8.55E7)\n      If (feature 0 <= 6.95E7)\n       Predict: 1.0593392960687023E8\n      Else (feature 0 > 6.95E7)\n       Predict: 1.621925574730539E8\n     Else (feature 0 > 8.55E7)\n      If (feature 6 <= 7.500500000000001)\n       Predict: 2.3437468784892085E8\n      Else (feature 6 > 7.500500000000001)\n       Predict: 4.591403183E8\n    Else (feature 1 > 5891.0)\n     If (feature 0 <= 1.295E8)\n      If (feature 1 <= 9150.0)\n       Predict: 2.64416506125E8\n      Else (feature 1 > 9150.0)\n       Predict: 4.044506811875E8\n     Else (feature 0 > 1.295E8)\n      If (feature 2 <= 174.5)\n       Predict: 5.983647033E8\n      Else (feature 2 > 174.5)\n       Predict: 2.264162353E9\n  Else (feature 5 > 0.5)\n   If (feature 0 <= 8.55E7)\n    If (feature 1 <= 5891.0)\n     If (feature 1 <= 1291.0)\n      If (feature 11 <= 0.5)\n       Predict: 1.7511877761682242E7\n      Else (feature 11 > 0.5)\n       Predict: 8.4789376375E7\n     Else (feature 1 > 1291.0)\n      If (feature 6 <= 8.0415)\n       Predict: 1.1408088576371308E8\n      Else (feature 6 > 8.0415)\n       Predict: 5.03063688E8\n    Else (feature 1 > 5891.0)\n     If (feature 6 <= 6.483499999999999)\n      If (feature 2 <= 90.5)\n       Predict: 1.031552585E9\n      Else (feature 2 > 90.5)\n       Predict: 7.02270052E8\n     Else (feature 6 > 6.483499999999999)\n      If (feature 9 <= 59.0505)\n       Predict: 3.0798498748717946E8\n      Else (feature 9 > 59.0505)\n       Predict: 6.896376626666666E8\n   Else (feature 0 > 8.55E7)\n    If (feature 9 <= 43.0295)\n     If (feature 9 <= 10.6465)\n      If (feature 9 <= 8.0765)\n       Predict: 4.491552692E8\n      Else (feature 9 > 8.0765)\n       Predict: 1.02027300425E9\n     Else (feature 9 > 10.6465)\n      If (feature 9 <= 27.2245)\n       Predict: 2.1697001062711865E8\n      Else (feature 9 > 27.2245)\n       Predict: 4.0505912073195875E8\n    Else (feature 9 > 43.0295)\n     If (feature 1 <= 9150.0)\n      If (feature 2 <= 94.5)\n       Predict: 7.443851822222222E8\n      Else (feature 2 > 94.5)\n       Predict: 4.2029050961403507E8\n     Else (feature 1 > 9150.0)\n      If (feature 4 <= 2021.5)\n       Predict: 8.929101152702702E8\n      Else (feature 4 > 2021.5)\n       Predict: 2.320250281E9\n\n\n=== tree 7 ===\nDecisionTreeRegressionModel: uid=dtr_8cba2b24b74f, depth=5, numNodes=63, numFeatures=13\n  If (feature 0 <= 8.55E7)\n   If (feature 9 <= 17.0165)\n    If (feature 0 <= 3.775E7)\n     If (feature 1 <= 848.5)\n      If (feature 9 <= 10.1155)\n       Predict: 6816726.787881822\n      Else (feature 9 > 10.1155)\n       Predict: 1.6516510969271291E7\n     Else (feature 1 > 848.5)\n      If (feature 0 <= 1.00538635E7)\n       Predict: 1.9882022858585857E7\n      Else (feature 0 > 1.00538635E7)\n       Predict: 5.219821532911392E7\n    Else (feature 0 > 3.775E7)\n     If (feature 3 <= 0.5)\n      If (feature 2 <= 60.5)\n       Predict: 1.0714044666666666E7\n      Else (feature 2 > 60.5)\n       Predict: 4.929482736086956E8\n     Else (feature 3 > 0.5)\n      If (feature 9 <= 9.1205)\n       Predict: 1.6531645697058824E8\n      Else (feature 9 > 9.1205)\n       Predict: 6.551903403741497E7\n   Else (feature 9 > 17.0165)\n    If (feature 0 <= 2.85E7)\n     If (feature 2 <= 109.5)\n      If (feature 9 <= 35.099000000000004)\n       Predict: 3.608106050422833E7\n      Else (feature 9 > 35.099000000000004)\n       Predict: 6.703260471839081E7\n     Else (feature 2 > 109.5)\n      If (feature 1 <= 2653.5)\n       Predict: 4.272677278914405E7\n      Else (feature 1 > 2653.5)\n       Predict: 1.1868478277027027E8\n    Else (feature 0 > 2.85E7)\n     If (feature 1 <= 5891.0)\n      If (feature 1 <= 2653.5)\n       Predict: 9.558191702912621E7\n      Else (feature 1 > 2653.5)\n       Predict: 1.7015278953820598E8\n     Else (feature 1 > 5891.0)\n      If (feature 0 <= 3.775E7)\n       Predict: 1.787762674642857E8\n      Else (feature 0 > 3.775E7)\n       Predict: 3.750945906964286E8\n  Else (feature 0 > 8.55E7)\n   If (feature 1 <= 9150.0)\n    If (feature 0 <= 1.295E8)\n     If (feature 9 <= 43.0295)\n      If (feature 6 <= 6.999499999999999)\n       Predict: 2.2344105602027026E8\n      Else (feature 6 > 6.999499999999999)\n       Predict: 1.3367921121212122E8\n     Else (feature 9 > 43.0295)\n      If (feature 6 <= 7.601)\n       Predict: 4.129152713E8\n      Else (feature 6 > 7.601)\n       Predict: 6.306879507E8\n    Else (feature 0 > 1.295E8)\n     If (feature 1 <= 5891.0)\n      If (feature 4 <= 2022.5)\n       Predict: 2.9985132597849464E8\n      Else (feature 4 > 2022.5)\n       Predict: 5.900363315384616E8\n     Else (feature 1 > 5891.0)\n      If (feature 4 <= 2021.5)\n       Predict: 4.675113401636364E8\n      Else (feature 4 > 2021.5)\n       Predict: 9.9159119675E8\n   Else (feature 1 > 9150.0)\n    If (feature 9 <= 59.0505)\n     If (feature 0 <= 1.295E8)\n      If (feature 3 <= 27.5)\n       Predict: 4.030339343333333E8\n      Else (feature 3 > 27.5)\n       Predict: 8.178818185E8\n     Else (feature 0 > 1.295E8)\n      If (feature 6 <= 7.601)\n       Predict: 7.382620521590909E8\n      Else (feature 6 > 7.601)\n       Predict: 2.924889846666667E8\n    Else (feature 9 > 59.0505)\n     If (feature 12 <= 0.5)\n      If (feature 2 <= 156.5)\n       Predict: 8.1717671544E8\n      Else (feature 2 > 156.5)\n       Predict: 1.9275214705E9\n     Else (feature 12 > 0.5)\n      If (feature 0 <= 1.295E8)\n       Predict: 7.55356711E8\n      Else (feature 0 > 1.295E8)\n       Predict: 7.02678973E8\n\n\n=== tree 8 ===\nDecisionTreeRegressionModel: uid=dtr_277ee3afb574, depth=5, numNodes=61, numFeatures=13\n  If (feature 0 <= 8.55E7)\n   If (feature 1 <= 2653.5)\n\n\n*** WARNING: max output size exceeded, skipping output. ***\n\nure 4 <= 1989.5)\n       Predict: 1.277484382173913E8\n      Else (feature 4 > 1989.5)\n       Predict: 2.4613141688607594E8\n     Else (feature 4 > 2006.5)\n      If (feature 0 <= 6.95E7)\n       Predict: 2.1484604630392158E8\n      Else (feature 0 > 6.95E7)\n       Predict: 5.0405125158064514E8\n    Else (feature 5 > 0.5)\n     If (feature 1 <= 9150.0)\n      If (feature 11 <= 0.5)\n       Predict: 5.0756380011764705E8\n      Else (feature 11 > 0.5)\n       Predict: 1.72349650375E8\n     Else (feature 1 > 9150.0)\n      If (feature 2 <= 133.5)\n       Predict: 6.306204366125E8\n      Else (feature 2 > 133.5)\n       Predict: 1.078455748767857E9\n\n\n=== tree 42 ===\nDecisionTreeRegressionModel: uid=dtr_41fa9e86f931, depth=5, numNodes=63, numFeatures=13\n  If (feature 1 <= 4262.5)\n   If (feature 1 <= 1291.0)\n    If (feature 1 <= 639.5)\n     If (feature 0 <= 1.295E8)\n      If (feature 3 <= 0.5)\n       Predict: 2.260432473053152E7\n      Else (feature 3 > 0.5)\n       Predict: 9535427.512229832\n     Else (feature 0 > 1.295E8)\n      If (feature 4 <= 2023.5)\n       Predict: 2.564516749642857E8\n      Else (feature 4 > 2023.5)\n       Predict: 1.5126624364E9\n    Else (feature 1 > 639.5)\n     If (feature 0 <= 2.48125E7)\n      If (feature 4 <= 2009.5)\n       Predict: 2.9230736191836733E7\n      Else (feature 4 > 2009.5)\n       Predict: 1.841711841044776E7\n     Else (feature 0 > 2.48125E7)\n      If (feature 2 <= 156.5)\n       Predict: 6.456597869376694E7\n      Else (feature 2 > 156.5)\n       Predict: 1.276509065E8\n   Else (feature 1 > 1291.0)\n    If (feature 4 <= 2022.5)\n     If (feature 1 <= 2653.5)\n      If (feature 8 <= 0.5)\n       Predict: 4.319827426174497E7\n      Else (feature 8 > 0.5)\n       Predict: 7.874637684825328E7\n     Else (feature 1 > 2653.5)\n      If (feature 7 <= 0.5)\n       Predict: 1.627116124642857E8\n      Else (feature 7 > 0.5)\n       Predict: 1.126894552184466E8\n    Else (feature 4 > 2022.5)\n     If (feature 5 <= 0.5)\n      If (feature 0 <= 2.075E7)\n       Predict: 4.5974258666666664E7\n      Else (feature 0 > 2.075E7)\n       Predict: 1.994878848888889E8\n     Else (feature 5 > 0.5)\n      If (feature 6 <= 6.169499999999999)\n       Predict: 5.5E7\n      Else (feature 6 > 6.169499999999999)\n       Predict: 4.71740529625E8\n  Else (feature 1 > 4262.5)\n   If (feature 1 <= 9150.0)\n    If (feature 0 <= 5.45E7)\n     If (feature 0 <= 1.91007415E7)\n      If (feature 8 <= 0.5)\n       Predict: 1.5601406642857144E7\n      Else (feature 8 > 0.5)\n       Predict: 1.0959155466055046E8\n     Else (feature 0 > 1.91007415E7)\n      If (feature 3 <= 20.5)\n       Predict: 1.9856748555769232E8\n      Else (feature 3 > 20.5)\n       Predict: 1.440137846969697E8\n    Else (feature 0 > 5.45E7)\n     If (feature 5 <= 0.5)\n      If (feature 4 <= 2014.5)\n       Predict: 2.8596466426373625E8\n      Else (feature 4 > 2014.5)\n       Predict: 3.821391962647059E8\n     Else (feature 5 > 0.5)\n      If (feature 0 <= 1.295E8)\n       Predict: 3.3366567414893615E8\n      Else (feature 0 > 1.295E8)\n       Predict: 5.093606318181818E8\n   Else (feature 1 > 9150.0)\n    If (feature 5 <= 0.5)\n     If (feature 9 <= 59.0505)\n      If (feature 0 <= 2.85E7)\n       Predict: 1.3381692939534883E8\n      Else (feature 0 > 2.85E7)\n       Predict: 4.0152333766E8\n     Else (feature 9 > 59.0505)\n      If (feature 2 <= 156.5)\n       Predict: 4.4990023213793105E8\n      Else (feature 2 > 156.5)\n       Predict: 1.31042256825E9\n    Else (feature 5 > 0.5)\n     If (feature 9 <= 59.0505)\n      If (feature 9 <= 13.7135)\n       Predict: 4.13052374E8\n      Else (feature 9 > 13.7135)\n       Predict: 6.995636945846153E8\n     Else (feature 9 > 59.0505)\n      If (feature 6 <= 7.9315)\n       Predict: 8.11081239862745E8\n      Else (feature 6 > 7.9315)\n       Predict: 1.3100223733888888E9\n\n\n=== tree 43 ===\nDecisionTreeRegressionModel: uid=dtr_eb63df4e6651, depth=5, numNodes=63, numFeatures=13\n  If (feature 0 <= 6.95E7)\n   If (feature 1 <= 1760.5)\n    If (feature 0 <= 2.85E7)\n     If (feature 9 <= 14.277999999999999)\n      If (feature 9 <= 8.0765)\n       Predict: 6731538.139084317\n      Else (feature 9 > 8.0765)\n       Predict: 1.301999681993569E7\n     Else (feature 9 > 14.277999999999999)\n      If (feature 0 <= 1.00538635E7)\n       Predict: 2.103476837884767E7\n      Else (feature 0 > 1.00538635E7)\n       Predict: 4.429624496830986E7\n    Else (feature 0 > 2.85E7)\n     If (feature 3 <= 0.5)\n      If (feature 2 <= 125.5)\n       Predict: 5.1156911004761904E8\n      Else (feature 2 > 125.5)\n       Predict: 2.64771885E8\n     Else (feature 3 > 0.5)\n      If (feature 5 <= 0.5)\n       Predict: 4.985294191407678E7\n      Else (feature 5 > 0.5)\n       Predict: 6.241626548251748E7\n   Else (feature 1 > 1760.5)\n    If (feature 9 <= 43.0295)\n     If (feature 1 <= 4262.5)\n      If (feature 2 <= 125.5)\n       Predict: 8.106412035233918E7\n      Else (feature 2 > 125.5)\n       Predict: 1.2324652530232558E8\n     Else (feature 1 > 4262.5)\n      If (feature 0 <= 1.215E7)\n       Predict: 7.85894447E7\n      Else (feature 0 > 1.215E7)\n       Predict: 1.9150568404285714E8\n    Else (feature 9 > 43.0295)\n     If (feature 5 <= 0.5)\n      If (feature 0 <= 1.00538635E7)\n       Predict: 9.747821902941176E7\n      Else (feature 0 > 1.00538635E7)\n       Predict: 2.0798904038043478E8\n     Else (feature 5 > 0.5)\n      If (feature 1 <= 9150.0)\n       Predict: 2.2901532114814815E8\n      Else (feature 1 > 9150.0)\n       Predict: 4.424534068333333E8\n  Else (feature 0 > 6.95E7)\n   If (feature 1 <= 9150.0)\n    If (feature 9 <= 59.0505)\n     If (feature 4 <= 2023.5)\n      If (feature 3 <= 25.5)\n       Predict: 2.2686979735685483E8\n      Else (feature 3 > 25.5)\n       Predict: 3.226279214109589E8\n     Else (feature 4 > 2023.5)\n      If (feature 3 <= 4.5)\n       Predict: 3.0E9\n      Else (feature 3 > 4.5)\n       Predict: 4.5326504271428573E8\n    Else (feature 9 > 59.0505)\n     If (feature 3 <= 18.5)\n      If (feature 3 <= 3.5)\n       Predict: 2.60109297875E8\n      Else (feature 3 > 3.5)\n       Predict: 4.0474081909375E8\n     Else (feature 3 > 18.5)\n      If (feature 3 <= 20.5)\n       Predict: 1.1165568424444444E9\n      Else (feature 3 > 20.5)\n       Predict: 6.146600206428572E8\n   Else (feature 1 > 9150.0)\n    If (feature 2 <= 174.5)\n     If (feature 0 <= 1.295E8)\n      If (feature 3 <= 15.5)\n       Predict: 4.159594054E8\n      Else (feature 3 > 15.5)\n       Predict: 5.452113814074074E8\n     Else (feature 0 > 1.295E8)\n      If (feature 4 <= 2017.5)\n       Predict: 8.038284383108108E8\n      Else (feature 4 > 2017.5)\n       Predict: 1.350704911E9\n    Else (feature 2 > 174.5)\n     If (feature 4 <= 2013.5)\n      If (feature 0 <= 1.295E8)\n       Predict: 5.747017316666666E8\n      Else (feature 0 > 1.295E8)\n       Predict: 2.264162353E9\n     Else (feature 4 > 2013.5)\n      If (feature 4 <= 2019.5)\n       Predict: 2.8E9\n      Else (feature 4 > 2019.5)\n       Predict: 2.320250281E9\n\n\n=== tree 44 ===\nDecisionTreeRegressionModel: uid=dtr_0b58118276dc, depth=5, numNodes=57, numFeatures=13\n  If (feature 4 <= 1989.5)\n   If (feature 0 <= 8.55E7)\n    If (feature 0 <= 2.85E7)\n     If (feature 6 <= 6.108499999999999)\n      If (feature 9 <= 0.6005)\n       Predict: 1.6765702875985663E7\n      Else (feature 9 > 0.6005)\n       Predict: 7924875.768686868\n     Else (feature 6 > 6.108499999999999)\n      If (feature 9 <= 17.9435)\n       Predict: 1.4900339188557616E7\n      Else (feature 9 > 17.9435)\n       Predict: 5.494694610755814E7\n    Else (feature 0 > 2.85E7)\n     If (feature 1 <= 0.5)\n      If (feature 0 <= 4.475E7)\n       Predict: 2.3836030246153846E8\n      Else (feature 0 > 4.475E7)\n       Predict: 6.05925E8\n     Else (feature 1 > 0.5)\n      If (feature 7 <= 0.5)\n       Predict: 1.3022587513157895E8\n      Else (feature 7 > 0.5)\n       Predict: 7.39700521111111E7\n   Else (feature 0 > 8.55E7)\n    If (feature 2 <= 91.5)\n     If (feature 9 <= 0.6005)\n      Predict: 7.666666666666667\n     Else (feature 9 > 0.6005)\n      Predict: 2.93E9\n    Else (feature 2 > 91.5)\n     If (feature 10 <= 0.5)\n      If (feature 6 <= 0.5)\n       Predict: 4.36693013E8\n      Else (feature 6 > 0.5)\n       Predict: 4.75E8\n     Else (feature 10 > 0.5)\n      Predict: 9.7647555E8\n  Else (feature 4 > 1989.5)\n   If (feature 1 <= 5891.0)\n    If (feature 8 <= 0.5)\n     If (feature 4 <= 2021.5)\n      If (feature 0 <= 1.64691375E7)\n       Predict: 6864764.256604507\n      Else (feature 0 > 1.64691375E7)\n       Predict: 5.6103184883064516E7\n     Else (feature 4 > 2021.5)\n      If (feature 0 <= 6.95E7)\n       Predict: 1.7360857015246637E7\n      Else (feature 0 > 6.95E7)\n       Predict: 5.4630379556E8\n    Else (feature 8 > 0.5)\n     If (feature 1 <= 1502.5)\n      If (feature 2 <= 156.5)\n       Predict: 1.900686822993133E7\n      Else (feature 2 > 156.5)\n       Predict: 9.721345470175439E7\n     Else (feature 1 > 1502.5)\n      If (feature 1 <= 3360.0)\n       Predict: 1.0125513107865168E8\n      Else (feature 1 > 3360.0)\n       Predict: 1.8939017481534773E8\n   Else (feature 1 > 5891.0)\n    If (feature 0 <= 1.295E8)\n     If (feature 0 <= 4.475E7)\n      If (feature 4 <= 1994.5)\n       Predict: 2.699419175E8\n      Else (feature 4 > 1994.5)\n       Predict: 1.6371068937956205E8\n     Else (feature 0 > 4.475E7)\n      If (feature 6 <= 7.745)\n       Predict: 3.780154930492958E8\n      Else (feature 6 > 7.745)\n       Predict: 5.80835550882353E8\n    Else (feature 0 > 1.295E8)\n     If (feature 2 <= 174.5)\n      If (feature 9 <= 59.0505)\n       Predict: 5.472212505243902E8\n      Else (feature 9 > 59.0505)\n       Predict: 8.547382678333334E8\n     Else (feature 2 > 174.5)\n      If (feature 1 <= 9150.0)\n       Predict: 5.05792197E8\n      Else (feature 1 > 9150.0)\n       Predict: 2.433283945857143E9\n\n\n=== tree 45 ===\nDecisionTreeRegressionModel: uid=dtr_4cfe2d1d2993, depth=5, numNodes=61, numFeatures=13\n  If (feature 1 <= 5891.0)\n   If (feature 0 <= 5.45E7)\n    If (feature 1 <= 1502.5)\n     If (feature 2 <= 107.5)\n      If (feature 0 <= 1.00538635E7)\n       Predict: 6922011.040642303\n      Else (feature 0 > 1.00538635E7)\n       Predict: 3.191824741412214E7\n     Else (feature 2 > 107.5)\n      If (feature 9 <= 12.657)\n       Predict: 1.2939529898070622E7\n      Else (feature 9 > 12.657)\n       Predict: 3.455536832463011E7\n    Else (feature 1 > 1502.5)\n     If (feature 0 <= 2.075E7)\n      If (feature 6 <= 6.8995)\n       Predict: 7.779747782916667E7\n      Else (feature 6 > 6.8995)\n       Predict: 4.1246193020833336E7\n     Else (feature 0 > 2.075E7)\n      If (feature 9 <= 17.9435)\n       Predict: 8.657639117757009E7\n      Else (feature 9 > 17.9435)\n       Predict: 1.2672146927860697E8\n   Else (feature 0 > 5.45E7)\n    If (feature 9 <= 1.402)\n     If (feature 8 <= 0.5)\n      If (feature 9 <= 1.057)\n       Predict: 3.266116139767442E8\n      Else (feature 9 > 1.057)\n       Predict: 7.676470376428572E8\n     Else (feature 8 > 0.5)\n      If (feature 2 <= 174.5)\n       Predict: 5.395165265E8\n      Else (feature 2 > 174.5)\n       Predict: 3.0E9\n    Else (feature 9 > 1.402)\n     If (feature 9 <= 27.2245)\n      If (feature 0 <= 6.95E7)\n       Predict: 1.011187344180791E8\n      Else (feature 0 > 6.95E7)\n       Predict: 1.351597266135458E8\n     Else (feature 9 > 27.2245)\n      If (feature 6 <= 7.745)\n       Predict: 2.545452993562753E8\n      Else (feature 6 > 7.745)\n       Predict: 5.308686283636364E8\n  Else (feature 1 > 5891.0)\n   If (feature 5 <= 0.5)\n    If (feature 1 <= 9150.0)\n     If (feature 6 <= 6.8345)\n      If (feature 0 <= 8.55E7)\n       Predict: 2.2140957776666668E8\n      Else (feature 0 > 8.55E7)\n       Predict: 4.2049066347619045E8\n     Else (feature 6 > 6.8345)\n      If (feature 10 <= 0.5)\n       Predict: 1.9092406393E8\n      Else (feature 10 > 0.5)\n       Predict: 1.1364475033333333E8\n    Else (feature 1 > 9150.0)\n     If (feature 6 <= 7.500500000000001)\n      If (feature 0 <= 4.475E7)\n       Predict: 2.398732965882353E8\n      Else (feature 0 > 4.475E7)\n       Predict: 7.115338480434783E8\n     Else (feature 6 > 7.500500000000001)\n      If (feature 9 <= 43.0295)\n       Predict: 1.6374668633333334E8\n      Else (feature 9 > 43.0295)\n       Predict: 4.026787433076923E8\n   Else (feature 5 > 0.5)\n    If (feature 0 <= 1.295E8)\n     If (feature 12 <= 0.5)\n      If (feature 0 <= 4.475E7)\n       Predict: 2.8672710146153843E8\n      Else (feature 0 > 4.475E7)\n       Predict: 5.568698689014084E8\n     Else (feature 12 > 0.5)\n      If (feature 3 <= 18.5)\n       Predict: 1.85974586E8\n      Else (feature 3 > 18.5)\n       Predict: 5.08415835E8\n    Else (feature 0 > 1.295E8)\n     If (feature 6 <= 7.9315)\n      If (feature 6 <= 7.308)\n       Predict: 6.841604069444444E8\n      Else (feature 6 > 7.308)\n       Predict: 9.197739220930233E8\n     Else (feature 6 > 7.9315)\n      Predict: 1.869197683625E9\n\n\n=== tree 46 ===\nDecisionTreeRegressionModel: uid=dtr_651bf718f76b, depth=5, numNodes=61, numFeatures=13\n  If (feature 1 <= 5891.0)\n   If (feature 0 <= 3.775E7)\n    If (feature 9 <= 17.0165)\n     If (feature 11 <= 0.5)\n      If (feature 0 <= 9150000.0)\n       Predict: 6544369.379630464\n      Else (feature 0 > 9150000.0)\n       Predict: 2.762044860790885E7\n     Else (feature 11 > 0.5)\n      If (feature 0 <= 2.85E7)\n       Predict: 2.5581810739811912E7\n      Else (feature 0 > 2.85E7)\n       Predict: 3.1025898071428573E8\n    Else (feature 9 > 17.0165)\n     If (feature 1 <= 1502.5)\n      If (feature 2 <= 147.5)\n       Predict: 2.8643121049239032E7\n      Else (feature 2 > 147.5)\n       Predict: 9.880460045454545E7\n     Else (feature 1 > 1502.5)\n      If (feature 9 <= 43.0295)\n       Predict: 7.586124050529501E7\n      Else (feature 9 > 43.0295)\n       Predict: 1.2501547248051947E8\n   Else (feature 0 > 3.775E7)\n    If (feature 4 <= 2023.5)\n     If (feature 2 <= 137.5)\n      If (feature 9 <= 1.402)\n       Predict: 2.979196750289855E8\n      Else (feature 9 > 1.402)\n       Predict: 1.2642749369057377E8\n     Else (feature 2 > 137.5)\n      If (feature 4 <= 2021.5)\n       Predict: 1.9217692043220338E8\n      Else (feature 4 > 2021.5)\n       Predict: 4.14216872125E8\n    Else (feature 4 > 2023.5)\n     If (feature 9 <= 0.3)\n      Predict: 3.0E9\n     Else (feature 9 > 0.3)\n      If (feature 1 <= 0.5)\n       Predict: 1.0E9\n      Else (feature 1 > 0.5)\n       Predict: 2.954478235E8\n  Else (feature 1 > 5891.0)\n   If (feature 1 <= 9150.0)\n    If (feature 0 <= 4.475E7)\n     If (feature 0 <= 1.00538635E7)\n      If (feature 8 <= 0.5)\n       Predict: 3.16755655E7\n      Else (feature 8 > 0.5)\n       Predict: 7.152483872727273E7\n     Else (feature 0 > 1.00538635E7)\n      If (feature 9 <= 59.0505)\n       Predict: 1.530260796851852E8\n      Else (feature 9 > 59.0505)\n       Predict: 3.851513254E8\n    Else (feature 0 > 4.475E7)\n     If (feature 2 <= 94.5)\n      If (feature 4 <= 2016.5)\n       Predict: 5.4017717005E8\n      Else (feature 4 > 2016.5)\n       Predict: 1.355725263E9\n     Else (feature 2 > 94.5)\n      If (feature 0 <= 1.295E8)\n       Predict: 3.2251257997530866E8\n      Else (feature 0 > 1.295E8)\n       Predict: 4.77688408875E8\n   Else (feature 1 > 9150.0)\n    If (feature 4 <= 2001.5)\n     If (feature 10 <= 0.5)\n      If (feature 2 <= 98.5)\n       Predict: 5.47288179375E8\n      Else (feature 2 > 98.5)\n       Predict: 2.828206380731707E8\n     Else (feature 10 > 0.5)\n      If (feature 2 <= 108.5)\n       Predict: 7.83712E7\n      Else (feature 2 > 108.5)\n       Predict: 3.5314525E7\n    Else (feature 4 > 2001.5)\n     If (feature 5 <= 0.5)\n      If (feature 6 <= 6.952500000000001)\n       Predict: 5.753872087916666E8\n      Else (feature 6 > 6.952500000000001)\n       Predict: 3.592512959491525E8\n     Else (feature 5 > 0.5)\n      If (feature 6 <= 7.233499999999999)\n       Predict: 6.598089675098039E8\n      Else (feature 6 > 7.233499999999999)\n       Predict: 1.0335294707454545E9\n\n\n=== tree 47 ===\nDecisionTreeRegressionModel: uid=dtr_fb6035bf4918, depth=5, numNodes=63, numFeatures=13\n  If (feature 9 <= 30.2375)\n   If (feature 1 <= 2653.5)\n    If (feature 1 <= 974.5)\n     If (feature 0 <= 1.295E8)\n      If (feature 4 <= 1908.0)\n       Predict: 3.1767459302488834E7\n      Else (feature 4 > 1908.0)\n       Predict: 1.0622925805154204E7\n     Else (feature 0 > 1.295E8)\n      If (feature 4 <= 2023.5)\n       Predict: 4.3772214761904764E8\n      Else (feature 4 > 2023.5)\n       Predict: 1.862443042142857E9\n    Else (feature 1 > 974.5)\n     If (feature 0 <= 3.775E7)\n      If (feature 12 <= 0.5)\n       Predict: 5.02173403125E7\n      Else (feature 12 > 0.5)\n       Predict: 3.405536900879765E7\n     Else (feature 0 > 3.775E7)\n      If (feature 1 <= 1291.0)\n       Predict: 7.590810233653846E7\n      Else (feature 1 > 1291.0)\n       Predict: 1.1762545310852714E8\n   Else (feature 1 > 2653.5)\n    If (feature 5 <= 0.5)\n     If (feature 0 <= 6.95E7)\n      If (feature 4 <= 1970.5)\n       Predict: 1.3269445454545455E7\n      Else (feature 4 > 1970.5)\n       Predict: 1.1503143652519894E8\n     Else (feature 0 > 6.95E7)\n      If (feature 0 <= 1.295E8)\n       Predict: 2.4062413755384615E8\n      Else (feature 0 > 1.295E8)\n       Predict: 4.217795596111111E8\n    Else (feature 5 > 0.5)\n     If (feature 1 <= 5891.0)\n      If (feature 4 <= 1997.5)\n       Predict: 2.478338577777778E8\n      Else (feature 4 > 1997.5)\n       Predict: 1.540316061E8\n     Else (feature 1 > 5891.0)\n      If (feature 7 <= 0.5)\n       Predict: 5.373707947647059E8\n      Else (feature 7 > 0.5)\n       Predict: 9.5093606E7\n  Else (feature 9 > 30.2375)\n   If (feature 0 <= 1.295E8)\n    If (feature 1 <= 3360.0)\n     If (feature 0 <= 5.45E7)\n      If (feature 8 <= 0.5)\n       Predict: 2.9181663505617976E7\n      Else (feature 8 > 0.5)\n       Predict: 6.429137578409091E7\n     Else (feature 0 > 5.45E7)\n      If (feature 1 <= 1760.5)\n       Predict: 9.456107791304348E7\n      Else (feature 1 > 1760.5)\n       Predict: 2.291398945277778E8\n    Else (feature 1 > 3360.0)\n     If (feature 0 <= 4.475E7)\n      If (feature 1 <= 9150.0)\n       Predict: 1.4549552445833334E8\n      Else (feature 1 > 9150.0)\n       Predict: 2.0436018364473686E8\n     Else (feature 0 > 4.475E7)\n      If (feature 1 <= 9150.0)\n       Predict: 2.821388187218935E8\n      Else (feature 1 > 9150.0)\n       Predict: 5.0411208975342464E8\n   Else (feature 0 > 1.295E8)\n    If (feature 1 <= 9150.0)\n     If (feature 4 <= 2021.5)\n      If (feature 3 <= 28.5)\n       Predict: 3.735038656533333E8\n      Else (feature 3 > 28.5)\n       Predict: 5.672297735555556E8\n     Else (feature 4 > 2021.5)\n      If (feature 9 <= 59.0505)\n       Predict: 9.876118833333333E7\n      Else (feature 9 > 59.0505)\n       Predict: 5.35489978875E8\n    Else (feature 1 > 9150.0)\n     If (feature 10 <= 0.5)\n      If (feature 2 <= 174.5)\n       Predict: 8.846065774461539E8\n      Else (feature 2 > 174.5)\n       Predict: 2.6928324706E9\n     Else (feature 10 > 0.5)\n      If (feature 2 <= 141.5)\n       Predict: 5.690149263076923E8\n      Else (feature 2 > 141.5)\n       Predict: 1.107491790125E9\n\n\n=== tree 48 ===\nDecisionTreeRegressionModel: uid=dtr_6f6f9ef53e54, depth=5, numNodes=63, numFeatures=13\n  If (feature 1 <= 5891.0)\n   If (feature 0 <= 3.775E7)\n    If (feature 6 <= 6.108499999999999)\n     If (feature 0 <= 6550000.0)\n      If (feature 2 <= 174.5)\n       Predict: 6138825.808227653\n      Else (feature 2 > 174.5)\n       Predict: 1.02673623010101E8\n     Else (feature 0 > 6550000.0)\n      If (feature 6 <= 0.5)\n       Predict: 2.799712721515151E8\n      Else (feature 6 > 0.5)\n       Predict: 2.3967800368814193E7\n    Else (feature 6 > 6.108499999999999)\n     If (feature 11 <= 0.5)\n      If (feature 9 <= 17.0165)\n       Predict: 1.1000544523327306E7\n      Else (feature 9 > 17.0165)\n       Predict: 5.443313338784067E7\n     Else (feature 11 > 0.5)\n      If (feature 1 <= 10.5)\n       Predict: 4398424.92\n      Else (feature 1 > 10.5)\n       Predict: 1.0255989157936507E8\n   Else (feature 0 > 3.775E7)\n    If (feature 9 <= 1.402)\n     If (feature 9 <= 1.2175)\n      If (feature 10 <= 0.5)\n       Predict: 3.118873398208955E8\n      Else (feature 10 > 0.5)\n       Predict: 9.7647555E8\n     Else (feature 9 > 1.2175)\n      If (feature 5 <= 0.5)\n       Predict: 1.1945698652307692E9\n      Else (feature 5 > 0.5)\n       Predict: 1.8072381525E8\n    Else (feature 9 > 1.402)\n     If (feature 0 <= 1.295E8)\n      If (feature 1 <= 2653.5)\n       Predict: 8.491033972038567E7\n      Else (feature 1 > 2653.5)\n       Predict: 1.9354459924842766E8\n     Else (feature 0 > 1.295E8)\n      If (feature 6 <= 6.952500000000001)\n       Predict: 2.727510137878788E8\n      Else (feature 6 > 6.952500000000001)\n       Predict: 4.428113631764706E8\n  Else (feature 1 > 5891.0)\n   If (feature 0 <= 8.55E7)\n    If (feature 2 <= 91.5)\n     If (feature 12 <= 0.5)\n      If (feature 1 <= 9150.0)\n       Predict: 4.6790404514285713E8\n      Else (feature 1 > 9150.0)\n       Predict: 8.6177441125E8\n     Else (feature 12 > 0.5)\n      If (feature 0 <= 3002500.0)\n       Predict: 8.9328627E7\n      Else (feature 0 > 3002500.0)\n       Predict: 1.59047649E8\n    Else (feature 2 > 91.5)\n     If (feature 1 <= 9150.0)\n      If (feature 10 <= 0.5)\n       Predict: 2.1859181998373982E8\n      Else (feature 10 > 0.5)\n       Predict: 9.13587942962963E7\n     Else (feature 1 > 9150.0)\n      If (feature 5 <= 0.5)\n       Predict: 2.3757514708490565E8\n      Else (feature 5 > 0.5)\n       Predict: 4.944673778888889E8\n   Else (feature 0 > 8.55E7)\n    If (feature 5 <= 0.5)\n     If (feature 4 <= 1997.5)\n      If (feature 0 <= 1.295E8)\n       Predict: 5.2E8\n      Else (feature 0 > 1.295E8)\n       Predict: 2.264162353E9\n     Else (feature 4 > 1997.5)\n      If (feature 1 <= 9150.0)\n       Predict: 3.1656995532E8\n      Else (feature 1 > 9150.0)\n       Predict: 6.275291025227273E8\n    Else (feature 5 > 0.5)\n     If (feature 9 <= 59.0505)\n      If (feature 9 <= 43.0295)\n       Predict: 5.0111504346666664E8\n      Else (feature 9 > 43.0295)\n       Predict: 7.035738258108108E8\n     Else (feature 9 > 59.0505)\n      If (feature 4 <= 2019.5)\n       Predict: 9.666998122878788E8\n      Else (feature 4 > 2019.5)\n       Predict: 6.266104068E8\n\n\n=== tree 49 ===\nDecisionTreeRegressionModel: uid=dtr_205c969ad63d, depth=5, numNodes=63, numFeatures=13\n  If (feature 1 <= 5891.0)\n   If (feature 1 <= 1760.5)\n    If (feature 0 <= 8.55E7)\n     If (feature 9 <= 12.1445)\n      If (feature 4 <= 1908.0)\n       Predict: 2.040939063625E7\n      Else (feature 4 > 1908.0)\n       Predict: 7017783.8891728865\n     Else (feature 9 > 12.1445)\n      If (feature 0 <= 3.10262375E7)\n       Predict: 2.607873647074923E7\n      Else (feature 0 > 3.10262375E7)\n       Predict: 7.82940248716475E7\n    Else (feature 0 > 8.55E7)\n     If (feature 3 <= 2.5)\n      If (feature 5 <= 0.5)\n       Predict: 5.431059128148148E8\n      Else (feature 5 > 0.5)\n       Predict: 2.7989779125E8\n     Else (feature 3 > 2.5)\n      If (feature 0 <= 1.295E8)\n       Predict: 1.1793876867213115E8\n      Else (feature 0 > 1.295E8)\n       Predict: 3.1747007752380955E8\n   Else (feature 1 > 1760.5)\n    If (feature 1 <= 3360.0)\n     If (feature 9 <= 17.9435)\n      If (feature 7 <= 0.5)\n       Predict: 7.253836268604651E7\n      Else (feature 7 > 0.5)\n       Predict: 4.033516987128713E7\n     Else (feature 9 > 17.9435)\n      If (feature 0 <= 4.475E7)\n       Predict: 7.44750749201995E7\n      Else (feature 0 > 4.475E7)\n       Predict: 1.6588716178894472E8\n    Else (feature 1 > 3360.0)\n     If (feature 4 <= 2022.5)\n      If (feature 0 <= 6.95E7)\n       Predict: 1.271928479484536E8\n      Else (feature 0 > 6.95E7)\n       Predict: 2.777825294936709E8\n     Else (feature 4 > 2022.5)\n      If (feature 3 <= 5.5)\n       Predict: 8.45430302E8\n      Else (feature 3 > 5.5)\n       Predict: 1.181122514E9\n  Else (feature 1 > 5891.0)\n   If (feature 9 <= 59.0505)\n    If (feature 0 <= 5.45E7)\n     If (feature 0 <= 6550000.0)\n      If (feature 6 <= 7.745)\n       Predict: 7.462745776923077E7\n      Else (feature 6 > 7.745)\n       Predict: 2.3313121954545453E7\n     Else (feature 0 > 6550000.0)\n      If (feature 5 <= 0.5)\n       Predict: 1.8841388487903225E8\n      Else (feature 5 > 0.5)\n       Predict: 3.366713303125E8\n    Else (feature 0 > 5.45E7)\n     If (feature 5 <= 0.5)\n      If (feature 6 <= 7.745)\n       Predict: 3.7795021562886596E8\n      Else (feature 6 > 7.745)\n       Predict: 6.401673304545455E8\n     Else (feature 5 > 0.5)\n      If (feature 0 <= 1.295E8)\n       Predict: 4.5044855089361703E8\n      Else (feature 0 > 1.295E8)\n       Predict: 6.272942153797468E8\n   Else (feature 9 > 59.0505)\n    If (feature 0 <= 1.295E8)\n     If (feature 5 <= 0.5)\n      If (feature 2 <= 112.5)\n       Predict: 2.210989491111111E8\n      Else (feature 2 > 112.5)\n       Predict: 3.890737265294118E8\n     Else (feature 5 > 0.5)\n      If (feature 10 <= 0.5)\n       Predict: 5.0247751284615386E8\n      Else (feature 10 > 0.5)\n       Predict: 1.341511219E9\n    Else (feature 0 > 1.295E8)\n     If (feature 2 <= 174.5)\n      If (feature 3 <= 22.5)\n       Predict: 9.260279608636364E8\n      Else (feature 3 > 22.5)\n       Predict: 7.50806733E8\n     Else (feature 2 > 174.5)\n      If (feature 7 <= 0.5)\n       Predict: 2.320250281E9\n      Else (feature 7 > 0.5)\n       Predict: 2.264162353E9\n\n"
     ]
    }
   ],
   "source": [
    "for i, t in enumerate(rf_model.trees):\n",
    "    print(f\"\\n=== tree {i} ===\")\n",
    "    print(t.toDebugString)"
   ]
  }
 ],
 "metadata": {
  "application/vnd.databricks.v1+notebook": {
   "computePreferences": null,
   "dashboards": [],
   "environmentMetadata": {
    "base_environment": "",
    "environment_version": "1"
   },
   "inputWidgetPreferences": null,
   "language": "python",
   "notebookMetadata": {
    "pythonIndentUnit": 4
   },
   "notebookName": "final_model",
   "widgets": {}
  }
 },
 "nbformat": 4,
 "nbformat_minor": 0
}