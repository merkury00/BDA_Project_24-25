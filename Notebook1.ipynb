{
 "cells": [
  {
   "cell_type": "markdown",
   "metadata": {},
   "source": [
    "### Big Data Analytics Project - Group 12\n",
    "\n",
    "# 📊 **[Project Title]**\n",
    "\n",
    "\n",
    "## 👥 **Contributors | Group 12**\n",
    "- **Diogo Rodrigues, 20240512**\n",
    "- **Rafael Silva, 20240511**\n",
    "- **Zofia Wójcik, 20240654**"
   ]
  },
  {
   "cell_type": "markdown",
   "metadata": {},
   "source": [
    "## 📖 Project Overview\n",
    "This project is part of the **Big Data Analytics (BDA) course** in the **Master's in Data Science and Advanced Analytics** at **NOVA IMS**.\n",
    "\n",
    "### 🔍 Problem Statement\n",
    "[Briefly describe the problem your project aims to solve.]\n",
    "\n",
    "### 🎯 Objectives\n",
    "- [Objective 1]\n",
    "- [Objective 2]\n",
    "- [Objective 3]"
   ]
  },
  {
   "cell_type": "markdown",
   "metadata": {},
   "source": [
    "## 🗂 **Table of Contents**\n",
    "\n",
    "1. [Introduction](#introduction)\n",
    "2. [Data Collection & Preprocessing](#data-collection--preprocessing)\n",
    "3. [Exploratory Data Analysis](#exploratory-data-analysis)\n",
    "   - [3.1 Visualizing & Understanding Data](#visualizing--understanding-data)\n",
    "   - [3.2 Feature Engineering](#feature-engineering)\n"
   ]
  },
  {
   "cell_type": "markdown",
   "metadata": {},
   "source": [
    "## 🔹 1. Introduction <a id='introduction'></a>\n",
    "---\n",
    "### 📝 Overview\n",
    "Provide an introduction to the project and define the research problem."
   ]
  },
  {
   "cell_type": "markdown",
   "metadata": {},
   "source": [
    "## 📥 2. Data Collection & Preprocessing <a id='data-collection--preprocessing'></a>\n",
    "---\n",
    "### 🔍 Data Sources\n",
    "Describe where the data comes from and how it is collected."
   ]
  },
  {
   "cell_type": "markdown",
   "metadata": {},
   "source": [
    "## 📊 3. Exploratory Data Analysis <a id='exploratory-data-analysis'></a>\n",
    "---"
   ]
  },
  {
   "cell_type": "markdown",
   "metadata": {},
   "source": [
    "### 📈 3.1 Visualizing & Understanding Data <a id='visualizing--understanding-data'></a>\n",
    "Perform EDA with plots and summary statistics."
   ]
  },
  {
   "cell_type": "markdown",
   "metadata": {},
   "source": [
    "### 🛠 3.2 Feature Engineering <a id='feature-engineering'></a>\n",
    "Transform raw data into meaningful features."
   ]
  }
 ],
 "metadata": {
  "language_info": {
   "name": "python"
  }
 },
 "nbformat": 4,
 "nbformat_minor": 2
}
