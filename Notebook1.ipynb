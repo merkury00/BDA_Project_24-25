{
 "cells": [
  {
   "cell_type": "markdown",
   "metadata": {},
   "source": [
    "### Big Data Analytics Project - Group 12\n",
    "\n",
    "# 📊 **Movie Revenue Prediction Using MLlib**\n",
    "\n",
    "\n",
    "## 👥 **Contributors | Group 12**\n",
    "- **Diogo Rodrigues, 20240512**\n",
    "- **Rafael Silva, 20240511**\n",
    "- **Zofia Wójcik, 20240654**"
   ]
  },
  {
   "cell_type": "markdown",
   "metadata": {},
   "source": [
    "## 📖 Project Overview\n",
    "This project is part of the **Big Data Analytics (BDA) course** in the **Master's in Data Science and Advanced Analytics** at **NOVA IMS**.\n",
    "\n",
    "### 🔍 Problem Statement\n",
    "**Can we predict the box office revenue of a movie before it is released?**\n",
    "\n",
    "This project explores that question by building a **machine learning model** using **Apache Spark MLlib** to predict the **revenue** of a movie based on features such as budget, genre, popularity, vote average, and more.\n",
    "\n",
    "Accurate revenue predictions are valuable for studios, investors, and distributors, offering insights into risk management, marketing strategies, and production planning.\n",
    "\n",
    "### 🎯 Objectives\n",
    "- Identification of the most predictive features for revenue (e.g., budget, popularity)\n",
    "- Machine learning model with explainable performance metrics\n",
    "- Clear business insights for production and marketing strategies"
   ]
  },
  {
   "cell_type": "markdown",
   "metadata": {},
   "source": [
    "## 🗂 **Table of Contents**\n",
    "\n",
    "1. [Dataset](#dataset)\n",
    "2. [Imports](#imports)\n",
    "3. [Exploratory Data Analysis](#eda)\n",
    "   - [3.1 Visualizing & Understanding Data](#visualizing--understanding-data)\n",
    "   - [3.2 Feature Engineering](#feature-engineering)\n"
   ]
  },
  {
   "cell_type": "markdown",
   "metadata": {},
   "source": [
    "## 📖 1. Dataset <a id='dataset'></a>\n",
    "---\n",
    "### 🔍 Data Sources\n",
    "- **Data Source**: [Full IMDb Movies Data on Kaggle](https://www.kaggle.com/datasets/anandshaw2001/imdb-data)  \n",
    "- **Format**: CSV (~50,000 movie records)  "
   ]
  },
  {
   "cell_type": "markdown",
   "metadata": {},
   "source": [
    "## 📥 2. Imports <a id='imports'></a>\n",
    "---"
   ]
  },
  {
   "cell_type": "code",
   "execution_count": null,
   "metadata": {},
   "outputs": [],
   "source": [
    "# import libraries"
   ]
  },
  {
   "cell_type": "markdown",
   "metadata": {},
   "source": [
    "## 📊 3. Exploratory Data Analysis <a id='exploratory-data-analysis'></a>\n",
    "---"
   ]
  },
  {
   "cell_type": "markdown",
   "metadata": {},
   "source": [
    "### 📈 3.1 Visualizing & Understanding Data <a id='visualizing--understanding-data'></a>\n",
    "Perform EDA with plots and summary statistics."
   ]
  },
  {
   "cell_type": "markdown",
   "metadata": {},
   "source": [
    "### 🛠 3.2 Feature Engineering <a id='feature-engineering'></a>\n",
    "Transform raw data into meaningful features."
   ]
  }
 ],
 "metadata": {
  "language_info": {
   "name": "python"
  }
 },
 "nbformat": 4,
 "nbformat_minor": 2
}
