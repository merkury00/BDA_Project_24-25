{
 "cells": [
  {
   "cell_type": "markdown",
   "metadata": {
    "application/vnd.databricks.v1+cell": {
     "cellMetadata": {
      "byteLimit": 2048000,
      "rowLimit": 10000
     },
     "inputWidgets": {},
     "nuid": "9fe5c21b-ff45-46dc-b8b1-0a24fe30a87c",
     "showTitle": false,
     "tableResultSettingsMap": {},
     "title": ""
    }
   },
   "source": [
    "---\n",
    "## Imports\n",
    "---\n",
    "Below, we will import our dataset and all the libraries that will be used throughout this notebook."
   ]
  },
  {
   "cell_type": "code",
   "execution_count": 0,
   "metadata": {
    "application/vnd.databricks.v1+cell": {
     "cellMetadata": {
      "byteLimit": 2048000,
      "rowLimit": 10000
     },
     "inputWidgets": {},
     "nuid": "830fb0b0-fdff-4ce9-a9e7-f19123624f73",
     "showTitle": false,
     "tableResultSettingsMap": {},
     "title": ""
    }
   },
   "outputs": [
    {
     "output_type": "display_data",
     "data": {
      "text/html": [
       "<style scoped>\n",
       "  .table-result-container {\n",
       "    max-height: 300px;\n",
       "    overflow: auto;\n",
       "  }\n",
       "  table, th, td {\n",
       "    border: 1px solid black;\n",
       "    border-collapse: collapse;\n",
       "  }\n",
       "  th, td {\n",
       "    padding: 5px;\n",
       "  }\n",
       "  th {\n",
       "    text-align: left;\n",
       "  }\n",
       "</style><div class='table-result-container'><table class='table-result'><thead style='background-color: white'><tr><th>path</th><th>name</th><th>size</th><th>modificationTime</th></tr></thead><tbody><tr><td>dbfs:/FileStore/tables/2025_03_11___DBFS_Example_Classifier.ipynb</td><td>2025_03_11___DBFS_Example_Classifier.ipynb</td><td>68203</td><td>1742288094000</td></tr><tr><td>dbfs:/FileStore/tables/Clean_IMDBnew.csv</td><td>Clean_IMDBnew.csv</td><td>11897936</td><td>1748379618000</td></tr><tr><td>dbfs:/FileStore/tables/Clean_IMDBnew.parquet/</td><td>Clean_IMDBnew.parquet/</td><td>0</td><td>0</td></tr><tr><td>dbfs:/FileStore/tables/IMDB_CLEAN.csv</td><td>IMDB_CLEAN.csv</td><td>16096967</td><td>1748425316000</td></tr><tr><td>dbfs:/FileStore/tables/IMDB_CLEAN.parquet/</td><td>IMDB_CLEAN.parquet/</td><td>0</td><td>0</td></tr><tr><td>dbfs:/FileStore/tables/IMDB_Cleaned/</td><td>IMDB_Cleaned/</td><td>0</td><td>0</td></tr><tr><td>dbfs:/FileStore/tables/IMDB_cleannew.csv</td><td>IMDB_cleannew.csv</td><td>16096967</td><td>1748387484000</td></tr><tr><td>dbfs:/FileStore/tables/Imdb_Movie_Dataset-1.csv</td><td>Imdb_Movie_Dataset-1.csv</td><td>392283051</td><td>1746882391000</td></tr><tr><td>dbfs:/FileStore/tables/Imdb_Movie_Dataset-4.csv/</td><td>Imdb_Movie_Dataset-4.csv/</td><td>0</td><td>0</td></tr><tr><td>dbfs:/FileStore/tables/Imdb_Movie_Dataset.csv/</td><td>Imdb_Movie_Dataset.csv/</td><td>0</td><td>0</td></tr></tbody></table></div>"
      ]
     },
     "metadata": {
      "application/vnd.databricks.v1+output": {
       "addedWidgets": {},
       "aggData": [],
       "aggError": "",
       "aggOverflow": false,
       "aggSchema": [],
       "aggSeriesLimitReached": false,
       "aggType": "",
       "arguments": {},
       "columnCustomDisplayInfos": {},
       "data": [
        [
         "dbfs:/FileStore/tables/2025_03_11___DBFS_Example_Classifier.ipynb",
         "2025_03_11___DBFS_Example_Classifier.ipynb",
         68203,
         1742288094000
        ],
        [
         "dbfs:/FileStore/tables/Clean_IMDBnew.csv",
         "Clean_IMDBnew.csv",
         11897936,
         1748379618000
        ],
        [
         "dbfs:/FileStore/tables/Clean_IMDBnew.parquet/",
         "Clean_IMDBnew.parquet/",
         0,
         0
        ],
        [
         "dbfs:/FileStore/tables/IMDB_CLEAN.csv",
         "IMDB_CLEAN.csv",
         16096967,
         1748425316000
        ],
        [
         "dbfs:/FileStore/tables/IMDB_CLEAN.parquet/",
         "IMDB_CLEAN.parquet/",
         0,
         0
        ],
        [
         "dbfs:/FileStore/tables/IMDB_Cleaned/",
         "IMDB_Cleaned/",
         0,
         0
        ],
        [
         "dbfs:/FileStore/tables/IMDB_cleannew.csv",
         "IMDB_cleannew.csv",
         16096967,
         1748387484000
        ],
        [
         "dbfs:/FileStore/tables/Imdb_Movie_Dataset-1.csv",
         "Imdb_Movie_Dataset-1.csv",
         392283051,
         1746882391000
        ],
        [
         "dbfs:/FileStore/tables/Imdb_Movie_Dataset-4.csv/",
         "Imdb_Movie_Dataset-4.csv/",
         0,
         0
        ],
        [
         "dbfs:/FileStore/tables/Imdb_Movie_Dataset.csv/",
         "Imdb_Movie_Dataset.csv/",
         0,
         0
        ]
       ],
       "datasetInfos": [],
       "dbfsResultPath": null,
       "isJsonSchema": true,
       "metadata": {},
       "overflow": false,
       "plotOptions": {
        "customPlotOptions": {},
        "displayType": "table",
        "pivotAggregation": null,
        "pivotColumns": null,
        "xColumns": null,
        "yColumns": null
       },
       "removedWidgets": [],
       "schema": [
        {
         "metadata": "{}",
         "name": "path",
         "type": "\"string\""
        },
        {
         "metadata": "{}",
         "name": "name",
         "type": "\"string\""
        },
        {
         "metadata": "{}",
         "name": "size",
         "type": "\"long\""
        },
        {
         "metadata": "{}",
         "name": "modificationTime",
         "type": "\"long\""
        }
       ],
       "type": "table"
      }
     },
     "output_type": "display_data"
    }
   ],
   "source": [
    "# List files in /FileStore/tables to confirm the csv is there\n",
    "display(dbutils.fs.ls(\"/FileStore/tables\")[:10])"
   ]
  },
  {
   "cell_type": "code",
   "execution_count": 0,
   "metadata": {
    "application/vnd.databricks.v1+cell": {
     "cellMetadata": {
      "byteLimit": 2048000,
      "rowLimit": 10000
     },
     "inputWidgets": {},
     "nuid": "1b743fda-4265-4aa1-b420-da4d0550c28b",
     "showTitle": false,
     "tableResultSettingsMap": {},
     "title": ""
    }
   },
   "outputs": [
    {
     "output_type": "display_data",
     "data": {
      "text/html": [
       "<style scoped>\n",
       "  .table-result-container {\n",
       "    max-height: 300px;\n",
       "    overflow: auto;\n",
       "  }\n",
       "  table, th, td {\n",
       "    border: 1px solid black;\n",
       "    border-collapse: collapse;\n",
       "  }\n",
       "  th, td {\n",
       "    padding: 5px;\n",
       "  }\n",
       "  th {\n",
       "    text-align: left;\n",
       "  }\n",
       "</style><div class='table-result-container'><table class='table-result'><thead style='background-color: white'><tr><th>id</th><th>title</th><th>vote_average</th><th>vote_count</th><th>status</th><th>release_date</th><th>revenue</th><th>runtime</th><th>adult</th><th>budget</th><th>imdb_id</th><th>original_language</th><th>original_title</th><th>overview</th><th>popularity</th><th>tagline</th><th>genres</th><th>production_companies</th><th>production_countries</th><th>spoken_languages</th><th>keywords</th></tr></thead><tbody><tr><td>27205</td><td>Inception</td><td>8.364</td><td>34495</td><td>Released</td><td>7/15/2010</td><td>825532764</td><td>148</td><td>false</td><td>160000000</td><td>tt1375666</td><td>en</td><td>Inception</td><td>Cobb, a skilled thief who commits corporate espionage by infiltrating the subconscious of his targets is offered a chance to regain his old life as payment for a task considered to be impossible: \"inception\", the implantation of another person's idea into a target's subconscious.</td><td>83.952</td><td>Your mind is the scene of the crime.</td><td>Action, Science Fiction, Adventure</td><td>Legendary Pictures, Syncopy, Warner Bros. Pictures</td><td>United Kingdom, United States of America</td><td>English, French, Japanese, Swahili</td><td>rescue, mission, dream, airplane, paris, france, virtual reality, kidnapping, philosophy, spy, allegory, manipulation, car crash, heist, memory, architecture, los angeles, california, dream world, subconscious</td></tr><tr><td>157336</td><td>Interstellar</td><td>8.417</td><td>32571</td><td>Released</td><td>11/5/2014</td><td>701729206</td><td>169</td><td>false</td><td>165000000</td><td>tt0816692</td><td>en</td><td>Interstellar</td><td>The adventures of a group of explorers who make use of a newly discovered wormhole to surpass the limitations on human space travel and conquer the vast distances involved in an interstellar voyage.</td><td>140.241</td><td>Mankind was born on Earth. It was never meant to die here.</td><td>Adventure, Drama, Science Fiction</td><td>Legendary Pictures, Syncopy, Lynda Obst Productions</td><td>United Kingdom, United States of America</td><td>English</td><td>rescue, future, spacecraft, race against time, artificial intelligence (a.i.), nasa, time warp, dystopia, expedition, space travel, wormhole, famine, black hole, quantum mechanics, family relationships, space, robot, astronaut, scientist, single father, farmer, space station, curious, space adventure, time paradox, thoughtful, time-manipulation, father daughter relationship, 2060s, cornfield, time manipulation, complicated</td></tr><tr><td>155</td><td>The Dark Knight</td><td>8.512</td><td>30619</td><td>Released</td><td>7/16/2008</td><td>1004558444</td><td>152</td><td>false</td><td>185000000</td><td>tt0468569</td><td>en</td><td>The Dark Knight</td><td>Batman raises the stakes in his war on crime. With the help of Lt. Jim Gordon and District Attorney Harvey Dent, Batman sets out to dismantle the remaining criminal organizations that plague the streets. The partnership proves to be effective, but they soon find themselves prey to a reign of chaos unleashed by a rising criminal mastermind known to the terrified citizens of Gotham as the Joker.</td><td>130.643</td><td>Welcome to a world without rules.</td><td>Drama, Action, Crime, Thriller</td><td>DC Comics, Legendary Pictures, Syncopy, Isobel Griffiths, Warner Bros. Pictures</td><td>United Kingdom, United States of America</td><td>English, Mandarin</td><td>joker, sadism, chaos, secret identity, crime fighter, superhero, anti hero, scarecrow, based on comic, vigilante, organized crime, tragic hero, anti villain, criminal mastermind, district attorney, super power, super villain, neo-noir</td></tr><tr><td>19995</td><td>Avatar</td><td>7.573</td><td>29815</td><td>Released</td><td>12/15/2009</td><td>2923706026</td><td>162</td><td>false</td><td>237000000</td><td>tt0499549</td><td>en</td><td>Avatar</td><td>In the 22nd century, a paraplegic Marine is dispatched to the moon Pandora on a unique mission, but becomes torn between following orders and protecting an alien civilization.</td><td>79.932</td><td>Enter the world of Pandora.</td><td>Action, Adventure, Fantasy, Science Fiction</td><td>Dune Entertainment, Lightstorm Entertainment, 20th Century Fox, Ingenious Media</td><td>United States of America, United Kingdom</td><td>English, Spanish</td><td>future, society, culture clash, space travel, space war, space colony, tribe, romance, alien, futuristic, space, alien planet, marine, soldier, battle, love affair, nature, anti war, power relations, joyful</td></tr><tr><td>24428</td><td>The Avengers</td><td>7.71</td><td>29166</td><td>Released</td><td>4/25/2012</td><td>1518815515</td><td>143</td><td>false</td><td>220000000</td><td>tt0848228</td><td>en</td><td>The Avengers</td><td>When an unexpected enemy emerges and threatens global safety and security, Nick Fury, director of the international peacekeeping agency known as S.H.I.E.L.D., finds himself in need of a team to pull the world back from the brink of disaster. Spanning the globe, a daring recruitment effort begins!</td><td>98.082</td><td>Some assembly required.</td><td>Science Fiction, Action, Adventure</td><td>Marvel Studios</td><td>United States of America</td><td>English, Hindi, Russian</td><td>new york city, superhero, shield, based on comic, alien invasion, superhero team, aftercreditsstinger, duringcreditsstinger, marvel cinematic universe (mcu)</td></tr></tbody></table></div>"
      ]
     },
     "metadata": {
      "application/vnd.databricks.v1+output": {
       "addedWidgets": {},
       "aggData": [],
       "aggError": "",
       "aggOverflow": false,
       "aggSchema": [],
       "aggSeriesLimitReached": false,
       "aggType": "",
       "arguments": {},
       "columnCustomDisplayInfos": {},
       "data": [
        [
         27205,
         "Inception",
         8.364,
         34495,
         "Released",
         "7/15/2010",
         825532764,
         148,
         false,
         160000000,
         "tt1375666",
         "en",
         "Inception",
         "Cobb, a skilled thief who commits corporate espionage by infiltrating the subconscious of his targets is offered a chance to regain his old life as payment for a task considered to be impossible: \"inception\", the implantation of another person's idea into a target's subconscious.",
         83.952,
         "Your mind is the scene of the crime.",
         "Action, Science Fiction, Adventure",
         "Legendary Pictures, Syncopy, Warner Bros. Pictures",
         "United Kingdom, United States of America",
         "English, French, Japanese, Swahili",
         "rescue, mission, dream, airplane, paris, france, virtual reality, kidnapping, philosophy, spy, allegory, manipulation, car crash, heist, memory, architecture, los angeles, california, dream world, subconscious"
        ],
        [
         157336,
         "Interstellar",
         8.417,
         32571,
         "Released",
         "11/5/2014",
         701729206,
         169,
         false,
         165000000,
         "tt0816692",
         "en",
         "Interstellar",
         "The adventures of a group of explorers who make use of a newly discovered wormhole to surpass the limitations on human space travel and conquer the vast distances involved in an interstellar voyage.",
         140.241,
         "Mankind was born on Earth. It was never meant to die here.",
         "Adventure, Drama, Science Fiction",
         "Legendary Pictures, Syncopy, Lynda Obst Productions",
         "United Kingdom, United States of America",
         "English",
         "rescue, future, spacecraft, race against time, artificial intelligence (a.i.), nasa, time warp, dystopia, expedition, space travel, wormhole, famine, black hole, quantum mechanics, family relationships, space, robot, astronaut, scientist, single father, farmer, space station, curious, space adventure, time paradox, thoughtful, time-manipulation, father daughter relationship, 2060s, cornfield, time manipulation, complicated"
        ],
        [
         155,
         "The Dark Knight",
         8.512,
         30619,
         "Released",
         "7/16/2008",
         1004558444,
         152,
         false,
         185000000,
         "tt0468569",
         "en",
         "The Dark Knight",
         "Batman raises the stakes in his war on crime. With the help of Lt. Jim Gordon and District Attorney Harvey Dent, Batman sets out to dismantle the remaining criminal organizations that plague the streets. The partnership proves to be effective, but they soon find themselves prey to a reign of chaos unleashed by a rising criminal mastermind known to the terrified citizens of Gotham as the Joker.",
         130.643,
         "Welcome to a world without rules.",
         "Drama, Action, Crime, Thriller",
         "DC Comics, Legendary Pictures, Syncopy, Isobel Griffiths, Warner Bros. Pictures",
         "United Kingdom, United States of America",
         "English, Mandarin",
         "joker, sadism, chaos, secret identity, crime fighter, superhero, anti hero, scarecrow, based on comic, vigilante, organized crime, tragic hero, anti villain, criminal mastermind, district attorney, super power, super villain, neo-noir"
        ],
        [
         19995,
         "Avatar",
         7.573,
         29815,
         "Released",
         "12/15/2009",
         2923706026,
         162,
         false,
         237000000,
         "tt0499549",
         "en",
         "Avatar",
         "In the 22nd century, a paraplegic Marine is dispatched to the moon Pandora on a unique mission, but becomes torn between following orders and protecting an alien civilization.",
         79.932,
         "Enter the world of Pandora.",
         "Action, Adventure, Fantasy, Science Fiction",
         "Dune Entertainment, Lightstorm Entertainment, 20th Century Fox, Ingenious Media",
         "United States of America, United Kingdom",
         "English, Spanish",
         "future, society, culture clash, space travel, space war, space colony, tribe, romance, alien, futuristic, space, alien planet, marine, soldier, battle, love affair, nature, anti war, power relations, joyful"
        ],
        [
         24428,
         "The Avengers",
         7.71,
         29166,
         "Released",
         "4/25/2012",
         1518815515,
         143,
         false,
         220000000,
         "tt0848228",
         "en",
         "The Avengers",
         "When an unexpected enemy emerges and threatens global safety and security, Nick Fury, director of the international peacekeeping agency known as S.H.I.E.L.D., finds himself in need of a team to pull the world back from the brink of disaster. Spanning the globe, a daring recruitment effort begins!",
         98.082,
         "Some assembly required.",
         "Science Fiction, Action, Adventure",
         "Marvel Studios",
         "United States of America",
         "English, Hindi, Russian",
         "new york city, superhero, shield, based on comic, alien invasion, superhero team, aftercreditsstinger, duringcreditsstinger, marvel cinematic universe (mcu)"
        ]
       ],
       "datasetInfos": [],
       "dbfsResultPath": null,
       "isJsonSchema": true,
       "metadata": {},
       "overflow": false,
       "plotOptions": {
        "customPlotOptions": {},
        "displayType": "table",
        "pivotAggregation": null,
        "pivotColumns": null,
        "xColumns": null,
        "yColumns": null
       },
       "removedWidgets": [],
       "schema": [
        {
         "metadata": "{}",
         "name": "id",
         "type": "\"integer\""
        },
        {
         "metadata": "{}",
         "name": "title",
         "type": "\"string\""
        },
        {
         "metadata": "{}",
         "name": "vote_average",
         "type": "\"double\""
        },
        {
         "metadata": "{}",
         "name": "vote_count",
         "type": "\"integer\""
        },
        {
         "metadata": "{}",
         "name": "status",
         "type": "\"string\""
        },
        {
         "metadata": "{}",
         "name": "release_date",
         "type": "\"string\""
        },
        {
         "metadata": "{}",
         "name": "revenue",
         "type": "\"long\""
        },
        {
         "metadata": "{}",
         "name": "runtime",
         "type": "\"integer\""
        },
        {
         "metadata": "{}",
         "name": "adult",
         "type": "\"boolean\""
        },
        {
         "metadata": "{}",
         "name": "budget",
         "type": "\"integer\""
        },
        {
         "metadata": "{}",
         "name": "imdb_id",
         "type": "\"string\""
        },
        {
         "metadata": "{}",
         "name": "original_language",
         "type": "\"string\""
        },
        {
         "metadata": "{}",
         "name": "original_title",
         "type": "\"string\""
        },
        {
         "metadata": "{}",
         "name": "overview",
         "type": "\"string\""
        },
        {
         "metadata": "{}",
         "name": "popularity",
         "type": "\"double\""
        },
        {
         "metadata": "{}",
         "name": "tagline",
         "type": "\"string\""
        },
        {
         "metadata": "{}",
         "name": "genres",
         "type": "\"string\""
        },
        {
         "metadata": "{}",
         "name": "production_companies",
         "type": "\"string\""
        },
        {
         "metadata": "{}",
         "name": "production_countries",
         "type": "\"string\""
        },
        {
         "metadata": "{}",
         "name": "spoken_languages",
         "type": "\"string\""
        },
        {
         "metadata": "{}",
         "name": "keywords",
         "type": "\"string\""
        }
       ],
       "type": "table"
      }
     },
     "output_type": "display_data"
    }
   ],
   "source": [
    "# File location and type\n",
    "file_location = \"/FileStore/tables/Imdb_Movie_Dataset-1.csv\"\n",
    "file_type = \"csv\"\n",
    "\n",
    "# CSV options\n",
    "infer_schema = \"true\"\n",
    "first_row_is_header = \"true\"\n",
    "delimiter = \",\"\n",
    "\n",
    "# The applied options are for CSV files. For other file types, these will be ignored.\n",
    "# quote <-- Important to handle commas correctly\n",
    "df = (\n",
    "    spark.read.format(file_type)\n",
    "    .option(\"inferSchema\", infer_schema)\n",
    "    .option(\"header\", first_row_is_header)\n",
    "    .option(\"sep\", delimiter)\n",
    "    .option(\"quote\", '\"')\n",
    "    .option(\"escape\", '\"')\n",
    "    .load(file_location)\n",
    ")\n",
    "\n",
    "display(df.limit(5))"
   ]
  },
  {
   "cell_type": "code",
   "execution_count": 0,
   "metadata": {
    "application/vnd.databricks.v1+cell": {
     "cellMetadata": {
      "byteLimit": 2048000,
      "rowLimit": 10000
     },
     "inputWidgets": {},
     "nuid": "0d2ea799-bf60-456d-9f82-f13deb145e96",
     "showTitle": false,
     "tableResultSettingsMap": {},
     "title": ""
    }
   },
   "outputs": [],
   "source": [
    "# Import the libraries\n",
    "from pyspark.sql import functions as F\n",
    "from pyspark.sql.functions import col, count, when, isnan, row_number, to_date, split, regexp_replace, expr, corr\n",
    "from pyspark.sql.window import Window\n",
    "from pyspark.sql.types import IntegerType, StringType, BooleanType, FloatType, LongType, DoubleType\n",
    "\n",
    "import pandas as pd\n",
    "import matplotlib.pyplot as plt\n",
    "import seaborn as sns\n",
    "\n",
    "from pyspark.ml.feature import VectorAssembler, StandardScaler, ChiSqSelector, QuantileDiscretizer\n",
    "from pyspark.ml.tuning import CrossValidator, ParamGridBuilder\n",
    "from pyspark.ml.evaluation import RegressionEvaluator\n",
    "from pyspark.ml.regression import LinearRegression, DecisionTreeRegressor, RandomForestRegressor, GBTRegressor, GeneralizedLinearRegression\n",
    "\n",
    "spark.conf.set(\"spark.sql.legacy.timeParserPolicy\", \"LEGACY\")  # to parse the release date without problems"
   ]
  },
  {
   "cell_type": "markdown",
   "metadata": {
    "application/vnd.databricks.v1+cell": {
     "cellMetadata": {
      "byteLimit": 2048000,
      "rowLimit": 10000
     },
     "inputWidgets": {},
     "nuid": "234112b8-967f-443c-b6a2-c64b9bbcafdb",
     "showTitle": false,
     "tableResultSettingsMap": {},
     "title": ""
    }
   },
   "source": [
    "---\n",
    "## Define the Data Cleaning Function\n",
    "---\n",
    "In the previous notebooks we performed a full analysis of our dataset. Now, we will define a function (and a helper function) that applies all the cleaning steps we decided on earlier."
   ]
  },
  {
   "cell_type": "code",
   "execution_count": 0,
   "metadata": {
    "application/vnd.databricks.v1+cell": {
     "cellMetadata": {
      "byteLimit": 2048000,
      "rowLimit": 10000
     },
     "inputWidgets": {},
     "nuid": "20d939da-ce76-423e-bc08-69185e8e9116",
     "showTitle": false,
     "tableResultSettingsMap": {},
     "title": ""
    }
   },
   "outputs": [],
   "source": [
    "def drop_duplicates_keep_least_null(df, id_col):\n",
    "    \"\"\"\n",
    "    Deduplicate on `id_col`, keeping the row with the fewest null values.\n",
    "    Rows with null `id_col` are left unchanged.\n",
    "    \"\"\"\n",
    "    print(f\"Starting deduplication on column: {id_col}\")\n",
    "\n",
    "    non_null_df = df.filter(col(id_col).isNotNull())\n",
    "    null_df     = df.filter(col(id_col).isNull())\n",
    "    print(f\"Rows with non-null '{id_col}': {non_null_df.count()}\")\n",
    "    print(f\"Rows with null '{id_col}': {null_df.count()}\")\n",
    "\n",
    "    null_count_expr = sum(\n",
    "        when(col(c).isNull(), 1).otherwise(0) for c in non_null_df.columns\n",
    "    ).alias(\"_null_cnt\")\n",
    "\n",
    "    nn_with_counts = non_null_df.withColumn(\"_null_cnt\", null_count_expr)\n",
    "    print(\"Added null count column for ranking\")\n",
    "\n",
    "    w = Window.partitionBy(id_col).orderBy(col(\"_null_cnt\").asc())\n",
    "    ranked = nn_with_counts.withColumn(\"_rn\", row_number().over(w))\n",
    "    print(\"Ranked rows within each group\")\n",
    "\n",
    "    deduped = (\n",
    "        ranked\n",
    "        .filter(col(\"_rn\") == 1)\n",
    "        .drop(\"_null_cnt\", \"_rn\")\n",
    "    )\n",
    "    print(\"Filtered to keep only top-ranked rows with fewest nulls\")\n",
    "\n",
    "    result_df = deduped.unionByName(null_df)\n",
    "    print(f\"Final row count after deduplication on '{id_col}': {result_df.count()}\")\n",
    "    return result_df\n",
    "\n",
    "def _build_top_indicator(df, col_name, top_n, suffix):\n",
    "    \"\"\"\n",
    "    For a comma-separated string column (e.g., 'Adventure, Comedy, Science Fiction'),\n",
    "    create binary columns for the top-N most profitable individual items.\n",
    "    \"\"\"\n",
    "    print(f\"Creating top-{top_n} binary indicator columns for: {col_name}\")\n",
    "    arr_col = F.split(F.col(col_name), \",\\\\s*\")\n",
    "\n",
    "    exploded = (\n",
    "        df.select(arr_col.alias(\"arr\"), \"revenue\")\n",
    "          .withColumn(\"item\", F.explode(\"arr\"))\n",
    "          .withColumn(\"item\", F.trim(F.col(\"item\")))\n",
    "          .groupBy(\"item\")\n",
    "          .agg(F.sum(\"revenue\").alias(\"tot_rev\"))\n",
    "          .orderBy(F.col(\"tot_rev\").desc())\n",
    "          .limit(top_n)\n",
    "    )\n",
    "\n",
    "    top_items = [row[\"item\"] for row in exploded.collect()]\n",
    "    print(f\"Top {top_n} items for '{col_name}': {top_items}\")\n",
    "\n",
    "    for item in top_items:\n",
    "        clean_name = item.strip().lower().replace(\" \", \"_\").replace(\"-\", \"_\").replace(\"(\", \"\").replace(\".\", \"\")\n",
    "        df = df.withColumn(\n",
    "            f\"{suffix}_{clean_name}\",\n",
    "            F.when(F.array_contains(arr_col, item), 1).otherwise(0)\n",
    "        )\n",
    "        print(f\"Created binary column: {suffix}_{clean_name}\")\n",
    "\n",
    "    return df\n",
    "\n",
    "# Our main data cleaner\n",
    "def initial_preprocess(df):\n",
    "    \"\"\"\n",
    "    1. Drop rows with revenue == 0 (it's our first step to make the dataset lighter and thus the following operations faster)\n",
    "    2. Replace literal 'None' / 'none' in imdb_id with null\n",
    "    3. Deduplicate on id, then on imdb_id using fewest-null rule\n",
    "    4. Drop heavy text cols and imdb_id after\n",
    "    5. Change the data types to correct ones\n",
    "    6. Fix incorrect values for vote_average (should only be in the range 1-10)\n",
    "    7. Set the vote vote_average to zero, when vote_count == 0\n",
    "    8. Cast the release_date to data type \n",
    "    \"\"\"\n",
    "    print(\"Step 1: Dropping rows with revenue = 0\")\n",
    "    df = df.filter(F.col(\"revenue\") != 0)\n",
    "\n",
    "    print(\"Step 2: Replacing 'None' strings in imdb_id with null\")\n",
    "    none_count = df.filter(F.lower(col(\"imdb_id\")) == \"none\").count()\n",
    "    df = df.withColumn(\n",
    "        \"imdb_id\",\n",
    "        when(F.lower(col(\"imdb_id\")) == \"none\", None).otherwise(col(\"imdb_id\"))\n",
    "    )\n",
    "    print(f\"Number of 'None' values replaced with null in 'imdb_id': {none_count}\")\n",
    "\n",
    "    print(\"Step 3a: Deduplicating by id\")\n",
    "    df = drop_duplicates_keep_least_null(df, id_col=\"id\")\n",
    "\n",
    "    print(\"Step 3b: Deduplicating by imdb_id\")\n",
    "    df = drop_duplicates_keep_least_null(df, id_col=\"imdb_id\")\n",
    "\n",
    "    print(\"Step 4: Dropping unused text columns\")\n",
    "    df = df.drop(\"imdb_id\", \"title\", \"original_title\", \"overview\", \"spoken_languages\")\n",
    "    \n",
    "    print(\"Step 5: Casting to correct data types\")\n",
    "    df = (\n",
    "        df\n",
    "        .withColumn(\"vote_average\",  F.col(\"vote_average\").cast(DoubleType()))\n",
    "        .withColumn(\"popularity\",    F.col(\"popularity\").cast(DoubleType()))\n",
    "        .withColumn(\"vote_count\",    F.col(\"vote_count\").cast(IntegerType()))\n",
    "        .withColumn(\"runtime\",       F.col(\"runtime\").cast(IntegerType()))\n",
    "        .withColumn(\"adult\",         F.col(\"adult\").cast(IntegerType()))\n",
    "        .withColumn(\"revenue\",       F.col(\"revenue\").cast(LongType()))\n",
    "        .withColumn(\"budget\",        F.col(\"budget\").cast(LongType()))\n",
    "    )\n",
    "\n",
    "    print(\"Step 6: Fixing out-of-range vote_average values\")\n",
    "    df = df.withColumn(\n",
    "        \"vote_average\",\n",
    "        F.when((F.col(\"vote_average\") < 1) | (F.col(\"vote_average\") > 10), 0.0)\n",
    "         .otherwise(F.col(\"vote_average\"))\n",
    "    )\n",
    "\n",
    "    print(\"Step 7: Setting vote_average to 0 where vote_count == 0\")\n",
    "    df = df.withColumn(\n",
    "        \"vote_average\",\n",
    "        F.when((F.col(\"vote_count\") == 0) & (F.col(\"vote_average\") != 0), 0.0)\n",
    "         .otherwise(F.col(\"vote_average\"))\n",
    "    )\n",
    "    print(\"Step 8: Parsing release_date using multiple formats\")\n",
    "    date_eu  = F.to_date(F.col(\"release_date\"), \"dd/MM/yyyy\")\n",
    "    date_us  = F.to_date(F.col(\"release_date\"), \"MM/dd/yyyy\")\n",
    "    date_iso = F.to_date(F.col(\"release_date\"), \"yyyy-MM-dd\")\n",
    "    df = df.withColumn(\"parsed_date\", F.coalesce(date_eu, date_us, date_iso))\n",
    "\n",
    "    print(\"Step 9: Creating release_day, release_month, release_year\")\n",
    "    df = (\n",
    "        df\n",
    "        .withColumn(\"release_day\",   F.dayofmonth(\"parsed_date\").cast(IntegerType()))\n",
    "        .withColumn(\"release_month\", F.month(\"parsed_date\").cast(IntegerType()))\n",
    "        .withColumn(\"release_year\",  F.year(\"parsed_date\").cast(IntegerType()))\n",
    "    )\n",
    "    print(\"Filling missing values in release_day, release_month, release_year with 0\")\n",
    "    df = (\n",
    "        df\n",
    "        .withColumn(\"release_day\",   F.when(F.col(\"release_day\").isNull(),   0).otherwise(F.col(\"release_day\")))\n",
    "        .withColumn(\"release_month\", F.when(F.col(\"release_month\").isNull(), 0).otherwise(F.col(\"release_month\")))\n",
    "        .withColumn(\"release_year\",  F.when(F.col(\"release_year\").isNull(),  0).otherwise(F.col(\"release_year\")))\n",
    "    )\n",
    "\n",
    "\n",
    "    print(\"Initial preprocessing complete.\")\n",
    "    return df"
   ]
  },
  {
   "cell_type": "markdown",
   "metadata": {
    "application/vnd.databricks.v1+cell": {
     "cellMetadata": {
      "byteLimit": 2048000,
      "rowLimit": 10000
     },
     "inputWidgets": {},
     "nuid": "57a7c7fd-4165-4fdb-b403-fc0567621af5",
     "showTitle": false,
     "tableResultSettingsMap": {},
     "title": ""
    }
   },
   "source": [
    "---\n",
    "## Clean the Data\n",
    "---\n",
    "Let's apply the cleaning function to the original imdb dataframe."
   ]
  },
  {
   "cell_type": "code",
   "execution_count": 0,
   "metadata": {
    "application/vnd.databricks.v1+cell": {
     "cellMetadata": {
      "byteLimit": 2048000,
      "rowLimit": 10000
     },
     "inputWidgets": {},
     "nuid": "ed56e77f-048e-4b97-b3cc-47afa29db735",
     "showTitle": false,
     "tableResultSettingsMap": {},
     "title": ""
    }
   },
   "outputs": [
    {
     "output_type": "stream",
     "name": "stdout",
     "output_type": "stream",
     "text": [
      "Step 1: Dropping rows with revenue = 0\nStep 2: Replacing 'None' strings in imdb_id with null\nNumber of 'None' values replaced with null in 'imdb_id': 4\nStep 3a: Deduplicating by id\nStarting deduplication on column: id\nRows with non-null 'id': 20676\nRows with null 'id': 0\nAdded null count column for ranking\nRanked rows within each group\nFiltered to keep only top-ranked rows with fewest nulls\nFinal row count after deduplication on 'id': 20674\nStep 3b: Deduplicating by imdb_id\nStarting deduplication on column: imdb_id\nRows with non-null 'imdb_id': 16927\nRows with null 'imdb_id': 3747\nAdded null count column for ranking\nRanked rows within each group\nFiltered to keep only top-ranked rows with fewest nulls\nFinal row count after deduplication on 'imdb_id': 20664\nStep 4: Dropping unused text columns\nStep 5: Casting to correct data types\nStep 6: Fixing out-of-range vote_average values\nStep 7: Setting vote_average to 0 where vote_count == 0\nStep 8: Parsing release_date using multiple formats\nStep 9: Creating release_day, release_month, release_year\nFilling missing values in release_day, release_month, release_year with 0\nInitial preprocessing complete.\n"
     ]
    }
   ],
   "source": [
    "# Apply initial preprocessing\n",
    "df_clean = initial_preprocess(df)"
   ]
  },
  {
   "cell_type": "code",
   "execution_count": 0,
   "metadata": {
    "application/vnd.databricks.v1+cell": {
     "cellMetadata": {
      "byteLimit": 2048000,
      "rowLimit": 10000
     },
     "inputWidgets": {},
     "nuid": "fbc928f6-bd92-4bcb-8422-68975e9b306a",
     "showTitle": false,
     "tableResultSettingsMap": {},
     "title": ""
    }
   },
   "outputs": [
    {
     "output_type": "stream",
     "name": "stdout",
     "output_type": "stream",
     "text": [
      "Shape: (20664, 20)\n"
     ]
    }
   ],
   "source": [
    "# Print dataframe shape after cleaning\n",
    "row_count = df_clean.count()\n",
    "col_count = len(df_clean.columns)\n",
    "\n",
    "print(f\"Shape: ({row_count}, {col_count})\")"
   ]
  },
  {
   "cell_type": "markdown",
   "metadata": {
    "application/vnd.databricks.v1+cell": {
     "cellMetadata": {
      "byteLimit": 2048000,
      "rowLimit": 10000
     },
     "inputWidgets": {},
     "nuid": "a1b5604b-d608-4280-8272-e26ddf4b4d3e",
     "showTitle": false,
     "tableResultSettingsMap": {},
     "title": ""
    }
   },
   "source": [
    "---\n",
    "## Train-test split\n",
    "---\n",
    "Here, we split the dataset into train and test before moving on to the feature engineering and subsequent steps. We do this to avoid data leakage as we will use information related to target to create some new columns."
   ]
  },
  {
   "cell_type": "code",
   "execution_count": 0,
   "metadata": {
    "application/vnd.databricks.v1+cell": {
     "cellMetadata": {
      "byteLimit": 2048000,
      "rowLimit": 10000
     },
     "inputWidgets": {},
     "nuid": "37eaa7f3-84e8-4a54-b25a-f26d9fa65edb",
     "showTitle": false,
     "tableResultSettingsMap": {},
     "title": ""
    }
   },
   "outputs": [],
   "source": [
    "# Split the data\n",
    "train_df, test_df = df_clean.randomSplit([0.8, 0.2], seed=12)"
   ]
  },
  {
   "cell_type": "markdown",
   "metadata": {
    "application/vnd.databricks.v1+cell": {
     "cellMetadata": {
      "byteLimit": 2048000,
      "rowLimit": 10000
     },
     "inputWidgets": {},
     "nuid": "3b4ffd6c-84ac-4735-b31b-000046bf34c1",
     "showTitle": false,
     "tableResultSettingsMap": {},
     "title": ""
    }
   },
   "source": [
    "---\n",
    "## Define the data engineering function\n",
    "---"
   ]
  },
  {
   "cell_type": "code",
   "execution_count": 0,
   "metadata": {
    "application/vnd.databricks.v1+cell": {
     "cellMetadata": {
      "byteLimit": 2048000,
      "rowLimit": 10000
     },
     "inputWidgets": {},
     "nuid": "69b1b576-21d2-40c2-b97c-f4bc0d34fd5f",
     "showTitle": false,
     "tableResultSettingsMap": {},
     "title": ""
    }
   },
   "outputs": [],
   "source": [
    "def feature_engineer(df, train_df_for_reference):\n",
    "    \"\"\"\n",
    "    Performs feature engineering on the df using the training data as reference to avoid data leakage\n",
    "\n",
    "    Steps:\n",
    "    1. Fill missing or zero 'runtime' values using the median from the training set\n",
    "    2. Create binary indicator 'released_bool' from the 'status' column\n",
    "    3. Create binary indicator 'en_bool' for movies originally in English\n",
    "    4. Create binary indicator 'tagline_bool' based on the presence of a tagline\n",
    "    5. Create binary indicator columns for the top-N most profitable values in:\n",
    "       - 'genres' (Top 5)\n",
    "       - 'production_companies' (Top 3)\n",
    "       - 'production_countries' (Top 5)\n",
    "       - 'keywords' (Top 3)\n",
    "       (Top-Ns are determined based on training data revenue)\n",
    "    \"\"\"\n",
    "    print(\"Step 1: Filling missing 'runtime' with train median\")\n",
    "    runtime_median = train_df_for_reference.filter(F.col(\"runtime\") != 0)\\\n",
    "                                           .approxQuantile(\"runtime\", [0.5], 0.0)[0]\n",
    "    df = df.withColumn(\"runtime\", F.when(F.col(\"runtime\") == 0, runtime_median).otherwise(F.col(\"runtime\")))\n",
    "\n",
    "    print(\"Step 2: Creating 'released_bool' binary column from status\")\n",
    "    df = df.withColumn(\n",
    "        \"released_bool\",\n",
    "        F.when(F.col(\"status\") == \"Released\", 1).otherwise(0)\n",
    "    )\n",
    "\n",
    "    print(\"Step 3: Creating 'en_bool' binary column from original_language\")\n",
    "    df = df.withColumn(\n",
    "        \"en_bool\",\n",
    "        F.when(F.col(\"original_language\") == \"en\", 1).otherwise(0)\n",
    "    )\n",
    "\n",
    "    print(\"Step 4: Creating 'tagline_bool' from presence of tagline\")\n",
    "    df = (\n",
    "        df\n",
    "        .withColumn(\n",
    "            \"tagline\",\n",
    "            F.when(F.lower(F.col(\"tagline\")).isin(\"none\", \"null\"), F.lit(None))\n",
    "             .otherwise(F.col(\"tagline\"))\n",
    "        )\n",
    "        .withColumn(\"tagline_bool\", F.when(F.col(\"tagline\").isNotNull(), 1).otherwise(0))\n",
    "    )\n",
    "\n",
    "    print(\"Step 5: Creating top-N indicator columns using train as reference\")\n",
    "\n",
    "    def get_top_items(train_df, col_name, top_n):\n",
    "        arr_col = F.split(F.col(col_name), \",\\\\s*\")\n",
    "        return (\n",
    "            train_df.select(arr_col.alias(\"arr\"), \"revenue\")\n",
    "                    .withColumn(\"item\", F.explode(\"arr\"))\n",
    "                    .withColumn(\"item\", F.trim(F.col(\"item\")))\n",
    "                    .groupBy(\"item\")\n",
    "                    .agg(F.sum(\"revenue\").alias(\"tot_rev\"))\n",
    "                    .orderBy(F.col(\"tot_rev\").desc())\n",
    "                    .limit(top_n)\n",
    "                    .rdd.map(lambda r: r[\"item\"])\n",
    "                    .collect()\n",
    "        )\n",
    "\n",
    "    def build_indicators(df, col_name, top_items, suffix):\n",
    "        arr_col = F.split(F.col(col_name), \",\\\\s*\")\n",
    "        for item in top_items:\n",
    "            clean_name = item.strip().lower().replace(\" \", \"_\").replace(\"-\", \"_\").replace(\"(\", \"\").replace(\".\", \"\")\n",
    "            df = df.withColumn(\n",
    "                f\"{suffix}_{clean_name}\",\n",
    "                F.when(F.array_contains(arr_col, item), 1).otherwise(0)\n",
    "            )\n",
    "        return df\n",
    "\n",
    "    top_genres   = get_top_items(train_df_for_reference, \"genres\", 5)\n",
    "    top_companies = get_top_items(train_df_for_reference, \"production_companies\", 3)\n",
    "    top_countries = get_top_items(train_df_for_reference, \"production_countries\", 5)\n",
    "    top_keywords  = get_top_items(train_df_for_reference, \"keywords\", 3)\n",
    "\n",
    "    df = build_indicators(df, \"genres\", top_genres, \"genre\")\n",
    "    df = build_indicators(df, \"production_companies\", top_companies, \"prodco\")\n",
    "    df = build_indicators(df, \"production_countries\", top_countries, \"country\")\n",
    "    df = build_indicators(df, \"keywords\", top_keywords, \"keyword\")\n",
    "\n",
    "    print(\"Feature engineering complete.\")\n",
    "    return df"
   ]
  },
  {
   "cell_type": "markdown",
   "metadata": {
    "application/vnd.databricks.v1+cell": {
     "cellMetadata": {
      "byteLimit": 2048000,
      "rowLimit": 10000
     },
     "inputWidgets": {},
     "nuid": "bde20302-0df8-4449-ad5f-c0b13dc30898",
     "showTitle": false,
     "tableResultSettingsMap": {},
     "title": ""
    }
   },
   "source": [
    "---\n",
    "## Perform data engineering\n",
    "---\n",
    "We will use the defined function to engineer new features."
   ]
  },
  {
   "cell_type": "code",
   "execution_count": 0,
   "metadata": {
    "application/vnd.databricks.v1+cell": {
     "cellMetadata": {
      "byteLimit": 2048000,
      "rowLimit": 10000
     },
     "inputWidgets": {},
     "nuid": "f3703369-b12f-4022-b586-d84e0ade8c85",
     "showTitle": false,
     "tableResultSettingsMap": {},
     "title": ""
    }
   },
   "outputs": [
    {
     "output_type": "stream",
     "name": "stdout",
     "output_type": "stream",
     "text": [
      "Step 1: Filling missing 'runtime' with train median\nStep 2: Creating 'released_bool' binary column from status\nStep 3: Creating 'en_bool' binary column from original_language\nStep 4: Creating 'tagline_bool' from presence of tagline\nStep 5: Creating top-N indicator columns using train as reference\nFeature engineering complete.\nStep 1: Filling missing 'runtime' with train median\nStep 2: Creating 'released_bool' binary column from status\nStep 3: Creating 'en_bool' binary column from original_language\nStep 4: Creating 'tagline_bool' from presence of tagline\nStep 5: Creating top-N indicator columns using train as reference\nFeature engineering complete.\n"
     ]
    }
   ],
   "source": [
    "# Apply feature engineering safely using train as reference\n",
    "train_df = feature_engineer(train_df, train_df)\n",
    "test_df  = feature_engineer(test_df, train_df)"
   ]
  },
  {
   "cell_type": "markdown",
   "metadata": {
    "application/vnd.databricks.v1+cell": {
     "cellMetadata": {
      "byteLimit": 2048000,
      "rowLimit": 10000
     },
     "inputWidgets": {},
     "nuid": "0b902237-9ca5-424c-9d45-6043c73a522a",
     "showTitle": false,
     "tableResultSettingsMap": {},
     "title": ""
    }
   },
   "source": [
    "### Original 21 Columns – Feature Engineering Summary\n",
    "This table summarizes all the changes to the columns in the original imdb dataset. \n",
    "\n",
    "| Column Name             | Action Taken / Reason                                                         |\n",
    "|------------------------|--------------------------------------------------------------------------------|\n",
    "| id                     | Dropped (identifier, no target relationship)                                   |\n",
    "| title                  | Dropped (text, should not affect revenue)                                      |\n",
    "| vote_average           | Kept (numeric feature)                                                         |\n",
    "| vote_count             | Kept (numeric feature)                                                         |\n",
    "| status                 | Dropped (created binary `released_bool`)                                       |\n",
    "| release_date           | Dropped (transformed into `release_day`, `release_month`, `release_year`)      |\n",
    "| revenue                | Kept (target variable)                                                         |\n",
    "| runtime                | Kept (numeric feature)                                                         |\n",
    "| adult                  | Kept (boolean)                                                                 |\n",
    "| budget                 | Kept (numeric feature)                                                         |\n",
    "| imdb_id                | Dropped (identifier)                                                           |\n",
    "| original_language      | Dropped (transformed into `en_bool`)                                           |\n",
    "| original_title         | Dropped (text)                                                                 |\n",
    "| overview               | Dropped (long text, transformations needed)                                    |\n",
    "| popularity             | Kept (numeric feature)                                                         |\n",
    "| tagline                | Dropped (created `tagline_bool` for boolean present/abs)                       |\n",
    "| genres                 | Dropped (created boolean columns for top 5 genres)                             |\n",
    "| production_companies   | Dropped (created boolean columns for top 3 companies)                          |\n",
    "| production_countries   | Dropped (created boolean columns for top 5 production countries)               |\n",
    "| spoken_languages       | Dropped (deemed unnecessairy since we have `en_bool`)                          |\n",
    "| keywords               | Dropped (created boolean columns for top 3 keywords)                           |"
   ]
  },
  {
   "cell_type": "markdown",
   "metadata": {
    "application/vnd.databricks.v1+cell": {
     "cellMetadata": {
      "byteLimit": 2048000,
      "rowLimit": 10000
     },
     "inputWidgets": {},
     "nuid": "bd561ea7-694d-4f3d-bd0c-d54b9cb296f2",
     "showTitle": false,
     "tableResultSettingsMap": {},
     "title": ""
    }
   },
   "source": [
    "---\n",
    "## Drop unnecessary columns and inspect the new dataframe\n",
    "---\n",
    "Below, we will 1) drop the columns that are not longer needed and 2) inspect whether our 'initial_preprocess' function applied all the changes we intended it to."
   ]
  },
  {
   "cell_type": "code",
   "execution_count": 0,
   "metadata": {
    "application/vnd.databricks.v1+cell": {
     "cellMetadata": {
      "byteLimit": 2048000,
      "rowLimit": 10000
     },
     "inputWidgets": {},
     "nuid": "5c0b28be-2d92-4ab4-a9a4-37bc92619675",
     "showTitle": false,
     "tableResultSettingsMap": {},
     "title": ""
    }
   },
   "outputs": [],
   "source": [
    "train_df = train_df.drop(\"release_date\", \"status\", \"original_language\", \"tagline\",\n",
    "        \"genres\", \"production_companies\", \"production_countries\", \"keywords\",\n",
    "        \"parsed_date\", \"id\")\n",
    "test_df = test_df.drop(\"release_date\", \"status\", \"original_language\", \"tagline\",\n",
    "        \"genres\", \"production_companies\", \"production_countries\", \"keywords\",\n",
    "        \"parsed_date\", \"id\")"
   ]
  },
  {
   "cell_type": "code",
   "execution_count": 0,
   "metadata": {
    "application/vnd.databricks.v1+cell": {
     "cellMetadata": {
      "byteLimit": 2048000,
      "rowLimit": 10000
     },
     "inputWidgets": {},
     "nuid": "a3312643-2048-4dbd-962a-a8d897aef318",
     "showTitle": false,
     "tableResultSettingsMap": {},
     "title": ""
    }
   },
   "outputs": [
    {
     "output_type": "stream",
     "name": "stdout",
     "output_type": "stream",
     "text": [
      "root\n |-- vote_average: double (nullable = true)\n |-- vote_count: integer (nullable = true)\n |-- revenue: long (nullable = true)\n |-- runtime: double (nullable = true)\n |-- adult: integer (nullable = true)\n |-- budget: long (nullable = true)\n |-- popularity: double (nullable = true)\n |-- release_day: integer (nullable = true)\n |-- release_month: integer (nullable = true)\n |-- release_year: integer (nullable = true)\n |-- released_bool: integer (nullable = false)\n |-- en_bool: integer (nullable = false)\n |-- tagline_bool: integer (nullable = false)\n |-- genre_action: integer (nullable = false)\n |-- genre_adventure: integer (nullable = false)\n |-- genre_comedy: integer (nullable = false)\n |-- genre_drama: integer (nullable = false)\n |-- genre_thriller: integer (nullable = false)\n |-- prodco_warner_bros_pictures: integer (nullable = false)\n |-- prodco_universal_pictures: integer (nullable = false)\n |-- prodco_paramount: integer (nullable = false)\n |-- country_united_states_of_america: integer (nullable = false)\n |-- country_united_kingdom: integer (nullable = false)\n |-- country_china: integer (nullable = false)\n |-- country_france: integer (nullable = false)\n |-- country_germany: integer (nullable = false)\n |-- keyword_duringcreditsstinger: integer (nullable = false)\n |-- keyword_based_on_novel_or_book: integer (nullable = false)\n |-- keyword_sequel: integer (nullable = false)\n\nFinal row count: 16521\n+-------+------------+\n|summary|vote_average|\n+-------+------------+\n|    min|         0.0|\n|    max|        10.0|\n+-------+------------+\n\nFalse\nFalse\nFalse\n+-----------+-------------+------------+-------------+-------+------------+\n|release_day|release_month|release_year|released_bool|en_bool|tagline_bool|\n+-----------+-------------+------------+-------------+-------+------------+\n|         12|            9|        1995|            1|      1|           1|\n|          5|            2|        1997|            1|      1|           1|\n|          3|            7|        2003|            1|      1|           0|\n|         25|            7|        2007|            1|      1|           1|\n|         15|            3|        2002|            1|      0|           0|\n+-----------+-------------+------------+-------------+-------+------------+\nonly showing top 5 rows\n\n+------------+---------------+------------+-----------+--------------+\n|genre_action|genre_adventure|genre_comedy|genre_drama|genre_thriller|\n+------------+---------------+------------+-----------+--------------+\n|           0|              0|           1|          0|             0|\n|           1|              1|           0|          0|             1|\n|           0|              0|           0|          1|             0|\n|           0|              0|           1|          0|             0|\n|           0|              0|           0|          1|             0|\n+------------+---------------+------------+-----------+--------------+\nonly showing top 5 rows\n\n"
     ]
    }
   ],
   "source": [
    "# Check schema changes\n",
    "train_df.printSchema()\n",
    "\n",
    "# Check basic row count\n",
    "print(f\"Final row count: {train_df.count()}\")\n",
    "\n",
    "#  Check value range of 'vote_average' (should be between 0 and 10)\n",
    "train_df.select(\"vote_average\").summary(\"min\", \"max\").show()\n",
    "\n",
    "# Check if 'runtime' has any 0 values left\n",
    "train_df.filter(col(\"runtime\") == 0).count()\n",
    "\n",
    "# Check if 'release_date' and other dropped columns are really gone\n",
    "print(\"release_date\" in train_df.columns)     # should be False\n",
    "print(\"status\" in train_df.columns)           # should be False\n",
    "print(\"original_language\" in train_df.columns) # should be False\n",
    "\n",
    "# Show sample of new columns\n",
    "train_df.select(\"release_day\", \"release_month\", \"release_year\", \"released_bool\", \"en_bool\", \"tagline_bool\").show(5)\n",
    "\n",
    "# Check new genre features\n",
    "genre_cols = [c for c in train_df.columns if c.startswith(\"genre_\")]\n",
    "train_df.select(genre_cols).show(5)"
   ]
  },
  {
   "cell_type": "code",
   "execution_count": 0,
   "metadata": {
    "application/vnd.databricks.v1+cell": {
     "cellMetadata": {
      "byteLimit": 2048000,
      "rowLimit": 10000
     },
     "inputWidgets": {},
     "nuid": "c77f3b37-ebe9-4991-9413-b44b4856e71e",
     "showTitle": false,
     "tableResultSettingsMap": {},
     "title": ""
    }
   },
   "outputs": [
    {
     "output_type": "stream",
     "name": "stdout",
     "output_type": "stream",
     "text": [
      "Shape: (16521, 29)\nShape: (4143, 29)\n"
     ]
    }
   ],
   "source": [
    "# Print train_df shape after feature engineering\n",
    "row_count_train = train_df.count()\n",
    "col_count_train = len(train_df.columns)\n",
    "print(f\"Shape: ({row_count_train}, {col_count_train})\")\n",
    "\n",
    "# Print test_df shape after feature engineering\n",
    "row_count_test = test_df.count()\n",
    "col_count_test = len(test_df.columns)\n",
    "\n",
    "print(f\"Shape: ({row_count_test}, {col_count_test})\")"
   ]
  },
  {
   "cell_type": "markdown",
   "metadata": {
    "application/vnd.databricks.v1+cell": {
     "cellMetadata": {
      "byteLimit": 2048000,
      "rowLimit": 10000
     },
     "inputWidgets": {},
     "nuid": "4a8bc295-c066-4512-8930-ead4350e9923",
     "showTitle": false,
     "tableResultSettingsMap": {},
     "title": ""
    }
   },
   "source": [
    "---\n",
    "## Check for Missing Values\n",
    "---\n",
    "The algorithms we will use later on in this notebook would give us an error if the dataset contained null values. Therefore, we will check if we didn't let any null values slip during the preprocessing stage. "
   ]
  },
  {
   "cell_type": "code",
   "execution_count": 0,
   "metadata": {
    "application/vnd.databricks.v1+cell": {
     "cellMetadata": {
      "byteLimit": 2048000,
      "rowLimit": 10000
     },
     "inputWidgets": {},
     "nuid": "cd9d353b-8700-41b0-a91a-770809079fac",
     "showTitle": false,
     "tableResultSettingsMap": {},
     "title": ""
    }
   },
   "outputs": [
    {
     "output_type": "display_data",
     "data": {
      "text/html": [
       "<style scoped>\n",
       "  .table-result-container {\n",
       "    max-height: 300px;\n",
       "    overflow: auto;\n",
       "  }\n",
       "  table, th, td {\n",
       "    border: 1px solid black;\n",
       "    border-collapse: collapse;\n",
       "  }\n",
       "  th, td {\n",
       "    padding: 5px;\n",
       "  }\n",
       "  th {\n",
       "    text-align: left;\n",
       "  }\n",
       "</style><div class='table-result-container'><table class='table-result'><thead style='background-color: white'><tr><th>vote_average</th><th>vote_count</th><th>revenue</th><th>runtime</th><th>adult</th><th>budget</th><th>popularity</th><th>release_day</th><th>release_month</th><th>release_year</th><th>released_bool</th><th>en_bool</th><th>tagline_bool</th><th>genre_action</th><th>genre_adventure</th><th>genre_comedy</th><th>genre_drama</th><th>genre_thriller</th><th>prodco_warner_bros_pictures</th><th>prodco_universal_pictures</th><th>prodco_paramount</th><th>country_united_states_of_america</th><th>country_united_kingdom</th><th>country_china</th><th>country_france</th><th>country_germany</th><th>keyword_duringcreditsstinger</th><th>keyword_based_on_novel_or_book</th><th>keyword_sequel</th></tr></thead><tbody><tr><td>0</td><td>0</td><td>0</td><td>0</td><td>0</td><td>0</td><td>0</td><td>0</td><td>0</td><td>0</td><td>0</td><td>0</td><td>0</td><td>0</td><td>0</td><td>0</td><td>0</td><td>0</td><td>0</td><td>0</td><td>0</td><td>0</td><td>0</td><td>0</td><td>0</td><td>0</td><td>0</td><td>0</td><td>0</td></tr></tbody></table></div>"
      ]
     },
     "metadata": {
      "application/vnd.databricks.v1+output": {
       "addedWidgets": {},
       "aggData": [],
       "aggError": "",
       "aggOverflow": false,
       "aggSchema": [],
       "aggSeriesLimitReached": false,
       "aggType": "",
       "arguments": {},
       "columnCustomDisplayInfos": {},
       "data": [
        [
         0,
         0,
         0,
         0,
         0,
         0,
         0,
         0,
         0,
         0,
         0,
         0,
         0,
         0,
         0,
         0,
         0,
         0,
         0,
         0,
         0,
         0,
         0,
         0,
         0,
         0,
         0,
         0,
         0
        ]
       ],
       "datasetInfos": [],
       "dbfsResultPath": null,
       "isJsonSchema": true,
       "metadata": {},
       "overflow": false,
       "plotOptions": {
        "customPlotOptions": {},
        "displayType": "table",
        "pivotAggregation": null,
        "pivotColumns": null,
        "xColumns": null,
        "yColumns": null
       },
       "removedWidgets": [],
       "schema": [
        {
         "metadata": "{}",
         "name": "vote_average",
         "type": "\"long\""
        },
        {
         "metadata": "{}",
         "name": "vote_count",
         "type": "\"long\""
        },
        {
         "metadata": "{}",
         "name": "revenue",
         "type": "\"long\""
        },
        {
         "metadata": "{}",
         "name": "runtime",
         "type": "\"long\""
        },
        {
         "metadata": "{}",
         "name": "adult",
         "type": "\"long\""
        },
        {
         "metadata": "{}",
         "name": "budget",
         "type": "\"long\""
        },
        {
         "metadata": "{}",
         "name": "popularity",
         "type": "\"long\""
        },
        {
         "metadata": "{}",
         "name": "release_day",
         "type": "\"long\""
        },
        {
         "metadata": "{}",
         "name": "release_month",
         "type": "\"long\""
        },
        {
         "metadata": "{}",
         "name": "release_year",
         "type": "\"long\""
        },
        {
         "metadata": "{}",
         "name": "released_bool",
         "type": "\"long\""
        },
        {
         "metadata": "{}",
         "name": "en_bool",
         "type": "\"long\""
        },
        {
         "metadata": "{}",
         "name": "tagline_bool",
         "type": "\"long\""
        },
        {
         "metadata": "{}",
         "name": "genre_action",
         "type": "\"long\""
        },
        {
         "metadata": "{}",
         "name": "genre_adventure",
         "type": "\"long\""
        },
        {
         "metadata": "{}",
         "name": "genre_comedy",
         "type": "\"long\""
        },
        {
         "metadata": "{}",
         "name": "genre_drama",
         "type": "\"long\""
        },
        {
         "metadata": "{}",
         "name": "genre_thriller",
         "type": "\"long\""
        },
        {
         "metadata": "{}",
         "name": "prodco_warner_bros_pictures",
         "type": "\"long\""
        },
        {
         "metadata": "{}",
         "name": "prodco_universal_pictures",
         "type": "\"long\""
        },
        {
         "metadata": "{}",
         "name": "prodco_paramount",
         "type": "\"long\""
        },
        {
         "metadata": "{}",
         "name": "country_united_states_of_america",
         "type": "\"long\""
        },
        {
         "metadata": "{}",
         "name": "country_united_kingdom",
         "type": "\"long\""
        },
        {
         "metadata": "{}",
         "name": "country_china",
         "type": "\"long\""
        },
        {
         "metadata": "{}",
         "name": "country_france",
         "type": "\"long\""
        },
        {
         "metadata": "{}",
         "name": "country_germany",
         "type": "\"long\""
        },
        {
         "metadata": "{}",
         "name": "keyword_duringcreditsstinger",
         "type": "\"long\""
        },
        {
         "metadata": "{}",
         "name": "keyword_based_on_novel_or_book",
         "type": "\"long\""
        },
        {
         "metadata": "{}",
         "name": "keyword_sequel",
         "type": "\"long\""
        }
       ],
       "type": "table"
      }
     },
     "output_type": "display_data"
    }
   ],
   "source": [
    "display(train_df.select([\n",
    "    count(when(col(c).isNull() | isnan(c), c)).alias(c) for c in train_df.columns\n",
    "]))"
   ]
  },
  {
   "cell_type": "code",
   "execution_count": 0,
   "metadata": {
    "application/vnd.databricks.v1+cell": {
     "cellMetadata": {
      "byteLimit": 2048000,
      "rowLimit": 10000
     },
     "inputWidgets": {},
     "nuid": "6b6b99c0-53c4-4a74-a991-e827ba312bd3",
     "showTitle": false,
     "tableResultSettingsMap": {},
     "title": ""
    }
   },
   "outputs": [
    {
     "output_type": "display_data",
     "data": {
      "text/html": [
       "<style scoped>\n",
       "  .table-result-container {\n",
       "    max-height: 300px;\n",
       "    overflow: auto;\n",
       "  }\n",
       "  table, th, td {\n",
       "    border: 1px solid black;\n",
       "    border-collapse: collapse;\n",
       "  }\n",
       "  th, td {\n",
       "    padding: 5px;\n",
       "  }\n",
       "  th {\n",
       "    text-align: left;\n",
       "  }\n",
       "</style><div class='table-result-container'><table class='table-result'><thead style='background-color: white'><tr><th>vote_average</th><th>vote_count</th><th>revenue</th><th>runtime</th><th>adult</th><th>budget</th><th>popularity</th><th>release_day</th><th>release_month</th><th>release_year</th><th>released_bool</th><th>en_bool</th><th>tagline_bool</th><th>genre_action</th><th>genre_adventure</th><th>genre_comedy</th><th>genre_drama</th><th>genre_thriller</th><th>prodco_warner_bros_pictures</th><th>prodco_universal_pictures</th><th>prodco_paramount</th><th>country_united_states_of_america</th><th>country_united_kingdom</th><th>country_china</th><th>country_france</th><th>country_germany</th><th>keyword_duringcreditsstinger</th><th>keyword_based_on_novel_or_book</th><th>keyword_sequel</th></tr></thead><tbody><tr><td>0</td><td>0</td><td>0</td><td>0</td><td>0</td><td>0</td><td>0</td><td>0</td><td>0</td><td>0</td><td>0</td><td>0</td><td>0</td><td>0</td><td>0</td><td>0</td><td>0</td><td>0</td><td>0</td><td>0</td><td>0</td><td>0</td><td>0</td><td>0</td><td>0</td><td>0</td><td>0</td><td>0</td><td>0</td></tr></tbody></table></div>"
      ]
     },
     "metadata": {
      "application/vnd.databricks.v1+output": {
       "addedWidgets": {},
       "aggData": [],
       "aggError": "",
       "aggOverflow": false,
       "aggSchema": [],
       "aggSeriesLimitReached": false,
       "aggType": "",
       "arguments": {},
       "columnCustomDisplayInfos": {},
       "data": [
        [
         0,
         0,
         0,
         0,
         0,
         0,
         0,
         0,
         0,
         0,
         0,
         0,
         0,
         0,
         0,
         0,
         0,
         0,
         0,
         0,
         0,
         0,
         0,
         0,
         0,
         0,
         0,
         0,
         0
        ]
       ],
       "datasetInfos": [],
       "dbfsResultPath": null,
       "isJsonSchema": true,
       "metadata": {},
       "overflow": false,
       "plotOptions": {
        "customPlotOptions": {},
        "displayType": "table",
        "pivotAggregation": null,
        "pivotColumns": null,
        "xColumns": null,
        "yColumns": null
       },
       "removedWidgets": [],
       "schema": [
        {
         "metadata": "{}",
         "name": "vote_average",
         "type": "\"long\""
        },
        {
         "metadata": "{}",
         "name": "vote_count",
         "type": "\"long\""
        },
        {
         "metadata": "{}",
         "name": "revenue",
         "type": "\"long\""
        },
        {
         "metadata": "{}",
         "name": "runtime",
         "type": "\"long\""
        },
        {
         "metadata": "{}",
         "name": "adult",
         "type": "\"long\""
        },
        {
         "metadata": "{}",
         "name": "budget",
         "type": "\"long\""
        },
        {
         "metadata": "{}",
         "name": "popularity",
         "type": "\"long\""
        },
        {
         "metadata": "{}",
         "name": "release_day",
         "type": "\"long\""
        },
        {
         "metadata": "{}",
         "name": "release_month",
         "type": "\"long\""
        },
        {
         "metadata": "{}",
         "name": "release_year",
         "type": "\"long\""
        },
        {
         "metadata": "{}",
         "name": "released_bool",
         "type": "\"long\""
        },
        {
         "metadata": "{}",
         "name": "en_bool",
         "type": "\"long\""
        },
        {
         "metadata": "{}",
         "name": "tagline_bool",
         "type": "\"long\""
        },
        {
         "metadata": "{}",
         "name": "genre_action",
         "type": "\"long\""
        },
        {
         "metadata": "{}",
         "name": "genre_adventure",
         "type": "\"long\""
        },
        {
         "metadata": "{}",
         "name": "genre_comedy",
         "type": "\"long\""
        },
        {
         "metadata": "{}",
         "name": "genre_drama",
         "type": "\"long\""
        },
        {
         "metadata": "{}",
         "name": "genre_thriller",
         "type": "\"long\""
        },
        {
         "metadata": "{}",
         "name": "prodco_warner_bros_pictures",
         "type": "\"long\""
        },
        {
         "metadata": "{}",
         "name": "prodco_universal_pictures",
         "type": "\"long\""
        },
        {
         "metadata": "{}",
         "name": "prodco_paramount",
         "type": "\"long\""
        },
        {
         "metadata": "{}",
         "name": "country_united_states_of_america",
         "type": "\"long\""
        },
        {
         "metadata": "{}",
         "name": "country_united_kingdom",
         "type": "\"long\""
        },
        {
         "metadata": "{}",
         "name": "country_china",
         "type": "\"long\""
        },
        {
         "metadata": "{}",
         "name": "country_france",
         "type": "\"long\""
        },
        {
         "metadata": "{}",
         "name": "country_germany",
         "type": "\"long\""
        },
        {
         "metadata": "{}",
         "name": "keyword_duringcreditsstinger",
         "type": "\"long\""
        },
        {
         "metadata": "{}",
         "name": "keyword_based_on_novel_or_book",
         "type": "\"long\""
        },
        {
         "metadata": "{}",
         "name": "keyword_sequel",
         "type": "\"long\""
        }
       ],
       "type": "table"
      }
     },
     "output_type": "display_data"
    }
   ],
   "source": [
    "display(test_df.select([\n",
    "    count(when(col(c).isNull() | isnan(c), c)).alias(c) for c in test_df.columns\n",
    "]))"
   ]
  },
  {
   "cell_type": "markdown",
   "metadata": {
    "application/vnd.databricks.v1+cell": {
     "cellMetadata": {
      "byteLimit": 2048000,
      "rowLimit": 10000
     },
     "inputWidgets": {},
     "nuid": "000488b2-8685-4474-a9c7-4e2052441acb",
     "showTitle": false,
     "tableResultSettingsMap": {},
     "title": ""
    }
   },
   "source": [
    "No missing values. Let's move on to the next steps."
   ]
  },
  {
   "cell_type": "markdown",
   "metadata": {
    "application/vnd.databricks.v1+cell": {
     "cellMetadata": {
      "byteLimit": 2048000,
      "rowLimit": 10000
     },
     "inputWidgets": {},
     "nuid": "20301b26-a05f-4168-a4a3-73affcf86e97",
     "showTitle": false,
     "tableResultSettingsMap": {},
     "title": ""
    }
   },
   "source": [
    "---\n",
    "## Normalize using StandardScaler\n",
    "---\n",
    "We need to scale our features because many algorithms are sensitive to the scale of input features. If features are in different ranges, the algorithm might behave incorrectly or suboptimally."
   ]
  },
  {
   "cell_type": "code",
   "execution_count": 0,
   "metadata": {
    "application/vnd.databricks.v1+cell": {
     "cellMetadata": {
      "byteLimit": 2048000,
      "rowLimit": 10000
     },
     "inputWidgets": {},
     "nuid": "dece6ed3-dd5b-486c-98a0-0ab9c3d8b71a",
     "showTitle": false,
     "tableResultSettingsMap": {},
     "title": ""
    }
   },
   "outputs": [],
   "source": [
    "# Assemble unscaled features for train and test\n",
    "feature_cols = [c for c in train_df.columns if c != \"revenue\"]\n",
    "\n",
    "assembler = VectorAssembler(inputCols=feature_cols, outputCol=\"unscaled_features\")\n",
    "\n",
    "train_assembled = assembler.transform(train_df)\n",
    "test_assembled  = assembler.transform(test_df)\n",
    "\n",
    "# Fit StandardScaler on training set only\n",
    "scaler = StandardScaler(\n",
    "    inputCol=\"unscaled_features\",\n",
    "    outputCol=\"features\",   # final column used by models\n",
    "    withMean=True,\n",
    "    withStd=True\n",
    ")\n",
    "\n",
    "scaler_model = scaler.fit(train_assembled)\n",
    "\n",
    "# Transform both train and test using the fitted scaler\n",
    "train_scaled = scaler_model.transform(train_assembled)\n",
    "test_scaled  = scaler_model.transform(test_assembled)"
   ]
  },
  {
   "cell_type": "markdown",
   "metadata": {
    "application/vnd.databricks.v1+cell": {
     "cellMetadata": {
      "byteLimit": 2048000,
      "rowLimit": 10000
     },
     "inputWidgets": {},
     "nuid": "f8f570df-d7dd-4758-b998-2d38d1b0ef00",
     "showTitle": false,
     "tableResultSettingsMap": {},
     "title": ""
    }
   },
   "source": [
    "---\n",
    "## Define numerical, categorical, and boolean features\n",
    "---\n",
    "In order to perform adequate feature selection, we will define numerical and boolean features."
   ]
  },
  {
   "cell_type": "code",
   "execution_count": 0,
   "metadata": {
    "application/vnd.databricks.v1+cell": {
     "cellMetadata": {
      "byteLimit": 2048000,
      "rowLimit": 10000
     },
     "inputWidgets": {},
     "nuid": "e16c9c90-0a81-42d9-a2da-e5a354443a60",
     "showTitle": false,
     "tableResultSettingsMap": {},
     "title": ""
    }
   },
   "outputs": [
    {
     "output_type": "stream",
     "name": "stdout",
     "output_type": "stream",
     "text": [
      "Out[48]: ['vote_average',\n 'vote_count',\n 'revenue',\n 'runtime',\n 'adult',\n 'budget',\n 'popularity',\n 'release_day',\n 'release_month',\n 'release_year',\n 'released_bool',\n 'en_bool',\n 'tagline_bool',\n 'genre_action',\n 'genre_adventure',\n 'genre_comedy',\n 'genre_drama',\n 'genre_thriller',\n 'prodco_warner_bros_pictures',\n 'prodco_universal_pictures',\n 'prodco_paramount',\n 'country_united_states_of_america',\n 'country_united_kingdom',\n 'country_china',\n 'country_france',\n 'country_germany',\n 'keyword_duringcreditsstinger',\n 'keyword_based_on_novel_or_book',\n 'keyword_sequel']"
     ]
    }
   ],
   "source": [
    "# Display the columns in the dataframe\n",
    "train_df.columns"
   ]
  },
  {
   "cell_type": "code",
   "execution_count": 0,
   "metadata": {
    "application/vnd.databricks.v1+cell": {
     "cellMetadata": {
      "byteLimit": 2048000,
      "rowLimit": 10000
     },
     "inputWidgets": {},
     "nuid": "48546e63-a471-468b-ad35-77074d4f2d9a",
     "showTitle": false,
     "tableResultSettingsMap": {},
     "title": ""
    }
   },
   "outputs": [],
   "source": [
    "# Numerical features (including target)\n",
    "numerical_features = [\n",
    "    \"vote_average\",\n",
    "    \"vote_count\",\n",
    "    \"runtime\",\n",
    "    \"budget\",\n",
    "    \"popularity\",\n",
    "    \"release_day\",\n",
    "    \"release_month\",\n",
    "    \"release_year\"\n",
    "]\n",
    "# for correlation\n",
    "numerical_features_target = [\n",
    "    \"revenue\", #TARGET\n",
    "    \"vote_average\",\n",
    "    \"vote_count\",\n",
    "    \"runtime\",\n",
    "    \"budget\",\n",
    "    \"popularity\",\n",
    "    \"release_day\",\n",
    "    \"release_month\",\n",
    "    \"release_year\"\n",
    "]\n",
    "\n",
    "# Boolean/binary features (encoded as integer or boolean)\n",
    "boolean_features = [\n",
    "    \"adult\",\n",
    "    \"en_bool\",\n",
    "    \"tagline_bool\",\n",
    "    \"released_bool\",\n",
    "    \"genre_action\", \"genre_adventure\", \"genre_comedy\", \"genre_drama\", \"genre_thriller\", # top 5 genres\n",
    "    \"prodco_warner_bros_pictures\", \"prodco_universal_pictures\", \n",
    "    \"prodco_paramount\", # top 3 production companies\n",
    "    \"keyword_sequel\", \"keyword_duringcreditsstinger\", \"keyword_based_on_novel_or_book\",  # top 3 keywords\n",
    "    \"country_united_states_of_america\", \"country_united_kingdom\", \"country_china\", \n",
    "    \"country_germany\", \"country_france\" # top 5 production countries\n",
    "]"
   ]
  },
  {
   "cell_type": "markdown",
   "metadata": {
    "application/vnd.databricks.v1+cell": {
     "cellMetadata": {
      "byteLimit": 2048000,
      "rowLimit": 10000
     },
     "inputWidgets": {},
     "nuid": "4e78a33c-8161-4a8b-b1a5-014f93c4d704",
     "showTitle": false,
     "tableResultSettingsMap": {},
     "title": ""
    }
   },
   "source": [
    "---\n",
    "## Correlation-Based Filtering (for numeric features)\n",
    "---\n",
    "We want to inspect what features correlate highly with the target and between each other. This way we can select the \"important\" features and \"redundant\" ones."
   ]
  },
  {
   "cell_type": "code",
   "execution_count": 0,
   "metadata": {
    "application/vnd.databricks.v1+cell": {
     "cellMetadata": {
      "byteLimit": 2048000,
      "rowLimit": 10000
     },
     "inputWidgets": {},
     "nuid": "8b519759-d8a7-4a8d-be65-803c77825b98",
     "showTitle": false,
     "tableResultSettingsMap": {},
     "title": ""
    }
   },
   "outputs": [
    {
     "output_type": "display_data",
     "data": {
      "image/png": "[encoded data removed]"
     },
     "metadata": {
      "application/vnd.databricks.v1+output": {
       "addedWidgets": {},
       "arguments": {},
       "data": "data:image/png;base64,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\n",
       "datasetInfos": [],
       "metadata": {},
       "removedWidgets": [],
       "type": "image"
      }
     },
     "output_type": "display_data"
    }
   ],
   "source": [
    "# Convert to Pandas\n",
    "df_corr = train_df.select(numerical_features_target).toPandas()\n",
    "\n",
    "# Plot correlation matrix using a pretty palette\n",
    "plt.figure(figsize=(14, 10))\n",
    "sns.heatmap(\n",
    "    df_corr.corr(),\n",
    "    annot=True,\n",
    "    fmt=\".2f\",\n",
    "    cmap=\"viridis\",\n",
    "    square=True,\n",
    "    linewidths=0.5,\n",
    "    cbar_kws={\"shrink\": 0.75},\n",
    "    annot_kws={\"size\": 10} \n",
    ")\n",
    "plt.title(\"Correlation Matrix of Numerical Features\", fontsize=14)\n",
    "plt.xticks(rotation=45)\n",
    "plt.yticks(rotation=0)\n",
    "plt.tight_layout()\n",
    "plt.show()"
   ]
  },
  {
   "cell_type": "markdown",
   "metadata": {
    "application/vnd.databricks.v1+cell": {
     "cellMetadata": {},
     "inputWidgets": {},
     "nuid": "18ef069d-903a-461c-871f-2f6b2d700bf3",
     "showTitle": false,
     "tableResultSettingsMap": {},
     "title": ""
    }
   },
   "source": [
    "No features highly correlate with each other (no correlation above 0.7). "
   ]
  },
  {
   "cell_type": "markdown",
   "metadata": {
    "application/vnd.databricks.v1+cell": {
     "cellMetadata": {
      "byteLimit": 2048000,
      "rowLimit": 10000
     },
     "inputWidgets": {},
     "nuid": "7438e7de-a945-486d-bf7f-8f0c72779df6",
     "showTitle": false,
     "tableResultSettingsMap": {},
     "title": ""
    }
   },
   "source": [
    "---\n",
    "## Chi-Square Test (boolean features)\n",
    "---\n",
    "We are using chi-square on binary features - scaling is unnecessary. Thus, we will assemble separate vector from booleans and then perform the test."
   ]
  },
  {
   "cell_type": "code",
   "execution_count": 0,
   "metadata": {
    "application/vnd.databricks.v1+cell": {
     "cellMetadata": {
      "byteLimit": 2048000,
      "rowLimit": 10000
     },
     "inputWidgets": {},
     "nuid": "55346776-384a-4e60-831b-b4f576abf388",
     "showTitle": false,
     "tableResultSettingsMap": {},
     "title": ""
    }
   },
   "outputs": [
    {
     "output_type": "stream",
     "name": "stdout",
     "output_type": "stream",
     "text": [
      "Top boolean features selected by Chi-Square test:\n- adult\n- en_bool\n- tagline_bool\n- released_bool\n- genre_action\n- genre_adventure\n- genre_comedy\n- genre_drama\n- genre_thriller\n- prodco_warner_bros_pictures\n"
     ]
    }
   ],
   "source": [
    "# Discretize the revenue target into quantile buckets\n",
    "discretizer = QuantileDiscretizer(numBuckets=4, inputCol=\"revenue\", outputCol=\"revenue_bucket\")\n",
    "train_binned = discretizer.fit(train_df).transform(train_df)\n",
    "\n",
    "# Use only boolean features \n",
    "input_features = boolean_features \n",
    "\n",
    "# Assemble into feature vector\n",
    "assembler = VectorAssembler(inputCols=input_features, outputCol=\"features\")\n",
    "assembled = assembler.transform(train_binned)\n",
    "\n",
    "# Apply Chi-Square feature selection\n",
    "selector = ChiSqSelector(numTopFeatures=10, featuresCol=\"features\", labelCol=\"revenue_bucket\", outputCol=\"selected_features\")\n",
    "selector_model = selector.fit(assembled)\n",
    "\n",
    "# Get selected feature indices\n",
    "selected_feature_indices = selector_model.selectedFeatures\n",
    "\n",
    "# Print feature names\n",
    "print(\"Top boolean features selected by Chi-Square test:\")\n",
    "for i in selected_feature_indices:\n",
    "    print(f\"- {input_features[i]}\")"
   ]
  },
  {
   "cell_type": "markdown",
   "metadata": {
    "application/vnd.databricks.v1+cell": {
     "cellMetadata": {
      "byteLimit": 2048000,
      "rowLimit": 10000
     },
     "inputWidgets": {},
     "nuid": "33c888b7-fb8b-4d94-a13f-c9da29e84f71",
     "showTitle": false,
     "tableResultSettingsMap": {},
     "title": ""
    }
   },
   "source": [
    "---\n",
    "## Model-Based Importance for Decision Tree\n",
    "---\n",
    "Decision trees do not need scaled features, therefore we will assemble a new vector using all the features for this feature selection method. "
   ]
  },
  {
   "cell_type": "code",
   "execution_count": 0,
   "metadata": {
    "application/vnd.databricks.v1+cell": {
     "cellMetadata": {
      "byteLimit": 2048000,
      "rowLimit": 10000
     },
     "inputWidgets": {},
     "nuid": "5bd39b31-0150-4d71-926e-5b113cc87caa",
     "showTitle": false,
     "tableResultSettingsMap": {},
     "title": ""
    }
   },
   "outputs": [
    {
     "output_type": "stream",
     "name": "stdout",
     "output_type": "stream",
     "text": [
      "Feature Importances (Descending):\n\nbudget: 0.5821\nvote_count: 0.2264\nruntime: 0.0491\nrelease_month: 0.0488\nrelease_year: 0.0383\npopularity: 0.0227\ngenre_adventure: 0.0096\nadult: 0.0076\nkeyword_sequel: 0.0042\ncountry_china: 0.0039\nreleased_bool: 0.0031\nvote_average: 0.0024\ngenre_drama: 0.0020\nrelease_day: 0.0000\nen_bool: 0.0000\ntagline_bool: 0.0000\ngenre_action: 0.0000\ngenre_comedy: 0.0000\ngenre_thriller: 0.0000\nprodco_warner_bros_pictures: 0.0000\nprodco_universal_pictures: 0.0000\nprodco_paramount: 0.0000\ncountry_united_states_of_america: 0.0000\ncountry_united_kingdom: 0.0000\ncountry_france: 0.0000\ncountry_germany: 0.0000\nkeyword_duringcreditsstinger: 0.0000\nkeyword_based_on_novel_or_book: 0.0000\n"
     ]
    }
   ],
   "source": [
    "# Use full train_df with all features + target\n",
    "all_features = train_df.drop(\"revenue\").columns\n",
    "\n",
    "# Assemble features\n",
    "assembler = VectorAssembler(inputCols=all_features, outputCol=\"features\")\n",
    "train_assembled = assembler.transform(train_df)\n",
    "\n",
    "# Fit Decision Tree\n",
    "tree = DecisionTreeRegressor(featuresCol=\"features\", labelCol=\"revenue\")\n",
    "model = tree.fit(train_assembled)\n",
    "\n",
    "# Get feature importances\n",
    "importances = model.featureImportances.toArray()\n",
    "feature_importance_list = list(zip(all_features, importances))\n",
    "\n",
    "# Sort and print\n",
    "sorted_features = sorted(feature_importance_list, key=lambda x: x[1], reverse=True)\n",
    "print(\"Feature Importances (Descending):\\n\")\n",
    "for feature, importance in sorted_features:\n",
    "    print(f\"{feature}: {importance:.4f}\")\n"
   ]
  },
  {
   "cell_type": "markdown",
   "metadata": {
    "application/vnd.databricks.v1+cell": {
     "cellMetadata": {
      "byteLimit": 2048000,
      "rowLimit": 10000
     },
     "inputWidgets": {},
     "nuid": "17d11cc1-57db-4b04-a6c2-70f02fc18dec",
     "showTitle": false,
     "tableResultSettingsMap": {},
     "title": ""
    }
   },
   "source": [
    "---\n",
    "## Lasso Regression (L1 Regularization)\n",
    "---\n",
    "This feature selection method needs scaled features. Thus, we will use the vector assembled with scaled features."
   ]
  },
  {
   "cell_type": "code",
   "execution_count": 0,
   "metadata": {
    "application/vnd.databricks.v1+cell": {
     "cellMetadata": {
      "byteLimit": 2048000,
      "rowLimit": 10000
     },
     "inputWidgets": {},
     "nuid": "f9c5eda0-86ab-4b74-98b5-a7e9e85b1150",
     "showTitle": false,
     "tableResultSettingsMap": {},
     "title": ""
    }
   },
   "outputs": [
    {
     "output_type": "stream",
     "name": "stdout",
     "output_type": "stream",
     "text": [
      "- vote_average: -1394195.3562 (negative relationship with revenue)\n- vote_count: 48318535.1233 (positive relationship with revenue)\n- runtime: 6972013.9394 (positive relationship with revenue)\n- adult: -294627.7598 (negative relationship with revenue)\n- budget: 58367365.7113 (positive relationship with revenue)\n- popularity: 2846509.9130 (positive relationship with revenue)\n- release_day: 485873.9469 (positive relationship with revenue)\n- release_month: -207353.2989 (negative relationship with revenue)\n- release_year: -3947318.0791 (negative relationship with revenue)\n- released_bool: -2538568.1540 (negative relationship with revenue)\n- en_bool: 2387797.7081 (positive relationship with revenue)\n- tagline_bool: -1100854.1528 (negative relationship with revenue)\n- genre_action: -2967067.0109 (negative relationship with revenue)\n- genre_adventure: 2938089.9911 (positive relationship with revenue)\n- genre_comedy: 1574962.4560 (positive relationship with revenue)\n- genre_drama: -1342000.7414 (negative relationship with revenue)\n- genre_thriller: -2460347.8775 (negative relationship with revenue)\n- prodco_warner_bros_pictures: -3456900.9876 (negative relationship with revenue)\n- prodco_universal_pictures: 1689063.4773 (positive relationship with revenue)\n- prodco_paramount: -399929.0526 (negative relationship with revenue)\n- country_united_states_of_america: -8272909.3743 (negative relationship with revenue)\n- country_united_kingdom: -2898204.1242 (negative relationship with revenue)\n- country_china: 4782451.6671 (positive relationship with revenue)\n- country_france: -3752023.3220 (negative relationship with revenue)\n- country_germany: -2863214.5392 (negative relationship with revenue)\n- keyword_duringcreditsstinger: 2410477.4543 (positive relationship with revenue)\n- keyword_based_on_novel_or_book: -1737331.9881 (negative relationship with revenue)\n- keyword_sequel: 6285817.6884 (positive relationship with revenue)\n"
     ]
    }
   ],
   "source": [
    "# Define Lasso (L1) model\n",
    "lr_l1 = LinearRegression(featuresCol=\"features\", labelCol=\"revenue\", elasticNetParam=1.0, regParam=0.3)\n",
    "l1_model = lr_l1.fit(train_scaled)\n",
    "\n",
    "# Get coefficients and feature names\n",
    "coeffs = l1_model.coefficients.toArray()\n",
    "# Get the input column names from the assembler you used\n",
    "feature_names = assembler.getInputCols()\n",
    "\n",
    "# Print results\n",
    "for feature, coef in zip(feature_names, coeffs):\n",
    "    if coef == 0.0:\n",
    "        print(f\"- {feature}: {coef:.4f} (excluded by L1 regularization)\")\n",
    "    else:\n",
    "        direction = \"positive\" if coef > 0 else \"negative\"\n",
    "        print(f\"- {feature}: {coef:.4f} ({direction} relationship with revenue)\")\n"
   ]
  },
  {
   "cell_type": "markdown",
   "metadata": {
    "application/vnd.databricks.v1+cell": {
     "cellMetadata": {
      "byteLimit": 2048000,
      "rowLimit": 10000
     },
     "inputWidgets": {},
     "nuid": "aaf3ca2d-74ed-465b-96e2-069694a926a7",
     "showTitle": false,
     "tableResultSettingsMap": {},
     "title": ""
    }
   },
   "source": [
    "---\n",
    "## Define Final Features\n",
    "---"
   ]
  },
  {
   "cell_type": "code",
   "execution_count": 0,
   "metadata": {
    "application/vnd.databricks.v1+cell": {
     "cellMetadata": {
      "byteLimit": 2048000,
      "rowLimit": 10000
     },
     "inputWidgets": {},
     "nuid": "6725e1f0-5667-4939-a75d-576d19a97571",
     "showTitle": false,
     "tableResultSettingsMap": {},
     "title": ""
    }
   },
   "outputs": [],
   "source": [
    "dt_final_features = ['budget', 'vote_count', 'runtime', 'release_month', 'release_year',\n",
    "                     'popularity', 'genre_adventure', 'adult', 'keyword_sequel', 'country_china',\n",
    "                     'released_bool', 'vote_average', 'genre_drama']\n",
    "dt_final_features_threshold = ['budget', 'vote_count', 'runtime', 'release_month', 'release_year', 'popularity']"
   ]
  },
  {
   "cell_type": "code",
   "execution_count": 0,
   "metadata": {
    "application/vnd.databricks.v1+cell": {
     "cellMetadata": {
      "byteLimit": 2048000,
      "rowLimit": 10000
     },
     "inputWidgets": {},
     "nuid": "098a2e8c-0ba6-41f7-ac46-e3cc5aa16ada",
     "showTitle": false,
     "tableResultSettingsMap": {},
     "title": ""
    }
   },
   "outputs": [],
   "source": [
    "# Assemble vector for decision trees based models (all deemed important columns)\n",
    "assembler_dt = VectorAssembler(inputCols=dt_final_features, outputCol=\"features\")\n",
    "train_dt = assembler_dt.transform(train_df)\n",
    "test_dt  = assembler_dt.transform(test_df)\n",
    "\n",
    "# Assemble vector for decision trees based models (with threshold set to 0.01)\n",
    "assembler_dt = VectorAssembler(inputCols=dt_final_features_threshold, outputCol=\"features\")\n",
    "train_dtt = assembler_dt.transform(train_df)\n",
    "test_dtt  = assembler_dt.transform(test_df)"
   ]
  },
  {
   "cell_type": "markdown",
   "metadata": {
    "application/vnd.databricks.v1+cell": {
     "cellMetadata": {
      "byteLimit": 2048000,
      "rowLimit": 10000
     },
     "inputWidgets": {},
     "nuid": "ccee64ea-7aa1-474c-aee1-841c38a0a6c8",
     "showTitle": false,
     "tableResultSettingsMap": {},
     "title": ""
    }
   },
   "source": [
    "---\n",
    "## Train and evaluate models\n",
    "---\n",
    "We'll train and compare:\n",
    "\n",
    "1. Linear Regression\n",
    "\n",
    "2. Decision Tree Regressor\n",
    "\n",
    "3. Random Forest Regressor\n",
    "\n",
    "4. Gradient Boosted Tree Regressor\n",
    "\n",
    "5. Generalized Linear Model"
   ]
  },
  {
   "cell_type": "code",
   "execution_count": 0,
   "metadata": {
    "application/vnd.databricks.v1+cell": {
     "cellMetadata": {
      "byteLimit": 2048000,
      "rowLimit": 10000
     },
     "inputWidgets": {},
     "nuid": "0f1ab684-e824-4e52-9b47-2489b225cc46",
     "showTitle": false,
     "tableResultSettingsMap": {},
     "title": ""
    }
   },
   "outputs": [],
   "source": [
    "results = []"
   ]
  },
  {
   "cell_type": "markdown",
   "metadata": {
    "application/vnd.databricks.v1+cell": {
     "cellMetadata": {
      "byteLimit": 2048000,
      "rowLimit": 10000
     },
     "inputWidgets": {},
     "nuid": "b2a8311f-b2dc-435a-bb31-4871ad9aed54",
     "showTitle": false,
     "tableResultSettingsMap": {},
     "title": ""
    }
   },
   "source": [
    "---\n",
    "## Linear Regression\n",
    "---"
   ]
  },
  {
   "cell_type": "code",
   "execution_count": 0,
   "metadata": {
    "application/vnd.databricks.v1+cell": {
     "cellMetadata": {
      "byteLimit": 2048000,
      "rowLimit": 10000
     },
     "inputWidgets": {},
     "nuid": "f103c3ce-7997-474d-94a8-c97cd4ddcb55",
     "showTitle": false,
     "tableResultSettingsMap": {},
     "title": ""
    }
   },
   "outputs": [],
   "source": [
    "# Train Linear Regression on pre-scaled features\n",
    "lr = LinearRegression(featuresCol=\"features\", labelCol=\"revenue\")\n",
    "lr_model = lr.fit(train_scaled)\n",
    "\n",
    "# Predict and evaluate on test set\n",
    "lr_predictions = lr_model.transform(test_scaled)\n",
    "\n",
    "# Evaluate\n",
    "lr_rmse = RegressionEvaluator(labelCol=\"revenue\", predictionCol=\"prediction\", metricName=\"rmse\").evaluate(lr_predictions)\n",
    "lr_r2   = RegressionEvaluator(labelCol=\"revenue\", predictionCol=\"prediction\", metricName=\"r2\").evaluate(lr_predictions)\n",
    "\n",
    "results.append((\"Linear Regression\", lr_rmse, lr_r2))"
   ]
  },
  {
   "cell_type": "markdown",
   "metadata": {
    "application/vnd.databricks.v1+cell": {
     "cellMetadata": {
      "byteLimit": 2048000,
      "rowLimit": 10000
     },
     "inputWidgets": {},
     "nuid": "9467c39d-e20b-4965-927d-ca51f0617d5d",
     "showTitle": false,
     "tableResultSettingsMap": {},
     "title": ""
    }
   },
   "source": [
    "---\n",
    "## Decision Tree Regressor\n",
    "---"
   ]
  },
  {
   "cell_type": "code",
   "execution_count": 0,
   "metadata": {
    "application/vnd.databricks.v1+cell": {
     "cellMetadata": {
      "byteLimit": 2048000,
      "rowLimit": 10000
     },
     "inputWidgets": {},
     "nuid": "ca250b82-33a0-46ea-8050-bef996da6ccd",
     "showTitle": false,
     "tableResultSettingsMap": {},
     "title": ""
    }
   },
   "outputs": [],
   "source": [
    "dt = DecisionTreeRegressor(featuresCol=\"features\", labelCol=\"revenue\")\n",
    "dt_model = dt.fit(train_dt)\n",
    "\n",
    "dt_predictions = dt_model.transform(test_dt)\n",
    "\n",
    "dt_rmse = RegressionEvaluator(labelCol=\"revenue\", predictionCol=\"prediction\", metricName=\"rmse\").evaluate(dt_predictions)\n",
    "dt_r2   = RegressionEvaluator(labelCol=\"revenue\", predictionCol=\"prediction\", metricName=\"r2\").evaluate(dt_predictions)\n",
    "\n",
    "results.append((\"Decision Tree Regressor\", dt_rmse, dt_r2))\n"
   ]
  },
  {
   "cell_type": "code",
   "execution_count": 0,
   "metadata": {
    "application/vnd.databricks.v1+cell": {
     "cellMetadata": {
      "byteLimit": 2048000,
      "rowLimit": 10000
     },
     "inputWidgets": {},
     "nuid": "b400b721-55ce-4fc8-960a-031bd76a51e3",
     "showTitle": false,
     "tableResultSettingsMap": {},
     "title": ""
    }
   },
   "outputs": [],
   "source": [
    "dt = DecisionTreeRegressor(featuresCol=\"features\", labelCol=\"revenue\")\n",
    "dt_model = dt.fit(train_dtt)\n",
    "\n",
    "dt_predictions = dt_model.transform(test_dtt)\n",
    "\n",
    "dt_rmse = RegressionEvaluator(labelCol=\"revenue\", predictionCol=\"prediction\", metricName=\"rmse\").evaluate(dt_predictions)\n",
    "dt_r2   = RegressionEvaluator(labelCol=\"revenue\", predictionCol=\"prediction\", metricName=\"r2\").evaluate(dt_predictions)\n",
    "\n",
    "results.append((\"Decision Tree Regressor (using features above threshold)\", dt_rmse, dt_r2))"
   ]
  },
  {
   "cell_type": "markdown",
   "metadata": {
    "application/vnd.databricks.v1+cell": {
     "cellMetadata": {
      "byteLimit": 2048000,
      "rowLimit": 10000
     },
     "inputWidgets": {},
     "nuid": "79d0e31f-806a-46e6-b5a1-19c8477a5782",
     "showTitle": false,
     "tableResultSettingsMap": {},
     "title": ""
    }
   },
   "source": [
    "---\n",
    "## Random Forest Regressor\n",
    "---"
   ]
  },
  {
   "cell_type": "code",
   "execution_count": 0,
   "metadata": {
    "application/vnd.databricks.v1+cell": {
     "cellMetadata": {
      "byteLimit": 2048000,
      "rowLimit": 10000
     },
     "inputWidgets": {},
     "nuid": "5afd4980-43ff-4237-bedf-3c967f92251b",
     "showTitle": false,
     "tableResultSettingsMap": {},
     "title": ""
    }
   },
   "outputs": [],
   "source": [
    "rf = RandomForestRegressor(featuresCol=\"features\", labelCol=\"revenue\", numTrees=100, maxDepth=10)\n",
    "rf_model = rf.fit(train_dt)\n",
    "\n",
    "rf_predictions = rf_model.transform(test_dt)\n",
    "\n",
    "rf_rmse = RegressionEvaluator(labelCol=\"revenue\", predictionCol=\"prediction\", metricName=\"rmse\").evaluate(rf_predictions)\n",
    "rf_r2   = RegressionEvaluator(labelCol=\"revenue\", predictionCol=\"prediction\", metricName=\"r2\").evaluate(rf_predictions)\n",
    "\n",
    "results.append((\"Random Forest Regressor\", rf_rmse, rf_r2))"
   ]
  },
  {
   "cell_type": "code",
   "execution_count": 0,
   "metadata": {
    "application/vnd.databricks.v1+cell": {
     "cellMetadata": {
      "byteLimit": 2048000,
      "rowLimit": 10000
     },
     "inputWidgets": {},
     "nuid": "9bf8da10-c27d-4a62-8ad6-c3d103fb24eb",
     "showTitle": false,
     "tableResultSettingsMap": {},
     "title": ""
    }
   },
   "outputs": [],
   "source": [
    "rf = RandomForestRegressor(featuresCol=\"features\", labelCol=\"revenue\", numTrees=100, maxDepth=10)\n",
    "rf_model = rf.fit(train_dtt)\n",
    "\n",
    "rf_predictions = rf_model.transform(test_dtt)\n",
    "\n",
    "rf_rmse = RegressionEvaluator(labelCol=\"revenue\", predictionCol=\"prediction\", metricName=\"rmse\").evaluate(rf_predictions)\n",
    "rf_r2   = RegressionEvaluator(labelCol=\"revenue\", predictionCol=\"prediction\", metricName=\"r2\").evaluate(rf_predictions)\n",
    "\n",
    "results.append((\"Random Forest Regressor (using features above threshold)\", rf_rmse, rf_r2))"
   ]
  },
  {
   "cell_type": "markdown",
   "metadata": {
    "application/vnd.databricks.v1+cell": {
     "cellMetadata": {
      "byteLimit": 2048000,
      "rowLimit": 10000
     },
     "inputWidgets": {},
     "nuid": "d921e8d1-fb64-4720-858b-8196a98c0e4d",
     "showTitle": false,
     "tableResultSettingsMap": {},
     "title": ""
    }
   },
   "source": [
    "---\n",
    "## Gradient Boosted Tree Regressor\n",
    "---"
   ]
  },
  {
   "cell_type": "code",
   "execution_count": 0,
   "metadata": {
    "application/vnd.databricks.v1+cell": {
     "cellMetadata": {
      "byteLimit": 2048000,
      "rowLimit": 10000
     },
     "inputWidgets": {},
     "nuid": "bde39dde-5bde-42c9-80d6-dec2c0cc6b00",
     "showTitle": false,
     "tableResultSettingsMap": {},
     "title": ""
    }
   },
   "outputs": [],
   "source": [
    "gbt = GBTRegressor(featuresCol=\"features\", labelCol=\"revenue\", maxIter=50, maxDepth=5)\n",
    "gbt_model = gbt.fit(train_dt)\n",
    "\n",
    "gbt_predictions = gbt_model.transform(test_dt)\n",
    "\n",
    "gbt_rmse = RegressionEvaluator(labelCol=\"revenue\", predictionCol=\"prediction\", metricName=\"rmse\").evaluate(gbt_predictions)\n",
    "gbt_r2   = RegressionEvaluator(labelCol=\"revenue\", predictionCol=\"prediction\", metricName=\"r2\").evaluate(gbt_predictions)\n",
    "\n",
    "results.append((\"Gradient Boosted Trees\", gbt_rmse, gbt_r2))"
   ]
  },
  {
   "cell_type": "markdown",
   "metadata": {
    "application/vnd.databricks.v1+cell": {
     "cellMetadata": {
      "byteLimit": 2048000,
      "rowLimit": 10000
     },
     "inputWidgets": {},
     "nuid": "7eaae149-c148-454e-a766-1574c3e3a84c",
     "showTitle": false,
     "tableResultSettingsMap": {},
     "title": ""
    }
   },
   "source": [
    "---\n",
    "## Generalized Linear Model\n",
    "---\n",
    "Supports skewed data"
   ]
  },
  {
   "cell_type": "code",
   "execution_count": 0,
   "metadata": {
    "application/vnd.databricks.v1+cell": {
     "cellMetadata": {
      "byteLimit": 2048000,
      "rowLimit": 10000
     },
     "inputWidgets": {},
     "nuid": "47066def-5902-4ee9-8bd6-d321164a0fbb",
     "showTitle": false,
     "tableResultSettingsMap": {},
     "title": ""
    }
   },
   "outputs": [],
   "source": [
    "from pyspark.ml.regression import GeneralizedLinearRegression\n",
    "from pyspark.ml.evaluation import RegressionEvaluator\n",
    "\n",
    "# Define and fit the GLR model\n",
    "glr = GeneralizedLinearRegression(\n",
    "    featuresCol=\"features\",\n",
    "    labelCol=\"revenue\",\n",
    "    family=\"tweedie\",     # tweedie distribution is more robust to skewed data\n",
    "    link=\"log\"       \n",
    ")\n",
    "\n",
    "glr_model = glr.fit(train_scaled)\n",
    "\n",
    "# Predict on test data\n",
    "glr_predictions = glr_model.transform(test_scaled)\n",
    "\n",
    "# Evaluate performance\n",
    "evaluator = RegressionEvaluator(labelCol=\"revenue\", predictionCol=\"prediction\", metricName=\"rmse\")\n",
    "glr_rmse = evaluator.evaluate(glr_predictions)\n",
    "glr_r2   = RegressionEvaluator(labelCol=\"revenue\", predictionCol=\"prediction\", metricName=\"r2\").evaluate(glr_predictions)\n",
    "\n",
    "# Save results\n",
    "results.append((\"Generalized Linear Model (Gaussian)\", glr_rmse, glr_r2))"
   ]
  },
  {
   "cell_type": "markdown",
   "metadata": {
    "application/vnd.databricks.v1+cell": {
     "cellMetadata": {
      "byteLimit": 2048000,
      "rowLimit": 10000
     },
     "inputWidgets": {},
     "nuid": "f7d1cfe9-2533-46e0-a189-8374190ed272",
     "showTitle": false,
     "tableResultSettingsMap": {},
     "title": ""
    }
   },
   "source": [
    "---\n",
    "## Results\n",
    "---\n",
    "We will print the results of all the models tested. We will select the one with the lowest RMSE and highest r^2 and hypertune its parameters."
   ]
  },
  {
   "cell_type": "code",
   "execution_count": 0,
   "metadata": {
    "application/vnd.databricks.v1+cell": {
     "cellMetadata": {
      "byteLimit": 2048000,
      "rowLimit": 10000
     },
     "inputWidgets": {},
     "nuid": "bede5f98-e186-443f-86d9-60a74a2bbb98",
     "showTitle": false,
     "tableResultSettingsMap": {},
     "title": ""
    }
   },
   "outputs": [
    {
     "output_type": "stream",
     "name": "stdout",
     "output_type": "stream",
     "text": [
      "Model Evaluation Results:\nLinear Regression:\n  RMSE = 88065580.76\n  R² = 0.6172\n\nDecision Tree Regressor:\n  RMSE = 93301589.70\n  R² = 0.5704\n\nDecision Tree Regressor (using features above threshold):\n  RMSE = 92767701.69\n  R² = 0.5753\n\nRandom Forest Regressor:\n  RMSE = 84337467.71\n  R² = 0.6490\n\nRandom Forest Regressor (using features above threshold):\n  RMSE = 89577807.65\n  R² = 0.6040\n\nGradient Boosted Trees:\n  RMSE = 87420789.67\n  R² = 0.6228\n\nGeneralized Linear Model (Gaussian):\n  RMSE = 88065580.76\n  R² = 0.6172\n\n"
     ]
    }
   ],
   "source": [
    "print(\"Model Evaluation Results:\")\n",
    "for model_name, rmse, r2 in results:\n",
    "    print(f\"{model_name}:\\n  RMSE = {rmse:.2f}\\n  R² = {r2:.4f}\\n\")"
   ]
  },
  {
   "cell_type": "markdown",
   "metadata": {
    "application/vnd.databricks.v1+cell": {
     "cellMetadata": {},
     "inputWidgets": {},
     "nuid": "8c69230b-3284-487a-9f0c-fc3e26445a31",
     "showTitle": false,
     "tableResultSettingsMap": {},
     "title": ""
    }
   },
   "source": [
    "---\n",
    "## Hyper-parameter tuning for the best performing model (Random Forest Regressor)\n",
    "---\n",
    "We define a small parameter grid and hypertune three parameters:\n",
    "1. Number of trees\n",
    "\n",
    "2. Max depth of a tree\n",
    "\n",
    "3. Max number of Bins to split continuous features"
   ]
  },
  {
   "cell_type": "code",
   "execution_count": 0,
   "metadata": {
    "application/vnd.databricks.v1+cell": {
     "cellMetadata": {
      "byteLimit": 2048000,
      "rowLimit": 10000
     },
     "inputWidgets": {},
     "nuid": "e0054e45-7282-4106-abe7-a5e9f722055c",
     "showTitle": false,
     "tableResultSettingsMap": {},
     "title": ""
    }
   },
   "outputs": [
    {
     "output_type": "stream",
     "name": "stdout",
     "output_type": "stream",
     "text": [
      "numTrees=50, maxDepth=5, maxBins=32 → RMSE=88790089.60, R²=0.6109\nnumTrees=50, maxDepth=5, maxBins=64 → RMSE=85417527.91, R²=0.6399\nnumTrees=50, maxDepth=10, maxBins=32 → RMSE=84624803.57, R²=0.6466\nnumTrees=50, maxDepth=10, maxBins=64 → RMSE=80561788.48, R²=0.6797\nnumTrees=50, maxDepth=15, maxBins=32 → RMSE=84803151.62, R²=0.6451\nnumTrees=50, maxDepth=15, maxBins=64 → RMSE=80974354.75, R²=0.6764\nnumTrees=100, maxDepth=5, maxBins=32 → RMSE=88494789.68, R²=0.6135\nnumTrees=100, maxDepth=5, maxBins=64 → RMSE=85876583.39, R²=0.6360\nnumTrees=100, maxDepth=10, maxBins=32 → RMSE=83287069.77, R²=0.6576\nnumTrees=100, maxDepth=10, maxBins=64 → RMSE=81504474.90, R²=0.6721\nnumTrees=100, maxDepth=15, maxBins=32 → RMSE=83693183.31, R²=0.6543\n"
     ]
    }
   ],
   "source": [
    "# Define parameter grid\n",
    "param_grid = {\n",
    "    \"numTrees\": [50, 100],\n",
    "    \"maxDepth\": [5, 10, 15],\n",
    "    \"maxBins\": [32, 64]\n",
    "}\n",
    "\n",
    "# Evaluator\n",
    "evaluator = RegressionEvaluator(labelCol=\"revenue\", predictionCol=\"prediction\", metricName=\"rmse\")\n",
    "\n",
    "# Track results\n",
    "rf_results = []\n",
    "\n",
    "# Manual grid search\n",
    "for num_trees in param_grid[\"numTrees\"]:\n",
    "    for max_depth in param_grid[\"maxDepth\"]:\n",
    "        for max_bins in param_grid[\"maxBins\"]:\n",
    "            # Define model with current params\n",
    "            rf = RandomForestRegressor(\n",
    "                featuresCol=\"features\",\n",
    "                labelCol=\"revenue\",\n",
    "                numTrees=num_trees,\n",
    "                maxDepth=max_depth,\n",
    "                maxBins=max_bins,\n",
    "                seed=42\n",
    "            )\n",
    "            # Train\n",
    "            model = rf.fit(train_dt)\n",
    "            # Predict\n",
    "            preds = model.transform(test_dt)\n",
    "            # Evaluate\n",
    "            rmse = evaluator.evaluate(preds)\n",
    "            r2 = RegressionEvaluator(labelCol=\"revenue\", predictionCol=\"prediction\", metricName=\"r2\").evaluate(preds)\n",
    "\n",
    "            rf_results.append(((num_trees, max_depth, max_bins), rmse, r2))\n",
    "\n",
    "            print(f\"numTrees={num_trees}, maxDepth={max_depth}, maxBins={max_bins} → RMSE={rmse:.2f}, R²={r2:.4f}\")\n"
   ]
  },
  {
   "cell_type": "code",
   "execution_count": 0,
   "metadata": {
    "application/vnd.databricks.v1+cell": {
     "cellMetadata": {
      "byteLimit": 2048000,
      "rowLimit": 10000
     },
     "inputWidgets": {},
     "nuid": "efc1a97f-9ae2-48f4-bda7-01f70687f5d6",
     "showTitle": false,
     "tableResultSettingsMap": {},
     "title": ""
    }
   },
   "outputs": [],
   "source": [
    "# Sort by RMSE (lower is better)\n",
    "best_config = sorted(rf_results, key=lambda x: x[1])[0]\n",
    "\n",
    "print(\"\\nBest Random Forest Configuration:\")\n",
    "print(f\"numTrees={best_config[0][0]}, maxDepth={best_config[0][1]}, maxBins={best_config[0][2]}\")\n",
    "print(f\"RMSE: {best_config[1]:.2f}, R²: {best_config[2]:.4f}\")"
   ]
  },
  {
   "cell_type": "markdown",
   "metadata": {
    "application/vnd.databricks.v1+cell": {
     "cellMetadata": {},
     "inputWidgets": {},
     "nuid": "3d3d4292-c99d-4a67-8250-19dd0f153587",
     "showTitle": false,
     "tableResultSettingsMap": {},
     "title": ""
    }
   },
   "source": [
    "Turns out the best parameter combination is numTrees=50, maxDepth=10, maxBins=64 with the following results achieved on the test set: RMSE=80561788.48, R²=0.6797"
   ]
  }
 ],
 "metadata": {
  "application/vnd.databricks.v1+notebook": {
   "computePreferences": null,
   "dashboards": [],
   "environmentMetadata": {
    "base_environment": "",
    "environment_version": "1"
   },
   "inputWidgetPreferences": null,
   "language": "python",
   "notebookMetadata": {
    "pythonIndentUnit": 4
   },
   "notebookName": "clean_select_model",
   "widgets": {}
  }
 },
 "nbformat": 4,
 "nbformat_minor": 0
}